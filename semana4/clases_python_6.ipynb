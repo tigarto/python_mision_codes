{
 "cells": [
  {
   "cell_type": "markdown",
   "id": "157f4d0b",
   "metadata": {},
   "source": [
    "[![Open In Colab](https://colab.research.google.com/assets/colab-badge.svg)](https://colab.research.google.com/github/tigarto/python_mision_codes/blob/main/semana4/clases_python_6.ipynb)"
   ]
  },
  {
   "cell_type": "code",
   "execution_count": 8,
   "id": "68816647",
   "metadata": {},
   "outputs": [],
   "source": [
    "import warnings\n",
    "warnings.filterwarnings(\"ignore\", category=DeprecationWarning)"
   ]
  },
  {
   "cell_type": "markdown",
   "id": "bae93cc4",
   "metadata": {},
   "source": [
    "# **Numpy**\n",
    "\n",
    "\n",
    "## **Características generales**\n",
    "\n",
    "* **Numpy (Numeric Python)** ([https://numpy.org/](https://numpy.org/)) es una librería open source para Python que proporciona\n",
    "rápidas funciones pre compiladas para rutinas matemáticas y numéricas.\n",
    "* Facilita mediante poderosas estructuras de datos y funciones el procesamiento datos con arreglos de múltiples dimensiones y matrices.\n",
    "\n",
    "### **Usando Numpy**\n",
    "\n",
    "Antes de usar numpy esta debe ser importada. Esto puede ser hecho de dos formas:\n",
    "\n",
    "**Forma 1**: Simplemente importando la libreria **numpy**.\n",
    "\n",
    "```python\n",
    "import numpy\n",
    "```\n",
    "\n",
    "**Forma 2**: Importanto la libreria **numpy** y renombrandola como **np**. (Forma recomenda)\n",
    "\n",
    "```python\n",
    "import numpy as np\n",
    "```"
   ]
  },
  {
   "cell_type": "code",
   "execution_count": 1,
   "id": "932248bd",
   "metadata": {},
   "outputs": [],
   "source": [
    "import numpy as np"
   ]
  },
  {
   "cell_type": "markdown",
   "id": "2f056539",
   "metadata": {},
   "source": [
    "## **Array**\n",
    "\n",
    "Un Array es un tipo de dato compuesto a partir de tipos de datos sencillos. Como un Array es un objeto tiene propiedades y métodos los cuales se pueden consultar accediendo a la documentación online ([https://numpy.org/doc/stable/](https://numpy.org/doc/stable/)) o mediante la función **help** en el interprete:\n",
    "\n",
    "```python\n",
    "help(np.array)\n",
    "```"
   ]
  },
  {
   "cell_type": "code",
   "execution_count": 2,
   "id": "0eff5a8b",
   "metadata": {},
   "outputs": [
    {
     "name": "stdout",
     "output_type": "stream",
     "text": [
      "Help on built-in function array in module numpy:\n",
      "\n",
      "array(...)\n",
      "    array(object, dtype=None, *, copy=True, order='K', subok=False, ndmin=0,\n",
      "          like=None)\n",
      "    \n",
      "    Create an array.\n",
      "    \n",
      "    Parameters\n",
      "    ----------\n",
      "    object : array_like\n",
      "        An array, any object exposing the array interface, an object whose\n",
      "        __array__ method returns an array, or any (nested) sequence.\n",
      "    dtype : data-type, optional\n",
      "        The desired data-type for the array.  If not given, then the type will\n",
      "        be determined as the minimum type required to hold the objects in the\n",
      "        sequence.\n",
      "    copy : bool, optional\n",
      "        If true (default), then the object is copied.  Otherwise, a copy will\n",
      "        only be made if __array__ returns a copy, if obj is a nested sequence,\n",
      "        or if a copy is needed to satisfy any of the other requirements\n",
      "        (`dtype`, `order`, etc.).\n",
      "    order : {'K', 'A', 'C', 'F'}, optional\n",
      "        Specify the memory layout of the array. If object is not an array, the\n",
      "        newly created array will be in C order (row major) unless 'F' is\n",
      "        specified, in which case it will be in Fortran order (column major).\n",
      "        If object is an array the following holds.\n",
      "    \n",
      "        ===== ========= ===================================================\n",
      "        order  no copy                     copy=True\n",
      "        ===== ========= ===================================================\n",
      "        'K'   unchanged F & C order preserved, otherwise most similar order\n",
      "        'A'   unchanged F order if input is F and not C, otherwise C order\n",
      "        'C'   C order   C order\n",
      "        'F'   F order   F order\n",
      "        ===== ========= ===================================================\n",
      "    \n",
      "        When ``copy=False`` and a copy is made for other reasons, the result is\n",
      "        the same as if ``copy=True``, with some exceptions for `A`, see the\n",
      "        Notes section. The default order is 'K'.\n",
      "    subok : bool, optional\n",
      "        If True, then sub-classes will be passed-through, otherwise\n",
      "        the returned array will be forced to be a base-class array (default).\n",
      "    ndmin : int, optional\n",
      "        Specifies the minimum number of dimensions that the resulting\n",
      "        array should have.  Ones will be pre-pended to the shape as\n",
      "        needed to meet this requirement.\n",
      "    like : array_like\n",
      "        Reference object to allow the creation of arrays which are not\n",
      "        NumPy arrays. If an array-like passed in as ``like`` supports\n",
      "        the ``__array_function__`` protocol, the result will be defined\n",
      "        by it. In this case, it ensures the creation of an array object\n",
      "        compatible with that passed in via this argument.\n",
      "    \n",
      "        .. note::\n",
      "            The ``like`` keyword is an experimental feature pending on\n",
      "            acceptance of :ref:`NEP 35 <NEP35>`.\n",
      "    \n",
      "        .. versionadded:: 1.20.0\n",
      "    \n",
      "    Returns\n",
      "    -------\n",
      "    out : ndarray\n",
      "        An array object satisfying the specified requirements.\n",
      "    \n",
      "    See Also\n",
      "    --------\n",
      "    empty_like : Return an empty array with shape and type of input.\n",
      "    ones_like : Return an array of ones with shape and type of input.\n",
      "    zeros_like : Return an array of zeros with shape and type of input.\n",
      "    full_like : Return a new array with shape of input filled with value.\n",
      "    empty : Return a new uninitialized array.\n",
      "    ones : Return a new array setting values to one.\n",
      "    zeros : Return a new array setting values to zero.\n",
      "    full : Return a new array of given shape filled with value.\n",
      "    \n",
      "    \n",
      "    Notes\n",
      "    -----\n",
      "    When order is 'A' and `object` is an array in neither 'C' nor 'F' order,\n",
      "    and a copy is forced by a change in dtype, then the order of the result is\n",
      "    not necessarily 'C' as expected. This is likely a bug.\n",
      "    \n",
      "    Examples\n",
      "    --------\n",
      "    >>> np.array([1, 2, 3])\n",
      "    array([1, 2, 3])\n",
      "    \n",
      "    Upcasting:\n",
      "    \n",
      "    >>> np.array([1, 2, 3.0])\n",
      "    array([ 1.,  2.,  3.])\n",
      "    \n",
      "    More than one dimension:\n",
      "    \n",
      "    >>> np.array([[1, 2], [3, 4]])\n",
      "    array([[1, 2],\n",
      "           [3, 4]])\n",
      "    \n",
      "    Minimum dimensions 2:\n",
      "    \n",
      "    >>> np.array([1, 2, 3], ndmin=2)\n",
      "    array([[1, 2, 3]])\n",
      "    \n",
      "    Type provided:\n",
      "    \n",
      "    >>> np.array([1, 2, 3], dtype=complex)\n",
      "    array([ 1.+0.j,  2.+0.j,  3.+0.j])\n",
      "    \n",
      "    Data-type consisting of more than one element:\n",
      "    \n",
      "    >>> x = np.array([(1,2),(3,4)],dtype=[('a','<i4'),('b','<i4')])\n",
      "    >>> x['a']\n",
      "    array([1, 3])\n",
      "    \n",
      "    Creating an array from sub-classes:\n",
      "    \n",
      "    >>> np.array(np.mat('1 2; 3 4'))\n",
      "    array([[1, 2],\n",
      "           [3, 4]])\n",
      "    \n",
      "    >>> np.array(np.mat('1 2; 3 4'), subok=True)\n",
      "    matrix([[1, 2],\n",
      "            [3, 4]])\n",
      "\n"
     ]
    }
   ],
   "source": [
    "help(np.array)"
   ]
  },
  {
   "cell_type": "markdown",
   "id": "400ad751",
   "metadata": {},
   "source": [
    "### **Propiedades de los Arrays (np.array)**\n",
    "\n",
    "|Propiedad |Descripción|\n",
    "|:---|:---|\n",
    "|```shape```|Tupla con las dimensiones.|\n",
    "|```ndim```|Numero de dimensiones.|\n",
    "|```size```|Numero de elementos.|\n",
    "|```itemsize```|Tamaño de uno de los elementos en bytes.|\n",
    "|```nbytes```|Tamaño total ocupado por los elementos.|\n",
    "|```dtype```|Tipo de dato de los elementos.|\n",
    "|```real```|Parte real.|\n",
    "|```imag```|Parte imaginaria.|"
   ]
  },
  {
   "cell_type": "code",
   "execution_count": 6,
   "id": "3e6b2656",
   "metadata": {},
   "outputs": [
    {
     "name": "stdout",
     "output_type": "stream",
     "text": [
      "[[1 2 3]\n",
      " [4 5 6]]\n",
      "(2, 3)\n",
      "Filas: 2\n",
      "Columnas: 3\n"
     ]
    }
   ],
   "source": [
    "# Funciones de utilidad\n",
    "A = np.array([[1 , 2, 3],[4, 5, 6]])\n",
    "print(A)        # Imprimiendo el vector\n",
    "print(A.shape)  # Numero de filas y columnas\n",
    "filas = A.shape[0]\n",
    "columnas = A.shape[1]\n",
    "print(\"Filas:\", filas)\n",
    "print(\"Columnas:\", columnas)"
   ]
  },
  {
   "cell_type": "markdown",
   "id": "0785453a",
   "metadata": {},
   "source": [
    "#### **Comparando listas con np.array**\n",
    "\n",
    "Supongase que se desea convertir las siguientes temperaturas en grados centigrados: 25.3, 24.8, 26.9, 23.9 a grados Fahrenheit. Recuerde que la formula de conversión es:\n",
    "\n",
    "$F = \\frac{9}{5}C + 32$"
   ]
  },
  {
   "cell_type": "code",
   "execution_count": 11,
   "id": "09e86833",
   "metadata": {},
   "outputs": [
    {
     "name": "stdout",
     "output_type": "stream",
     "text": [
      "[25.3, 24.8, 26.9, 23.9]\n",
      "[77.54, 76.64, 80.42, 75.02]\n"
     ]
    }
   ],
   "source": [
    "# Usando arrays normales\n",
    "cvalues = [25.3, 24.8, 26.9, 23.9]\n",
    "\n",
    "# fvalues = [ x*9/5 + 32 for x in cvalues]\n",
    "fvalues = []\n",
    "for i in range(len(cvalues)):\n",
    "    f_valor = cvalues[i]*9/5 + 32\n",
    "    fvalues.append(f_valor)\n",
    "print(cvalues)\n",
    "print(fvalues)"
   ]
  },
  {
   "cell_type": "code",
   "execution_count": 8,
   "id": "3d9fc08e",
   "metadata": {},
   "outputs": [
    {
     "name": "stdout",
     "output_type": "stream",
     "text": [
      "[25.3 24.8 26.9 23.9]\n",
      "[77.54 76.64 80.42 75.02]\n"
     ]
    }
   ],
   "source": [
    "# Usando np.array\n",
    "c = np.array([25.3, 24.8, 26.9, 23.9])\n",
    "f = c*9/5 + 32\n",
    "print(c)\n",
    "print(f)"
   ]
  },
  {
   "cell_type": "markdown",
   "id": "cfc0d943",
   "metadata": {},
   "source": [
    "### **Creación de Arrays usando numpy**\n",
    "\n",
    "Hay varias formas, a continuación se muestran las principales formas de :\n",
    "1. A partir de secuencias (listas o tuplas) de Python.\n",
    "2. Haciendo uso de funciones propias de Numpy.\n",
    "3. Copiando otro array.\n",
    "4. Lectura de datos desde Fichero."
   ]
  },
  {
   "cell_type": "markdown",
   "id": "19c0d97a",
   "metadata": {},
   "source": [
    "#### **1. A partir de secuencias (listas o tuplas) de Python**\n",
    "\n",
    "```python\n",
    "np.array(secuencia)\n",
    "```"
   ]
  },
  {
   "cell_type": "code",
   "execution_count": 21,
   "id": "8d1fd4ba",
   "metadata": {},
   "outputs": [
    {
     "name": "stdout",
     "output_type": "stream",
     "text": [
      "[3.  5.  7.7]\n",
      "[1 2 3 8]\n"
     ]
    }
   ],
   "source": [
    "tupla = (3, 5, 7.7)\n",
    "A1 = np.array(tupla)\n",
    "lista = [1, 2, 3, 8]\n",
    "A2 = np.array(lista)\n",
    "print(A1)\n",
    "print(A2)"
   ]
  },
  {
   "cell_type": "markdown",
   "id": "02ed4c35",
   "metadata": {},
   "source": [
    "#### **2. Haciendo uso de funciones propias de Numpy**\n",
    "\n",
    "a. **Usando la función numpy.arange**\n",
    "\n",
    "```python\n",
    "numpy.arange([start], stop[, step], dtype=None)\n",
    "```\n",
    "\n",
    "Aspectos claves:\n",
    "* Equivalente a la función range(start, stop, step) de Python.\n",
    "* A diferencia de la función range el step puede ser decimal.\n",
    "* El extremo final del intervalo (stop) no se incluye.\n",
    "\n",
    "Para mas información puede consultar en el siguiente [link](https://numpy.org/doc/stable/reference/generated/numpy.arange.html?highlight=arange#numpy.arange)\n",
    "\n"
   ]
  },
  {
   "cell_type": "code",
   "execution_count": 22,
   "id": "3e3fa075",
   "metadata": {},
   "outputs": [
    {
     "name": "stdout",
     "output_type": "stream",
     "text": [
      "[5.  5.1 5.2 5.3 5.4 5.5 5.6 5.7 5.8 5.9]\n",
      "[0 1 2]\n",
      "[]\n"
     ]
    }
   ],
   "source": [
    "R1 = np.arange(5,6,0.1)\n",
    "R2 = np.arange(3)\n",
    "R3 = np.arange(3,0.5)\n",
    "print(R1)\n",
    "print(R2)\n",
    "print(R3)"
   ]
  },
  {
   "cell_type": "markdown",
   "id": "4d77426a",
   "metadata": {},
   "source": [
    "b. **Usando la función numpy.linspace**\n",
    "\n",
    "```python\n",
    "numpy.linspace(start, stop, num=50, endpoint=True, retstep=False)\n",
    "```\n",
    "\n",
    "Devuelve un array en el que se ha dividido el intervalo **[start, stop]** (endpoint=True, por defecto) en **num** fragmentos.\n",
    "\n",
    "Para mas información puede consultar en el siguiente [link](https://numpy.org/doc/stable/reference/generated/numpy.linspace.html#numpy.linspace)\n",
    "\n"
   ]
  },
  {
   "cell_type": "code",
   "execution_count": 23,
   "id": "f27c12cc",
   "metadata": {},
   "outputs": [
    {
     "name": "stdout",
     "output_type": "stream",
     "text": [
      "[5.   5.25 5.5  5.75 6.  ]\n",
      "(array([5. , 5.2, 5.4, 5.6, 5.8]), 0.2)\n"
     ]
    }
   ],
   "source": [
    "A = np.linspace(5, 6, 5)\n",
    "print(A)\n",
    "B = np.linspace(5, 6, 5, False, True)\n",
    "print(B)"
   ]
  },
  {
   "cell_type": "markdown",
   "id": "2aa9978f",
   "metadata": {},
   "source": [
    "c. **Función numpy.ones**\n",
    "\n",
    "Esta función genera un array de 1's.\n",
    "\n",
    "```python\n",
    "numpy.ones(shape, dtype=None)\n",
    "```\n",
    "\n",
    "* **shape**: Forma del array de salida (entero o lista/tupla). Si se pasa una lista o tupla, se crea un array n-dimensional con la forma (shape) dada por la lista/tupla.\n",
    "* **dtype**: cualquiera de los tipos de datos de numpy (para mas información sobre numpy.dtype puede consultar el siguiente [link](https://numpy.org/doc/stable/reference/generated/numpy.dtype.html#numpy.dtype))."
   ]
  },
  {
   "cell_type": "code",
   "execution_count": 32,
   "id": "81c119d3",
   "metadata": {},
   "outputs": [
    {
     "name": "stdout",
     "output_type": "stream",
     "text": [
      "A: \n",
      "[1. 1. 1. 1.]\n",
      "B: \n",
      "[[1. 1. 1.]\n",
      " [1. 1. 1.]]\n",
      "C: \n",
      "[[1 1]\n",
      " [1 1]\n",
      " [1 1]]\n"
     ]
    }
   ],
   "source": [
    "A = np.ones(4, dtype = np.dtype(float))\n",
    "print(\"A: \")\n",
    "print(A)\n",
    "\n",
    "B = np.ones([2,3])\n",
    "print(\"B: \")\n",
    "print(B)\n",
    "\n",
    "C = np.ones((3,2), dtype = np.dtype(int))\n",
    "print(\"C: \")\n",
    "print(C)"
   ]
  },
  {
   "cell_type": "markdown",
   "id": "51b2c43c",
   "metadata": {},
   "source": [
    "d. **Función numpy.zeros**\n",
    "\n",
    "Funcion que genera un array de 0's.\n",
    "\n",
    "```python\n",
    "numpy.zeros(shape, dtype=float)\n",
    "```\n",
    "\n",
    "Sigue el mismo comportamiento de la función **numpy.ones**. ([link](https://numpy.org/doc/stable/reference/generated/numpy.zeros.html?highlight=zeros#numpy.zeros))."
   ]
  },
  {
   "cell_type": "code",
   "execution_count": 35,
   "id": "ff5d6d29",
   "metadata": {},
   "outputs": [
    {
     "name": "stdout",
     "output_type": "stream",
     "text": [
      "M1: \n",
      "[0 0 0 0]\n",
      "M2: \n",
      "[[0. 0. 0. 0. 0.]\n",
      " [0. 0. 0. 0. 0.]\n",
      " [0. 0. 0. 0. 0.]]\n"
     ]
    }
   ],
   "source": [
    "M1 = np.zeros(4, dtype = np.dtype(int))\n",
    "print(\"M1: \")\n",
    "print(M1)\n",
    "\n",
    "M2 = np.zeros([3,5])\n",
    "print(\"M2: \")\n",
    "print(M2)"
   ]
  },
  {
   "cell_type": "markdown",
   "id": "8d65b5d5",
   "metadata": {},
   "source": [
    "e. **Función numpy.eye**\n",
    "\n",
    "Funcion que crea la matriz identidad.\n",
    "\n",
    "```python\n",
    "numpy.eye(N, M=None, k=0, dtype=<class 'float'>)\n",
    "```\n",
    "\n",
    "Para mas información puede consultar el siguiente [link](https://numpy.org/doc/stable/reference/generated/numpy.eye.html?highlight=eye#numpy.eye)."
   ]
  },
  {
   "cell_type": "code",
   "execution_count": 38,
   "id": "1bf0fcbe",
   "metadata": {},
   "outputs": [
    {
     "name": "stdout",
     "output_type": "stream",
     "text": [
      "I1: \n",
      "[[1 0 0]\n",
      " [0 1 0]\n",
      " [0 0 1]]\n",
      "I2: \n",
      "[[1. 0. 0. 0.]\n",
      " [0. 1. 0. 0.]\n",
      " [0. 0. 1. 0.]]\n",
      "I3: \n",
      "[[0 1 0 0]\n",
      " [0 0 1 0]\n",
      " [0 0 0 1]\n",
      " [0 0 0 0]]\n"
     ]
    }
   ],
   "source": [
    "I1 = np.eye(3, dtype = np.dtype(int))\n",
    "print(\"I1: \")\n",
    "print(I1)\n",
    "\n",
    "I2 = np.eye(3, 4)\n",
    "print(\"I2: \")\n",
    "print(I2)\n",
    "\n",
    "I3 = np.eye(4, k = 1,dtype = np.dtype(int))\n",
    "print(\"I3: \")\n",
    "print(I3)"
   ]
  },
  {
   "cell_type": "markdown",
   "id": "e346bbfd",
   "metadata": {},
   "source": [
    "f. **Función numpy.diag**\n",
    "\n",
    "Extrae una diagonal o construye un array diagonal\n",
    "\n",
    "```python\n",
    "numpy.diag(v, k=0)\n",
    "```\n",
    "\n",
    "Para mas información puede consultar el siguiente [link](https://numpy.org/doc/stable/reference/generated/numpy.diag.html?highlight=diag#numpy.diag)."
   ]
  },
  {
   "cell_type": "code",
   "execution_count": 40,
   "id": "71fa968e",
   "metadata": {},
   "outputs": [
    {
     "name": "stdout",
     "output_type": "stream",
     "text": [
      "M1: \n",
      "[[1 0 0]\n",
      " [0 2 0]\n",
      " [0 0 3]]\n",
      "M2: \n",
      "[[0 0 1 0 0 0]\n",
      " [0 0 0 2 0 0]\n",
      " [0 0 0 0 3 0]\n",
      " [0 0 0 0 0 4]\n",
      " [0 0 0 0 0 0]\n",
      " [0 0 0 0 0 0]]\n",
      "A: \n",
      "[[1 2 3]\n",
      " [4 5 6]\n",
      " [7 8 9]]\n",
      "M3: \n",
      "[1 5 9]\n"
     ]
    }
   ],
   "source": [
    "M1 = np.diag([1,2,3])\n",
    "print(\"M1: \")\n",
    "print(M1)\n",
    "\n",
    "M2 = np.diag([1,2,3,4],2)\n",
    "print(\"M2: \")\n",
    "print(M2)\n",
    "\n",
    "A = np.array([[1, 2, 3],[4, 5,6],[7, 8, 9]])\n",
    "print(\"A: \")\n",
    "print(A)\n",
    "\n",
    "M3 = np.diag(A)\n",
    "print(\"M3: \")\n",
    "print(M3)"
   ]
  },
  {
   "cell_type": "markdown",
   "id": "5507810f",
   "metadata": {},
   "source": [
    "#### **3. Mediante copia de otro array**\n",
    "\n",
    "Existen dos formas:\n",
    "1. Copia por referencia\n",
    "2. Copia por valor"
   ]
  },
  {
   "cell_type": "markdown",
   "id": "9c646885",
   "metadata": {},
   "source": [
    "a. **Copia por referencia**\n",
    "\n",
    "* Se emplea el operador de asignación (=).\n",
    "* Cuando se hace esto tanto el array original como la copia comparten memoria (aliasing)"
   ]
  },
  {
   "cell_type": "code",
   "execution_count": 42,
   "id": "05b5514b",
   "metadata": {},
   "outputs": [
    {
     "name": "stdout",
     "output_type": "stream",
     "text": [
      "[0 1 2]\n",
      "\n",
      "[-3  1  2]\n",
      "[-3  1  2]\n"
     ]
    }
   ],
   "source": [
    "a = np.arange(3)\n",
    "b = a\n",
    "print(a)\n",
    "b[0] = -3\n",
    "print()\n",
    "print(b)\n",
    "print(a)"
   ]
  },
  {
   "cell_type": "markdown",
   "id": "3ff20fb7",
   "metadata": {},
   "source": [
    "b. **Copia por valor**\n",
    "\n",
    "* El propósito es que original y copia sean objetos diferentes. Esto se puede hacer:\n",
    "  * Mediante una operación aritmética\n",
    "  * Mediante la function copy de numpy."
   ]
  },
  {
   "cell_type": "code",
   "execution_count": 43,
   "id": "fe57f142",
   "metadata": {},
   "outputs": [
    {
     "name": "stdout",
     "output_type": "stream",
     "text": [
      "[0 1 2]\n",
      "\n",
      "[-3  1  2]\n",
      "[0 1 2]\n"
     ]
    }
   ],
   "source": [
    "# Mediante operacion aritmetica\n",
    "a = np.arange(3)\n",
    "print(a)\n",
    "b = a + 0\n",
    "b[0] = -3\n",
    "print()\n",
    "print(b)\n",
    "print(a)"
   ]
  },
  {
   "cell_type": "code",
   "execution_count": 44,
   "id": "48743a13",
   "metadata": {},
   "outputs": [
    {
     "name": "stdout",
     "output_type": "stream",
     "text": [
      "[0 1 2]\n",
      "\n",
      "[-3  1  2]\n",
      "[0 1 2]\n"
     ]
    }
   ],
   "source": [
    "# Mediante operacion aritmetica\n",
    "a = np.arange(3)\n",
    "print(a)\n",
    "b = a.copy()\n",
    "b[0] = -3\n",
    "print()\n",
    "print(b)\n",
    "print(a)"
   ]
  },
  {
   "cell_type": "markdown",
   "id": "449dc08f",
   "metadata": {},
   "source": [
    "### **Indexación**\n",
    "* Cuando se habla de indexación nos referimos a la selección de elementos concretos del array.\n",
    "* **A tener en cuenta**: Se accede a un elemento del array dando su posición en el array, mediante un índice entero entre corchetes ('[]')\n",
    "\n",
    "```python\n",
    "nombre_array[posicion]\n",
    "```\n",
    "* El primer índice es el 0 (Como en C/C++ o Java), aunque también se soporta indexación negativa.\n",
    "* Si el índice es mayor que el numero de elementos de array, lanzara una excepción (IndexError)."
   ]
  },
  {
   "cell_type": "code",
   "execution_count": 46,
   "id": "8f3fcaa4",
   "metadata": {},
   "outputs": [
    {
     "name": "stdout",
     "output_type": "stream",
     "text": [
      "[1 3 5 7]\n",
      "1\n",
      "7\n",
      "7\n"
     ]
    },
    {
     "ename": "IndexError",
     "evalue": "index 4 is out of bounds for axis 0 with size 4",
     "output_type": "error",
     "traceback": [
      "\u001b[1;31m---------------------------------------------------------------------------\u001b[0m",
      "\u001b[1;31mIndexError\u001b[0m                                Traceback (most recent call last)",
      "\u001b[1;32m<ipython-input-46-cc0af4c6f5ea>\u001b[0m in \u001b[0;36m<module>\u001b[1;34m\u001b[0m\n\u001b[0;32m      4\u001b[0m \u001b[0mprint\u001b[0m\u001b[1;33m(\u001b[0m\u001b[0mA\u001b[0m\u001b[1;33m[\u001b[0m\u001b[1;33m-\u001b[0m\u001b[1;36m1\u001b[0m\u001b[1;33m]\u001b[0m\u001b[1;33m)\u001b[0m\u001b[1;33m\u001b[0m\u001b[1;33m\u001b[0m\u001b[0m\n\u001b[0;32m      5\u001b[0m \u001b[0mprint\u001b[0m\u001b[1;33m(\u001b[0m\u001b[0mA\u001b[0m\u001b[1;33m[\u001b[0m\u001b[1;36m3\u001b[0m\u001b[1;33m]\u001b[0m\u001b[1;33m)\u001b[0m\u001b[1;33m\u001b[0m\u001b[1;33m\u001b[0m\u001b[0m\n\u001b[1;32m----> 6\u001b[1;33m \u001b[0mprint\u001b[0m\u001b[1;33m(\u001b[0m\u001b[0mA\u001b[0m\u001b[1;33m[\u001b[0m\u001b[1;36m4\u001b[0m\u001b[1;33m]\u001b[0m\u001b[1;33m)\u001b[0m \u001b[1;31m# ERROR\u001b[0m\u001b[1;33m\u001b[0m\u001b[1;33m\u001b[0m\u001b[0m\n\u001b[0m",
      "\u001b[1;31mIndexError\u001b[0m: index 4 is out of bounds for axis 0 with size 4"
     ]
    }
   ],
   "source": [
    "A = np.arange(1,9,2)\n",
    "print(A)\n",
    "print(A[0])\n",
    "print(A[-1])\n",
    "print(A[3])\n",
    "print(A[4]) # ERROR"
   ]
  },
  {
   "cell_type": "markdown",
   "id": "d9ca9bd3",
   "metadata": {},
   "source": [
    "#### **Formas de indexación**\n",
    "\n",
    "\n",
    "|Tipo de selección|Sintaxis|\n",
    "|:---|:---|\n",
    "|Un solo elemento | ```array[posicion]```|\n",
    "|Varios elementos consecutivos | ```array[inicio:fin]```|\n",
    "|Elementos en un orden cualquiera (Novedad respecto al core de Python)|```array[[p1, p2, ..., pn]]``` <br><br> Donde ```[p1, p2, …, pn]``` es una lista o array |"
   ]
  },
  {
   "cell_type": "code",
   "execution_count": 4,
   "id": "fc8db4c8",
   "metadata": {},
   "outputs": [
    {
     "name": "stdout",
     "output_type": "stream",
     "text": [
      "a = [0 1 2 3 4 5 6 7 8 9]\n",
      "\n",
      "a[1] = 1\n",
      "a[-1] = 9\n",
      "a[3:-4] = [3 4 5]\n",
      "a[3:6] = [3 4 5]\n",
      "a[0:9:2] = [0 2 4 6 8]\n",
      "a[:4] = [0 1 2 3]\n",
      "a[[1, 5, 2]] = [1 5 2]\n"
     ]
    }
   ],
   "source": [
    "# Ejemplos\n",
    "a = np.arange(10)\n",
    "print(\"a =\",a)\n",
    "print()\n",
    "print(\"a[1] = \" + str(a[1]))\n",
    "print(\"a[-1] = \" + str(a[-1]))\n",
    "print(\"a[3:-4] =\",a[3:-4])\n",
    "print(\"a[3:6] =\",a[3:6])\n",
    "print(\"a[0:9:2] =\",a[0:9:2])\n",
    "print(\"a[:4] =\",a[:4])\n",
    "print(\"a[[1, 5, 2]] =\",a[[1, 5, 2]])\n"
   ]
  },
  {
   "cell_type": "code",
   "execution_count": 2,
   "id": "bd4b3061",
   "metadata": {},
   "outputs": [
    {
     "name": "stdout",
     "output_type": "stream",
     "text": [
      "M: \n",
      "[[0 1 2]\n",
      " [3 4 5]\n",
      " [6 7 8]]\n",
      "[[ 0  1  2]\n",
      " [ 3  4 -6]\n",
      " [ 6  7  8]]\n",
      "\n",
      "M[1][1] = 4\n",
      "M[(2,2)] = 8\n"
     ]
    }
   ],
   "source": [
    "# Ejemplos\n",
    "# M = np.arange(7).reshape(3,3) ERROR\n",
    "M = np.arange(9).reshape(3,3)\n",
    "print(\"M: \")\n",
    "print(M)\n",
    "M[1,2] = -M[2,0]\n",
    "print(M)\n",
    "print()\n",
    "print(\"M[1][1] = \" + str(M[1][1]))\n",
    "print(\"M[(2,2)] =\", M[(2,2)]) "
   ]
  },
  {
   "cell_type": "markdown",
   "id": "11c130e3",
   "metadata": {},
   "source": [
    "### **Arrays de N-dimensiones**\n",
    "Se puede modificar un array existente:\n",
    "1. Haciendo usao de la propiedad **shape**:"
   ]
  },
  {
   "cell_type": "code",
   "execution_count": 8,
   "id": "3a8cf127",
   "metadata": {},
   "outputs": [
    {
     "name": "stdout",
     "output_type": "stream",
     "text": [
      "(10,)\n",
      "a = [1 1 1 1 1 1 1 1 1 1]\n",
      "\n",
      "a: \n",
      "[[1 1 1 1 1]\n",
      " [1 1 1 1 1]]\n"
     ]
    }
   ],
   "source": [
    "a = np.ones(10,dtype = int)\n",
    "print(a.shape)\n",
    "print(\"a = \"+ str(a))\n",
    "a.shape = [2, 5]\n",
    "print()\n",
    "print(\"a: \\n\"+ str(a))"
   ]
  },
  {
   "cell_type": "markdown",
   "id": "3b18178d",
   "metadata": {},
   "source": [
    "2. Haciendo uso del método **reshape**:"
   ]
  },
  {
   "cell_type": "code",
   "execution_count": 10,
   "id": "ceffe939",
   "metadata": {},
   "outputs": [
    {
     "name": "stdout",
     "output_type": "stream",
     "text": [
      "(10,)\n",
      "a: \n",
      "[1 1 1 1 1 1 1 1 1 1]\n",
      "\n",
      "b: \n",
      "[[1 1 1 1 1]\n",
      " [1 1 1 1 1]]\n"
     ]
    }
   ],
   "source": [
    "a = np.ones(10,dtype = int)\n",
    "print(a.shape)\n",
    "b = a.reshape((2, 5)) # lista o tupla\n",
    "print(\"a: \\n\"+ str(a))\n",
    "print()\n",
    "print(\"b: \\n\"+ str(b))\n"
   ]
  },
  {
   "cell_type": "markdown",
   "id": "6bbebb02",
   "metadata": {},
   "source": [
    "#### **Indexado de Arrays de N-dimensiones**\n",
    "\n",
    "Por medio del indexado se puede acceder a uno o varios elementos del array N-dimensional. La siguiente tabla muestra las diferentes formas de indexar:\n",
    "\n",
    "|Forma|Sintaxis|\n",
    "|:---|:---|\n",
    "|Separandando los índices por comas | ```nombreArray[indexDim1, indexDim2, ..., indexDimN]```|\n",
    "|Como las listas|```nombreArray[indexDim1][ indexDim2]...[indexDimN]```|\n",
    "|Usando tuplas| ```nombreArray[(indexDim1, indexDim2, ..., indexDimN)]```|\n",
    "\n",
    "**Se puede usar el operador []**: para acceder a rangos de elementos tal como para el caso de los arrays de una dimensión."
   ]
  },
  {
   "cell_type": "code",
   "execution_count": 11,
   "id": "ee609660",
   "metadata": {},
   "outputs": [
    {
     "name": "stdout",
     "output_type": "stream",
     "text": [
      "M = \n",
      "[[0 1 2]\n",
      " [3 4 5]\n",
      " [6 7 8]]\n",
      "\n",
      "M = \n",
      "[[ 0  1  2]\n",
      " [ 3  4 -6]\n",
      " [ 6  7  8]]\n",
      "\n",
      "M[1][1] = 4\n",
      "M[(2,2)] = 8\n"
     ]
    }
   ],
   "source": [
    "# M = np.arange(7).reshape(3,3) ERROR\n",
    "M = np.arange(9).reshape(3,3)\n",
    "print(\"M = \")\n",
    "print(M)\n",
    "M[1,2] = -M[2,0]\n",
    "print()\n",
    "print(\"M = \")\n",
    "print(M)\n",
    "print()\n",
    "print(\"M[1][1] = \" + str(M[1][1]))\n",
    "print(\"M[(2,2)] = \" + str(M[(2,2)]))"
   ]
  },
  {
   "cell_type": "code",
   "execution_count": 21,
   "id": "039099d7",
   "metadata": {},
   "outputs": [
    {
     "name": "stdout",
     "output_type": "stream",
     "text": [
      "a = [0.   0.25 0.5  0.75 1.  ]\n",
      "a[:] = [0.   0.25 0.5  0.75 1.  ]\n",
      "a[:3] = [0.   0.25 0.5 ]\n",
      "\n",
      "b:\n",
      "[[1 2 3]\n",
      " [4 5 6]\n",
      " [7 8 9]]\n",
      "\n",
      "b[-1][-1] = 9\n",
      "\n",
      "b[-1][:] = [7 8 9]\n",
      "\n",
      "b[: ,1] = [2 5 8]\n",
      "\n",
      "b[:,:] =\n",
      " [[1 2 3]\n",
      " [4 5 6]\n",
      " [7 8 9]]\n",
      "\n",
      "b[:] =\n",
      " [[1 2 3]\n",
      " [4 5 6]\n",
      " [7 8 9]]\n"
     ]
    }
   ],
   "source": [
    "a = np.linspace(0, 1, 5)\n",
    "print(\"a =\",a)\n",
    "print(\"a[:] =\",a[:])\n",
    "print(\"a[:3] =\",a[:3])\n",
    "print()\n",
    "b = np.arange(1,10).reshape((3, 3))\n",
    "print(\"b:\")\n",
    "print(b)\n",
    "print()\n",
    "print(\"b[-1][-1] =\",b[-1][-1])\n",
    "print()\n",
    "print(\"b[-1][:] =\",b[-1][:])\n",
    "print()\n",
    "print(\"b[: ,1] =\",b[:,1])\n",
    "print()\n",
    "print(\"b[:,:] =\\n\",b[:,:])\n",
    "print()\n",
    "print(\"b[:] =\\n\",b[:])"
   ]
  },
  {
   "cell_type": "markdown",
   "id": "f455dc40",
   "metadata": {},
   "source": [
    "## **Referencias**\n",
    "\n",
    "* https://www.python-course.eu/numpy.php\n",
    "* https://numpy.org/learn/ \n",
    "* http://facundoq.github.io/courses/images/res/03_numpy.html\n",
    "* https://github.com/hmedrano/curso-python-cientifico/blob/master/README.md\n",
    "* http://www.denebola.org/japp/CC/numpy.html\n",
    "* https://github.com/rougier/numpy-100/blob/master/100_Numpy_exercises.md\n",
    "* https://numpy.org/doc/stable/user/tutorials_index.html\n",
    "* https://notebook.community/\n",
    "* https://notebook.community/jorgemauricio/INIFAP_Course/ejercicios/Numpy/5_Ejercicios%20Numpy-Solucion\n"
   ]
  }
 ],
 "metadata": {
  "kernelspec": {
   "display_name": "Python 3",
   "language": "python",
   "name": "python3"
  },
  "language_info": {
   "codemirror_mode": {
    "name": "ipython",
    "version": 3
   },
   "file_extension": ".py",
   "mimetype": "text/x-python",
   "name": "python",
   "nbconvert_exporter": "python",
   "pygments_lexer": "ipython3",
   "version": "3.8.8"
  }
 },
 "nbformat": 4,
 "nbformat_minor": 5
}

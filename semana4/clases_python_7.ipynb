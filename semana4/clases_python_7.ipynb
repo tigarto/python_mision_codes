{
 "cells": [
  {
   "cell_type": "markdown",
   "id": "157f4d0b",
   "metadata": {},
   "source": [
    "[![Open In Colab](https://colab.research.google.com/assets/colab-badge.svg)](https://colab.research.google.com/github/tigarto/python_mision_codes/blob/main/semana4/clases_python_7.ipynb)"
   ]
  },
  {
   "cell_type": "code",
   "execution_count": 1,
   "id": "68816647",
   "metadata": {},
   "outputs": [],
   "source": [
    "import warnings\n",
    "warnings.filterwarnings(\"ignore\", category=DeprecationWarning)"
   ]
  },
  {
   "cell_type": "markdown",
   "id": "4d77426a",
   "metadata": {},
   "source": [
    "# **Repaso Numpy**\n",
    "\n",
    "Acceda a [SciPy 2021 Tutorial: Introduction to Numerical Computing With NumPy](https://github.com/enthought/Numpy-Tutorial-SciPyConf-2021) y refuerce lo visto. Alli analice detenidamente el archivo [introduction to numerical computing with numpy manual](https://github.com/enthought/Numpy-Tutorial-SciPyConf-2021/blob/main/introduction_to_numerical_computing_with_numpy_manual.pdf) la explicación de las presentaciones las puede encontrar en el siguiente video:"
   ]
  },
  {
   "cell_type": "code",
   "execution_count": 2,
   "id": "f27c12cc",
   "metadata": {},
   "outputs": [
    {
     "data": {
      "image/jpeg": "[encoded data removed]",
      "text/html": [
       "\n",
       "        <iframe\n",
       "            width=\"400\"\n",
       "            height=\"300\"\n",
       "            src=\"https://www.youtube.com/embed/ZB7BZMhfPgk\"\n",
       "            frameborder=\"0\"\n",
       "            allowfullscreen\n",
       "        ></iframe>\n",
       "        "
      ],
      "text/plain": [
       "<IPython.lib.display.YouTubeVideo at 0x1e79904f1c0>"
      ]
     },
     "metadata": {},
     "output_type": "display_data"
    }
   ],
   "source": [
    "# import IPython.display.YouTubeVideo class.\n",
    "from IPython.display import YouTubeVideo\n",
    "\n",
    "# create an instance of YouTubeVideo class with provided youtube video id.\n",
    "youtube_video = YouTubeVideo('ZB7BZMhfPgk')\n",
    "\n",
    "# display youtube video\n",
    "display(youtube_video)"
   ]
  },
  {
   "cell_type": "markdown",
   "id": "9db842ce",
   "metadata": {},
   "source": [
    "## **Recomendaciones**\n",
    "\n",
    "Se recomienda ver:\n",
    "1. [Ejercicios de Listas y Tuplas de https://aprendeconalf.es](https://aprendeconalf.es/docencia/python/ejercicios/listas-tuplas/)\n",
    "Ver [100 numpy exercises](https://github.com/rougier/numpy-100) \n",
    "https://github.com/tigarto/python_mision_codes/blob/main/ejemplos_resueltos/ejemplos1.ipynb"
   ]
  },
  {
   "cell_type": "markdown",
   "id": "3ae25b92",
   "metadata": {},
   "source": [
    "## **Practica**\n",
    "\n"
   ]
  },
  {
   "cell_type": "markdown",
   "id": "11f395f8",
   "metadata": {},
   "source": [
    "1. Escriba las instrucciones que lleven a cabo las siguientes operaciones sobre arreglos de un solo subindice.\n",
    "   * Inicialice a cero los 10 elementos de un arreglo de enteros ```counts```\n",
    "   * Sume 1 a cada uno de los 6 elementos del arreglo de enteros ```bonus = [1, 4, 5, 2, 1, 4]```\n",
    "   * Lea del teclado 12 valores y almacenelos en el arreglo ```monthlyTemperatures```\n",
    "   \n",
    "2. Una compañia para a sus vendedores con base en una comisión. Los venderores reciben $200 a la semana mas 9% de sus ventas netas durante las semana. Por ejemplo, un vendedor cuyas ventas brutas son de $5000, a la semana recibe $200 mas 9% de $5000, es decir, un total de $650. Escriba un programa que (con un arreglo de contadores) determine la cantidad de vendedores que ganaron salarios dentro de los siguientes rangos (Suponga que cada vendedor cierra a una cifra entera):\n",
    "  * 200 - 299\n",
    "  * 300 - 399\n",
    "  * 400 - 499\n",
    "  * 500 - 599\n",
    "  * 600 - 699\n",
    "  * 700 - 799\n",
    "  * 800 - 899\n",
    "  * 900 - 999\n",
    "  * 1000 o mas\n",
    "   \n",
    "   \n",
    "3. Una aerolinea pequeña acaba de comprar una computadora para su nuevo sistema automatizado de reservaciones. Se le ha pedido a usted que programe este sistema. Deberá escribir un programa que asigne asientos en cada vuelo del único avion de la compañia (capacidad: 10 asientos).\n",
    "\n",
    "   Su programa debe presentar el siguiente menú de alternativas: **Por favor teclee 1 para \"fumar\"** y **Por favor teclee 2 para \"no fumar\"**. Si se teclea 1, el programa deberá asignar un asiento en la sección de no fumadores (asientos 1 a 6). Si se teclea 2, se asignara un asiento en la sección de fumar (asientos 7 a 12). El programa deberá imprimir un pase de abordar que indique el asiento del pasajero y si se trata de las sección de fumar o no fumar.\n",
    "\n",
    "   Mediante un arreglo represente la grafica de asientos del avion (Atras la sección de fumadores y adelante la de no fumadores). Inicialice a 0 todos los elementos del arreglo, indicando que todos los asientos se encuentran vacios. A medida que asigne un asiento, establezca a 1 el elemento correspondiente, indicando que ya no esta disponible. \n",
    "\n",
    "   El programa, claro esta, no debera volver a asignar un asiento ya asignado. Cuando la sección de fumadores este llena, el programa deberá preguntar si es aceptable asignar un asiento en la sección de no fumar (y viceversa). Si la respuesta es si, entonces haga la asignación. Si no, imprima el mensaje **El proximo vuelo saldra en 3 horas**.\n",
    "\n",
    "4. Una compañia tiene 4 vendedores (1 a 4) que venden 5 productos (1 a 5). Una vez por dia cada vendedor entrega una hoja por cada tipo de producto vendido. Las hojas contienen:\n",
    "  * El numero del vendedor.\n",
    "  * El numero del producto.\n",
    "  * El importe de las ventas de dicho producto en el dia.\n",
    "\n",
    "   Por lo tando, cada vendedor entrega entre 0 y 5 hojas dentas por dia. Suponga que estan a la mano las hojas de informacion de las ventas del ultimo mes. Escriba un programa que tome como entrada esta información y resuma las ventas por vendedor y producto. Todos los totales deben almacenarse en la matrix **sales**. Tras procesar la información del ultimo mes, imprima el resultado en formato tabla; de modo que cada columna representa a un vendedor y cada fila representa a un producto. Totalice cada fila para obtener las ventas totales por product; totalice cada columna para obtener las ventas totales por vendedor. La impresion tabular debera obtener estos totales a la derecha y al final de las columnas.\n"
   ]
  },
  {
   "cell_type": "markdown",
   "id": "f455dc40",
   "metadata": {},
   "source": [
    "## **Referencias**\n",
    "\n",
    "* https://www.python-course.eu/numpy.php\n",
    "* https://numpy.org/learn/ \n",
    "* http://facundoq.github.io/courses/images/res/03_numpy.html\n",
    "* https://github.com/hmedrano/curso-python-cientifico/blob/master/README.md\n",
    "* http://www.denebola.org/japp/CC/numpy.html\n",
    "* https://github.com/rougier/numpy-100/blob/master/100_Numpy_exercises.md\n",
    "* https://numpy.org/doc/stable/user/tutorials_index.html\n",
    "* https://notebook.community/\n",
    "* https://notebook.community/jorgemauricio/INIFAP_Course/ejercicios/Numpy/5_Ejercicios%20Numpy-Solucion\n",
    "* https://www.edureka.co/blog/python-numpy-tutorial/\n",
    "* https://cs231n.github.io/python-numpy-tutorial/\n",
    "* https://www.dev2qa.com/how-to-display-rich-output-media-audio-video-image-etc-in-ipython-jupyter-notebook/\n"
   ]
  },
  {
   "cell_type": "code",
   "execution_count": null,
   "id": "c283a31d",
   "metadata": {},
   "outputs": [],
   "source": []
  }
 ],
 "metadata": {
  "kernelspec": {
   "display_name": "Python 3",
   "language": "python",
   "name": "python3"
  },
  "language_info": {
   "codemirror_mode": {
    "name": "ipython",
    "version": 3
   },
   "file_extension": ".py",
   "mimetype": "text/x-python",
   "name": "python",
   "nbconvert_exporter": "python",
   "pygments_lexer": "ipython3",
   "version": "3.8.8"
  }
 },
 "nbformat": 4,
 "nbformat_minor": 5
}

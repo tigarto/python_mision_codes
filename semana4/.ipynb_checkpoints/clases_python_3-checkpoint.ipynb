{
 "cells": [
  {
   "cell_type": "markdown",
   "id": "157f4d0b",
   "metadata": {},
   "source": [
    "[![Open In Colab](https://colab.research.google.com/assets/colab-badge.svg)](https://colab.research.google.com/github/tigarto/python_mision_codes/blob/main/semana4/clases_python_3.ipynb)"
   ]
  },
  {
   "cell_type": "code",
   "execution_count": null,
   "id": "68816647",
   "metadata": {},
   "outputs": [],
   "source": [
    "import warnings\n",
    "warnings.filterwarnings(\"ignore\", category=DeprecationWarning)"
   ]
  },
  {
   "cell_type": "code",
   "execution_count": null,
   "id": "433962a7",
   "metadata": {},
   "outputs": [],
   "source": [
    "!pip install tutormagic\n",
    "%load_ext tutormagic"
   ]
  },
  {
   "cell_type": "markdown",
   "id": "bae93cc4",
   "metadata": {},
   "source": [
    "# **Listas**\n",
    "\n",
    "List: an object that contains multiple\n",
    "data items\n",
    "\n",
    "Element: An item in a list\n",
    "• Format: list = [item1, item2, etc.]\n",
    "• Can hold items of different types\n",
    "• print function can be used to display\n",
    "an entire list\n",
    "• list() function can convert certain\n",
    "types of objects to lists\n",
    "\n",
    "\n",
    "|Operador|Significado|codigo| Salida|\n",
    "|---|---|---|---|\n",
    "|```+```|Concatenación|```L1 = [1, 2, 3]``` <br> ```L2 = L1 + [4, 5, 6]```<br> ```print(L2)```|```[1, 2, 3, 4, 5, 6]```|\n",
    "|```*```|Repetición|```L1 = 3*[1, 2]``` <br> ```print(L1)```|```[1, 2, 1, 2, 1, 2]```|\n",
    "|```<list>[]```|Indexado|```L = [1, 2.3, \"hola\"]``` <br> ```e1 = s[2]; e2 = s[-2]``` <br>```print(e1)```<br>```print(e2)```|```hola```<br>```2.3```|\n",
    "|```<list>[:]```|Slicing|```L = \"[1, 2, -4, 6, 10, 12]\"``` <br>```p1 = L[:4]``` <br>```p2 = L[3:]```<br> ```print(p1)``` <br> ```print(p2)``` |```[1, 2, -4, 6]```<br>```[10, 12]```|\n",
    "|```len(<list>)```|Tamaño|```L = [1, 2.3, \"hola\"]``` <br>  ```print(len(L))```|```3```|\n",
    "|```min(<list>)```|Minimo elemento|```L = [1, 2.3, -0.23]``` <br>  ```print(min(L))```|```-0.23```|\n",
    "|```max(<list>)```|Maximo elemento|```L = [1, 2.3, -0.23]``` <br>  ```print(max(L))```|```2.3```|\n",
    "|```sum(<list>)```|Suma de los elementos|```L = [1, 2.3, 7.6]``` <br>  ```print(sum(L))```|```11```|\n",
    "|```x in <list>```|Pertenencia|```resp = 1 in [1, 2.3, 7.6]``` <br>  ```print(resp)```|```True```|\n",
    "|```x not in <list>```|No pertenencia|```print(1 not in [1, 2.3, 7.6])```|```False```|\n",
    "|```for <elem> in <list>```|Ateración a traves de los caracteres|```for e in [1, 2.3, \"hola\"]:```<br>```   print(e)```|```1```<br>```2.3```<br>```hola```|\n",
    "\n",
    "\n"
   ]
  },
  {
   "cell_type": "code",
   "execution_count": null,
   "id": "ff5d6d29",
   "metadata": {},
   "outputs": [],
   "source": [
    "list1 = list() # Create an empty list\n",
    "list2 = list([2, 3, 4]) # Create a list with elements 2, 3, 4\n",
    "list3 = list([\"red\", \"green\", \"blue\"]) # Create a list with strings\n",
    "list4 = list(range(3, 6)) # Create a list with elements 3, 4, 5\n",
    "list5 = list(\"abcd\") # Create a list with characters a, b, c, d"
   ]
  },
  {
   "cell_type": "code",
   "execution_count": null,
   "id": "a0cb0c56",
   "metadata": {},
   "outputs": [],
   "source": [
    "list1 = [] # Same as list()\n",
    "list2 = [2, 3, 4] # Same as list([2, 3, 4])\n",
    "list3 = [\"red\", \"green\"] # Same as list([\"red\", \"green\"])"
   ]
  },
  {
   "cell_type": "code",
   "execution_count": null,
   "id": "690d864a",
   "metadata": {},
   "outputs": [],
   "source": [
    "list1 = [2, 3, 4, 1, 32]\n",
    "print(list1)\n",
    "print(max(list1))\n",
    "print(min(list1))\n",
    "print(sum(list1))\n"
   ]
  },
  {
   "cell_type": "code",
   "execution_count": null,
   "id": "41b7a094",
   "metadata": {},
   "outputs": [],
   "source": [
    "import random\n",
    "list1 = [2, 3, 4, 1, 32]\n",
    "print(list1)\n",
    "random.shuffle(list1) # Shuffle the elements in list1\n",
    "print(list1)"
   ]
  },
  {
   "cell_type": "code",
   "execution_count": null,
   "id": "ede3fee9",
   "metadata": {},
   "outputs": [],
   "source": [
    "list1 = [2, 3, 5, 7, 9, 1]\n",
    "print(list1)\n",
    "print(list1[-1])\n",
    "print(list1[-3])"
   ]
  },
  {
   "cell_type": "code",
   "execution_count": null,
   "id": "ef2ef0a7",
   "metadata": {},
   "outputs": [],
   "source": [
    "list1 = [2, 3, 5, 2, 33, 21]\n",
    "print(list1)\n",
    "print(list1[2 : 4])\n",
    "print(list1[ : 2])\n",
    "print(list1[3 : ])\n",
    "print(list1[1 : -3])\n",
    "print(list1[-4 : -2])"
   ]
  },
  {
   "cell_type": "code",
   "execution_count": null,
   "id": "dc698cc4",
   "metadata": {},
   "outputs": [],
   "source": [
    "list1 = [2, 3]\n",
    "print(list1)\n",
    "list2 = [1, 9]\n",
    "print(list2)\n",
    "list3 = list1 + list2\n",
    "print(list3)\n",
    "list4 = 3 * list1\n",
    "print(list4)"
   ]
  },
  {
   "cell_type": "code",
   "execution_count": null,
   "id": "08dfcb18",
   "metadata": {},
   "outputs": [],
   "source": [
    "list1 = [2, 3, 5, 2, 33, 21]\n",
    "print(2 in list1)\n",
    "print(2 not in list1)"
   ]
  },
  {
   "cell_type": "code",
   "execution_count": null,
   "id": "824f03c1",
   "metadata": {},
   "outputs": [],
   "source": [
    "list1 = [1, 3, 2, -1, 3, 10, 19, 123, 234, 12]\n",
    "for i in range(len(list1)):\n",
    "    print(list1[i])\n",
    "print()\n",
    "for i in range(3, len(list1)):\n",
    "    print(list1[i])\n",
    "print()\n",
    "for i in range(0,len(list1),2):\n",
    "    print(list1[i])\n"
   ]
  },
  {
   "cell_type": "markdown",
   "id": "e887ec58",
   "metadata": {},
   "source": [
    "List Comprehensions\n",
    "List comprehensions provide a concise way to create a sequential list of elements. A list comprehension\n",
    "consists of brackets containing an expression followed by a for clause, then zero\n",
    "or more for or if clauses. The list comprehension produces a list with the results from evaluating\n",
    "the expression. Here are some examples:\n"
   ]
  },
  {
   "cell_type": "code",
   "execution_count": null,
   "id": "3a2984dc",
   "metadata": {},
   "outputs": [],
   "source": [
    "list1 = [x for x in range(5)]\n",
    "print(list1)\n",
    "\n",
    "list2 = [0.5 * x for x in list1]\n",
    "print(list2)\n",
    "\n",
    "list3 = [x for x in list2 if x < 1.5]\n",
    "print(list3)"
   ]
  },
  {
   "cell_type": "code",
   "execution_count": null,
   "id": "c9fda9ef",
   "metadata": {},
   "outputs": [],
   "source": []
  },
  {
   "cell_type": "code",
   "execution_count": null,
   "id": "ffa4b5e9",
   "metadata": {},
   "outputs": [],
   "source": [
    "months = [\"Jan\", \"Feb\", \"Mar\", \"Apr\", \"May\",\"Jun\", \"Jul\", \"Aug\", \"Sep\", \"Oct\", \"Nov\",\"Dec\"]\n",
    "n = int(input(\"Enter a month number (1-12): \"))\n",
    "print (\"The month abbreviation is\", months[n-1] + \".\")"
   ]
  },
  {
   "cell_type": "code",
   "execution_count": null,
   "id": "5ad34f47",
   "metadata": {},
   "outputs": [],
   "source": [
    "NUMBER_OF_ELEMENTS = 5 # For simplicity, use 5 instead of 100\n",
    "numbers = [] # Create an empty list\n",
    "sum = 0\n",
    "\n",
    "for i in range(NUMBER_OF_ELEMENTS):\n",
    "    value = eval(input(\"Enter a new number: \"))\n",
    "    sum += value\n",
    "\n",
    "average = sum / NUMBER_OF_ELEMENTS\n",
    "\n",
    "count = 0 # The number of elements above average\n",
    "for i in range(NUMBER_OF_ELEMENTS):\n",
    "    if numbers[i] > average:\n",
    "        count += 1\n",
    "\n",
    "print(\"Average is\", average)\n",
    "print(\"Number of elements above the average is\", count)"
   ]
  },
  {
   "cell_type": "code",
   "execution_count": null,
   "id": "015924e2",
   "metadata": {},
   "outputs": [],
   "source": [
    "Metodos con listas"
   ]
  },
  {
   "cell_type": "markdown",
   "id": "e2c1c106",
   "metadata": {},
   "source": [
    "## **Ejemplos**\n",
    "\n",
    "\n",
    "![matriz](matriz.jpg)"
   ]
  },
  {
   "cell_type": "code",
   "execution_count": 10,
   "id": "b25db292",
   "metadata": {},
   "outputs": [
    {
     "data": {
      "text/html": [
       "<div class=\"text-center\"><strong><a style=\"box-sizing: border-box; padding: 0 5px; border: 1px solid #CFCFCF;\" target=\"_\" href=http://pythontutor.com/iframe-embed.html#code=class%20Cat%3A%0A%20%20%20%20%0A%20%20%20%20%23%20constructor%3A%0A%20%20%20%20def%20__init__%28self%2C%20name%29%3A%0A%20%20%20%20%20%20%20%20self.name%20%3D%20name%0A%20%20%20%20%0A%20%20%20%20def%20speak%28self%29%3A%0A%20%20%20%20%20%20%20%20print%28self.name%2C%20%22%20says%20Meow%22%29%0A%20%20%20%20%0A%20%20%20%20def%20drink%28self%29%3A%0A%20%20%20%20%20%20%20%20print%28self.name%2C%20%22%20drinks%20some%20milk.%22%29%0A%20%20%20%20%20%20%20%20print%28self.name%2C%20%22%20takes%20a%20nap.%22%29%0A%0A%23%20create%20two%20instances%20of%20a%20cat%0Aromeo%20%3D%20cat2.Cat%28%22Romeo%22%29%0Ajuliet%20%3D%20cat2.Cat%28%22Juliet%22%29%0A%23%20play%20with%20Romeo%0Aromeo.speak%28%29%0Aromeo.drink%28%29%0A%23%20play%20with%20Juliet%0Ajuliet.speak%28%29%0Ajuliet.drink%28%29%0A&origin=opt-frontend.js&cumulative=false&heapPrimitives=false&textReferences=false&curInstr=0&&verticalStack=false&py=3&rawInputLstJSON=%5B%5D&codeDivWidth=50%25&codeDivHeight=100%25>Python Tutor</a></strong></div>"
      ],
      "text/plain": [
       "<IPython.core.display.HTML object>"
      ]
     },
     "metadata": {},
     "output_type": "display_data"
    }
   ],
   "source": [
    "%%tutor -l python3 -k\n",
    "\n",
    "def imprimirMatriz(M):\n",
    "    for i in range(len(M)):\n",
    "        print(M[i])\n",
    "        print()\n",
    "\n",
    "FILAS = 6\n",
    "COLUMNAS = 8\n",
    "mat = []*6\n",
    "for i in range(FILAS):\n",
    "    a = [0]*8\n",
    "    mat.append(a)\n",
    "    \n",
    "\n",
    "imprimirMatriz(mat)    \n",
    "    \n",
    "    "
   ]
  },
  {
   "cell_type": "markdown",
   "id": "3494fbb9",
   "metadata": {},
   "source": [
    "### **Ejercicio 2**\n",
    "\n",
    "1. (**Clases Employee y ProductionWorker**) Escriba una clase llamada **Employee** que contenga los siguientes atributos:\n",
    "* **Employee name**: Nombre del empleado.\n",
    "* **Employee number**: Identificacion del empleado.\n",
    "\n",
    "A continuación escriba una clase llamada **ProductionWorker** la cual, será una subclase de la clase **Employee**. La clase **ProductionWorker** deberá tener los siguientes atributos:\n",
    "* **Shift number**: Numero de turno (valor entero, tal como 1, 2, o 3)\n",
    "* **Hourly pay rate**: Pago por hora\n",
    "\n",
    "El dia de trabajo esta dividido en dos turnos: dia y noche, de modo que el atibuto **shift** deberá almacenar un entero que represente el turno en el que trabaja el empleado. El turno de dia (**day shift**) es el 1 y el turno de noche (**night shift**) es el número 2. Escriba los metodos setter y getter apropiados para cada clase. Una vez haya escrito las clases, escriba un programa que cree un objeto tipo **ProductionWorker** y pida al usuario entrar cada uno los datos asociados a los atributos del objeto. Almacene los datos en el objeto y entonces use los metodos accesores para desplegar la información almacenada en pantalla.\n",
    "\n"
   ]
  },
  {
   "cell_type": "markdown",
   "id": "f455dc40",
   "metadata": {},
   "source": [
    "## **Referencias**\n",
    "\n",
    "* http://codingclub.co.uk/\n",
    "* https://github.com/mx0c/super-mario-python\n",
    "* https://sourceforge.net/projects/supermariobrosp/\n",
    "* https://github.com/njbittner/battle-bros-pyarcade/blob/master/Player.py\n",
    "* https://github.com/AHowardC/mkgame\n",
    "* https://www.pygame.org/project-Street+pyghter-1860-.html\n"
   ]
  },
  {
   "cell_type": "code",
   "execution_count": null,
   "id": "0547430c",
   "metadata": {},
   "outputs": [],
   "source": []
  }
 ],
 "metadata": {
  "kernelspec": {
   "display_name": "Python 3",
   "language": "python",
   "name": "python3"
  },
  "language_info": {
   "codemirror_mode": {
    "name": "ipython",
    "version": 3
   },
   "file_extension": ".py",
   "mimetype": "text/x-python",
   "name": "python",
   "nbconvert_exporter": "python",
   "pygments_lexer": "ipython3",
   "version": "3.8.8"
  }
 },
 "nbformat": 4,
 "nbformat_minor": 5
}

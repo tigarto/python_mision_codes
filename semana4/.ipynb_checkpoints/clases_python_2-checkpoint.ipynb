{
 "cells": [
  {
   "cell_type": "markdown",
   "id": "157f4d0b",
   "metadata": {},
   "source": [
    "[![Open In Colab](https://colab.research.google.com/assets/colab-badge.svg)](https://colab.research.google.com/github/tigarto/python_mision_codes/blob/main/semana4/clases_python_2.ipynb)"
   ]
  },
  {
   "cell_type": "code",
   "execution_count": 7,
   "id": "68816647",
   "metadata": {},
   "outputs": [
    {
     "name": "stderr",
     "output_type": "stream",
     "text": [
      "C:\\Users\\Usuario\\anaconda3\\lib\\site-packages\\ipykernel\\ipkernel.py:283: DeprecationWarning: `should_run_async` will not call `transform_cell` automatically in the future. Please pass the result to `transformed_cell` argument and any exception that happen during thetransform in `preprocessing_exc_tuple` in IPython 7.17 and above.\n",
      "  and should_run_async(code)\n"
     ]
    }
   ],
   "source": [
    "import warnings\n",
    "warnings.filterwarnings(\"ignore\", category=DeprecationWarning)"
   ]
  },
  {
   "cell_type": "code",
   "execution_count": 8,
   "id": "433962a7",
   "metadata": {},
   "outputs": [
    {
     "name": "stdout",
     "output_type": "stream",
     "text": [
      "Requirement already satisfied: tutormagic in c:\\users\\usuario\\anaconda3\\lib\\site-packages (0.3.1)The tutormagic extension is already loaded. To reload it, use:\n",
      "Requirement already satisfied: jupyter>=1.0 in c:\\users\\usuario\\anaconda3\\lib\\site-packages (from tutormagic) (1.0.0)\n",
      "Requirement already satisfied: qtconsole in c:\\users\\usuario\\anaconda3\\lib\\site-packages (from jupyter>=1.0->tutormagic) (5.0.3)\n",
      "Requirement already satisfied: ipywidgets in c:\\users\\usuario\\anaconda3\\lib\\site-packages (from jupyter>=1.0->tutormagic) (7.6.3)\n",
      "Requirement already satisfied: ipykernel in c:\\users\\usuario\\anaconda3\\lib\\site-packages (from jupyter>=1.0->tutormagic) (5.5.5)\n",
      "Requirement already satisfied: jupyter-console in c:\\users\\usuario\\anaconda3\\lib\\site-packages (from jupyter>=1.0->tutormagic) (6.4.0)\n",
      "Requirement already satisfied: notebook in c:\\users\\usuario\\anaconda3\\lib\\site-packages (from jupyter>=1.0->tutormagic) (6.3.0)\n",
      "Requirement already satisfied: nbconvert in c:\\users\\usuario\\anaconda3\\lib\\site-packages (from jupyter>=1.0->tutormagic) (6.0.7)\n",
      "Requirement already satisfied: jupyter-client in c:\\users\\usuario\\anaconda3\\lib\\site-packages (from ipykernel->jupyter>=1.0->tutormagic) (6.1.12)\n",
      "Requirement already satisfied: tornado>=4.2 in c:\\users\\usuario\\anaconda3\\lib\\site-packages (from ipykernel->jupyter>=1.0->tutormagic) (6.1)\n",
      "Requirement already satisfied: traitlets>=4.1.0 in c:\\users\\usuario\\anaconda3\\lib\\site-packages (from ipykernel->jupyter>=1.0->tutormagic) (5.0.5)\n",
      "Requirement already satisfied: ipython>=5.0.0 in c:\\users\\usuario\\anaconda3\\lib\\site-packages (from ipykernel->jupyter>=1.0->tutormagic) (7.22.0)\n",
      "Requirement already satisfied: pickleshare in c:\\users\\usuario\\anaconda3\\lib\\site-packages (from ipython>=5.0.0->ipykernel->jupyter>=1.0->tutormagic) (0.7.5)\n",
      "Requirement already satisfied: backcall in c:\\users\\usuario\\anaconda3\\lib\\site-packages (from ipython>=5.0.0->ipykernel->jupyter>=1.0->tutormagic) (0.2.0)\n",
      "Requirement already satisfied: decorator in c:\\users\\usuario\\anaconda3\\lib\\site-packages (from ipython>=5.0.0->ipykernel->jupyter>=1.0->tutormagic) (5.0.6)\n",
      "Requirement already satisfied: jedi>=0.16 in c:\\users\\usuario\\anaconda3\\lib\\site-packages (from ipython>=5.0.0->ipykernel->jupyter>=1.0->tutormagic) (0.17.2)\n",
      "Requirement already satisfied: colorama in c:\\users\\usuario\\anaconda3\\lib\\site-packages (from ipython>=5.0.0->ipykernel->jupyter>=1.0->tutormagic) (0.4.4)\n",
      "Requirement already satisfied: pygments in c:\\users\\usuario\\anaconda3\\lib\\site-packages (from ipython>=5.0.0->ipykernel->jupyter>=1.0->tutormagic) (2.8.1)\n",
      "Requirement already satisfied: prompt-toolkit!=3.0.0,!=3.0.1,<3.1.0,>=2.0.0 in c:\\users\\usuario\\anaconda3\\lib\\site-packages (from ipython>=5.0.0->ipykernel->jupyter>=1.0->tutormagic) (3.0.17)\n",
      "Requirement already satisfied: setuptools>=18.5 in c:\\users\\usuario\\anaconda3\\lib\\site-packages (from ipython>=5.0.0->ipykernel->jupyter>=1.0->tutormagic) (52.0.0.post20210125)\n",
      "  %reload_ext tutormagic\n",
      "\n",
      "Requirement already satisfied: parso<0.8.0,>=0.7.0 in c:\\users\\usuario\\anaconda3\\lib\\site-packages (from jedi>=0.16->ipython>=5.0.0->ipykernel->jupyter>=1.0->tutormagic) (0.7.0)\n",
      "Requirement already satisfied: wcwidth in c:\\users\\usuario\\anaconda3\\lib\\site-packages (from prompt-toolkit!=3.0.0,!=3.0.1,<3.1.0,>=2.0.0->ipython>=5.0.0->ipykernel->jupyter>=1.0->tutormagic) (0.2.5)\n",
      "Requirement already satisfied: ipython-genutils in c:\\users\\usuario\\anaconda3\\lib\\site-packages (from traitlets>=4.1.0->ipykernel->jupyter>=1.0->tutormagic) (0.2.0)\n",
      "Requirement already satisfied: widgetsnbextension~=3.5.0 in c:\\users\\usuario\\anaconda3\\lib\\site-packages (from ipywidgets->jupyter>=1.0->tutormagic) (3.5.1)\n",
      "Requirement already satisfied: nbformat>=4.2.0 in c:\\users\\usuario\\anaconda3\\lib\\site-packages (from ipywidgets->jupyter>=1.0->tutormagic) (5.1.3)\n",
      "Requirement already satisfied: jupyterlab-widgets>=1.0.0 in c:\\users\\usuario\\anaconda3\\lib\\site-packages (from ipywidgets->jupyter>=1.0->tutormagic) (1.0.0)\n",
      "Requirement already satisfied: jsonschema!=2.5.0,>=2.4 in c:\\users\\usuario\\anaconda3\\lib\\site-packages (from nbformat>=4.2.0->ipywidgets->jupyter>=1.0->tutormagic) (3.2.0)\n",
      "Requirement already satisfied: jupyter-core in c:\\users\\usuario\\anaconda3\\lib\\site-packages (from nbformat>=4.2.0->ipywidgets->jupyter>=1.0->tutormagic) (4.7.1)\n",
      "Requirement already satisfied: six>=1.11.0 in c:\\users\\usuario\\anaconda3\\lib\\site-packages (from jsonschema!=2.5.0,>=2.4->nbformat>=4.2.0->ipywidgets->jupyter>=1.0->tutormagic) (1.15.0)\n",
      "Requirement already satisfied: attrs>=17.4.0 in c:\\users\\usuario\\anaconda3\\lib\\site-packages (from jsonschema!=2.5.0,>=2.4->nbformat>=4.2.0->ipywidgets->jupyter>=1.0->tutormagic) (20.3.0)\n",
      "Requirement already satisfied: pyrsistent>=0.14.0 in c:\\users\\usuario\\anaconda3\\lib\\site-packages (from jsonschema!=2.5.0,>=2.4->nbformat>=4.2.0->ipywidgets->jupyter>=1.0->tutormagic) (0.17.3)\n",
      "Requirement already satisfied: jinja2 in c:\\users\\usuario\\anaconda3\\lib\\site-packages (from notebook->jupyter>=1.0->tutormagic) (2.11.3)\n",
      "Requirement already satisfied: pyzmq>=17 in c:\\users\\usuario\\anaconda3\\lib\\site-packages (from notebook->jupyter>=1.0->tutormagic) (20.0.0)\n",
      "Requirement already satisfied: Send2Trash>=1.5.0 in c:\\users\\usuario\\anaconda3\\lib\\site-packages (from notebook->jupyter>=1.0->tutormagic) (1.5.0)\n",
      "Requirement already satisfied: prometheus-client in c:\\users\\usuario\\anaconda3\\lib\\site-packages (from notebook->jupyter>=1.0->tutormagic) (0.10.1)\n",
      "Requirement already satisfied: terminado>=0.8.3 in c:\\users\\usuario\\anaconda3\\lib\\site-packages (from notebook->jupyter>=1.0->tutormagic) (0.9.4)\n",
      "Requirement already satisfied: argon2-cffi in c:\\users\\usuario\\anaconda3\\lib\\site-packages (from notebook->jupyter>=1.0->tutormagic) (20.1.0)\n",
      "Requirement already satisfied: python-dateutil>=2.1 in c:\\users\\usuario\\anaconda3\\lib\\site-packages (from jupyter-client->ipykernel->jupyter>=1.0->tutormagic) (2.8.1)\n",
      "Requirement already satisfied: pywin32>=1.0 in c:\\users\\usuario\\anaconda3\\lib\\site-packages (from jupyter-core->nbformat>=4.2.0->ipywidgets->jupyter>=1.0->tutormagic) (227)\n",
      "Requirement already satisfied: pywinpty>=0.5 in c:\\users\\usuario\\anaconda3\\lib\\site-packages (from terminado>=0.8.3->notebook->jupyter>=1.0->tutormagic) (0.5.7)\n",
      "Requirement already satisfied: cffi>=1.0.0 in c:\\users\\usuario\\anaconda3\\lib\\site-packages (from argon2-cffi->notebook->jupyter>=1.0->tutormagic) (1.14.5)\n",
      "Requirement already satisfied: pycparser in c:\\users\\usuario\\anaconda3\\lib\\site-packages (from cffi>=1.0.0->argon2-cffi->notebook->jupyter>=1.0->tutormagic) (2.20)\n",
      "Requirement already satisfied: MarkupSafe>=0.23 in c:\\users\\usuario\\anaconda3\\lib\\site-packages (from jinja2->notebook->jupyter>=1.0->tutormagic) (1.1.1)\n",
      "Requirement already satisfied: mistune<2,>=0.8.1 in c:\\users\\usuario\\anaconda3\\lib\\site-packages (from nbconvert->jupyter>=1.0->tutormagic) (0.8.4)\n",
      "Requirement already satisfied: nbclient<0.6.0,>=0.5.0 in c:\\users\\usuario\\anaconda3\\lib\\site-packages (from nbconvert->jupyter>=1.0->tutormagic) (0.5.3)\n",
      "Requirement already satisfied: bleach in c:\\users\\usuario\\anaconda3\\lib\\site-packages (from nbconvert->jupyter>=1.0->tutormagic) (3.3.0)\n",
      "Requirement already satisfied: entrypoints>=0.2.2 in c:\\users\\usuario\\anaconda3\\lib\\site-packages (from nbconvert->jupyter>=1.0->tutormagic) (0.3)\n",
      "Requirement already satisfied: jupyterlab-pygments in c:\\users\\usuario\\anaconda3\\lib\\site-packages (from nbconvert->jupyter>=1.0->tutormagic) (0.1.2)\n",
      "Requirement already satisfied: pandocfilters>=1.4.1 in c:\\users\\usuario\\anaconda3\\lib\\site-packages (from nbconvert->jupyter>=1.0->tutormagic) (1.4.3)\n",
      "Requirement already satisfied: testpath in c:\\users\\usuario\\anaconda3\\lib\\site-packages (from nbconvert->jupyter>=1.0->tutormagic) (0.4.4)\n",
      "Requirement already satisfied: defusedxml in c:\\users\\usuario\\anaconda3\\lib\\site-packages (from nbconvert->jupyter>=1.0->tutormagic) (0.7.1)\n",
      "Requirement already satisfied: async-generator in c:\\users\\usuario\\anaconda3\\lib\\site-packages (from nbclient<0.6.0,>=0.5.0->nbconvert->jupyter>=1.0->tutormagic) (1.10)\n",
      "Requirement already satisfied: nest-asyncio in c:\\users\\usuario\\anaconda3\\lib\\site-packages (from nbclient<0.6.0,>=0.5.0->nbconvert->jupyter>=1.0->tutormagic) (1.5.1)\n",
      "Requirement already satisfied: packaging in c:\\users\\usuario\\anaconda3\\lib\\site-packages (from bleach->nbconvert->jupyter>=1.0->tutormagic) (20.9)\n",
      "Requirement already satisfied: webencodings in c:\\users\\usuario\\anaconda3\\lib\\site-packages (from bleach->nbconvert->jupyter>=1.0->tutormagic) (0.5.1)\n",
      "Requirement already satisfied: pyparsing>=2.0.2 in c:\\users\\usuario\\anaconda3\\lib\\site-packages (from packaging->bleach->nbconvert->jupyter>=1.0->tutormagic) (2.4.7)\n",
      "Requirement already satisfied: qtpy in c:\\users\\usuario\\anaconda3\\lib\\site-packages (from qtconsole->jupyter>=1.0->tutormagic) (1.9.0)\n"
     ]
    }
   ],
   "source": [
    "!pip install tutormagic\n",
    "%load_ext tutormagic"
   ]
  },
  {
   "cell_type": "markdown",
   "id": "bae93cc4",
   "metadata": {},
   "source": [
    "# **Clases en python**"
   ]
  },
  {
   "cell_type": "markdown",
   "id": "e2c1c106",
   "metadata": {},
   "source": [
    "## **Ejemplos**"
   ]
  },
  {
   "cell_type": "markdown",
   "id": "5678fabc",
   "metadata": {},
   "source": [
    "### **Ejemplo 1**\n",
    "\n",
    "Construir una clase que modele a un gato.\n",
    "\n",
    "![clase_gato](clase_gato.jpg)\n",
    "\n",
    "Una vez haya creado la clase gato, instanciar 2 objetos tipo gato llamandolos romeo y juliet:\n",
    "\n",
    "|Nombre|Foto|\n",
    "|--|--|\n",
    "|romeo|![romeo](clase_gato.jpg)|\n",
    "|juliet|![julieta](julieta.jpg)|\n",
    "\n",
    "**Codigo de la clase**:\n"
   ]
  },
  {
   "cell_type": "code",
   "execution_count": 10,
   "id": "b25db292",
   "metadata": {},
   "outputs": [
    {
     "data": {
      "text/html": [
       "<div class=\"text-center\"><strong><a style=\"box-sizing: border-box; padding: 0 5px; border: 1px solid #CFCFCF;\" target=\"_\" href=http://pythontutor.com/iframe-embed.html#code=class%20Cat%3A%0A%20%20%20%20%0A%20%20%20%20%23%20constructor%3A%0A%20%20%20%20def%20__init__%28self%2C%20name%29%3A%0A%20%20%20%20%20%20%20%20self.name%20%3D%20name%0A%20%20%20%20%0A%20%20%20%20def%20speak%28self%29%3A%0A%20%20%20%20%20%20%20%20print%28self.name%2C%20%22%20says%20Meow%22%29%0A%20%20%20%20%0A%20%20%20%20def%20drink%28self%29%3A%0A%20%20%20%20%20%20%20%20print%28self.name%2C%20%22%20drinks%20some%20milk.%22%29%0A%20%20%20%20%20%20%20%20print%28self.name%2C%20%22%20takes%20a%20nap.%22%29%0A%0A%23%20create%20two%20instances%20of%20a%20cat%0Aromeo%20%3D%20cat2.Cat%28%22Romeo%22%29%0Ajuliet%20%3D%20cat2.Cat%28%22Juliet%22%29%0A%23%20play%20with%20Romeo%0Aromeo.speak%28%29%0Aromeo.drink%28%29%0A%23%20play%20with%20Juliet%0Ajuliet.speak%28%29%0Ajuliet.drink%28%29%0A&origin=opt-frontend.js&cumulative=false&heapPrimitives=false&textReferences=false&curInstr=0&&verticalStack=false&py=3&rawInputLstJSON=%5B%5D&codeDivWidth=50%25&codeDivHeight=100%25>Python Tutor</a></strong></div>"
      ],
      "text/plain": [
       "<IPython.core.display.HTML object>"
      ]
     },
     "metadata": {},
     "output_type": "display_data"
    }
   ],
   "source": [
    "%%tutor -l python3 -k\n",
    "class Cat:\n",
    "    \n",
    "    # constructor:\n",
    "    def __init__(self, name):\n",
    "        self.name = name\n",
    "    \n",
    "    def speak(self):\n",
    "        print(self.name, \" says Meow\")\n",
    "    \n",
    "    def drink(self):\n",
    "        print(self.name, \" drinks some milk.\")\n",
    "        print(self.name, \" takes a nap.\")\n",
    "\n",
    "# create two instances of a cat\n",
    "romeo = cat2.Cat(\"Romeo\")\n",
    "juliet = cat2.Cat(\"Juliet\")\n",
    "# play with Romeo\n",
    "romeo.speak()\n",
    "romeo.drink()\n",
    "# play with Juliet\n",
    "juliet.speak()\n",
    "juliet.drink()"
   ]
  },
  {
   "cell_type": "markdown",
   "id": "4d66f17d",
   "metadata": {},
   "source": [
    "### **Ejemplo 2**\n",
    "\n",
    "Construir una clase que modele un ascensor:\n",
    "\n",
    "![ascensor](ascensor.png)\n",
    "\n",
    "A continuación se muestra una descripción breve del ascensor:\n",
    "\n",
    "![lift_class](lift_class.jpg)\n",
    "\n",
    "La siguiente figura muestra la relacion entre la descripción y el código:\n",
    "\n",
    "![lift_uml_code](lift_uml_code.jpg)\n",
    "\n",
    "Una vez que codifique la clase, realizar un objeto donde se ejemplifique el uso de la clase."
   ]
  },
  {
   "cell_type": "code",
   "execution_count": 11,
   "id": "cf5b788e",
   "metadata": {},
   "outputs": [
    {
     "data": {
      "text/html": [
       "<div class=\"text-center\"><strong><a style=\"box-sizing: border-box; padding: 0 5px; border: 1px solid #CFCFCF;\" target=\"_\" href=http://pythontutor.com/iframe-embed.html#code=%0Aclass%20Lift%3A%0A%20%20%20%20%0A%20%20%20%20%23%20constructor%3A%0A%20%20%20%20def%20__init__%28self%2C%20current_floor%3D0%29%3A%0A%20%20%20%20%20%20%20%20self.current_floor%20%3D%20current_floor%0A%20%20%20%20%20%20%20%20%0A%20%20%20%20def%20get_floor%28self%29%3A%0A%20%20%20%20%20%20%20%20return%20self.current_floor%0A%20%20%20%20%0A%20%20%20%20def%20move_to_floor%28self%2C%20floor_number%29%3A%0A%20%20%20%20%20%20%20%20self.current_floor%20%3D%20floor_number%0A%0A%0A%23%20lift_operator.py%0Aimport%20lift%0A%23%20create%20a%20lift%20object%0Amy_lift%20%3D%20lift.Lift%28%29%0A%23%20Find%20out%20what%20floor%20the%20lift%20is%20on%0Afloor%20%3D%20my_lift.get_floor%28%29%0Aprint%28%22The%20lift%20is%20on%20floor%22%2C%20floor%29%0A%23%20move%20the%20lift%20to%20a%20new%20floor%0Amy_lift.move_to_floor%285%29%0A%23%20Find%20out%20what%20floor%20the%20lift%20is%20on%20now%0Afloor%20%3D%20my_lift.get_floor%28%29%0Aprint%28%22The%20lift%20has%20now%20moved%20to%20floor%22%2C%20floor%29%0A&origin=opt-frontend.js&cumulative=false&heapPrimitives=false&textReferences=false&curInstr=0&&verticalStack=false&py=3&rawInputLstJSON=%5B%5D&codeDivWidth=50%25&codeDivHeight=100%25>Python Tutor</a></strong></div>"
      ],
      "text/plain": [
       "<IPython.core.display.HTML object>"
      ]
     },
     "metadata": {},
     "output_type": "display_data"
    }
   ],
   "source": [
    "%%tutor -l python3 -k\n",
    "\n",
    "class Lift:\n",
    "    \n",
    "    # constructor:\n",
    "    def __init__(self, current_floor=0):\n",
    "        self.current_floor = current_floor\n",
    "        \n",
    "    def get_floor(self):\n",
    "        return self.current_floor\n",
    "    \n",
    "    def move_to_floor(self, floor_number):\n",
    "        self.current_floor = floor_number\n",
    "\n",
    "\n",
    "# lift_operator.py\n",
    "import lift\n",
    "# create a lift object\n",
    "my_lift = lift.Lift()\n",
    "# Find out what floor the lift is on\n",
    "floor = my_lift.get_floor()\n",
    "print(\"The lift is on floor\", floor)\n",
    "# move the lift to a new floor\n",
    "my_lift.move_to_floor(5)\n",
    "# Find out what floor the lift is on now\n",
    "floor = my_lift.get_floor()\n",
    "print(\"The lift has now moved to floor\", floor)"
   ]
  },
  {
   "cell_type": "markdown",
   "id": "e3769fac",
   "metadata": {},
   "source": [
    "### **Ejemplo 3** \n",
    "(**Clase Fan**) Diseñe una clase llamada Fan para representar un ventilador. La clase contiene:\n",
    "* Tres constantes denotadas como SLOW, MEDIUM y FAST con los valores de 1, 2 y 3 para denotar la velocidad.\n",
    "* Un campo privado int llamado speed que especifica la velocidad del ventilador.\n",
    "* Un campo privado bool llamado on que especifica si el fan esta encendido (El valor por defecto es False).\n",
    "* Un campo privado float llamado radius que especifica el radio del ventilador.\n",
    "* Un campo de datos privado tipo string llamado color que especifica el color del ventilador.\n",
    "* Métodos accessor (métodos get) y mutator (metodos set).\n",
    "\n",
    "Un constructor que crea un ventilador con una velocidad especificada (SLOW por defecto), el radio (5 por defecto), el color (blue por defecto) y on (False por defecto).\n",
    "\n",
    "Dibuje el diagrama UML para la clase e impleméntela. Luego escriba un programa de test que cree dos objetos Fan. Para el primer objeto asigne la máxima velocidad, el radio de 10, el color yellow y póngalo en estado on. Al segundo objeto asigne velocidad media, radio 5, color blue e inicialícelo apagado. Luego Despliegue las propiedades velocidad, radio, color y estado de encendido para cada objeto.\n",
    "\n",
    "**Solución**:\n",
    "\n",
    "Dibujando el diagrama UML se tiene:\n",
    "\n",
    "|Objeto de la vida real|Diagrama UML|\n",
    "|--|--|\n",
    "|![ventilador](ventilador.jpg)|![uml_ventilador](uml_ventilador.jpg)|  \n",
    "\n",
    "**Codigo python**: ventiladores.py\n",
    "\n",
    "```python\n",
    "class Fan:\n",
    "    # Constructor\n",
    "    def __init__(self, speed=1,radius=5,color=\"blue\",on=False):\n",
    "        # Atributos\n",
    "        self.__speed = speed\n",
    "        self.__radius = radius\n",
    "        self.__on = on\n",
    "        self.__color = color\n",
    "    \n",
    "    # Metodos    \n",
    "    # Accessors\n",
    "    def getSpeed(self):\n",
    "        return self.__speed        \n",
    "        \n",
    "    def isOn(self):\n",
    "        return self.__on\n",
    "    \n",
    "    def getRadius(self):\n",
    "        return self.__radius\n",
    "    \n",
    "    def getColor(self):\n",
    "        return self.__color\n",
    "    \n",
    "    # Mutators\n",
    "    def setSpeed(self,s):\n",
    "        self.__speed = s\n",
    "               \n",
    "    def setRadius(self, r):\n",
    "        self.__radius = r\n",
    "    \n",
    "    def setColor(self, c):\n",
    "        self.__color = c\n",
    "    \n",
    "    def turnOn(self):\n",
    "        self.__on = True\n",
    "    \n",
    "    def turnOff(self):\n",
    "        self.__on = False\n",
    "\n",
    "```\n",
    "\n",
    "Ahora vamos a proceder a la creación de cada uno de los objetos:\n",
    "\n",
    "**Codigo python**: main.py\n",
    "\n",
    "```python\n",
    "from ventiladores import Ventilador\n",
    "\n",
    "# Ventilador v1: Máxima velocidad, el radio de 10, el color yellow y estado on\n",
    "v1 = Fan(speed=3,\n",
    "         radius=10,\n",
    "         color=\"yellow\",\n",
    "         on=True)\n",
    "\n",
    "# Ventilador v2: Velocidad media, radio 5, color blue e inicialícelo apagado.\n",
    "v2 = Fan(speed=2)\n",
    "```\n",
    "\n",
    "La simulación se muestra a continuación:"
   ]
  },
  {
   "cell_type": "code",
   "execution_count": 29,
   "id": "7b5e83f0",
   "metadata": {},
   "outputs": [
    {
     "data": {
      "text/html": [
       "<div class=\"text-center\"><strong><a style=\"box-sizing: border-box; padding: 0 5px; border: 1px solid #CFCFCF;\" target=\"_\" href=http://pythontutor.com/iframe-embed.html#code=class%20Fan%3A%0A%20%20%20%20%23%20Constructor%0A%20%20%20%20def%20__init__%28self%2C%20speed%3D1%2Cradius%3D5%2Ccolor%3D%22blue%22%2Con%3DFalse%29%3A%0A%20%20%20%20%20%20%20%20%23%20Atributos%0A%20%20%20%20%20%20%20%20self.__speed%20%3D%20speed%0A%20%20%20%20%20%20%20%20self.__radius%20%3D%20radius%0A%20%20%20%20%20%20%20%20self.__on%20%3D%20on%0A%20%20%20%20%20%20%20%20self.__color%20%3D%20color%0A%20%20%20%20%0A%20%20%20%20%23%20Metodos%20%20%20%20%0A%20%20%20%20%23%20Accessors%0A%20%20%20%20def%20getSpeed%28self%29%3A%0A%20%20%20%20%20%20%20%20return%20self.__speed%20%20%20%20%20%20%20%20%0A%20%20%20%20%20%20%20%20%0A%20%20%20%20def%20isOn%28self%29%3A%0A%20%20%20%20%20%20%20%20return%20self.__on%0A%20%20%20%20%0A%20%20%20%20def%20getRadius%28self%29%3A%0A%20%20%20%20%20%20%20%20return%20self.__radius%0A%20%20%20%20%0A%20%20%20%20def%20getColor%28self%29%3A%0A%20%20%20%20%20%20%20%20return%20self.__color%0A%20%20%20%20%0A%20%20%20%20%23%20Mutators%0A%20%20%20%20def%20setSpeed%28self%2Cs%29%3A%0A%20%20%20%20%20%20%20%20self.__speed%20%3D%20s%0A%20%20%20%20%20%20%20%20%20%20%20%20%20%20%20%0A%20%20%20%20def%20setRadius%28self%2C%20r%29%3A%0A%20%20%20%20%20%20%20%20self.__radius%20%3D%20r%0A%20%20%20%20%0A%20%20%20%20def%20setColor%28self%2C%20c%29%3A%0A%20%20%20%20%20%20%20%20self.__color%20%3D%20c%0A%20%20%20%20%0A%20%20%20%20def%20turnOn%28self%29%3A%0A%20%20%20%20%20%20%20%20self.__on%20%3D%20True%0A%20%20%20%20%0A%20%20%20%20def%20turnOff%28self%29%3A%0A%20%20%20%20%20%20%20%20self.__on%20%3D%20False%0A%20%20%20%20%20%20%20%20%0A%23%20Ventilador%20v1%3A%20M%C3%A1xima%20velocidad%2C%20el%20radio%20de%2010%2C%20el%20color%20yellow%20y%20estado%20on%0Av1%20%3D%20Fan%28speed%3D3%2C%0A%20%20%20%20%20%20%20%20%20radius%3D10%2C%0A%20%20%20%20%20%20%20%20%20color%3D%22yellow%22%2C%0A%20%20%20%20%20%20%20%20%20on%3DTrue%29%0A%0A%23%20Ventilador%20v2%3A%20Velocidad%20media%2C%20radio%205%2C%20color%20blue%20e%20inicial%C3%ADcelo%20apagado.%0Av2%20%3D%20Fan%28speed%3D2%29%0A&origin=opt-frontend.js&cumulative=false&heapPrimitives=false&textReferences=false&curInstr=0&&verticalStack=false&py=3&rawInputLstJSON=%5B%5D&codeDivWidth=50%25&codeDivHeight=100%25>Python Tutor</a></strong></div>"
      ],
      "text/plain": [
       "<IPython.core.display.HTML object>"
      ]
     },
     "metadata": {},
     "output_type": "display_data"
    }
   ],
   "source": [
    "%%tutor -l python3 -k\n",
    "class Fan:\n",
    "    # Constructor\n",
    "    def __init__(self, speed=1,radius=5,color=\"blue\",on=False):\n",
    "        # Atributos\n",
    "        self.__speed = speed\n",
    "        self.__radius = radius\n",
    "        self.__on = on\n",
    "        self.__color = color\n",
    "    \n",
    "    # Metodos    \n",
    "    # Accessors\n",
    "    def getSpeed(self):\n",
    "        return self.__speed        \n",
    "        \n",
    "    def isOn(self):\n",
    "        return self.__on\n",
    "    \n",
    "    def getRadius(self):\n",
    "        return self.__radius\n",
    "    \n",
    "    def getColor(self):\n",
    "        return self.__color\n",
    "    \n",
    "    # Mutators\n",
    "    def setSpeed(self,s):\n",
    "        self.__speed = s\n",
    "               \n",
    "    def setRadius(self, r):\n",
    "        self.__radius = r\n",
    "    \n",
    "    def setColor(self, c):\n",
    "        self.__color = c\n",
    "    \n",
    "    def turnOn(self):\n",
    "        self.__on = True\n",
    "    \n",
    "    def turnOff(self):\n",
    "        self.__on = False\n",
    "        \n",
    "# Ventilador v1: Máxima velocidad, el radio de 10, el color yellow y estado on\n",
    "v1 = Fan(speed=3,\n",
    "         radius=10,\n",
    "         color=\"yellow\",\n",
    "         on=True)\n",
    "\n",
    "# Ventilador v2: Velocidad media, radio 5, color blue e inicialícelo apagado.\n",
    "v2 = Fan(speed=2)\n"
   ]
  },
  {
   "cell_type": "markdown",
   "id": "efb2a50b",
   "metadata": {},
   "source": [
    "### **Ejemplo 4**\n",
    "(**Clase AltaPrecision**) A continuación se muestra la clase vector planteada en clase.\n"
   ]
  },
  {
   "cell_type": "code",
   "execution_count": 14,
   "id": "d6dfcb4d",
   "metadata": {},
   "outputs": [
    {
     "data": {
      "text/html": [
       "<div class=\"text-center\"><strong><a style=\"box-sizing: border-box; padding: 0 5px; border: 1px solid #CFCFCF;\" target=\"_\" href=http://pythontutor.com/iframe-embed.html#code=%0Aclass%20Vector%3A%0A%20%20%20%20def%20__init__%28self%2C%20n%29%3A%0A%20%20%20%20%20%20%20%20self.n%20%3D%20n%0A%20%20%20%20%20%20%20%20self.V%20%3D%20%5B0%5D%20%2A%20%28n%20%2B%201%29%0A%0A%20%20%20%20def%20imprimirVector%28self%2C%20mensaje%3D%22vector%20sin%20nombre%3A%20%5Ct%22%29%3A%0A%20%20%20%20%20%20%20%20print%28%22%5Cn%22%2C%20mensaje%2C%20end%3D%22%20%22%29%0A%20%20%20%20%20%20%20%20for%20i%20in%20range%281%2C%20self.V%5B0%5D%20%2B%201%29%3A%0A%20%20%20%20%20%20%20%20%20%20%20%20print%28self.V%5Bi%5D%2C%20end%3D%22%2C%20%22%29%0A%20%20%20%20%20%20%20%20print%28%29%0A%0A%20%20%20%20%20%20%20%20%0Aclass%20AltaPrecision%28Vector%29%3A%0A%20%20%0A%20%20%20%20def%20__init__%28self%2C%20n%2C%20num%20%3D%200%29%3A%0A%20%20%20%20%20%20%20%20Vector.__init__%28self%2C%20n%29%0A%20%20%20%20%20%20%20%20self.V%5B0%5D%20%3D%20n%0A%20%20%20%20%20%20%20%20%0A%20%20%20%20%20%20%20%20while%20num%20%3E%200%3A%0A%20%20%20%20%20%20%20%20%20%20%20%20dig%20%3D%20num%2510%0A%20%20%20%20%20%20%20%20%20%20%20%20self.V%5Bself.V%5B0%5D%5D%20%3D%20dig%0A%20%20%20%20%20%20%20%20%20%20%20%20self.V%5B0%5D%20-%3D%201%0A%20%20%20%20%20%20%20%20%20%20%20%20num%20//%3D%2010%0A%20%20%20%20%20%20%20%20%23%20print%28self.V%29%0A%20%20%20%20%20%20%20%20%0A%20%20%20%20def%20moverALaDerecha%28self%29%3A%0A%20%20%20%20%20%20%20%20m%20%3D%20self.n%0A%20%20%20%20%20%20%20%20for%20i%20in%20range%28self.V%5B0%5D%2C%200%2C%20-1%29%3A%0A%20%20%20%20%20%20%20%20%20%20%20%20self.V%5Bm%5D%20%3D%20self.V%5Bi%5D%0A%20%20%20%20%20%20%20%20%20%20%20%20m%20%3D%20m%20-%201%0A%20%20%20%20%20%20%20%20self.V%5B0%5D%20%3D%20self.n%20-%20self.V%5B0%5D%0A%20%20%20%20%20%20%20%20%23print%28self.V%29%0A%20%20%20%20%20%20%20%20%23print%28self.V%5B0%5D%29%0A%20%20%20%20%0A%20%20%20%20def%20imprimirVector%28self%2C%20mensaje%3D%22vector%20sin%20nombre%3A%20%22%29%3A%0A%20%20%20%20%20%20%20%20print%28%22%5Cn%22%2C%20mensaje%29%0A%20%20%20%20%20%20%20%20for%20i%20in%20range%28self.V%5B0%5D%20%2B%201%2C%20self.n%20%2B%201%29%3A%0A%20%20%20%20%20%20%20%20%20%20%20%20print%28self.V%5Bi%5D%2C%20end%20%3D%20%22%2C%20%22%29%0A%20%20%20%20%20%20%20%20%20%20%20%20%0Aa%20%3D%20AltaPrecision%2811%2C3162849%29%0Aprint%28a.V%29%0Aa.imprimirVector%28%22a%22%29%20%20%20%20%0Ab%20%3D%20AltaPrecision%288%2C9000081%29%0Aprint%28%29%0Aprint%28b.V%29%0Ab.imprimirVector%28%22b%22%29%0A&origin=opt-frontend.js&cumulative=false&heapPrimitives=false&textReferences=false&curInstr=0&&verticalStack=false&py=3&rawInputLstJSON=%5B%5D&codeDivWidth=50%25&codeDivHeight=100%25>Python Tutor</a></strong></div>"
      ],
      "text/plain": [
       "<IPython.core.display.HTML object>"
      ]
     },
     "metadata": {},
     "output_type": "display_data"
    }
   ],
   "source": [
    "%%tutor -l python3 -k\n",
    "\n",
    "class Vector:\n",
    "    def __init__(self, n):\n",
    "        self.n = n\n",
    "        self.V = [0] * (n + 1)\n",
    "\n",
    "    def imprimirVector(self, mensaje=\"vector sin nombre: \\t\"):\n",
    "        print(\"\\n\", mensaje, end=\" \")\n",
    "        for i in range(1, self.V[0] + 1):\n",
    "            print(self.V[i], end=\", \")\n",
    "        print()\n",
    "\n",
    "        \n",
    "class AltaPrecision(Vector):\n",
    "  \n",
    "    def __init__(self, n, num = 0):\n",
    "        Vector.__init__(self, n)\n",
    "        self.V[0] = n\n",
    "        \n",
    "        while num > 0:\n",
    "            dig = num%10\n",
    "            self.V[self.V[0]] = dig\n",
    "            self.V[0] -= 1\n",
    "            num //= 10\n",
    "        # print(self.V)\n",
    "        \n",
    "    def moverALaDerecha(self):\n",
    "        m = self.n\n",
    "        for i in range(self.V[0], 0, -1):\n",
    "            self.V[m] = self.V[i]\n",
    "            m = m - 1\n",
    "        self.V[0] = self.n - self.V[0]\n",
    "        #print(self.V)\n",
    "        #print(self.V[0])\n",
    "    \n",
    "    def imprimirVector(self, mensaje=\"vector sin nombre: \"):\n",
    "        print(\"\\n\", mensaje)\n",
    "        for i in range(self.V[0] + 1, self.n + 1):\n",
    "            print(self.V[i], end = \", \")\n",
    "            \n",
    "a = AltaPrecision(11,3162849)\n",
    "print(a.V)\n",
    "a.imprimirVector(\"a\")    \n",
    "b = AltaPrecision(8,9000081)\n",
    "print()\n",
    "print(b.V)\n",
    "b.imprimirVector(\"b\")"
   ]
  },
  {
   "cell_type": "markdown",
   "id": "7594cc6e",
   "metadata": {},
   "source": [
    "## **Ejercicios de repaso**"
   ]
  },
  {
   "cell_type": "markdown",
   "id": "02957f99",
   "metadata": {},
   "source": [
    "### **Ejercicio 1**\n",
    "Desarrolle una clase llamada Temperature que almacene el valor de una temperatura. La clase debe tener el siguiente constructor:\n",
    "\n",
    "```python\n",
    "def __init__(self, temperature = 75)\n",
    "```\n",
    "La clase debe contener así mismo los métodos descritos a continuación:\n",
    "* **str**: Debería retornar un string de la forma \"75 degrees Farenheit\"\n",
    "* **aboveFreezing()**: Retorna True si la temperatura está arriba del punto de congelación (0°C, 32°F o 273.15°K).\n",
    "* **convertToFahren()**: Retorna un nuevo objeto tipo temperatura convertido a grados Fahrenheit.\n",
    "* **convertToCelcius()**: Retorna un nuevo objeto tipo temperatura convertido a grados Celcius.\n",
    "* **convertToKelvin()**: Retorna un nuevo objeto tipo temperatura convertido a grados Kelvin.\n",
    "\n",
    "Como estos métodos no se implementan (pues Temperature será la clase base) coloque la función pass en el cuerpo del método, así:\n",
    "\n",
    "```\n",
    "class XXX:\n",
    "    def metodo(self):\n",
    "        # Método no implementado\n",
    "        pass\n",
    "```\n",
    "\n",
    "Desarrolle las subclases Fahrenheit, Celcius y Kelvin para implementar apropiadamente cada uno de los métodos de la clase Temperature. (Note que cuando un método de conversión que es aplicado no tiene sentido, por ejemplo, temp1.convToFarenheit() donde temp1 es un objeto tipo Fahrenheit, entonces una copia del objeto temperatura deberá ser retornada).\n",
    "\n",
    "La siguiente tabla le puede ser de utilidad para implementar las fórmulas de conversión para cada caso:\n",
    "\n",
    "||Grados Kelvin (K)\t|Grados Celcius (C)|\tGrados Fahrenheit (F)|\n",
    "|--|--|--|--|\n",
    "|Grados Kelvin (K)\t|$K = K$\t| $K = C + 273.15$|\t$K = \\frac{5}{9}\\left(F + 459.67 \\right)$|\n",
    "|Grados Celcius (K)|\t$C = k - 273.15$\t|$C = C$\t|$K = \\frac{5}{9}\\left(F + 32 \\right)$|\n",
    "|Grados Fahrenheit (K)|\t$F = \\frac{9}{5}F - 459.67$|\t$F = \\frac{9}{5}C -32 $\t|$F = F$|\n",
    "\n",
    "\n",
    "Demuestre el funcionamiento de las clases realizando las siguientes tareas:\n",
    "\n",
    "* Crear una lista de dos objetos tipo Temperature.\n",
    "* Imprima la salida de cada temperatura en la lista y agregue \"above freezing\" si la temperatura está arriba del punto de congelación (para la respectiva escala de temperatura).\n",
    "* Crear una nueva lista de temperaturas conteniendo la temperatura de la lista original a una escala de temperatura común (Farenheit, Celcius o Kelvin).\n",
    "* Para cada temperatura en la nueva lista, imprima el valor de la temperatura y si este se encuentra arriba del punto de congelación."
   ]
  },
  {
   "cell_type": "markdown",
   "id": "3494fbb9",
   "metadata": {},
   "source": [
    "### **Ejercicio 2**\n",
    "\n",
    "1. (**Clases Employee y ProductionWorker**) Escriba una clase llamada **Employee** que contenga los siguientes atributos:\n",
    "* **Employee name**: Nombre del empleado.\n",
    "* **Employee number**: Identificacion del empleado.\n",
    "\n",
    "A continuación escriba una clase llamada **ProductionWorker** la cual, será una subclase de la clase **Employee**. La clase **ProductionWorker** deberá tener los siguientes atributos:\n",
    "* **Shift number**: Numero de turno (valor entero, tal como 1, 2, o 3)\n",
    "* **Hourly pay rate**: Pago por hora\n",
    "\n",
    "El dia de trabajo esta dividido en dos turnos: dia y noche, de modo que el atibuto **shift** deberá almacenar un entero que represente el turno en el que trabaja el empleado. El turno de dia (**day shift**) es el 1 y el turno de noche (**night shift**) es el número 2. Escriba los metodos setter y getter apropiados para cada clase. Una vez haya escrito las clases, escriba un programa que cree un objeto tipo **ProductionWorker** y pida al usuario entrar cada uno los datos asociados a los atributos del objeto. Almacene los datos en el objeto y entonces use los metodos accesores para desplegar la información almacenada en pantalla.\n",
    "\n"
   ]
  },
  {
   "cell_type": "markdown",
   "id": "f455dc40",
   "metadata": {},
   "source": [
    "## **Referencias**\n",
    "\n",
    "* http://codingclub.co.uk/\n",
    "* https://github.com/mx0c/super-mario-python\n",
    "* https://sourceforge.net/projects/supermariobrosp/\n",
    "* https://github.com/njbittner/battle-bros-pyarcade/blob/master/Player.py\n",
    "* https://github.com/AHowardC/mkgame\n",
    "* https://www.pygame.org/project-Street+pyghter-1860-.html\n"
   ]
  },
  {
   "cell_type": "code",
   "execution_count": null,
   "id": "0547430c",
   "metadata": {},
   "outputs": [],
   "source": []
  }
 ],
 "metadata": {
  "kernelspec": {
   "display_name": "Python 3",
   "language": "python",
   "name": "python3"
  },
  "language_info": {
   "codemirror_mode": {
    "name": "ipython",
    "version": 3
   },
   "file_extension": ".py",
   "mimetype": "text/x-python",
   "name": "python",
   "nbconvert_exporter": "python",
   "pygments_lexer": "ipython3",
   "version": "3.8.8"
  }
 },
 "nbformat": 4,
 "nbformat_minor": 5
}

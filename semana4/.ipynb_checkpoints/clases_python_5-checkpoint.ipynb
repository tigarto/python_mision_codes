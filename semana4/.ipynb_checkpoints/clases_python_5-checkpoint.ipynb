{
 "cells": [
  {
   "cell_type": "markdown",
   "id": "157f4d0b",
   "metadata": {},
   "source": [
    "[![Open In Colab](https://colab.research.google.com/assets/colab-badge.svg)](https://colab.research.google.com/github/tigarto/python_mision_codes/blob/main/semana4/clases_python_5.ipynb)"
   ]
  },
  {
   "cell_type": "code",
   "execution_count": 6,
   "id": "433962a7",
   "metadata": {},
   "outputs": [
    {
     "name": "stdout",
     "output_type": "stream",
     "text": [
      "Requirement already satisfied: tutormagic in c:\\users\\usuario\\anaconda3\\lib\\site-packages (0.3.1)\n",
      "Requirement already satisfied: jupyter>=1.0 in c:\\users\\usuario\\anaconda3\\lib\\site-packages (from tutormagic) (1.0.0)\n",
      "Requirement already satisfied: notebook in c:\\users\\usuario\\anaconda3\\lib\\site-packages (from jupyter>=1.0->tutormagic) (6.3.0)\n",
      "Requirement already satisfied: ipykernel in c:\\users\\usuario\\anaconda3\\lib\\site-packages (from jupyter>=1.0->tutormagic) (5.5.5)\n",
      "Requirement already satisfied: jupyter-console in c:\\users\\usuario\\anaconda3\\lib\\site-packages (from jupyter>=1.0->tutormagic) (6.4.0)\n",
      "Requirement already satisfied: nbconvert in c:\\users\\usuario\\anaconda3\\lib\\site-packages (from jupyter>=1.0->tutormagic) (6.0.7)\n",
      "Requirement already satisfied: qtconsole in c:\\users\\usuario\\anaconda3\\lib\\site-packages (from jupyter>=1.0->tutormagic) (5.0.3)\n",
      "Requirement already satisfied: ipywidgets in c:\\users\\usuario\\anaconda3\\lib\\site-packages (from jupyter>=1.0->tutormagic) (7.6.3)\n",
      "Requirement already satisfied: jupyter-client in c:\\users\\usuario\\anaconda3\\lib\\site-packages (from ipykernel->jupyter>=1.0->tutormagic) (6.1.12)\n",
      "Requirement already satisfied: tornado>=4.2 in c:\\users\\usuario\\anaconda3\\lib\\site-packages (from ipykernel->jupyter>=1.0->tutormagic) (6.1)\n",
      "Requirement already satisfied: ipython>=5.0.0 in c:\\users\\usuario\\anaconda3\\lib\\site-packages (from ipykernel->jupyter>=1.0->tutormagic) (7.22.0)\n",
      "Requirement already satisfied: traitlets>=4.1.0 in c:\\users\\usuario\\anaconda3\\lib\\site-packages (from ipykernel->jupyter>=1.0->tutormagic) (5.0.5)\n",
      "Requirement already satisfied: colorama in c:\\users\\usuario\\anaconda3\\lib\\site-packages (from ipython>=5.0.0->ipykernel->jupyter>=1.0->tutormagic) (0.4.4)\n",
      "Requirement already satisfied: prompt-toolkit!=3.0.0,!=3.0.1,<3.1.0,>=2.0.0 in c:\\users\\usuario\\anaconda3\\lib\\site-packages (from ipython>=5.0.0->ipykernel->jupyter>=1.0->tutormagic) (3.0.17)\n",
      "Requirement already satisfied: pickleshare in c:\\users\\usuario\\anaconda3\\lib\\site-packages (from ipython>=5.0.0->ipykernel->jupyter>=1.0->tutormagic) (0.7.5)\n",
      "Requirement already satisfied: pygments in c:\\users\\usuario\\anaconda3\\lib\\site-packages (from ipython>=5.0.0->ipykernel->jupyter>=1.0->tutormagic) (2.8.1)\n",
      "Requirement already satisfied: backcall in c:\\users\\usuario\\anaconda3\\lib\\site-packages (from ipython>=5.0.0->ipykernel->jupyter>=1.0->tutormagic) (0.2.0)\n",
      "Requirement already satisfied: decorator in c:\\users\\usuario\\anaconda3\\lib\\site-packages (from ipython>=5.0.0->ipykernel->jupyter>=1.0->tutormagic) (5.0.6)\n",
      "Requirement already satisfied: jedi>=0.16 in c:\\users\\usuario\\anaconda3\\lib\\site-packages (from ipython>=5.0.0->ipykernel->jupyter>=1.0->tutormagic) (0.17.2)\n",
      "Requirement already satisfied: setuptools>=18.5 in c:\\users\\usuario\\anaconda3\\lib\\site-packages (from ipython>=5.0.0->ipykernel->jupyter>=1.0->tutormagic) (52.0.0.post20210125)\n",
      "Requirement already satisfied: parso<0.8.0,>=0.7.0 in c:\\users\\usuario\\anaconda3\\lib\\site-packages (from jedi>=0.16->ipython>=5.0.0->ipykernel->jupyter>=1.0->tutormagic) (0.7.0)\n",
      "Requirement already satisfied: wcwidth in c:\\users\\usuario\\anaconda3\\lib\\site-packages (from prompt-toolkit!=3.0.0,!=3.0.1,<3.1.0,>=2.0.0->ipython>=5.0.0->ipykernel->jupyter>=1.0->tutormagic) (0.2.5)\n",
      "Requirement already satisfied: ipython-genutils in c:\\users\\usuario\\anaconda3\\lib\\site-packages (from traitlets>=4.1.0->ipykernel->jupyter>=1.0->tutormagic) (0.2.0)\n",
      "Requirement already satisfied: nbformat>=4.2.0 in c:\\users\\usuario\\anaconda3\\lib\\site-packages (from ipywidgets->jupyter>=1.0->tutormagic) (5.1.3)\n",
      "Requirement already satisfied: widgetsnbextension~=3.5.0 in c:\\users\\usuario\\anaconda3\\lib\\site-packages (from ipywidgets->jupyter>=1.0->tutormagic) (3.5.1)\n",
      "Requirement already satisfied: jupyterlab-widgets>=1.0.0 in c:\\users\\usuario\\anaconda3\\lib\\site-packages (from ipywidgets->jupyter>=1.0->tutormagic) (1.0.0)\n",
      "Requirement already satisfied: jupyter-core in c:\\users\\usuario\\anaconda3\\lib\\site-packages (from nbformat>=4.2.0->ipywidgets->jupyter>=1.0->tutormagic) (4.7.1)\n",
      "Requirement already satisfied: jsonschema!=2.5.0,>=2.4 in c:\\users\\usuario\\anaconda3\\lib\\site-packages (from nbformat>=4.2.0->ipywidgets->jupyter>=1.0->tutormagic) (3.2.0)\n",
      "Requirement already satisfied: six>=1.11.0 in c:\\users\\usuario\\anaconda3\\lib\\site-packages (from jsonschema!=2.5.0,>=2.4->nbformat>=4.2.0->ipywidgets->jupyter>=1.0->tutormagic) (1.15.0)\n",
      "Requirement already satisfied: pyrsistent>=0.14.0 in c:\\users\\usuario\\anaconda3\\lib\\site-packages (from jsonschema!=2.5.0,>=2.4->nbformat>=4.2.0->ipywidgets->jupyter>=1.0->tutormagic) (0.17.3)\n",
      "Requirement already satisfied: attrs>=17.4.0 in c:\\users\\usuario\\anaconda3\\lib\\site-packages (from jsonschema!=2.5.0,>=2.4->nbformat>=4.2.0->ipywidgets->jupyter>=1.0->tutormagic) (20.3.0)\n",
      "Requirement already satisfied: argon2-cffi in c:\\users\\usuario\\anaconda3\\lib\\site-packages (from notebook->jupyter>=1.0->tutormagic) (20.1.0)\n",
      "Requirement already satisfied: prometheus-client in c:\\users\\usuario\\anaconda3\\lib\\site-packages (from notebook->jupyter>=1.0->tutormagic) (0.10.1)\n",
      "Requirement already satisfied: Send2Trash>=1.5.0 in c:\\users\\usuario\\anaconda3\\lib\\site-packages (from notebook->jupyter>=1.0->tutormagic) (1.5.0)\n",
      "Requirement already satisfied: terminado>=0.8.3 in c:\\users\\usuario\\anaconda3\\lib\\site-packages (from notebook->jupyter>=1.0->tutormagic) (0.9.4)\n",
      "Requirement already satisfied: jinja2 in c:\\users\\usuario\\anaconda3\\lib\\site-packages (from notebook->jupyter>=1.0->tutormagic) (2.11.3)\n",
      "Requirement already satisfied: pyzmq>=17 in c:\\users\\usuario\\anaconda3\\lib\\site-packages (from notebook->jupyter>=1.0->tutormagic) (20.0.0)\n",
      "Requirement already satisfied: python-dateutil>=2.1 in c:\\users\\usuario\\anaconda3\\lib\\site-packages (from jupyter-client->ipykernel->jupyter>=1.0->tutormagic) (2.8.1)\n",
      "Requirement already satisfied: pywin32>=1.0 in c:\\users\\usuario\\anaconda3\\lib\\site-packages (from jupyter-core->nbformat>=4.2.0->ipywidgets->jupyter>=1.0->tutormagic) (227)\n",
      "Requirement already satisfied: pywinpty>=0.5 in c:\\users\\usuario\\anaconda3\\lib\\site-packages (from terminado>=0.8.3->notebook->jupyter>=1.0->tutormagic) (0.5.7)\n",
      "Requirement already satisfied: cffi>=1.0.0 in c:\\users\\usuario\\anaconda3\\lib\\site-packages (from argon2-cffi->notebook->jupyter>=1.0->tutormagic) (1.14.5)\n",
      "Requirement already satisfied: pycparser in c:\\users\\usuario\\anaconda3\\lib\\site-packages (from cffi>=1.0.0->argon2-cffi->notebook->jupyter>=1.0->tutormagic) (2.20)\n",
      "Requirement already satisfied: MarkupSafe>=0.23 in c:\\users\\usuario\\anaconda3\\lib\\site-packages (from jinja2->notebook->jupyter>=1.0->tutormagic) (1.1.1)\n",
      "Requirement already satisfied: testpath in c:\\users\\usuario\\anaconda3\\lib\\site-packages (from nbconvert->jupyter>=1.0->tutormagic) (0.4.4)\n",
      "Requirement already satisfied: pandocfilters>=1.4.1 in c:\\users\\usuario\\anaconda3\\lib\\site-packages (from nbconvert->jupyter>=1.0->tutormagic) (1.4.3)\n",
      "Requirement already satisfied: entrypoints>=0.2.2 in c:\\users\\usuario\\anaconda3\\lib\\site-packages (from nbconvert->jupyter>=1.0->tutormagic) (0.3)\n",
      "Requirement already satisfied: nbclient<0.6.0,>=0.5.0 in c:\\users\\usuario\\anaconda3\\lib\\site-packages (from nbconvert->jupyter>=1.0->tutormagic) (0.5.3)\n",
      "Requirement already satisfied: mistune<2,>=0.8.1 in c:\\users\\usuario\\anaconda3\\lib\\site-packages (from nbconvert->jupyter>=1.0->tutormagic) (0.8.4)\n",
      "Requirement already satisfied: bleach in c:\\users\\usuario\\anaconda3\\lib\\site-packages (from nbconvert->jupyter>=1.0->tutormagic) (3.3.0)\n",
      "Requirement already satisfied: defusedxml in c:\\users\\usuario\\anaconda3\\lib\\site-packages (from nbconvert->jupyter>=1.0->tutormagic) (0.7.1)\n",
      "Requirement already satisfied: jupyterlab-pygments in c:\\users\\usuario\\anaconda3\\lib\\site-packages (from nbconvert->jupyter>=1.0->tutormagic) (0.1.2)\n",
      "Requirement already satisfied: nest-asyncio in c:\\users\\usuario\\anaconda3\\lib\\site-packages (from nbclient<0.6.0,>=0.5.0->nbconvert->jupyter>=1.0->tutormagic) (1.5.1)\n",
      "Requirement already satisfied: async-generator in c:\\users\\usuario\\anaconda3\\lib\\site-packages (from nbclient<0.6.0,>=0.5.0->nbconvert->jupyter>=1.0->tutormagic) (1.10)\n",
      "Requirement already satisfied: webencodings in c:\\users\\usuario\\anaconda3\\lib\\site-packages (from bleach->nbconvert->jupyter>=1.0->tutormagic) (0.5.1)\n",
      "Requirement already satisfied: packaging in c:\\users\\usuario\\anaconda3\\lib\\site-packages (from bleach->nbconvert->jupyter>=1.0->tutormagic) (20.9)\n",
      "Requirement already satisfied: pyparsing>=2.0.2 in c:\\users\\usuario\\anaconda3\\lib\\site-packages (from packaging->bleach->nbconvert->jupyter>=1.0->tutormagic) (2.4.7)\n",
      "Requirement already satisfied: qtpy in c:\\users\\usuario\\anaconda3\\lib\\site-packages (from qtconsole->jupyter>=1.0->tutormagic) (1.9.0)\n"
     ]
    }
   ],
   "source": [
    "!pip install tutormagic\n",
    "%load_ext tutormagic"
   ]
  },
  {
   "cell_type": "code",
   "execution_count": 8,
   "id": "68816647",
   "metadata": {},
   "outputs": [],
   "source": [
    "import warnings\n",
    "warnings.filterwarnings(\"ignore\", category=DeprecationWarning)"
   ]
  },
  {
   "cell_type": "markdown",
   "id": "bae93cc4",
   "metadata": {},
   "source": [
    "# **Listas multidimencionales (Matrices)**\n",
    "\n",
    "**Nota**: Todos los ejemplos de aqui son tomados del libro: **Introduction to Programming Using Python 3** de **Y. Daniel Liang**. ([link del libro](http://liveexample.pearsoncmg.com/liang/py/casestudies.html))\n",
    "\n",
    "## **Definiendo una matrix**\n",
    "\n",
    "Una tabla de datos puede ser almacenada en una matrix de 2 dimensiones tal y como se muestra a continuación:\n",
    "\n",
    "\n",
    "![matrix_distance](matrix_distance.png)\n",
    "\n"
   ]
  },
  {
   "cell_type": "code",
   "execution_count": null,
   "id": "0eff5a8b",
   "metadata": {},
   "outputs": [],
   "source": [
    "%%tutor -l python3 -k\n",
    "distances = [\n",
    "              [0, 983, 787, 714, 1375, 967, 1087],\n",
    "              [983, 0, 214, 1102, 1505, 1723, 1842],\n",
    "              [787, 214, 0, 888, 1549, 1548, 1627],\n",
    "              [714, 1102, 888, 0, 661, 781, 810],\n",
    "              [1375, 1505, 1549, 661, 0, 1426, 1187],\n",
    "              [967, 1723, 1548, 781, 1426, 0, 239],\n",
    "              [1087, 1842, 1627, 810, 1187, 239, 0]\n",
    "            ]"
   ]
  },
  {
   "cell_type": "markdown",
   "id": "cfc0d943",
   "metadata": {},
   "source": [
    "## **Procesando una matrix**\n",
    "\n",
    "Un valor en una lista de dos dimensiones puede ser accedido a traves del indice de una columna y una fila.\n",
    "\n",
    "![matrix_2](matrix_2.png)\n",
    "\n",
    "Cada elemento de matrix puede ser accedido usando ```matrix[i][j]```, donde ```i``` y ```j``` son los indices de la fila y la columna respectivamente."
   ]
  },
  {
   "cell_type": "markdown",
   "id": "5507810f",
   "metadata": {},
   "source": [
    "### **Inicializando una matrix con valores ingresados por el usuario**\n"
   ]
  },
  {
   "cell_type": "code",
   "execution_count": null,
   "id": "ff5d6d29",
   "metadata": {},
   "outputs": [],
   "source": [
    "%%tutor -l python3 -k\n",
    "matrix = [] # Create an empty list\n",
    "numberOfRows = eval(input(\"Enter the number of rows: \"))\n",
    "numberOfColumns = eval(input(\"Enter the number of columns: \"))\n",
    "for row in range(numberOfRows):\n",
    "    matrix.append([]) # Add an empty new row\n",
    "    for column in range(numberOfColumns):\n",
    "        value = eval(input(\"Enter an element and press Enter: \"))\n",
    "        matrix[row].append(value)\n",
    "\n",
    "        print(matrix)"
   ]
  },
  {
   "cell_type": "markdown",
   "id": "d9ca9bd3",
   "metadata": {},
   "source": [
    "### **Inicializando una matrix con valores aleatorios**\n"
   ]
  },
  {
   "cell_type": "code",
   "execution_count": 9,
   "id": "a0cb0c56",
   "metadata": {},
   "outputs": [
    {
     "data": {
      "text/html": [
       "<div class=\"text-center\"><strong><a style=\"box-sizing: border-box; padding: 0 5px; border: 1px solid #CFCFCF;\" target=\"_\" href=http://pythontutor.com/iframe-embed.html#code=import%20random%0A%0Amatrix%20%3D%20%5B%5D%20%23%20Create%20an%20empty%20list%0AnumberOfRows%20%3D%20eval%28input%28%22Enter%20the%20number%20of%20rows%3A%20%22%29%29%0AnumberOfColumns%20%3D%20eval%28input%28%22Enter%20the%20number%20of%20columns%3A%20%22%29%29%0Afor%20row%20in%20range%28numberOfRows%29%3A%0A%20%20%20%20matrix.append%28%5B%5D%29%20%23%20Add%20an%20empty%20new%20row%0A%20%20%20%20for%20column%20in%20range%28numberOfColumns%29%3A%0A%20%20%20%20%20%20%20%20matrix%5Brow%5D.append%28random.randint%280%2C%2099%29%29%0A%20%20%20%20%20%20%20%20%0Aprint%28matrix%29%0A&origin=opt-frontend.js&cumulative=false&heapPrimitives=false&textReferences=false&curInstr=0&&verticalStack=false&py=3&rawInputLstJSON=%5B%5D&codeDivWidth=50%25&codeDivHeight=100%25>Python Tutor</a></strong></div>"
      ],
      "text/plain": [
       "<IPython.core.display.HTML object>"
      ]
     },
     "metadata": {},
     "output_type": "display_data"
    }
   ],
   "source": [
    "%%tutor -l python3 -k\n",
    "import random\n",
    "\n",
    "matrix = [] # Create an empty list\n",
    "numberOfRows = eval(input(\"Enter the number of rows: \"))\n",
    "numberOfColumns = eval(input(\"Enter the number of columns: \"))\n",
    "for row in range(numberOfRows):\n",
    "    matrix.append([]) # Add an empty new row\n",
    "    for column in range(numberOfColumns):\n",
    "        matrix[row].append(random.randint(0, 99))\n",
    "        \n",
    "print(matrix)"
   ]
  },
  {
   "cell_type": "markdown",
   "id": "3b18178d",
   "metadata": {},
   "source": [
    "### **Imprimiendo listas**"
   ]
  },
  {
   "cell_type": "code",
   "execution_count": 3,
   "id": "a9eeaf8e",
   "metadata": {},
   "outputs": [
    {
     "name": "stdout",
     "output_type": "stream",
     "text": [
      "1 2 3 \n",
      "4 5 6 \n",
      "7 8 9 \n"
     ]
    }
   ],
   "source": [
    "#%%tutor -l python3 -k\n",
    "\n",
    "\"\"\" Forma 1 \"\"\"\n",
    "matrix = [[1, 2, 3], [4, 5, 6], [7, 8, 9]] # Assume a list is given\n",
    "\n",
    "for row in range(len(matrix)):\n",
    "    for column in range(len(matrix[row])):\n",
    "        print(matrix[row][column], end = \" \")\n",
    "    print() # Print a new line"
   ]
  },
  {
   "cell_type": "code",
   "execution_count": 2,
   "id": "7a2bc410",
   "metadata": {},
   "outputs": [
    {
     "name": "stdout",
     "output_type": "stream",
     "text": [
      "1 2 3 \n",
      "4 5 6 \n",
      "7 8 9 \n"
     ]
    }
   ],
   "source": [
    "#%%tutor -l python3 -k\n",
    "\n",
    "\"\"\" Forma 2 \"\"\"\n",
    "matrix = [[1, 2, 3], [4, 5, 6], [7, 8, 9]] # Assume a list is given\n",
    "for row in matrix:\n",
    "    for value in row:\n",
    "        print(value, end = \" \")\n",
    "    print() # Print a new line"
   ]
  },
  {
   "cell_type": "markdown",
   "id": "fd900077",
   "metadata": {},
   "source": [
    "### **Sumando todos los elementos de una lista**"
   ]
  },
  {
   "cell_type": "code",
   "execution_count": 6,
   "id": "5ad34f47",
   "metadata": {},
   "outputs": [
    {
     "data": {
      "text/html": [
       "<div class=\"text-center\"><strong><a style=\"box-sizing: border-box; padding: 0 5px; border: 1px solid #CFCFCF;\" target=\"_\" href=http://pythontutor.com/iframe-embed.html#code=class%20matriz%3A%0A%20%20%20%20def%20__init__%28self%2C%20m%2C%20n%29%3A%0A%20%20%20%20%20%20%20%20self.m%20%3D%20m%20%20%23%20Numero%20de%20filas%0A%20%20%20%20%20%20%20%20self.n%20%3D%20n%20%20%23%20Numero%20de%20columnas%0A%20%20%20%20%20%20%20%20self.mat%20%3D%20%5B%5D%2A%28m%20%2B%201%29%0A%20%20%20%20%20%20%20%20for%20i%20in%20range%28m%20%2B%201%29%3A%0A%20%20%20%20%20%20%20%20%20%20%20%20a%20%3D%20%5B0%5D%2A%28n%20%2B%201%29%0A%20%20%20%20%20%20%20%20%20%20%20%20self.mat.append%28a%29%0A%20%20%20%20%20%20%20%20%20%20%20%20%0Amat1%20%3D%20matriz%286%2C8%29%0A&origin=opt-frontend.js&cumulative=false&heapPrimitives=false&textReferences=false&curInstr=0&&verticalStack=false&py=3&rawInputLstJSON=%5B%5D&codeDivWidth=50%25&codeDivHeight=100%25>Python Tutor</a></strong></div>"
      ],
      "text/plain": [
       "<IPython.core.display.HTML object>"
      ]
     },
     "metadata": {},
     "output_type": "display_data"
    }
   ],
   "source": [
    "%%tutor -l python3 -k\n",
    "\n",
    "matrix = [[1, 2, 3], [4, 5, 6], [7, 8, 9]] # Assume a list is given\n",
    "total = 0\n",
    "for row in matrix:\n",
    "    for value in row:\n",
    "        total += value\n",
    "        \n",
    "print(\"Total is\", total) # Print the total"
   ]
  },
  {
   "cell_type": "markdown",
   "id": "065f3075",
   "metadata": {},
   "source": [
    "### **Sumando los elementos por columna**"
   ]
  },
  {
   "cell_type": "code",
   "execution_count": null,
   "id": "07f81f8b",
   "metadata": {},
   "outputs": [],
   "source": [
    "#%%tutor -l python3 -k\n",
    "matrix = [[1, 2, 3], [4, 5, 6], [7, 8, 9]] # Assume a list is given\n",
    "\n",
    "for column in range(len(matrix[0])):\n",
    "    total = 0\n",
    "    for row in range(len(matrix)):\n",
    "        total += matrix[row][column]\n",
    "    print(\"Sum for column\", column, \"is\", total)"
   ]
  },
  {
   "cell_type": "markdown",
   "id": "28ed98d8",
   "metadata": {},
   "source": [
    "### **Encontrando la fila con la suma mas grande**"
   ]
  },
  {
   "cell_type": "code",
   "execution_count": null,
   "id": "6c03da78",
   "metadata": {},
   "outputs": [],
   "source": [
    "#%%tutor -l python3 -k\n",
    "\n",
    "matrix = [[1, 2, 3], [4, 5, 6], [7, 8, 9]] # Assume a list is given\n",
    "maxRow = sum(matrix[0]) # Get sum of the first row in maxRow\n",
    "\n",
    "indexOfMaxRow = 0\n",
    "for row in range(1, len(matrix)):\n",
    "    if sum(matrix[row]) > maxRow:\n",
    "        maxRow = sum(matrix[row])\n",
    "        indexOfMaxRow = row\n",
    "\n",
    "print(\"Row\", indexOfMaxRow, \"has the maximum sum of\", maxRow)"
   ]
  },
  {
   "cell_type": "markdown",
   "id": "b81097ef",
   "metadata": {},
   "source": [
    "### **Random Shuffling**"
   ]
  },
  {
   "cell_type": "code",
   "execution_count": null,
   "id": "de0675b9",
   "metadata": {},
   "outputs": [],
   "source": [
    "#%%tutor -l python3 -k\n",
    "import random\n",
    "\n",
    "matrix = [[1, 2, 3], [4, 5, 6], [7, 8, 9]] # Assume a list is given\n",
    "\n",
    "for row in range(len(matrix)):\n",
    "    for column in range(len(matrix[row])):\n",
    "        i = random.randint(0, len(matrix) - 1)\n",
    "        j = random.randint(0, len(matrix[row]) - 1)\n",
    "        \n",
    "        # Swap matrix[row][column] with matrix[i][j]\n",
    "        matrix[row][column], matrix[i][j] = \\\n",
    "        matrix[i][j], matrix[row][column]\n",
    "        \n",
    "print(matrix)"
   ]
  },
  {
   "cell_type": "markdown",
   "id": "96d2f9ce",
   "metadata": {},
   "source": [
    "### **Sorting**"
   ]
  },
  {
   "cell_type": "code",
   "execution_count": null,
   "id": "a1beec1e",
   "metadata": {},
   "outputs": [],
   "source": [
    "#%%tutor -l python3 -k\n",
    "points = [[4, 2], [1, 7], [4, 5], [1, 2], [1, 1], [4, 1]]\n",
    "points.sort()\n",
    "print(points)"
   ]
  },
  {
   "cell_type": "markdown",
   "id": "a98ad071",
   "metadata": {},
   "source": [
    "### **Pasando listas de dos dimensiones a funciones**\n"
   ]
  },
  {
   "cell_type": "code",
   "execution_count": null,
   "id": "1b6e5b0b",
   "metadata": {},
   "outputs": [],
   "source": [
    "#%%tutor -l python3 -k\n",
    "def getMatrix():\n",
    "    matrix = [] # Create an empty list\n",
    "    \n",
    "    numberOfRows = eval(input(\"Enter the number of rows: \"))\n",
    "    numberOfColumns = eval(input(\"Enter the number of columns: \"))\n",
    "    for row in range(numberOfRows):\n",
    "        matrix.append([]) # Add an empty new row\n",
    "        for column in range(numberOfColumns):\n",
    "            value = eval(input(\"Enter a value and press Enter: \"))\n",
    "            matrix[row].append(value)\n",
    "    \n",
    "    return matrix\n",
    "\n",
    "def accumulate(m):\n",
    "    total = 0\n",
    "    for row in m:\n",
    "        total += sum(row)\n",
    "            \n",
    "    return total\n",
    "\n",
    "def main():\n",
    "    m = getMatrix() # Get a list\n",
    "    print(m)\n",
    "    \n",
    "    # Display sum of elements\n",
    "    print(\"\\nSum of all elements is\", accumulate(m))\n",
    "\n",
    "main() # Invoke main function"
   ]
  },
  {
   "cell_type": "markdown",
   "id": "ae7f3881",
   "metadata": {},
   "source": [
    "## **Ejemplos de aplicacion**"
   ]
  },
  {
   "cell_type": "markdown",
   "id": "48d27567",
   "metadata": {},
   "source": [
    "### **Ejemplo 1 - Calificando evaluaciones de seleccion multiple**\n",
    "\n",
    "Escriba un programa que califique un examen de seleccion multiple.\n",
    "\n",
    "**Solución**: En el programa se definen principalmente 2 arreglos: \n",
    "1. **Respuesta de los estudiantes**:\n",
    "\n",
    "![repuestas_estudiantes](repuestas_estudiantes.png)\n",
    "\n",
    "2. **Solución del examen**:\n",
    "\n",
    "![respuestas_examen](respuestas_examen.png)\n"
   ]
  },
  {
   "cell_type": "code",
   "execution_count": null,
   "id": "96593ab6",
   "metadata": {},
   "outputs": [],
   "source": [
    "#%%tutor -l python3 -k\n",
    "def main():\n",
    "    # Students' answers to the questions\n",
    "    answers = [\n",
    "      ['A', 'B', 'A', 'C', 'C', 'D', 'E', 'E', 'A', 'D'],\n",
    "      ['D', 'B', 'A', 'B', 'C', 'A', 'E', 'E', 'A', 'D'],\n",
    "      ['E', 'D', 'D', 'A', 'C', 'B', 'E', 'E', 'A', 'D'],\n",
    "      ['C', 'B', 'A', 'E', 'D', 'C', 'E', 'E', 'A', 'D'],\n",
    "      ['A', 'B', 'D', 'C', 'C', 'D', 'E', 'E', 'A', 'D'],\n",
    "      ['B', 'B', 'E', 'C', 'C', 'D', 'E', 'E', 'A', 'D'],\n",
    "      ['B', 'B', 'A', 'C', 'C', 'D', 'E', 'E', 'A', 'D'],\n",
    "      ['E', 'B', 'E', 'C', 'C', 'D', 'E', 'E', 'A', 'D']]\n",
    "      \n",
    "    # Key to the questions\n",
    "    keys = ['D', 'B', 'D', 'C', 'C', 'D', 'A', 'E', 'A', 'D']\n",
    "    \n",
    "    # Grade all answers\n",
    "    for i in range(len(answers)):\n",
    "        # Grade one student\n",
    "        correctCount = 0\n",
    "        for j in range(len(answers[i])): \n",
    "            if answers[i][j] == keys[j]:\n",
    "                correctCount += 1\n",
    "\n",
    "        print(\"Student\", i, \"'s correct count is\", correctCount)\n",
    "\n",
    "main() # Call the main function"
   ]
  },
  {
   "cell_type": "markdown",
   "id": "80d5c704",
   "metadata": {},
   "source": [
    "### **Ejemplo 2 - Encontrando el par mas cercano**\n",
    "\n",
    "Dado un conjunto de puntos, encontrar el par mas cercano.\n",
    "\n",
    "![puntos_cercanos](puntos_cercanos.png)"
   ]
  },
  {
   "cell_type": "code",
   "execution_count": null,
   "id": "63135dff",
   "metadata": {},
   "outputs": [],
   "source": [
    "#%%tutor -l python3 -k\n",
    "\n",
    "# Compute the distance between two points (x1, y1) and (x2, y2)\n",
    "def distance(x1, y1, x2, y2):\n",
    "    return ((x2 - x1) * (x2 - x1) + (y2 - y1) * (y2 - y1)) ** 0.5\n",
    "\n",
    "def nearestPoints(points):\n",
    "    # p1 and p2 are the indices in the points list\n",
    "    p1, p2 = 0, 1  # Initial two points\n",
    "\n",
    "    shortestDistance = distance(points[p1][0], points[p1][1], \n",
    "        points[p2][0], points[p2][1]) # Initialize shortestDistance\n",
    "    \n",
    "    # Compute distance for every two points\n",
    "    for i in range(len(points)):\n",
    "        for j in range(i + 1, len(points)):\n",
    "            d = distance(points[i][0], points[i][1], \n",
    "                         points[j][0], points[j][1])  # Find distance\n",
    "\n",
    "            if shortestDistance > d:\n",
    "                p1, p2 = i, j # Update p1, p2\n",
    "                shortestDistance = d # New shortestDistance \n",
    "\n",
    "    return p1, p2\n",
    "\n",
    "def main():\n",
    "    numberOfPoints = eval(input(\"Enter the number of points: \"))\n",
    "\n",
    "    # Create a list to store points\n",
    "    points = []\n",
    "    print(\"Enter\", numberOfPoints, \"points:\", end = '')\n",
    "    for i in range(numberOfPoints):\n",
    "        point = 2 * [0]\n",
    "        point[0], point[1] = \\\n",
    "            eval(input(\"Enter coordinates separated by a comma: \"))\n",
    "        points.append(point)\n",
    "\n",
    "    # p1 and p2 are the indices in the points list\n",
    "    p1, p2 = NearestPoints.nearestPoints(points)  \n",
    "\n",
    "    # Display result\n",
    "    print(\"The closest two points are (\" +\n",
    "        str(points[p1][0]) + \", \" + str(points[p1][1]) + \") and (\" +\n",
    "        str(points[p2][0]) + \", \" + str(points[p2][1]) + \")\")\n",
    "\n",
    "main() # Call the main function"
   ]
  },
  {
   "cell_type": "markdown",
   "id": "f455dc40",
   "metadata": {},
   "source": [
    "## **Referencias**\n",
    "\n",
    "* https://docs.hektorprofe.net/\n",
    "* http://codingclub.co.uk/\n",
    "* https://github.com/mx0c/super-mario-python\n",
    "* https://sourceforge.net/projects/supermariobrosp/\n",
    "* https://github.com/njbittner/battle-bros-pyarcade/blob/master/Player.py\n",
    "* https://github.com/AHowardC/mkgame\n",
    "* https://www.pygame.org/project-Street+pyghter-1860-.html\n"
   ]
  }
 ],
 "metadata": {
  "kernelspec": {
   "display_name": "Python 3",
   "language": "python",
   "name": "python3"
  },
  "language_info": {
   "codemirror_mode": {
    "name": "ipython",
    "version": 3
   },
   "file_extension": ".py",
   "mimetype": "text/x-python",
   "name": "python",
   "nbconvert_exporter": "python",
   "pygments_lexer": "ipython3",
   "version": "3.8.8"
  }
 },
 "nbformat": 4,
 "nbformat_minor": 5
}

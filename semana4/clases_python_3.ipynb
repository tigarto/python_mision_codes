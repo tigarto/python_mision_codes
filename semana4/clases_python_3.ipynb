{
 "cells": [
  {
   "cell_type": "markdown",
   "id": "157f4d0b",
   "metadata": {},
   "source": [
    "[![Open In Colab](https://colab.research.google.com/assets/colab-badge.svg)](https://colab.research.google.com/github/tigarto/python_mision_codes/blob/main/semana4/clases_python_3.ipynb)"
   ]
  },
  {
   "cell_type": "code",
   "execution_count": 2,
   "id": "433962a7",
   "metadata": {},
   "outputs": [
    {
     "name": "stdout",
     "output_type": "stream",
     "text": [
      "Requirement already satisfied: tutormagic in c:\\users\\usuario\\anaconda3\\lib\\site-packages (0.3.1)\n",
      "Requirement already satisfied: jupyter>=1.0 in c:\\users\\usuario\\anaconda3\\lib\\site-packages (from tutormagic) (1.0.0)\n",
      "Requirement already satisfied: notebook in c:\\users\\usuario\\anaconda3\\lib\\site-packages (from jupyter>=1.0->tutormagic) (6.3.0)\n",
      "Requirement already satisfied: jupyter-console in c:\\users\\usuario\\anaconda3\\lib\\site-packages (from jupyter>=1.0->tutormagic) (6.4.0)\n",
      "Requirement already satisfied: qtconsole in c:\\users\\usuario\\anaconda3\\lib\\site-packages (from jupyter>=1.0->tutormagic) (5.0.3)\n",
      "Requirement already satisfied: nbconvert in c:\\users\\usuario\\anaconda3\\lib\\site-packages (from jupyter>=1.0->tutormagic) (6.0.7)\n",
      "Requirement already satisfied: ipywidgets in c:\\users\\usuario\\anaconda3\\lib\\site-packages (from jupyter>=1.0->tutormagic) (7.6.3)\n",
      "Requirement already satisfied: ipykernel in c:\\users\\usuario\\anaconda3\\lib\\site-packages (from jupyter>=1.0->tutormagic) (5.5.5)\n",
      "Requirement already satisfied: jupyter-client in c:\\users\\usuario\\anaconda3\\lib\\site-packages (from ipykernel->jupyter>=1.0->tutormagic) (6.1.12)\n",
      "Requirement already satisfied: ipython>=5.0.0 in c:\\users\\usuario\\anaconda3\\lib\\site-packages (from ipykernel->jupyter>=1.0->tutormagic) (7.22.0)\n",
      "Requirement already satisfied: traitlets>=4.1.0 in c:\\users\\usuario\\anaconda3\\lib\\site-packages (from ipykernel->jupyter>=1.0->tutormagic) (5.0.5)\n",
      "Requirement already satisfied: tornado>=4.2 in c:\\users\\usuario\\anaconda3\\lib\\site-packages (from ipykernel->jupyter>=1.0->tutormagic) (6.1)\n",
      "Requirement already satisfied: pygments in c:\\users\\usuario\\anaconda3\\lib\\site-packages (from ipython>=5.0.0->ipykernel->jupyter>=1.0->tutormagic) (2.8.1)\n",
      "Requirement already satisfied: prompt-toolkit!=3.0.0,!=3.0.1,<3.1.0,>=2.0.0 in c:\\users\\usuario\\anaconda3\\lib\\site-packages (from ipython>=5.0.0->ipykernel->jupyter>=1.0->tutormagic) (3.0.17)\n",
      "Requirement already satisfied: backcall in c:\\users\\usuario\\anaconda3\\lib\\site-packages (from ipython>=5.0.0->ipykernel->jupyter>=1.0->tutormagic) (0.2.0)\n",
      "Requirement already satisfied: pickleshare in c:\\users\\usuario\\anaconda3\\lib\\site-packages (from ipython>=5.0.0->ipykernel->jupyter>=1.0->tutormagic) (0.7.5)\n",
      "Requirement already satisfied: colorama in c:\\users\\usuario\\anaconda3\\lib\\site-packages (from ipython>=5.0.0->ipykernel->jupyter>=1.0->tutormagic) (0.4.4)\n",
      "Requirement already satisfied: jedi>=0.16 in c:\\users\\usuario\\anaconda3\\lib\\site-packages (from ipython>=5.0.0->ipykernel->jupyter>=1.0->tutormagic) (0.17.2)\n",
      "Requirement already satisfied: setuptools>=18.5 in c:\\users\\usuario\\anaconda3\\lib\\site-packages (from ipython>=5.0.0->ipykernel->jupyter>=1.0->tutormagic) (52.0.0.post20210125)\n",
      "Requirement already satisfied: decorator in c:\\users\\usuario\\anaconda3\\lib\\site-packages (from ipython>=5.0.0->ipykernel->jupyter>=1.0->tutormagic) (5.0.6)\n",
      "Requirement already satisfied: parso<0.8.0,>=0.7.0 in c:\\users\\usuario\\anaconda3\\lib\\site-packages (from jedi>=0.16->ipython>=5.0.0->ipykernel->jupyter>=1.0->tutormagic) (0.7.0)\n",
      "Requirement already satisfied: wcwidth in c:\\users\\usuario\\anaconda3\\lib\\site-packages (from prompt-toolkit!=3.0.0,!=3.0.1,<3.1.0,>=2.0.0->ipython>=5.0.0->ipykernel->jupyter>=1.0->tutormagic) (0.2.5)\n",
      "Requirement already satisfied: ipython-genutils in c:\\users\\usuario\\anaconda3\\lib\\site-packages (from traitlets>=4.1.0->ipykernel->jupyter>=1.0->tutormagic) (0.2.0)\n",
      "Requirement already satisfied: jupyterlab-widgets>=1.0.0 in c:\\users\\usuario\\anaconda3\\lib\\site-packages (from ipywidgets->jupyter>=1.0->tutormagic) (1.0.0)\n",
      "Requirement already satisfied: nbformat>=4.2.0 in c:\\users\\usuario\\anaconda3\\lib\\site-packages (from ipywidgets->jupyter>=1.0->tutormagic) (5.1.3)\n",
      "Requirement already satisfied: widgetsnbextension~=3.5.0 in c:\\users\\usuario\\anaconda3\\lib\\site-packages (from ipywidgets->jupyter>=1.0->tutormagic) (3.5.1)\n",
      "Requirement already satisfied: jupyter-core in c:\\users\\usuario\\anaconda3\\lib\\site-packages (from nbformat>=4.2.0->ipywidgets->jupyter>=1.0->tutormagic) (4.7.1)\n",
      "Requirement already satisfied: jsonschema!=2.5.0,>=2.4 in c:\\users\\usuario\\anaconda3\\lib\\site-packages (from nbformat>=4.2.0->ipywidgets->jupyter>=1.0->tutormagic) (3.2.0)\n",
      "Requirement already satisfied: attrs>=17.4.0 in c:\\users\\usuario\\anaconda3\\lib\\site-packages (from jsonschema!=2.5.0,>=2.4->nbformat>=4.2.0->ipywidgets->jupyter>=1.0->tutormagic) (20.3.0)\n",
      "Requirement already satisfied: pyrsistent>=0.14.0 in c:\\users\\usuario\\anaconda3\\lib\\site-packages (from jsonschema!=2.5.0,>=2.4->nbformat>=4.2.0->ipywidgets->jupyter>=1.0->tutormagic) (0.17.3)\n",
      "Requirement already satisfied: six>=1.11.0 in c:\\users\\usuario\\anaconda3\\lib\\site-packages (from jsonschema!=2.5.0,>=2.4->nbformat>=4.2.0->ipywidgets->jupyter>=1.0->tutormagic) (1.15.0)\n",
      "Requirement already satisfied: pyzmq>=17 in c:\\users\\usuario\\anaconda3\\lib\\site-packages (from notebook->jupyter>=1.0->tutormagic) (20.0.0)\n",
      "Requirement already satisfied: prometheus-client in c:\\users\\usuario\\anaconda3\\lib\\site-packages (from notebook->jupyter>=1.0->tutormagic) (0.10.1)\n",
      "Requirement already satisfied: jinja2 in c:\\users\\usuario\\anaconda3\\lib\\site-packages (from notebook->jupyter>=1.0->tutormagic) (2.11.3)\n",
      "Requirement already satisfied: Send2Trash>=1.5.0 in c:\\users\\usuario\\anaconda3\\lib\\site-packages (from notebook->jupyter>=1.0->tutormagic) (1.5.0)\n",
      "Requirement already satisfied: terminado>=0.8.3 in c:\\users\\usuario\\anaconda3\\lib\\site-packages (from notebook->jupyter>=1.0->tutormagic) (0.9.4)\n",
      "Requirement already satisfied: argon2-cffi in c:\\users\\usuario\\anaconda3\\lib\\site-packages (from notebook->jupyter>=1.0->tutormagic) (20.1.0)\n",
      "Requirement already satisfied: python-dateutil>=2.1 in c:\\users\\usuario\\anaconda3\\lib\\site-packages (from jupyter-client->ipykernel->jupyter>=1.0->tutormagic) (2.8.1)\n",
      "Requirement already satisfied: pywin32>=1.0 in c:\\users\\usuario\\anaconda3\\lib\\site-packages (from jupyter-core->nbformat>=4.2.0->ipywidgets->jupyter>=1.0->tutormagic) (227)\n",
      "Requirement already satisfied: pywinpty>=0.5 in c:\\users\\usuario\\anaconda3\\lib\\site-packages (from terminado>=0.8.3->notebook->jupyter>=1.0->tutormagic) (0.5.7)\n",
      "Requirement already satisfied: cffi>=1.0.0 in c:\\users\\usuario\\anaconda3\\lib\\site-packages (from argon2-cffi->notebook->jupyter>=1.0->tutormagic) (1.14.5)\n",
      "Requirement already satisfied: pycparser in c:\\users\\usuario\\anaconda3\\lib\\site-packages (from cffi>=1.0.0->argon2-cffi->notebook->jupyter>=1.0->tutormagic) (2.20)\n",
      "Requirement already satisfied: MarkupSafe>=0.23 in c:\\users\\usuario\\anaconda3\\lib\\site-packages (from jinja2->notebook->jupyter>=1.0->tutormagic) (1.1.1)\n",
      "Requirement already satisfied: testpath in c:\\users\\usuario\\anaconda3\\lib\\site-packages (from nbconvert->jupyter>=1.0->tutormagic) (0.4.4)\n",
      "Requirement already satisfied: entrypoints>=0.2.2 in c:\\users\\usuario\\anaconda3\\lib\\site-packages (from nbconvert->jupyter>=1.0->tutormagic) (0.3)\n",
      "Requirement already satisfied: nbclient<0.6.0,>=0.5.0 in c:\\users\\usuario\\anaconda3\\lib\\site-packages (from nbconvert->jupyter>=1.0->tutormagic) (0.5.3)\n",
      "Requirement already satisfied: bleach in c:\\users\\usuario\\anaconda3\\lib\\site-packages (from nbconvert->jupyter>=1.0->tutormagic) (3.3.0)\n",
      "Requirement already satisfied: jupyterlab-pygments in c:\\users\\usuario\\anaconda3\\lib\\site-packages (from nbconvert->jupyter>=1.0->tutormagic) (0.1.2)\n",
      "Requirement already satisfied: defusedxml in c:\\users\\usuario\\anaconda3\\lib\\site-packages (from nbconvert->jupyter>=1.0->tutormagic) (0.7.1)\n",
      "Requirement already satisfied: pandocfilters>=1.4.1 in c:\\users\\usuario\\anaconda3\\lib\\site-packages (from nbconvert->jupyter>=1.0->tutormagic) (1.4.3)\n",
      "Requirement already satisfied: mistune<2,>=0.8.1 in c:\\users\\usuario\\anaconda3\\lib\\site-packages (from nbconvert->jupyter>=1.0->tutormagic) (0.8.4)\n",
      "Requirement already satisfied: nest-asyncio in c:\\users\\usuario\\anaconda3\\lib\\site-packages (from nbclient<0.6.0,>=0.5.0->nbconvert->jupyter>=1.0->tutormagic) (1.5.1)\n",
      "Requirement already satisfied: async-generator in c:\\users\\usuario\\anaconda3\\lib\\site-packages (from nbclient<0.6.0,>=0.5.0->nbconvert->jupyter>=1.0->tutormagic) (1.10)\n",
      "Requirement already satisfied: packaging in c:\\users\\usuario\\anaconda3\\lib\\site-packages (from bleach->nbconvert->jupyter>=1.0->tutormagic) (20.9)\n",
      "Requirement already satisfied: webencodings in c:\\users\\usuario\\anaconda3\\lib\\site-packages (from bleach->nbconvert->jupyter>=1.0->tutormagic) (0.5.1)\n",
      "Requirement already satisfied: pyparsing>=2.0.2 in c:\\users\\usuario\\anaconda3\\lib\\site-packages (from packaging->bleach->nbconvert->jupyter>=1.0->tutormagic) (2.4.7)\n",
      "Requirement already satisfied: qtpy in c:\\users\\usuario\\anaconda3\\lib\\site-packages (from qtconsole->jupyter>=1.0->tutormagic) (1.9.0)\n"
     ]
    },
    {
     "name": "stdout",
     "output_type": "stream",
     "text": [
      "Collecting metakernel\n",
      "  Downloading metakernel-0.27.5-py2.py3-none-any.whl (208 kB)\n",
      "Requirement already satisfied: pexpect>=4.2 in c:\\users\\usuario\\anaconda3\\lib\\site-packages (from metakernel) (4.8.0)\n",
      "Requirement already satisfied: ipykernel in c:\\users\\usuario\\anaconda3\\lib\\site-packages (from metakernel) (5.5.5)\n",
      "Requirement already satisfied: ptyprocess>=0.5 in c:\\users\\usuario\\anaconda3\\lib\\site-packages (from pexpect>=4.2->metakernel) (0.7.0)\n",
      "Requirement already satisfied: tornado>=4.2 in c:\\users\\usuario\\anaconda3\\lib\\site-packages (from ipykernel->metakernel) (6.1)\n",
      "Requirement already satisfied: traitlets>=4.1.0 in c:\\users\\usuario\\anaconda3\\lib\\site-packages (from ipykernel->metakernel) (5.0.5)\n",
      "Requirement already satisfied: jupyter-client in c:\\users\\usuario\\anaconda3\\lib\\site-packages (from ipykernel->metakernel) (6.1.12)\n",
      "Requirement already satisfied: ipython>=5.0.0 in c:\\users\\usuario\\anaconda3\\lib\\site-packages (from ipykernel->metakernel) (7.22.0)\n",
      "Requirement already satisfied: pickleshare in c:\\users\\usuario\\anaconda3\\lib\\site-packages (from ipython>=5.0.0->ipykernel->metakernel) (0.7.5)\n",
      "Requirement already satisfied: jedi>=0.16 in c:\\users\\usuario\\anaconda3\\lib\\site-packages (from ipython>=5.0.0->ipykernel->metakernel) (0.17.2)\n",
      "Requirement already satisfied: backcall in c:\\users\\usuario\\anaconda3\\lib\\site-packages (from ipython>=5.0.0->ipykernel->metakernel) (0.2.0)\n",
      "Requirement already satisfied: prompt-toolkit!=3.0.0,!=3.0.1,<3.1.0,>=2.0.0 in c:\\users\\usuario\\anaconda3\\lib\\site-packages (from ipython>=5.0.0->ipykernel->metakernel) (3.0.17)\n",
      "Requirement already satisfied: pygments in c:\\users\\usuario\\anaconda3\\lib\\site-packages (from ipython>=5.0.0->ipykernel->metakernel) (2.8.1)\n",
      "Requirement already satisfied: colorama in c:\\users\\usuario\\anaconda3\\lib\\site-packages (from ipython>=5.0.0->ipykernel->metakernel) (0.4.4)\n",
      "Requirement already satisfied: decorator in c:\\users\\usuario\\anaconda3\\lib\\site-packages (from ipython>=5.0.0->ipykernel->metakernel) (5.0.6)\n",
      "Requirement already satisfied: setuptools>=18.5 in c:\\users\\usuario\\anaconda3\\lib\\site-packages (from ipython>=5.0.0->ipykernel->metakernel) (52.0.0.post20210125)\n",
      "Requirement already satisfied: parso<0.8.0,>=0.7.0 in c:\\users\\usuario\\anaconda3\\lib\\site-packages (from jedi>=0.16->ipython>=5.0.0->ipykernel->metakernel) (0.7.0)\n",
      "Requirement already satisfied: wcwidth in c:\\users\\usuario\\anaconda3\\lib\\site-packages (from prompt-toolkit!=3.0.0,!=3.0.1,<3.1.0,>=2.0.0->ipython>=5.0.0->ipykernel->metakernel) (0.2.5)\n",
      "Requirement already satisfied: ipython-genutils in c:\\users\\usuario\\anaconda3\\lib\\site-packages (from traitlets>=4.1.0->ipykernel->metakernel) (0.2.0)\n",
      "Requirement already satisfied: jupyter-core>=4.6.0 in c:\\users\\usuario\\anaconda3\\lib\\site-packages (from jupyter-client->ipykernel->metakernel) (4.7.1)\n",
      "Requirement already satisfied: pyzmq>=13 in c:\\users\\usuario\\anaconda3\\lib\\site-packages (from jupyter-client->ipykernel->metakernel) (20.0.0)\n",
      "Requirement already satisfied: python-dateutil>=2.1 in c:\\users\\usuario\\anaconda3\\lib\\site-packages (from jupyter-client->ipykernel->metakernel) (2.8.1)\n",
      "Requirement already satisfied: pywin32>=1.0 in c:\\users\\usuario\\anaconda3\\lib\\site-packages (from jupyter-core>=4.6.0->jupyter-client->ipykernel->metakernel) (227)\n",
      "Requirement already satisfied: six>=1.5 in c:\\users\\usuario\\anaconda3\\lib\\site-packages (from python-dateutil>=2.1->jupyter-client->ipykernel->metakernel) (1.15.0)\n",
      "Installing collected packages: metakernel\n",
      "Successfully installed metakernel-0.27.5\n"
     ]
    }
   ],
   "source": [
    "!pip install tutormagic\n",
    "!pip install metakernel\n",
    "%load_ext tutormagic"
   ]
  },
  {
   "cell_type": "code",
   "execution_count": 3,
   "id": "50ce0ade",
   "metadata": {},
   "outputs": [
    {
     "name": "stderr",
     "output_type": "stream",
     "text": [
      "C:\\Users\\Usuario\\anaconda3\\lib\\site-packages\\ipykernel\\ipkernel.py:287: DeprecationWarning: `should_run_async` will not call `transform_cell` automatically in the future. Please pass the result to `transformed_cell` argument and any exception that happen during thetransform in `preprocessing_exc_tuple` in IPython 7.17 and above.\n",
      "  and should_run_async(code)\n"
     ]
    }
   ],
   "source": [
    "from metakernel import register_ipython_magics\n",
    "register_ipython_magics()"
   ]
  },
  {
   "cell_type": "code",
   "execution_count": 5,
   "id": "68816647",
   "metadata": {},
   "outputs": [
    {
     "name": "stderr",
     "output_type": "stream",
     "text": [
      "C:\\Users\\Usuario\\anaconda3\\lib\\site-packages\\ipykernel\\ipkernel.py:287: DeprecationWarning: `should_run_async` will not call `transform_cell` automatically in the future. Please pass the result to `transformed_cell` argument and any exception that happen during thetransform in `preprocessing_exc_tuple` in IPython 7.17 and above.\n",
      "  and should_run_async(code)\n"
     ]
    }
   ],
   "source": [
    "import warnings\n",
    "warnings.filterwarnings(\"ignore\", category=DeprecationWarning)"
   ]
  },
  {
   "cell_type": "markdown",
   "id": "bae93cc4",
   "metadata": {},
   "source": [
    "# **Listas**\n",
    "\n",
    "List: an object that contains multiple\n",
    "data items\n",
    "\n",
    "Element: An item in a list\n",
    "• Format: list = [item1, item2, etc.]\n",
    "• Can hold items of different types\n",
    "• print function can be used to display\n",
    "an entire list\n",
    "• list() function can convert certain\n",
    "types of objects to lists\n",
    "\n",
    "\n",
    "|Operador|Significado|codigo| Salida|\n",
    "|:---|:---|:---|:---|\n",
    "|```+```|Concatenación|```L1 = [1, 2, 3]``` <br> ```L2 = L1 + [4, 5, 6]```<br> ```print(L2)```|```[1, 2, 3, 4, 5, 6]```|\n",
    "|```*```|Repetición|```L1 = 3*[1, 2]``` <br> ```print(L1)```|```[1, 2, 1, 2, 1, 2]```|\n",
    "|```<list>[]```|Indexado|```L = [1, 2.3, \"hola\"]``` <br> ```e1 = s[2]; e2 = s[-2]``` <br>```print(e1)```<br>```print(e2)```|```hola```<br>```2.3```|\n",
    "|```<list>[:]```|Slicing|```L = \"[1, 2, -4, 6, 10, 12]\"``` <br>```p1 = L[:4]``` <br>```p2 = L[3:]```<br> ```print(p1)``` <br> ```print(p2)``` |```[1, 2, -4, 6]```<br>```[10, 12]```|\n",
    "|```len(<list>)```|Tamaño|```L = [1, 2.3, \"hola\"]``` <br>  ```print(len(L))```|```3```|\n",
    "|```min(<list>)```|Minimo elemento|```L = [1, 2.3, -0.23]``` <br>  ```print(min(L))```|```-0.23```|\n",
    "|```max(<list>)```|Maximo elemento|```L = [1, 2.3, -0.23]``` <br>  ```print(max(L))```|```2.3```|\n",
    "|```sum(<list>)```|Suma de los elementos|```L = [1, 2.3, 7.6]``` <br>  ```print(sum(L))```|```11```|\n",
    "|```sorted(<list>)```|Ordena una lista de menor a mayor|```L1 = [10, 2.3, 7.6]``` <br>  ```L2 = sort(L)``` <br> ```print(L2)```|```[2.3, 7.6, 10]```|\n",
    "|```x in <list>```|Pertenencia|```resp = 1 in [1, 2.3, 7.6]``` <br>  ```print(resp)```|```True```|\n",
    "|```x not in <list>```|No pertenencia|```print(1 not in [1, 2.3, 7.6])```|```False```|\n",
    "|```for <elem> in <list>```|Ateración a traves de los caracteres|```for e in [1, 2.3, \"hola\"]:```<br>```     print(e)```|```1```<br>```2.3```<br>```hola```|\n",
    "\n",
    "A continuación se muestran algunos ejemplos donde aplican los conceptos de la tabla anterior:"
   ]
  },
  {
   "cell_type": "markdown",
   "id": "208b20fd",
   "metadata": {},
   "source": [
    "**Ejemplo 1**: A continuación se muestran diferentes maneras de crear listas"
   ]
  },
  {
   "cell_type": "code",
   "execution_count": 6,
   "id": "ff5d6d29",
   "metadata": {},
   "outputs": [
    {
     "data": {
      "text/html": [
       "\n",
       "        <iframe\n",
       "            width=\"100%\"\n",
       "            height=\"500\"\n",
       "            src=\"https://pythontutor.com/iframe-embed.html#code=list1%20%3D%20list%28%29%20%23%20Create%20an%20empty%20list%0Alist2%20%3D%20list%28%5B2%2C%203%2C%204%5D%29%20%23%20Create%20a%20list%20with%20elements%202%2C%203%2C%204%0Alist3%20%3D%20list%28%5B%22red%22%2C%20%22green%22%2C%20%22blue%22%5D%29%20%23%20Create%20a%20list%20with%20strings%0Alist4%20%3D%20list%28range%283%2C%206%29%29%20%23%20Create%20a%20list%20with%20elements%203%2C%204%2C%205%0Alist5%20%3D%20list%28%22abcd%22%29%20%23%20Create%20a%20list%20with%20characters%20a%2C%20b%2C%20c%2C%20d%0A&origin=opt-frontend.js&cumulative=false&heapPrimitives=false&textReferences=false&py=3&rawInputLstJSON=%5B%5D&curInstr=0&codeDivWidth=350&codeDivHeight=400\"\n",
       "            frameborder=\"0\"\n",
       "            allowfullscreen\n",
       "        ></iframe>\n",
       "        "
      ],
      "text/plain": [
       "<IPython.lib.display.IFrame at 0x1a497e14250>"
      ]
     },
     "metadata": {},
     "output_type": "display_data"
    }
   ],
   "source": [
    "%%tutor\n",
    "list1 = list() # Create an empty list\n",
    "list2 = list([2, 3, 4]) # Create a list with elements 2, 3, 4\n",
    "list3 = list([\"red\", \"green\", \"blue\"]) # Create a list with strings\n",
    "list4 = list(range(3, 6)) # Create a list with elements 3, 4, 5\n",
    "list5 = list(\"abcd\") # Create a list with characters a, b, c, d"
   ]
  },
  {
   "cell_type": "code",
   "execution_count": 7,
   "id": "a0cb0c56",
   "metadata": {},
   "outputs": [
    {
     "data": {
      "text/html": [
       "\n",
       "        <iframe\n",
       "            width=\"100%\"\n",
       "            height=\"500\"\n",
       "            src=\"https://pythontutor.com/iframe-embed.html#code=list1%20%3D%20%5B%5D%20%23%20Same%20as%20list%28%29%0Alist2%20%3D%20%5B2%2C%203%2C%204%5D%20%23%20Same%20as%20list%28%5B2%2C%203%2C%204%5D%29%0Alist3%20%3D%20%5B%22red%22%2C%20%22green%22%5D%20%23%20Same%20as%20list%28%5B%22red%22%2C%20%22green%22%5D%29%0A&origin=opt-frontend.js&cumulative=false&heapPrimitives=false&textReferences=false&py=3&rawInputLstJSON=%5B%5D&curInstr=0&codeDivWidth=350&codeDivHeight=400\"\n",
       "            frameborder=\"0\"\n",
       "            allowfullscreen\n",
       "        ></iframe>\n",
       "        "
      ],
      "text/plain": [
       "<IPython.lib.display.IFrame at 0x1a497fc0400>"
      ]
     },
     "metadata": {},
     "output_type": "display_data"
    }
   ],
   "source": [
    "%%tutor\n",
    "list1 = [] # Same as list()\n",
    "list2 = [2, 3, 4] # Same as list([2, 3, 4])\n",
    "list3 = [\"red\", \"green\"] # Same as list([\"red\", \"green\"])"
   ]
  },
  {
   "cell_type": "markdown",
   "id": "592d9818",
   "metadata": {},
   "source": [
    "**Ejemplo 2**: Haciendo uso de los operdores ```max```, ```min```, ```sum```."
   ]
  },
  {
   "cell_type": "code",
   "execution_count": 9,
   "id": "690d864a",
   "metadata": {},
   "outputs": [
    {
     "data": {
      "text/html": [
       "\n",
       "        <iframe\n",
       "            width=\"100%\"\n",
       "            height=\"500\"\n",
       "            src=\"https://pythontutor.com/iframe-embed.html#code=list1%20%3D%20%5B2%2C%203%2C%204%2C%201%2C%2032%5D%0Aprint%28list1%29%0Aprint%28max%28list1%29%29%0Aprint%28min%28list1%29%29%0Aprint%28sum%28list1%29%29%0A&origin=opt-frontend.js&cumulative=false&heapPrimitives=false&textReferences=false&py=3&rawInputLstJSON=%5B%5D&curInstr=0&codeDivWidth=350&codeDivHeight=400\"\n",
       "            frameborder=\"0\"\n",
       "            allowfullscreen\n",
       "        ></iframe>\n",
       "        "
      ],
      "text/plain": [
       "<IPython.lib.display.IFrame at 0x1a497fc0f70>"
      ]
     },
     "metadata": {},
     "output_type": "display_data"
    }
   ],
   "source": [
    "%%tutor\n",
    "list1 = [2, 3, 4, 1, 32]\n",
    "print(list1)\n",
    "print(max(list1))\n",
    "print(min(list1))\n",
    "print(sum(list1))\n"
   ]
  },
  {
   "cell_type": "markdown",
   "id": "99b027f5",
   "metadata": {},
   "source": [
    "**Ejemplo 3**: Una función sumamente útil para trabajar con listas es la función ```shuffle``` perteneciente al modulo ```random```([link](https://py2.codeskulptor.org/docs.html#random-random-int)). Esta función permite barajar (revolver) de manera aleatoria elementos en una lista ."
   ]
  },
  {
   "cell_type": "code",
   "execution_count": 10,
   "id": "41b7a094",
   "metadata": {},
   "outputs": [
    {
     "data": {
      "text/html": [
       "\n",
       "        <iframe\n",
       "            width=\"100%\"\n",
       "            height=\"500\"\n",
       "            src=\"https://pythontutor.com/iframe-embed.html#code=import%20random%0Alist1%20%3D%20%5B2%2C%203%2C%204%2C%201%2C%2032%5D%0Aprint%28list1%29%0Arandom.shuffle%28list1%29%20%23%20Shuffle%20the%20elements%20in%20list1%0Aprint%28list1%29%0A&origin=opt-frontend.js&cumulative=false&heapPrimitives=false&textReferences=false&py=3&rawInputLstJSON=%5B%5D&curInstr=0&codeDivWidth=350&codeDivHeight=400\"\n",
       "            frameborder=\"0\"\n",
       "            allowfullscreen\n",
       "        ></iframe>\n",
       "        "
      ],
      "text/plain": [
       "<IPython.lib.display.IFrame at 0x1a499403fa0>"
      ]
     },
     "metadata": {},
     "output_type": "display_data"
    }
   ],
   "source": [
    "%%tutor\n",
    "import random\n",
    "list1 = [2, 3, 4, 1, 32]\n",
    "print(list1)\n",
    "random.shuffle(list1) # Shuffle the elements in list1\n",
    "print(list1)"
   ]
  },
  {
   "cell_type": "markdown",
   "id": "54229aee",
   "metadata": {},
   "source": [
    "**Ejemplo 4**: Accediendo a un elemento de una lista empleando indexación."
   ]
  },
  {
   "cell_type": "code",
   "execution_count": 11,
   "id": "ede3fee9",
   "metadata": {},
   "outputs": [
    {
     "data": {
      "text/html": [
       "\n",
       "        <iframe\n",
       "            width=\"100%\"\n",
       "            height=\"500\"\n",
       "            src=\"https://pythontutor.com/iframe-embed.html#code=list1%20%3D%20%5B2%2C%203%2C%205%2C%207%2C%209%2C%201%5D%0Aprint%28list1%29%0Aprint%28list1%5B-1%5D%29%0Aprint%28list1%5B-3%5D%29%0A&origin=opt-frontend.js&cumulative=false&heapPrimitives=false&textReferences=false&py=3&rawInputLstJSON=%5B%5D&curInstr=0&codeDivWidth=350&codeDivHeight=400\"\n",
       "            frameborder=\"0\"\n",
       "            allowfullscreen\n",
       "        ></iframe>\n",
       "        "
      ],
      "text/plain": [
       "<IPython.lib.display.IFrame at 0x1a4993e0eb0>"
      ]
     },
     "metadata": {},
     "output_type": "display_data"
    }
   ],
   "source": [
    "%%tutor\n",
    "list1 = [2, 3, 5, 7, 9, 1]\n",
    "print(list1)\n",
    "print(list1[-1])\n",
    "print(list1[-3])"
   ]
  },
  {
   "cell_type": "markdown",
   "id": "765f3313",
   "metadata": {},
   "source": [
    "**Ejemplo 5**: Dada la lista ```example = [1, 2, 3, 4]``` reemplazar el ultimo elemento de esta por ```0```"
   ]
  },
  {
   "cell_type": "code",
   "execution_count": 20,
   "id": "f8f60b88",
   "metadata": {},
   "outputs": [
    {
     "data": {
      "text/html": [
       "\n",
       "        <iframe\n",
       "            width=\"100%\"\n",
       "            height=\"500\"\n",
       "            src=\"https://pythontutor.com/iframe-embed.html#code=example%20%3D%20%5B1%2C%202%2C%203%2C%204%5D%0Aexample%5B3%5D%20%3D%200%0A&origin=opt-frontend.js&cumulative=false&heapPrimitives=false&textReferences=false&py=3&rawInputLstJSON=%5B%5D&curInstr=0&codeDivWidth=350&codeDivHeight=400\"\n",
       "            frameborder=\"0\"\n",
       "            allowfullscreen\n",
       "        ></iframe>\n",
       "        "
      ],
      "text/plain": [
       "<IPython.lib.display.IFrame at 0x1a499403d00>"
      ]
     },
     "metadata": {},
     "output_type": "display_data"
    }
   ],
   "source": [
    "%%tutor\n",
    "example = [1, 2, 3, 4]\n",
    "example[3] = 0\n"
   ]
  },
  {
   "cell_type": "markdown",
   "id": "c56accee",
   "metadata": {},
   "source": [
    "**Ejemplo 6**: Accediendo a varios elementos de la lista mediate el operador slice:"
   ]
  },
  {
   "cell_type": "code",
   "execution_count": 13,
   "id": "ef2ef0a7",
   "metadata": {},
   "outputs": [
    {
     "data": {
      "text/html": [
       "\n",
       "        <iframe\n",
       "            width=\"100%\"\n",
       "            height=\"500\"\n",
       "            src=\"https://pythontutor.com/iframe-embed.html#code=list1%20%3D%20%5B2%2C%203%2C%205%2C%202%2C%2033%2C%2021%5D%0Aprint%28list1%29%0A%0Asublist1%20%3D%20list1%5B2%3A4%5D%0Asublist2%20%3D%20list1%5B%3A2%5D%0Asublist3%20%3D%20list1%5B3%3A%5D%0Asublist4%20%3D%20list1%5B1%3A-3%5D%0Asublist5%20%3D%20list1%5B-4%3A-2%5D%0A%0Aprint%28sublist1%29%0Aprint%28sublist2%29%0Aprint%28sublist3%29%0Aprint%28sublist4%29%0Aprint%28sublist5%29%0A&origin=opt-frontend.js&cumulative=false&heapPrimitives=false&textReferences=false&py=3&rawInputLstJSON=%5B%5D&curInstr=0&codeDivWidth=350&codeDivHeight=400\"\n",
       "            frameborder=\"0\"\n",
       "            allowfullscreen\n",
       "        ></iframe>\n",
       "        "
      ],
      "text/plain": [
       "<IPython.lib.display.IFrame at 0x1a4993eb160>"
      ]
     },
     "metadata": {},
     "output_type": "display_data"
    }
   ],
   "source": [
    "%%tutor\n",
    "list1 = [2, 3, 5, 2, 33, 21]\n",
    "print(list1)\n",
    "\n",
    "sublist1 = list1[2:4]\n",
    "sublist2 = list1[:2]\n",
    "sublist3 = list1[3:]\n",
    "sublist4 = list1[1:-3]\n",
    "sublist5 = list1[-4:-2]\n",
    "\n",
    "print(sublist1)\n",
    "print(sublist2)\n",
    "print(sublist3)\n",
    "print(sublist4)\n",
    "print(sublist5)"
   ]
  },
  {
   "cell_type": "markdown",
   "id": "28b103ac",
   "metadata": {},
   "source": [
    "**Ejemplo 7**: Empleando los operadores concatenación (```+```) y repetición (```*```)"
   ]
  },
  {
   "cell_type": "code",
   "execution_count": 14,
   "id": "dc698cc4",
   "metadata": {},
   "outputs": [
    {
     "data": {
      "text/html": [
       "\n",
       "        <iframe\n",
       "            width=\"100%\"\n",
       "            height=\"500\"\n",
       "            src=\"https://pythontutor.com/iframe-embed.html#code=list1%20%3D%20%5B2%2C%203%5D%0Aprint%28list1%29%0Alist2%20%3D%20%5B1%2C%209%5D%0Aprint%28list2%29%0Alist3%20%3D%20list1%20%2B%20list2%0Aprint%28list3%29%0Alist4%20%3D%203%20%2A%20list1%0Aprint%28list4%29%0A&origin=opt-frontend.js&cumulative=false&heapPrimitives=false&textReferences=false&py=3&rawInputLstJSON=%5B%5D&curInstr=0&codeDivWidth=350&codeDivHeight=400\"\n",
       "            frameborder=\"0\"\n",
       "            allowfullscreen\n",
       "        ></iframe>\n",
       "        "
      ],
      "text/plain": [
       "<IPython.lib.display.IFrame at 0x1a499c7a580>"
      ]
     },
     "metadata": {},
     "output_type": "display_data"
    }
   ],
   "source": [
    "%%tutor\n",
    "list1 = [2, 3]\n",
    "print(list1)\n",
    "list2 = [1, 9]\n",
    "print(list2)\n",
    "list3 = list1 + list2\n",
    "print(list3)\n",
    "list4 = 3 * list1\n",
    "print(list4)"
   ]
  },
  {
   "cell_type": "markdown",
   "id": "aed90192",
   "metadata": {},
   "source": [
    "**Ejemplo 8**: Haciendo uso de los operadores ```in``` y ```not in``` para determinar si un elemento se encuentra en una lista"
   ]
  },
  {
   "cell_type": "code",
   "execution_count": 18,
   "id": "08dfcb18",
   "metadata": {},
   "outputs": [
    {
     "data": {
      "text/html": [
       "\n",
       "        <iframe\n",
       "            width=\"100%\"\n",
       "            height=\"500\"\n",
       "            src=\"https://pythontutor.com/iframe-embed.html#code=list1%20%3D%20%5B2%2C%203%2C%205%2C%202%2C%2033%2C%2021%5D%0Aprint%282%20in%20list1%29%0Aprint%282%20not%20in%20list1%29%0A&origin=opt-frontend.js&cumulative=false&heapPrimitives=false&textReferences=false&py=3&rawInputLstJSON=%5B%5D&curInstr=0&codeDivWidth=350&codeDivHeight=400\"\n",
       "            frameborder=\"0\"\n",
       "            allowfullscreen\n",
       "        ></iframe>\n",
       "        "
      ],
      "text/plain": [
       "<IPython.lib.display.IFrame at 0x1a499219cd0>"
      ]
     },
     "metadata": {},
     "output_type": "display_data"
    }
   ],
   "source": [
    "%%tutor\n",
    "list1 = [2, 3, 5, 2, 33, 21]\n",
    "print(2 in list1)\n",
    "print(2 not in list1)"
   ]
  },
  {
   "cell_type": "markdown",
   "id": "81c514a3",
   "metadata": {},
   "source": [
    "**Ejemplo 9**: Accediendo a los elementos de una lista empleando subindices"
   ]
  },
  {
   "cell_type": "code",
   "execution_count": 19,
   "id": "824f03c1",
   "metadata": {},
   "outputs": [
    {
     "data": {
      "text/html": [
       "\n",
       "        <iframe\n",
       "            width=\"100%\"\n",
       "            height=\"500\"\n",
       "            src=\"https://pythontutor.com/iframe-embed.html#code=list1%20%3D%20%5B1%2C%203%2C%202%2C%20-1%2C%203%2C%2010%2C%2019%2C%20123%2C%20234%2C%2012%5D%0Afor%20i%20in%20range%28len%28list1%29%29%3A%0A%20%20%20%20print%28list1%5Bi%5D%29%0Aprint%28%29%0Afor%20i%20in%20range%283%2C%20len%28list1%29%29%3A%0A%20%20%20%20print%28list1%5Bi%5D%29%0Aprint%28%29%0Afor%20i%20in%20range%280%2Clen%28list1%29%2C2%29%3A%0A%20%20%20%20print%28list1%5Bi%5D%29%0A&origin=opt-frontend.js&cumulative=false&heapPrimitives=false&textReferences=false&py=3&rawInputLstJSON=%5B%5D&curInstr=0&codeDivWidth=350&codeDivHeight=400\"\n",
       "            frameborder=\"0\"\n",
       "            allowfullscreen\n",
       "        ></iframe>\n",
       "        "
      ],
      "text/plain": [
       "<IPython.lib.display.IFrame at 0x1a4993ebdf0>"
      ]
     },
     "metadata": {},
     "output_type": "display_data"
    }
   ],
   "source": [
    "%%tutor\n",
    "list1 = [1, 3, 2, -1, 3, 10, 19, 123, 234, 12]\n",
    "for i in range(len(list1)):\n",
    "    print(list1[i])\n",
    "print()\n",
    "for i in range(3, len(list1)):\n",
    "    print(list1[i])\n",
    "print()\n",
    "for i in range(0,len(list1),2):\n",
    "    print(list1[i])\n"
   ]
  },
  {
   "cell_type": "markdown",
   "id": "8b3d81e1",
   "metadata": {},
   "source": [
    "**Ejemplo 10**: Ordenar una lista de mayor a menor"
   ]
  },
  {
   "cell_type": "code",
   "execution_count": 26,
   "id": "a4619ac0",
   "metadata": {},
   "outputs": [
    {
     "data": {
      "text/html": [
       "\n",
       "        <iframe\n",
       "            width=\"100%\"\n",
       "            height=\"500\"\n",
       "            src=\"https://pythontutor.com/iframe-embed.html#code=list1%20%3D%20%5B887.7%2C%2024100.0%2C%206563.0%2C%2014%2C%20373300.0%5D%0Alist2%20%3D%20sorted%28list1%29%0Asorted%28list2%29%0A&origin=opt-frontend.js&cumulative=false&heapPrimitives=false&textReferences=false&py=3&rawInputLstJSON=%5B%5D&curInstr=0&codeDivWidth=350&codeDivHeight=400\"\n",
       "            frameborder=\"0\"\n",
       "            allowfullscreen\n",
       "        ></iframe>\n",
       "        "
      ],
      "text/plain": [
       "<IPython.lib.display.IFrame at 0x1a4993e0370>"
      ]
     },
     "metadata": {},
     "output_type": "display_data"
    }
   ],
   "source": [
    "%%tutor\n",
    "list1 = [887.7, 24100.0, 6563.0, 14, 373300.0]\n",
    "list2 = sorted(list1)\n",
    "list3 = sorted(list1, reverse=False)\n",
    "print(list1)\n",
    "print(list2)\n",
    "print(list3)"
   ]
  },
  {
   "cell_type": "markdown",
   "id": "e887ec58",
   "metadata": {},
   "source": [
    "## **Comprensión de listas** ##\n",
    "La listas por comprensión es una forma consisa de crear listas. La sintaxis de esta se muestra a continuación:\n",
    "\n",
    "```python\n",
    "nueva_lista = [expresion bucle_for condiciones]\n",
    "```\n",
    "\n",
    "A continuación se muestran varios ejemplos:"
   ]
  },
  {
   "cell_type": "code",
   "execution_count": 23,
   "id": "3a2984dc",
   "metadata": {},
   "outputs": [
    {
     "data": {
      "text/html": [
       "\n",
       "        <iframe\n",
       "            width=\"100%\"\n",
       "            height=\"500\"\n",
       "            src=\"https://pythontutor.com/iframe-embed.html#code=list1%20%3D%20%5Bx%20for%20x%20in%20range%285%29%5D%0Aprint%28list1%29%0A%0Alist2%20%3D%20%5B0.5%20%2A%20x%20for%20x%20in%20list1%5D%0Aprint%28list2%29%0A%0Alist3%20%3D%20%5Bx%20for%20x%20in%20list2%20if%20x%20%3C%201.5%5D%0Aprint%28list3%29%0A%0Alist4%20%3D%20%5Bn%2A%2A2%20for%20n%20in%20%5B1%2C%202%2C%203%2C%204%5D%5D%0Aprint%28list4%29%0A&origin=opt-frontend.js&cumulative=false&heapPrimitives=false&textReferences=false&py=3&rawInputLstJSON=%5B%5D&curInstr=0&codeDivWidth=350&codeDivHeight=400\"\n",
       "            frameborder=\"0\"\n",
       "            allowfullscreen\n",
       "        ></iframe>\n",
       "        "
      ],
      "text/plain": [
       "<IPython.lib.display.IFrame at 0x1a49922fbb0>"
      ]
     },
     "metadata": {},
     "output_type": "display_data"
    }
   ],
   "source": [
    "%%tutor\n",
    "list1 = [x for x in range(5)]\n",
    "print(list1)\n",
    "\n",
    "list2 = [0.5 * x for x in list1]\n",
    "print(list2)\n",
    "\n",
    "list3 = [x for x in list2 if x < 1.5]\n",
    "print(list3)\n",
    "\n",
    "list4 = [n**2 for n in [1, 2, 3, 4]]\n",
    "print(list4)"
   ]
  },
  {
   "cell_type": "markdown",
   "id": "2109d078",
   "metadata": {},
   "source": [
    "\n",
    "## **Metodos sobre listas**\n",
    "\n",
    "La siguiente tabla muestra una lista de algunos de los principales metodo de las listas. \n",
    "\n",
    "|Función|Accion|Ejemplo|Resultado|\n",
    "|:--------|:------|:-------|:---------|\n",
    "|```list.append(e)```|Agrega el objeto **e** al final de la lista|```L = [1, 2, 3]```<br/>```M = ['a','b']```|```L.append(-5) -> [1, 2, 3,-5]```<br/>```M.append([2,3]) -> ['a','b',[2,3]]```|\n",
    "|```list.count(e)``` |Retorna el número de veces que **e** se encuentra en la lista|```M = ['a','b','c','d']```|```M.count('b') -> 2```|\n",
    "|```list.insert(i, e)``` |Inserta el objeto **e** en la posición **i** de la lista|```L = ['a','b','c']```|```L.insert(1, 'x') -> ['a', 'x', 'b', 'c']```|\n",
    "|```list.extend(list2)``` |Agrega todos los elementos de **list2** al final de la lista|```M = ['a','b']```|```M.extend([2,3])  -> ['a', 'b', 2, 3]```|\n",
    "|```list.remove(e)``` |Borra el primer elemento **e** que encuentre en la lista|```M = ['a','b','c','d']```|```M.remove('b')  -> ['a','c','d']```|\n",
    "|```list.index(e)``` |Retorna la posición del primer elemento **e** que encuentre|```L = ['a','b','c','d']```|```L.index('b')  -> 1```|\n",
    "|```list.pop(i)``` |Borra el elemento de la posición **i**|```L = ['a','b','c']```|```L.pop('1')  -> ['a','c']```|\n",
    "|```list.sort()``` |Ordena la lista|```L = [2, 1, 3, 2]```|```L.sort()  -> [1, 2, 2, 3]```|\n",
    "|```list.reverse()``` |Invierte el orden de la lista|```L = [1, 2, 3] ```|```L.sort()  -> [3, 2, 1]```|\n",
    "|```list.clear()``` | Elimina todos los elementos de una lista | ```L = [1, 2, 3] ``` |```L.clear()  -> []```|   \n"
   ]
  },
  {
   "cell_type": "markdown",
   "id": "4f505028",
   "metadata": {},
   "source": [
    "**Ejemplo 1**: Ejemplo usando el método ```append```"
   ]
  },
  {
   "cell_type": "code",
   "execution_count": 39,
   "id": "74225c26",
   "metadata": {},
   "outputs": [
    {
     "data": {
      "text/html": [
       "\n",
       "        <iframe\n",
       "            width=\"100%\"\n",
       "            height=\"500\"\n",
       "            src=\"https://pythontutor.com/iframe-embed.html#code=list1%20%3D%20%5B2%2C%203%2C%204%2C%201%2C%2032%2C%204%5D%0Alist1.append%2819%29%0Alist1.append%28%22hola%22%29%0Alist1.append%28%5B1%2C2%2C3%5D%29%0A&origin=opt-frontend.js&cumulative=false&heapPrimitives=false&textReferences=false&py=3&rawInputLstJSON=%5B%5D&curInstr=0&codeDivWidth=350&codeDivHeight=400\"\n",
       "            frameborder=\"0\"\n",
       "            allowfullscreen\n",
       "        ></iframe>\n",
       "        "
      ],
      "text/plain": [
       "<IPython.lib.display.IFrame at 0x1a4992dfd00>"
      ]
     },
     "metadata": {},
     "output_type": "display_data"
    }
   ],
   "source": [
    "%%tutor\n",
    "list1 = [2, 3, 4, 1, 32, 4]\n",
    "list1.append(19)\n",
    "list1.append(\"hola\")\n",
    "list1.append([1,2,3])"
   ]
  },
  {
   "cell_type": "markdown",
   "id": "9e08cb45",
   "metadata": {},
   "source": [
    "**Ejemplo 2**: Ejemplo usando el método ```extend```. Comparelo con respecto al ejemplo anterior para que observe la diferencia con respecto al método ```append```"
   ]
  },
  {
   "cell_type": "code",
   "execution_count": 40,
   "id": "28703d6f",
   "metadata": {},
   "outputs": [
    {
     "data": {
      "text/html": [
       "\n",
       "        <iframe\n",
       "            width=\"100%\"\n",
       "            height=\"500\"\n",
       "            src=\"https://pythontutor.com/iframe-embed.html#code=list1%20%3D%20%5B2%2C%203%2C%204%2C%201%2C%2032%2C%204%5D%0Alist1.extend%28%5B19%5D%29%0Alist1.extend%28%22zz%22%29%0Alist1.extend%28%5B1%2C2%2C3%5D%29%0A&origin=opt-frontend.js&cumulative=false&heapPrimitives=false&textReferences=false&py=3&rawInputLstJSON=%5B%5D&curInstr=0&codeDivWidth=350&codeDivHeight=400\"\n",
       "            frameborder=\"0\"\n",
       "            allowfullscreen\n",
       "        ></iframe>\n",
       "        "
      ],
      "text/plain": [
       "<IPython.lib.display.IFrame at 0x1a4993d9970>"
      ]
     },
     "metadata": {},
     "output_type": "display_data"
    }
   ],
   "source": [
    "%%tutor\n",
    "list1 = [2, 3, 4, 1, 32, 4]\n",
    "list1.extend([19])\n",
    "list1.extend(\"zz\")\n",
    "list1.extend([1,2,3])"
   ]
  },
  {
   "cell_type": "markdown",
   "id": "1f21f16c",
   "metadata": {},
   "source": [
    "**Ejemplo 3**: Ejemplo usando el método ```insert```"
   ]
  },
  {
   "cell_type": "code",
   "execution_count": 41,
   "id": "d6760cc7",
   "metadata": {},
   "outputs": [
    {
     "data": {
      "text/html": [
       "\n",
       "        <iframe\n",
       "            width=\"100%\"\n",
       "            height=\"500\"\n",
       "            src=\"https://pythontutor.com/iframe-embed.html#code=colors%20%3D%20%5B%27red%27%2C%20%27orange%27%2C%20%27yellow%27%2C%20%27green%27%2C%20%27blue%27%2C%20%27purple%27%5D%0Acolors.insert%282%2C%27black%27%29%0A&origin=opt-frontend.js&cumulative=false&heapPrimitives=false&textReferences=false&py=3&rawInputLstJSON=%5B%5D&curInstr=0&codeDivWidth=350&codeDivHeight=400\"\n",
       "            frameborder=\"0\"\n",
       "            allowfullscreen\n",
       "        ></iframe>\n",
       "        "
      ],
      "text/plain": [
       "<IPython.lib.display.IFrame at 0x1a4992df6d0>"
      ]
     },
     "metadata": {},
     "output_type": "display_data"
    }
   ],
   "source": [
    "%%tutor\n",
    "colors = ['red', 'orange', 'yellow', 'green', 'blue', 'purple']\n",
    "colors.insert(2,'black')\n"
   ]
  },
  {
   "cell_type": "markdown",
   "id": "faba80e8",
   "metadata": {},
   "source": [
    "**Ejemplo 4**: Ejemplo usando el método ```count```"
   ]
  },
  {
   "cell_type": "code",
   "execution_count": 43,
   "id": "1cd58023",
   "metadata": {},
   "outputs": [
    {
     "data": {
      "text/html": [
       "\n",
       "        <iframe\n",
       "            width=\"100%\"\n",
       "            height=\"500\"\n",
       "            src=\"https://pythontutor.com/iframe-embed.html#code=list1%20%3D%20%5B2%2C%203%2C%204%2C%201%2C%2032%2C%204%2C%2019%5D%0Atotal4%20%3D%20list1.count%284%29%0A&origin=opt-frontend.js&cumulative=false&heapPrimitives=false&textReferences=false&py=3&rawInputLstJSON=%5B%5D&curInstr=0&codeDivWidth=350&codeDivHeight=400\"\n",
       "            frameborder=\"0\"\n",
       "            allowfullscreen\n",
       "        ></iframe>\n",
       "        "
      ],
      "text/plain": [
       "<IPython.lib.display.IFrame at 0x1a499b5af70>"
      ]
     },
     "metadata": {},
     "output_type": "display_data"
    }
   ],
   "source": [
    "%%tutor\n",
    "list1 = [2, 3, 4, 1, 32, 4, 19]\n",
    "total4 = list1.count(4)\n"
   ]
  },
  {
   "cell_type": "markdown",
   "id": "4f5bdc15",
   "metadata": {},
   "source": [
    "**Ejemplo 5**: Ejemplo usando el método ```index```"
   ]
  },
  {
   "cell_type": "code",
   "execution_count": 35,
   "id": "0492e0a3",
   "metadata": {},
   "outputs": [
    {
     "data": {
      "text/html": [
       "\n",
       "        <iframe\n",
       "            width=\"100%\"\n",
       "            height=\"500\"\n",
       "            src=\"https://pythontutor.com/iframe-embed.html#code=list1%20%3D%20%5B2%2C%203%2C%204%2C%201%2C%2032%2C%204%5D%0Alist1.append%2819%29%0Alist2%20%3D%20%5B99%2C%2054%5D%0Alist1.extend%28list2%29%0Aindex_4%20%3D%20list1.index%284%29%0A&origin=opt-frontend.js&cumulative=false&heapPrimitives=false&textReferences=false&py=3&rawInputLstJSON=%5B%5D&curInstr=0&codeDivWidth=350&codeDivHeight=400\"\n",
       "            frameborder=\"0\"\n",
       "            allowfullscreen\n",
       "        ></iframe>\n",
       "        "
      ],
      "text/plain": [
       "<IPython.lib.display.IFrame at 0x1a499400e20>"
      ]
     },
     "metadata": {},
     "output_type": "display_data"
    }
   ],
   "source": [
    "%%tutor\n",
    "list1 = [2, 3, 4, 1, 32, 4]\n",
    "list1.append(19)\n",
    "list2 = [99, 54]\n",
    "list1.extend(list2)\n",
    "index_4 = list1.index(4)"
   ]
  },
  {
   "cell_type": "markdown",
   "id": "343ee8c7",
   "metadata": {},
   "source": [
    "**Ejemplo 6**: Ejemplo usando los metodos para eliminar elementos de una lista: ```pop``` y ```remove```"
   ]
  },
  {
   "cell_type": "code",
   "execution_count": 45,
   "id": "00b0c3f4",
   "metadata": {},
   "outputs": [
    {
     "data": {
      "text/html": [
       "\n",
       "        <iframe\n",
       "            width=\"100%\"\n",
       "            height=\"500\"\n",
       "            src=\"https://pythontutor.com/iframe-embed.html#code=list1%20%3D%20%5B2%2C%2025%2C%203%2C%204%2C%201%2C%2032%2C%204%2C%2019%2C%2099%2C%2054%5D%0Alist1.pop%282%29%20%20%20%20%20%20%23%20Eliminando%20elemendo%20en%20la%20posicion%202%0Alist1.pop%28%29%20%20%20%20%20%20%20%23%20Eliminando%20elemendo%20en%20ultima%20posicion%0Alist1.remove%2832%29%20%20%23%20Eliminando%20el%20numero%2032%0A&origin=opt-frontend.js&cumulative=false&heapPrimitives=false&textReferences=false&py=3&rawInputLstJSON=%5B%5D&curInstr=0&codeDivWidth=350&codeDivHeight=400\"\n",
       "            frameborder=\"0\"\n",
       "            allowfullscreen\n",
       "        ></iframe>\n",
       "        "
      ],
      "text/plain": [
       "<IPython.lib.display.IFrame at 0x1a499b5af10>"
      ]
     },
     "metadata": {},
     "output_type": "display_data"
    }
   ],
   "source": [
    "%%tutor\n",
    "list1 = [2, 25, 3, 4, 1, 32, 4, 19, 99, 54]\n",
    "list1.pop(2)      # Eliminando elemendo en la posicion 2\n",
    "list1.pop()       # Eliminando elemendo en ultima posicion\n",
    "list1.remove(32)  # Eliminando el numero 32"
   ]
  },
  {
   "cell_type": "markdown",
   "id": "bc443044",
   "metadata": {},
   "source": [
    "**Ejemplo 7**: Ejemplo usando los métodos para ordenamiento: ```reverse``` y ```sort```"
   ]
  },
  {
   "cell_type": "code",
   "execution_count": 47,
   "id": "7cbc3c03",
   "metadata": {
    "scrolled": true
   },
   "outputs": [
    {
     "data": {
      "text/html": [
       "\n",
       "        <iframe\n",
       "            width=\"100%\"\n",
       "            height=\"500\"\n",
       "            src=\"https://pythontutor.com/iframe-embed.html#code=list1%20%3D%20%5B2%2C%2025%2C%203%2C%204%2C%201%2C%2032%2C%204%2C%2019%2C%2099%2C%2054%5D%0Alist1.reverse%28%29%20%20%23%20Ordenando%20la%20lista%20de%20mayor%20a%20menor%0Alist1.sort%28%29%20%20%20%20%20%23%20Ordenando%20la%20lista%20de%20menor%20a%20mayor%0A&origin=opt-frontend.js&cumulative=false&heapPrimitives=false&textReferences=false&py=3&rawInputLstJSON=%5B%5D&curInstr=0&codeDivWidth=350&codeDivHeight=400\"\n",
       "            frameborder=\"0\"\n",
       "            allowfullscreen\n",
       "        ></iframe>\n",
       "        "
      ],
      "text/plain": [
       "<IPython.lib.display.IFrame at 0x1a4992dfbb0>"
      ]
     },
     "metadata": {},
     "output_type": "display_data"
    }
   ],
   "source": [
    "%%tutor\n",
    "list1 = [2, 25, 3, 4, 1, 32, 4, 19, 99, 54]\n",
    "list1.reverse()  # Ordenando la lista de mayor a menor\n",
    "list1.sort()     # Ordenando la lista de menor a mayor"
   ]
  },
  {
   "attachments": {},
   "cell_type": "markdown",
   "id": "a3dd5afc",
   "metadata": {},
   "source": [
    "## **Listas de listas**\n",
    "\n",
    "Las listas pueden contener cualquier tipo de dato incluyendo otras listas. Una lista cuyos items son listas es llamada una lista anidada. Por ejemplo, la siguiente instrucción en python:\n",
    "\n",
    "```python\n",
    "life = [['Canada', 76.5], ['United States', 75.5], ['Mexico', 72.0]]\n",
    "```\n",
    "\n",
    "Genera la siguiente lista:\n",
    "\n",
    "![lista_anidada](lista_anidada.jpg)\n",
    "\n",
    "A continuación juguemos con dicha lista:"
   ]
  },
  {
   "cell_type": "code",
   "execution_count": 46,
   "id": "b17b5811",
   "metadata": {},
   "outputs": [
    {
     "data": {
      "text/html": [
       "\n",
       "        <iframe\n",
       "            width=\"100%\"\n",
       "            height=\"500\"\n",
       "            src=\"https://pythontutor.com/iframe-embed.html#code=life%20%3D%20%5B%5B%27Canada%27%2C%2076.5%5D%2C%20%5B%27United%20States%27%2C%2075.5%5D%2C%20%5B%27Mexico%27%2C%2072.0%5D%5D%0Aprint%28life%5B0%5D%29%0Aprint%28life%5B1%5D%29%0Aprint%28life%5B2%5D%29%0Aprint%28life%5B1%5D%5B0%5D%29%0Aprint%28life%5B1%5D%5B1%5D%29%0A&origin=opt-frontend.js&cumulative=false&heapPrimitives=false&textReferences=false&py=3&rawInputLstJSON=%5B%5D&curInstr=0&codeDivWidth=350&codeDivHeight=400\"\n",
       "            frameborder=\"0\"\n",
       "            allowfullscreen\n",
       "        ></iframe>\n",
       "        "
      ],
      "text/plain": [
       "<IPython.lib.display.IFrame at 0x1a499b5a370>"
      ]
     },
     "metadata": {},
     "output_type": "display_data"
    }
   ],
   "source": [
    "%%tutor\n",
    "life = [['Canada', 76.5], ['United States', 75.5], ['Mexico', 72.0]]\n",
    "print(life[0])\n",
    "print(life[1])\n",
    "print(life[2])\n",
    "print(life[1][0])\n",
    "print(life[1][1])"
   ]
  },
  {
   "cell_type": "markdown",
   "id": "0ec76a36",
   "metadata": {},
   "source": [
    "## **Ejemplos de repaso**\n",
    "\n",
    "Ejecute, analice y comprenda el funcionamiento de los siguiente codigos."
   ]
  },
  {
   "cell_type": "markdown",
   "id": "b90ca551",
   "metadata": {},
   "source": [
    "### **Código 1**"
   ]
  },
  {
   "cell_type": "code",
   "execution_count": null,
   "id": "47f45b5a",
   "metadata": {},
   "outputs": [],
   "source": [
    "ten_things = \"Apples Oranges Crows Telephone Light Sugar\"\n",
    "\n",
    "print(\"Wait there's not 10 things in that list, let's fix that.\")\n",
    "\n",
    "stuff = ten_things.split(' ')\n",
    "more_stuff = [\"Day\", \"Night\", \"Song\", \"Frisbee\", \"Corn\", \"Banana\", \"Girl\", \"Boy\"]\n",
    "\n",
    "while len(stuff) != 10:\n",
    "    next_one = more_stuff.pop()\n",
    "    print(\"Adding: \", next_one)\n",
    "    stuff.append(next_one)\n",
    "    print(\"There's %d items now.\" % len(stuff))\n",
    "\n",
    "print(\"There we go: \", stuff)\n",
    "\n",
    "print(\"Let's do some things with stuff.\")\n",
    "\n",
    "print(stuff[1])\n",
    "print(stuff[- 1]) # whoa! fancy\n",
    "print(stuff.pop())\n",
    "print(' '.join(stuff)) # what? cool!\n",
    "print('#'.join(stuff[3:5])) # super stellar!"
   ]
  },
  {
   "cell_type": "markdown",
   "id": "9d655277",
   "metadata": {},
   "source": [
    "### **Código 2**"
   ]
  },
  {
   "cell_type": "code",
   "execution_count": null,
   "id": "ffa4b5e9",
   "metadata": {},
   "outputs": [],
   "source": [
    "months = [\"Jan\", \"Feb\", \"Mar\", \"Apr\", \"May\",\"Jun\", \"Jul\", \"Aug\", \"Sep\", \"Oct\", \"Nov\",\"Dec\"]\n",
    "n = int(input(\"Enter a month number (1-12): \"))\n",
    "print (\"The month abbreviation is\", months[n-1] + \".\")"
   ]
  },
  {
   "cell_type": "markdown",
   "id": "890761fa",
   "metadata": {},
   "source": [
    "### **Código 3**"
   ]
  },
  {
   "cell_type": "code",
   "execution_count": null,
   "id": "5ad34f47",
   "metadata": {},
   "outputs": [],
   "source": [
    "NUMBER_OF_ELEMENTS = 5 # For simplicity, use 5 instead of 100\n",
    "numbers = [] # Create an empty list\n",
    "sum = 0\n",
    "\n",
    "for i in range(NUMBER_OF_ELEMENTS):\n",
    "    value = eval(input(\"Enter a new number: \"))\n",
    "    sum += value\n",
    "\n",
    "average = sum / NUMBER_OF_ELEMENTS\n",
    "\n",
    "count = 0 # The number of elements above average\n",
    "for i in range(NUMBER_OF_ELEMENTS):\n",
    "    if numbers[i] > average:\n",
    "        count += 1\n",
    "\n",
    "print(\"Average is\", average)\n",
    "print(\"Number of elements above the average is\", count)"
   ]
  },
  {
   "cell_type": "markdown",
   "id": "f455dc40",
   "metadata": {},
   "source": [
    "## **Referencias**\n",
    "\n",
    "* https://docs.hektorprofe.net/\n",
    "* http://codingclub.co.uk/\n",
    "* https://github.com/mx0c/super-mario-python\n",
    "* https://sourceforge.net/projects/supermariobrosp/\n",
    "* https://github.com/njbittner/battle-bros-pyarcade/blob/master/Player.py\n",
    "* https://github.com/AHowardC/mkgame\n",
    "* https://www.pygame.org/project-Street+pyghter-1860-.html\n"
   ]
  },
  {
   "cell_type": "code",
   "execution_count": null,
   "id": "0547430c",
   "metadata": {},
   "outputs": [],
   "source": []
  }
 ],
 "metadata": {
  "kernelspec": {
   "display_name": "Python 3",
   "language": "python",
   "name": "python3"
  },
  "language_info": {
   "codemirror_mode": {
    "name": "ipython",
    "version": 3
   },
   "file_extension": ".py",
   "mimetype": "text/x-python",
   "name": "python",
   "nbconvert_exporter": "python",
   "pygments_lexer": "ipython3",
   "version": "3.8.8"
  }
 },
 "nbformat": 4,
 "nbformat_minor": 5
}

{
 "cells": [
  {
   "cell_type": "markdown",
   "id": "157f4d0b",
   "metadata": {},
   "source": [
    "[![Open In Colab](https://colab.research.google.com/assets/colab-badge.svg)](https://colab.research.google.com/github/tigarto/python_mision_codes/blob/main/semana5/clases_python_10.ipynb)"
   ]
  },
  {
   "cell_type": "code",
   "execution_count": 1,
   "id": "071c158f",
   "metadata": {},
   "outputs": [
    {
     "name": "stdout",
     "output_type": "stream",
     "text": [
      "Requirement already satisfied: metakernel in c:\\users\\usuario\\anaconda3\\lib\\site-packages (0.27.5)\n",
      "Requirement already satisfied: ipykernel in c:\\users\\usuario\\anaconda3\\lib\\site-packages (from metakernel) (5.5.5)\n",
      "Requirement already satisfied: pexpect>=4.2 in c:\\users\\usuario\\anaconda3\\lib\\site-packages (from metakernel) (4.8.0)\n",
      "Requirement already satisfied: ptyprocess>=0.5 in c:\\users\\usuario\\anaconda3\\lib\\site-packages (from pexpect>=4.2->metakernel) (0.7.0)\n",
      "Requirement already satisfied: traitlets>=4.1.0 in c:\\users\\usuario\\anaconda3\\lib\\site-packages (from ipykernel->metakernel) (5.0.5)\n",
      "Requirement already satisfied: ipython>=5.0.0 in c:\\users\\usuario\\anaconda3\\lib\\site-packages (from ipykernel->metakernel) (7.22.0)\n",
      "Requirement already satisfied: tornado>=4.2 in c:\\users\\usuario\\anaconda3\\lib\\site-packages (from ipykernel->metakernel) (6.1)\n",
      "Requirement already satisfied: jupyter-client in c:\\users\\usuario\\anaconda3\\lib\\site-packages (from ipykernel->metakernel) (6.1.12)\n",
      "Requirement already satisfied: setuptools>=18.5 in c:\\users\\usuario\\anaconda3\\lib\\site-packages (from ipython>=5.0.0->ipykernel->metakernel) (52.0.0.post20210125)\n",
      "Requirement already satisfied: pickleshare in c:\\users\\usuario\\anaconda3\\lib\\site-packages (from ipython>=5.0.0->ipykernel->metakernel) (0.7.5)\n",
      "Requirement already satisfied: colorama in c:\\users\\usuario\\anaconda3\\lib\\site-packages (from ipython>=5.0.0->ipykernel->metakernel) (0.4.4)\n",
      "Requirement already satisfied: prompt-toolkit!=3.0.0,!=3.0.1,<3.1.0,>=2.0.0 in c:\\users\\usuario\\anaconda3\\lib\\site-packages (from ipython>=5.0.0->ipykernel->metakernel) (3.0.17)\n",
      "Requirement already satisfied: decorator in c:\\users\\usuario\\anaconda3\\lib\\site-packages (from ipython>=5.0.0->ipykernel->metakernel) (5.0.6)\n",
      "Requirement already satisfied: backcall in c:\\users\\usuario\\anaconda3\\lib\\site-packages (from ipython>=5.0.0->ipykernel->metakernel) (0.2.0)\n",
      "Requirement already satisfied: pygments in c:\\users\\usuario\\anaconda3\\lib\\site-packages (from ipython>=5.0.0->ipykernel->metakernel) (2.8.1)\n",
      "Requirement already satisfied: jedi>=0.16 in c:\\users\\usuario\\anaconda3\\lib\\site-packages (from ipython>=5.0.0->ipykernel->metakernel) (0.17.2)\n",
      "Requirement already satisfied: parso<0.8.0,>=0.7.0 in c:\\users\\usuario\\anaconda3\\lib\\site-packages (from jedi>=0.16->ipython>=5.0.0->ipykernel->metakernel) (0.7.0)\n",
      "Requirement already satisfied: wcwidth in c:\\users\\usuario\\anaconda3\\lib\\site-packages (from prompt-toolkit!=3.0.0,!=3.0.1,<3.1.0,>=2.0.0->ipython>=5.0.0->ipykernel->metakernel) (0.2.5)\n",
      "Requirement already satisfied: ipython-genutils in c:\\users\\usuario\\anaconda3\\lib\\site-packages (from traitlets>=4.1.0->ipykernel->metakernel) (0.2.0)\n",
      "Requirement already satisfied: python-dateutil>=2.1 in c:\\users\\usuario\\anaconda3\\lib\\site-packages (from jupyter-client->ipykernel->metakernel) (2.8.1)\n",
      "Requirement already satisfied: jupyter-core>=4.6.0 in c:\\users\\usuario\\anaconda3\\lib\\site-packages (from jupyter-client->ipykernel->metakernel) (4.7.1)\n",
      "Requirement already satisfied: pyzmq>=13 in c:\\users\\usuario\\anaconda3\\lib\\site-packages (from jupyter-client->ipykernel->metakernel) (20.0.0)\n",
      "Requirement already satisfied: pywin32>=1.0 in c:\\users\\usuario\\anaconda3\\lib\\site-packages (from jupyter-core>=4.6.0->jupyter-client->ipykernel->metakernel) (227)\n",
      "Requirement already satisfied: six>=1.5 in c:\\users\\usuario\\anaconda3\\lib\\site-packages (from python-dateutil>=2.1->jupyter-client->ipykernel->metakernel) (1.15.0)\n"
     ]
    }
   ],
   "source": [
    "!pip install metakernel"
   ]
  },
  {
   "cell_type": "code",
   "execution_count": 2,
   "id": "6d55c63e",
   "metadata": {},
   "outputs": [],
   "source": [
    "from metakernel import register_ipython_magics\n",
    "register_ipython_magics()"
   ]
  },
  {
   "cell_type": "markdown",
   "id": "bae93cc4",
   "metadata": {},
   "source": [
    "# **Pilas**"
   ]
  },
  {
   "cell_type": "markdown",
   "id": "f3a337dc",
   "metadata": {},
   "source": [
    "## **Introducción**\n",
    "\n",
    "Una **pila** (**stack**) es una lista ordenada o estructura de datos que permite almacenar y recuperar datos. Esta presenta un modo de acceso a sus elementos de tipo **LIFO** (del inglés **L**ast **I**n, **F**irst **O**ut, **último en entrar, primero en salir**) debido a que los datos almacenados en ella se retiran en orden inverso al que fueron entrados. \n",
    "\n",
    "Cuando se trabajan con pilas se manejan dos operaciones basicas:\n",
    "1. **Apilar (push)**: consiste en insertar un registro al principio de una lista ligada.\n",
    "2. **Desapilar (pop)**: consiste en eliminar el primer nodo de la lista y retornar el dato que se hallaba en ese nodo.\n",
    "\n",
    "La siguiente figura ilustra estas dos operaciones:\n",
    "\n",
    "![stack](stack.png)\n",
    "\n"
   ]
  },
  {
   "cell_type": "markdown",
   "id": "9a193802",
   "metadata": {},
   "source": [
    "## **Aplicaciones**\n",
    "\n",
    "\n",
    "### **Llamadas a subprogramas**\n",
    "\n",
    "Un ejemplo clásico de aplicación de pilas en computadores se presenta en el proceso de llamadas a subprogramas y sus retornos. La siguiente figura ilustra este caso:\n",
    "\n",
    "![stack_ejemplo](stack_ejemplo.jpg)\n",
    "\n",
    "Como se muestra en la figura anterior, cada vez que se llama a un subprograma (subrutina o función) es necesario guardar el estado del programa que realiza la llamada: o Dirección del programa a la que debe volver cuando termine, o las variables del programa, junto con sus valores antes de la llamada.\n",
    "\n",
    "A continuación se muestra un ejemplo en el que se visualiza el comportamiento anteriormente descrito [Código online](http://pythontutor.com/visualize.html#code=def%20P1%28%29%3A%0A%20%20%20%20print%28%22P1%22%29%0A%20%20%20%20print%28%22P1%22%29%0A%20%20%20%20P2%28%29%0A%20%20%20%20print%28%22P1%22%29%0A%20%20%20%20print%28%22P1%22%29%0A%20%20%20%20%0Adef%20P2%28%29%3A%20%20%20%20%0A%20%20%20%20print%28%22P2%22%29%0A%20%20%20%20print%28%22P2%22%29%20%20%20%20%0A%20%20%20%20print%28%22P2%22%29%0A%20%20%20%20P3%28%29%0A%20%20%20%20print%28%22P2%22%29%0A%20%20%20%20%0Adef%20P3%28%29%3A%0A%20%20%20%20print%28%22P3%22%29%0A%20%20%20%20print%28%22P3%22%29%0A%20%20%20%20%0Aprint%28%22Main%22%29%0Aprint%28%22Main%22%29%0AP1%28%29%0Aprint%28%22Main%22%29%0Aprint%28%22Main%22%29&cumulative=false&curInstr=0&heapPrimitives=nevernest&mode=display&origin=opt-frontend.js&py=3&rawInputLstJSON=%5B%5D&textReferences=false):"
   ]
  },
  {
   "cell_type": "code",
   "execution_count": 9,
   "id": "aa653b0e",
   "metadata": {},
   "outputs": [
    {
     "name": "stdout",
     "output_type": "stream",
     "text": [
      "Main\n",
      "Main\n",
      "P1\n",
      "P1\n",
      "P2\n",
      "P2\n",
      "P2\n",
      "P3\n",
      "P3\n",
      "P2\n",
      "P1\n",
      "P1\n",
      "Main\n",
      "Main\n"
     ]
    }
   ],
   "source": [
    "def P1():\n",
    "    print(\"P1\")\n",
    "    print(\"P1\")\n",
    "    P2()\n",
    "    print(\"P1\")\n",
    "    print(\"P1\")\n",
    "    \n",
    "def P2():    \n",
    "    print(\"P2\")\n",
    "    print(\"P2\")    \n",
    "    print(\"P2\")\n",
    "    P3()\n",
    "    print(\"P2\")\n",
    "    \n",
    "def P3():\n",
    "    print(\"P3\")\n",
    "    print(\"P3\")\n",
    "    \n",
    "print(\"Main\")\n",
    "print(\"Main\")\n",
    "P1()\n",
    "print(\"Main\")\n",
    "print(\"Main\")"
   ]
  },
  {
   "cell_type": "markdown",
   "id": "47f68398",
   "metadata": {},
   "source": [
    "### **Tratamiento de expresiones aritméticas**\n",
    "\n",
    "![polaca](Reverse_Polish_Notation_Stack_Example.jpg)\n"
   ]
  },
  {
   "cell_type": "markdown",
   "id": "3a4df4e6",
   "metadata": {},
   "source": [
    "### **Recursion**\n",
    "\n",
    "* La recursión es una técnica que conduce a soluciones elegantes, a problemas que son difíciles de programar usando bucles simples. \n",
    "* Para utilizar recursión en un programa, se deben codificar métodos recursivos, es decir, codificar métodos que se invoquen a sí mismos.\n",
    "* Muchas funciones matemáticas se definen mediante recursividad.\n",
    "\n",
    "#### **Ejemplo de comparación**\n",
    "A continuación se muestra la función factorial implementada de mediante ciclos y de manera recursiva.\n",
    "\n",
    "1. **Mediante ciclos** ([link de simulacion](http://pythontutor.com/visualize.html#code=def%20factorial%28n%29%3A%0A%20%20%20%20fac%20%3D%201%0A%20%20%20%20for%20i%20in%20range%282,n%2B1%29%3A%0A%20%20%20%20%20%20%20%20fac%20%3D%20fac*i%0A%20%20%20%20return%20fac%0A%0Afac4%20%3D%20factorial%284%29%0Aprint%28%224!%20%3D%22,%20fac4%29&cumulative=false&curInstr=0&heapPrimitives=nevernest&mode=display&origin=opt-frontend.js&py=3&rawInputLstJSON=%5B%5D&textReferences=false))"
   ]
  },
  {
   "cell_type": "code",
   "execution_count": 12,
   "id": "123d6c4d",
   "metadata": {},
   "outputs": [
    {
     "name": "stdout",
     "output_type": "stream",
     "text": [
      "3! = 6\n"
     ]
    }
   ],
   "source": [
    "def factorial(n):\n",
    "    fac = 1\n",
    "    for i in range(2,n+1):\n",
    "        fac = fac*i\n",
    "    return fac\n",
    "\n",
    "fac4 = factorial(4)\n",
    "print(\"4! =\", fac4)"
   ]
  },
  {
   "cell_type": "markdown",
   "id": "9d83c936",
   "metadata": {},
   "source": [
    "2. **Mediante Funciones recursivas** ([link de simulacion](http://pythontutor.com/visualize.html#code=def%20factorial%28n%29%3A%0A%20%20%20%20if%20%28n%20%3D%3D%200%29%3A%0A%20%20%20%20%20%20%20%20return%201%0A%20%20%20%20else%3A%0A%20%20%20%20%20%20%20%20return%20n*factorial%28n%20-%201%29%0A%0Afac4%20%3D%20factorial%284%29%0Aprint%28%224!%20%3D%22,%20fac4%29&cumulative=false&curInstr=0&heapPrimitives=nevernest&mode=display&origin=opt-frontend.js&py=3&rawInputLstJSON=%5B%5D&textReferences=false))"
   ]
  },
  {
   "cell_type": "code",
   "execution_count": 13,
   "id": "9fd176fb",
   "metadata": {},
   "outputs": [
    {
     "name": "stdout",
     "output_type": "stream",
     "text": [
      "4! = 24\n"
     ]
    }
   ],
   "source": [
    "def factorial(n):\n",
    "    if (n == 0):\n",
    "        return 1\n",
    "    else:\n",
    "        return n*factorial(n - 1)\n",
    "\n",
    "fac4 = factorial(4)\n",
    "print(\"4! =\", fac4)\n"
   ]
  },
  {
   "cell_type": "markdown",
   "id": "c30b8d2d",
   "metadata": {},
   "source": [
    "## **Implementacion de pilas**\n",
    "\n",
    "Las operaciones asociadas a la clase pila son las siguientes:\n",
    "* **crear**: crea una pila vacía.\n",
    "* **apilar**: incluye el dato d en la pila.\n",
    "* **desapilar**: elimina el último elemento de la pila y deja una nueva pila la cual queda con un elemento menos.\n",
    "* **cima**: retorna el dato que está de último en la pila, sin eliminarlo.\n",
    "* **esVacia**: retorna verdadero si la pila está vacía, falso de lo contrario.\n",
    "* **esLlena**: retorna verdadero si la pila está llena, falso de lo contrario."
   ]
  },
  {
   "cell_type": "markdown",
   "id": "736fb8e8",
   "metadata": {},
   "source": [
    "### **Implemenación una pila empleando la clase vector**\n",
    "\n",
    "Recordemos la clase vector (previamente creada)"
   ]
  },
  {
   "cell_type": "code",
   "execution_count": 22,
   "id": "26317fd4",
   "metadata": {},
   "outputs": [],
   "source": [
    "class vector:\n",
    "    def __init__(self, n):\n",
    "        self.n = n\n",
    "        self.V = [0] * (n + 1)\n",
    "     \n",
    "    def construyeVector(self, m, r): \n",
    "        self.V[0] = m   \n",
    "        for i in range(1, m + 1):\n",
    "            self.V[i] = random.randint(1, r)\n",
    "        \n",
    "    def imprimeVector(self, mensaje = \"vector sin nombre: \\t\"): \n",
    "        print(\"\\n\", mensaje, end=\" \")  \n",
    "        for i in range(1, self.V[0] + 1):   \n",
    "            print(self.V[i], end=\", \")   \n",
    "        print()\n",
    "       \n",
    "    def agregarDato(self, d):   \n",
    "        if self.esLleno():    \n",
    "             return    \n",
    "        self.V[0] = self.V[0] + 1    \n",
    "        self.V[self.V[0]] = d\n",
    "    \n",
    "    def asignaDato(self, d, i):    \n",
    "        self.V[i] = d\n",
    "    \n",
    "    def retornaDato(self, i):    \n",
    "        return self.V[i] \n",
    "       \n",
    "    def intercambiar(self, a, b):    \n",
    "        aux = self.V[a]    \n",
    "        self.V[a] = self.V[b]\n",
    "        self.V[b] = aux\n",
    "       \n",
    "    def seleccion(self):    \n",
    "         for i in range(1, self.V[0]):    \n",
    "            k = i    \n",
    "            for j in range(i + 1, self.V[0] + 1):    \n",
    "                if self.V[j] < self.V[k]:    \n",
    "                    k = j    \n",
    "            self.intercambiar(k, i) \n",
    "       \n",
    "    def mayor(self):    \n",
    "        mayor = 1    \n",
    "        for i in range(1, self.V[0] + 1):    \n",
    "            if self.V[i] > self.V[mayor]:    \n",
    "                mayor = i    \n",
    "        return mayor    \n",
    "    \n",
    "    def menor(self):    \n",
    "        menor = 1    \n",
    "        for i in range(1, self.V[0] + 1):    \n",
    "            if self.V[i] < self.V[menor]:    \n",
    "                menor = i    \n",
    "        return menor\n",
    "    \n",
    "    def buscarDato(self, d):    \n",
    "        i = 1    \n",
    "        while i <= self.V[0] and self.V[i] != d:    \n",
    "            i = i + 1    \n",
    "        if i <= self.V[0]:    \n",
    "            return i    \n",
    "        return -1\n",
    "       \n",
    "    def borrarDatoEnPosicion(self, i):    \n",
    "        if i <= 0 or i > self.V[0]:\n",
    "            print(\"\\nParámetro i inválido\")    \n",
    "            return    \n",
    "        for j in range(i, self.V[0]):    \n",
    "            self.V[j] = self.V[j + 1]    \n",
    "        self.V[0] = self.V[0] -1\n",
    "      \n",
    "    def borrarDato(self, d):   \n",
    "        i = self.buscarDato(d)   \n",
    "        if i != -1:   \n",
    "            self.borrarDatoEnPosicion(i)  \n",
    "    \n",
    "    def posicionesUsadas(self):   \n",
    "        return self.V[0]      \n",
    "    \n",
    "    def esVacio(self):   \n",
    "        return self.V[0] == 0\n",
    "          \n",
    "    def esLleno(self):    \n",
    "        return self.V[0] == self.n   \n",
    "       \n",
    "    def tamagno(self):    \n",
    "        return self.n\n",
    "        \n",
    "    def asignaNumeroElementos(self, m): \n",
    "        self.V[0] = m\n",
    "         \n",
    "    def buscaDondeInsertar(self, d):   \n",
    "        i = 1   \n",
    "        while i <= self.V[0] and self.V[i] < d:   \n",
    "            i = i + 1   \n",
    "        return i  \n",
    "       \n",
    "    def insertar(self, d, i = 0):  \n",
    "        if self.esLleno():  \n",
    "            print(\"\\nVector lleno, no se puede insertar\")  \n",
    "            return  \n",
    "        if i == 0:     \n",
    "            i = self.buscaDondeInsertar(d)   \n",
    "        for j in range(self.V[0], i -1, -1):   \n",
    "            self.V[j + 1] = self.V[j]    \n",
    "        self.V[i] = d   \n",
    "        self.V[0] = self.V[0] + 1       \n",
    "    \n",
    "    def sumaDatos(self):    \n",
    "        s = 0  \n",
    "        for i in range(1, self.V[0] + 1):  \n",
    "            s = s + self.V[i]   \n",
    "        return s"
   ]
  },
  {
   "cell_type": "markdown",
   "id": "b5296db5",
   "metadata": {},
   "source": [
    "Los metodos para la clase pila a implementar se muestran a continuación:\n",
    "* **init**: crea un objeto vector con el tamaño ingresado + 1.\n",
    "* **apilar**: agrega un nuevo elemento a la pila.\n",
    "* **desapilar**: elimina el tope de la pila y lo devuelve. El elemento que se devuelve es siempre el último que se agreg6.\n",
    "* **muestraPila**: imprime lo que tiene la pila\n"
   ]
  },
  {
   "cell_type": "code",
   "execution_count": 23,
   "id": "e0b0a746",
   "metadata": {},
   "outputs": [],
   "source": [
    "# from claseVector import vector\n",
    "class pilaVector(vector):\n",
    "    \n",
    "    def __init__(self, n):\n",
    "        vector.__init__(self, n)\n",
    "        \n",
    "    def apilar(self, d):\n",
    "        self.agregarDato(d)\n",
    "        \n",
    "    def muestraPila(self, mensaje = \"pila sin nombre: \\t\"):\n",
    "        super().imprimeVector(mensaje)\n",
    "        \n",
    "    def desapilar(self):\n",
    "        if self.V[0] == 0:\n",
    "            print(\"Pila vacía\")\n",
    "            return None\n",
    "        d = self.V[self.V[0]]\n",
    "        self.V[0] = self.V[0] - 1\n",
    "        return d"
   ]
  },
  {
   "cell_type": "markdown",
   "id": "bda99e3b",
   "metadata": {},
   "source": [
    "Como ejemplo de aplicación de la clase definida anteriormente, implementemos la pila definida a continuación:\n",
    "\n",
    "![pila_ejemplo](pila_ejemplo.jpg)\n",
    "\n",
    "El codigo solución se muestra a continuación:"
   ]
  },
  {
   "cell_type": "code",
   "execution_count": 54,
   "id": "d0c1d07a",
   "metadata": {},
   "outputs": [
    {
     "name": "stdout",
     "output_type": "stream",
     "text": [
      "\n",
      " pila:  A, B, c, d, \n",
      "\n",
      "Desapilando la pila\n",
      "\n",
      "\n",
      " pila:  A, B, c, d, \n",
      " -> Dato desapilado: d\n",
      "\n",
      " pila:  A, B, c, \n",
      " -> Dato desapilado: c\n",
      "\n",
      " pila:  A, B, \n",
      " -> Dato desapilado: B\n",
      "\n",
      " pila:  A, \n",
      " -> Dato desapilado: A\n",
      "\n",
      " pila:  \n"
     ]
    }
   ],
   "source": [
    "pila = pilaVector(6)\n",
    "pila.apilar(\"A\")\n",
    "pila.apilar(\"B\")\n",
    "pila.apilar(\"c\")\n",
    "pila.apilar(\"d\")\n",
    "pila.muestraPila(mensaje = \"pila: \")\n",
    "print(\"\\nDesapilando la pila\\n\")\n",
    "pila.muestraPila(mensaje = \"pila: \")\n",
    "d = pila.desapilar()\n",
    "print(\" -> Dato desapilado:\", d)\n",
    "pila.muestraPila(mensaje = \"pila: \")\n",
    "d = pila.desapilar()\n",
    "print(\" -> Dato desapilado:\", d)\n",
    "pila.muestraPila(mensaje = \"pila: \")\n",
    "d = pila.desapilar()\n",
    "print(\" -> Dato desapilado:\", d)\n",
    "pila.muestraPila(mensaje = \"pila: \")\n",
    "d = pila.desapilar()\n",
    "print(\" -> Dato desapilado:\", d)\n",
    "pila.muestraPila(mensaje = \"pila: \")"
   ]
  },
  {
   "cell_type": "markdown",
   "id": "a454cb31",
   "metadata": {},
   "source": [
    "### **Implemenación una pila empleando la clase LSL**\n",
    "\n",
    "Recordemos las clases **nodo simple** y **LSL** previamente creadas:"
   ]
  },
  {
   "cell_type": "code",
   "execution_count": 32,
   "id": "595cfe56",
   "metadata": {},
   "outputs": [],
   "source": [
    "class nodoSimple:\n",
    "    \n",
    "    def __init__(self, d = None):\n",
    "        self.dato = d\n",
    "        self.liga = None\n",
    "        \n",
    "    def asignarDato(self, d):\n",
    "        self.dato = d\n",
    "        \n",
    "    def asignarLiga(self, x):\n",
    "        self.liga = x\n",
    "     \n",
    "    def retornarDato(self):\n",
    "        return self.dato\n",
    " \n",
    "    def retornarLiga(self):\n",
    "        return self.liga\n",
    "    \n",
    "class LSL:\n",
    "    def __init__(self): #Constructor\n",
    "        self.primero = None\n",
    "        self.ultimo = None\n",
    "    \n",
    "    def primerNodo (self):\n",
    "        return self.primero\n",
    "    \n",
    "    def ultimoNodo (self):\n",
    "        return self.ultimo\n",
    "    \n",
    "    def esVacia (self):\n",
    "        return self.primero == None\n",
    "    \n",
    "    def finDeRecorrido (self, p):\n",
    "        return p == None\n",
    "    \n",
    "    def recorrerLista (self):\n",
    "        p = self.primerNodo()\n",
    "        while not self.finDeRecorrido(p):\n",
    "            print(p.retornarDato(), end = \", \")\n",
    "            p = p.retornarLiga()\n",
    "            \n",
    "    def agregarDato (self, d):\n",
    "        x = nodoSimple(d)\n",
    "        p = self.primerNodo()\n",
    "        if p == None:\n",
    "            self.primero = x\n",
    "            self.ultimo = x\n",
    "        else:\n",
    "            self.ultimo.liga = x\n",
    "            self.ultimo = x\n",
    "            \n",
    "    def buscarDondeInsertar (self, d):\n",
    "        p = self.primerNodo()\n",
    "        y = None\n",
    "        while not self.finDeRecorrido(p) and p.retornarDato() < d:\n",
    "            y = p\n",
    "            p = p.retornarLiga()\n",
    "        return y\n",
    "    \n",
    "    def insertar (self, d, y=None): #cambio\n",
    "        x = nodoSimple(d) #cambio\n",
    "        self.conectar(x, y)\n",
    "        \n",
    "    def conectar (self, x, y):\n",
    "        if y == None:\n",
    "            if self.primero == None:\n",
    "                self.ultimo = x\n",
    "            else:\n",
    "                x.asignarLiga(self.primero)\n",
    "            self.primero = x\n",
    "            return\n",
    "        x.asignarLiga(y.retornarLiga())\n",
    "        y.asignarLiga(x)\n",
    "        if y == self.ultimo:\n",
    "            self.ultimo = x\n",
    "            \n",
    "    def longitud (self):\n",
    "        p = self.primerNodo()\n",
    "        n = 0\n",
    "        while not self.finDeRecorrido(p):\n",
    "            n = n + 1\n",
    "            p = p.retornarLiga()\n",
    "        return n\n",
    "    \n",
    "    def buscarDato (self, d, y):\n",
    "        x = self.primerNodo()\n",
    "        while not self.finDeRecorrido(x) and x.retornarDato() != d:\n",
    "            y.asignarDato(x)\n",
    "            x = x.retornarLiga()\n",
    "        return x\n",
    "    \n",
    "    def buscarDato2 (self, d):\n",
    "        y = nodoSimple()\n",
    "        x = self.primerNodo()\n",
    "        while not self.finDeRecorrido(x) and x.retornarDato() != d:\n",
    "            y.asignarDato(x)\n",
    "            x = x.retornarLiga()\n",
    "        return x, y\n",
    "   \n",
    "    def borrar (self, x, y = None):\n",
    "        if x == None:\n",
    "            print(\"Dato no está en la lista\")\n",
    "            return\n",
    "        if y == None:\n",
    "            if x != self.primero:\n",
    "                print(\"Falta el anterior del dato a borrar\")\n",
    "                return\n",
    "        else:\n",
    "            y = y.retornarDato()  \n",
    "        self.desconectar(x,y) #cambié identación\n",
    "          \n",
    "    def desconectar (self, x, y):\n",
    "        if y == None:\n",
    "            self.primero = x.retornarLiga()\n",
    "            if self.esVacia():\n",
    "                self.ultimo = None\n",
    "        else:\n",
    "            y.asignarLiga(x.retornarLiga())\n",
    "            if x == self.ultimo:\n",
    "                self.ultimo = y"
   ]
  },
  {
   "cell_type": "markdown",
   "id": "e732873e",
   "metadata": {},
   "source": [
    "La clase **pila** que se implementará mediante **LSL** tendrá los siguientes métodos:\n",
    "* **init**: inicializa un objeto LSL.\n",
    "* **apilar**: agrega un nuevo elemento a la pila.\n",
    "* **desapilar**: elimina el tope de la pila y lo devuelve. El elemento que se devuelve es siempre el último que se agreg6.\n",
    "* **muestraPila**: imprime lo que tiene la pila"
   ]
  },
  {
   "cell_type": "code",
   "execution_count": 33,
   "id": "f9071957",
   "metadata": {},
   "outputs": [],
   "source": [
    "# from lsl import LSL\n",
    "class pila(LSL):\n",
    "    \n",
    "    def __init__(self):\n",
    "        LSL.__init__(self)\n",
    "        \n",
    "    def apilar(self, d):\n",
    "        self.insertar(d)\n",
    "        \n",
    "    def muestraPila(self):\n",
    "        self.recorrerLista()\n",
    "        \n",
    "    def desapilar(self):\n",
    "        p = self.primerNodo()\n",
    "        d = p.retornarDato()\n",
    "        self.borrar(p)\n",
    "        return d\n",
    "    "
   ]
  },
  {
   "cell_type": "markdown",
   "id": "6a696da0",
   "metadata": {},
   "source": [
    "Como ejemplo de aplicación de la clase definida anteriormente, implementemos la pila definida a continuación:\n",
    "\n",
    "![pila_LSL_ejemplo](pila_LSL_ejemplo.jpg)\n",
    "\n",
    "El codigo solución se muestra a continuación:"
   ]
  },
  {
   "cell_type": "code",
   "execution_count": 52,
   "id": "7193d8cf",
   "metadata": {},
   "outputs": [
    {
     "name": "stdout",
     "output_type": "stream",
     "text": [
      "a, b, c, d, \n",
      " Está vacía? False\n"
     ]
    }
   ],
   "source": [
    "a = pila()\n",
    "a.apilar(\"d\")\n",
    "a.apilar(\"c\")\n",
    "a.apilar(\"b\")\n",
    "a.apilar(\"a\")\n",
    "a.recorrerLista()\n",
    "b = a.esVacia()\n",
    "print(\"\\n Está vacía?\", a.esVacia())"
   ]
  },
  {
   "cell_type": "markdown",
   "id": "97babe86",
   "metadata": {},
   "source": [
    "Ahora procedamos a vaciar la pila paso a paso:"
   ]
  },
  {
   "cell_type": "code",
   "execution_count": 53,
   "id": "c2c8f4d2",
   "metadata": {},
   "outputs": [
    {
     "name": "stdout",
     "output_type": "stream",
     "text": [
      "a, b, c, d, \n",
      "-> dato desapilado: a\n",
      "b, c, d, \n",
      "-> dato desapilado: b\n",
      "c, d, \n",
      "-> dato desapilado: c\n",
      "d, \n",
      "-> dato desapilado: d\n",
      "\n",
      "\n",
      " Está vacía? True\n"
     ]
    }
   ],
   "source": [
    "a.recorrerLista()\n",
    "print()\n",
    "d = a.desapilar()\n",
    "print(\"-> dato desapilado:\", d)\n",
    "a.recorrerLista()\n",
    "print()\n",
    "d = a.desapilar()\n",
    "print(\"-> dato desapilado:\", d)\n",
    "a.recorrerLista()\n",
    "print()\n",
    "d = a.desapilar()\n",
    "print(\"-> dato desapilado:\", d)\n",
    "a.recorrerLista()\n",
    "print()\n",
    "d = a.desapilar()\n",
    "print(\"-> dato desapilado:\", d)\n",
    "a.recorrerLista()\n",
    "print()\n",
    "print(\"\\n Está vacía?\", a.esVacia())"
   ]
  },
  {
   "cell_type": "markdown",
   "id": "f2446bd7",
   "metadata": {},
   "source": [
    "#### **Ejemplo completo**\n",
    "\n",
    "Construya un ciclo infinito, donde dDentro del ciclo, solicite al usuario que ingrese una opción:\n",
    "\n",
    "```\n",
    "1 - para apilar, acaba debe solicitar el valor a apilar e ingresarlo en la pila\n",
    "2 - para desapilar e imprimir el valor desapilado\n",
    "3 - para imprimir el contenido de la pila\n",
    "0 - para salir\n",
    "```"
   ]
  },
  {
   "cell_type": "code",
   "execution_count": null,
   "id": "0ff029af",
   "metadata": {},
   "outputs": [],
   "source": []
  },
  {
   "cell_type": "markdown",
   "id": "f455dc40",
   "metadata": {},
   "source": [
    "## **Referencias**\n",
    "\n",
    "Estas notas se basan en las siguientes 2 fuentes de consulta:\n",
    "* Notas de clase.\n",
    "* Apuntes de la profesora Luisa Restrepo sobre listas enlazadas ([link](https://github.com/LuisaRestrepo/MisionTIC2022-Ciclo1/blob/main/Semana5/Semana5-1.Listas%20Ligadas.ipynb)).\n",
    "\n",
    "### **Otros enlaces**\n",
    "* https://www.cs.colostate.edu/~fsieker/misc/runtimeStack/runtimeStack.html\n"
   ]
  },
  {
   "cell_type": "code",
   "execution_count": null,
   "id": "b54015c8",
   "metadata": {},
   "outputs": [],
   "source": []
  }
 ],
 "metadata": {
  "kernelspec": {
   "display_name": "Python 3",
   "language": "python",
   "name": "python3"
  },
  "language_info": {
   "codemirror_mode": {
    "name": "ipython",
    "version": 3
   },
   "file_extension": ".py",
   "mimetype": "text/x-python",
   "name": "python",
   "nbconvert_exporter": "python",
   "pygments_lexer": "ipython3",
   "version": "3.8.8"
  }
 },
 "nbformat": 4,
 "nbformat_minor": 5
}

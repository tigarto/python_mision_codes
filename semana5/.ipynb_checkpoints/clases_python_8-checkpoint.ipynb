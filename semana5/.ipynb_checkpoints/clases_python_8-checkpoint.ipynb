{
 "cells": [
  {
   "cell_type": "markdown",
   "id": "157f4d0b",
   "metadata": {},
   "source": [
    "[![Open In Colab](https://colab.research.google.com/assets/colab-badge.svg)](https://colab.research.google.com/github/tigarto/python_mision_codes/blob/main/semana4/clases_python_3.ipynb)"
   ]
  },
  {
   "cell_type": "code",
   "execution_count": 2,
   "id": "433962a7",
   "metadata": {},
   "outputs": [
    {
     "name": "stdout",
     "output_type": "stream",
     "text": [
      "Requirement already satisfied: tutormagic in c:\\users\\usuario\\anaconda3\\lib\\site-packages (0.3.1)\n",
      "Requirement already satisfied: jupyter>=1.0 in c:\\users\\usuario\\anaconda3\\lib\\site-packages (from tutormagic) (1.0.0)\n",
      "Requirement already satisfied: notebook in c:\\users\\usuario\\anaconda3\\lib\\site-packages (from jupyter>=1.0->tutormagic) (6.3.0)\n",
      "Requirement already satisfied: jupyter-console in c:\\users\\usuario\\anaconda3\\lib\\site-packages (from jupyter>=1.0->tutormagic) (6.4.0)\n",
      "Requirement already satisfied: qtconsole in c:\\users\\usuario\\anaconda3\\lib\\site-packages (from jupyter>=1.0->tutormagic) (5.0.3)\n",
      "Requirement already satisfied: nbconvert in c:\\users\\usuario\\anaconda3\\lib\\site-packages (from jupyter>=1.0->tutormagic) (6.0.7)\n",
      "Requirement already satisfied: ipywidgets in c:\\users\\usuario\\anaconda3\\lib\\site-packages (from jupyter>=1.0->tutormagic) (7.6.3)\n",
      "Requirement already satisfied: ipykernel in c:\\users\\usuario\\anaconda3\\lib\\site-packages (from jupyter>=1.0->tutormagic) (5.5.5)\n",
      "Requirement already satisfied: jupyter-client in c:\\users\\usuario\\anaconda3\\lib\\site-packages (from ipykernel->jupyter>=1.0->tutormagic) (6.1.12)\n",
      "Requirement already satisfied: ipython>=5.0.0 in c:\\users\\usuario\\anaconda3\\lib\\site-packages (from ipykernel->jupyter>=1.0->tutormagic) (7.22.0)\n",
      "Requirement already satisfied: traitlets>=4.1.0 in c:\\users\\usuario\\anaconda3\\lib\\site-packages (from ipykernel->jupyter>=1.0->tutormagic) (5.0.5)\n",
      "Requirement already satisfied: tornado>=4.2 in c:\\users\\usuario\\anaconda3\\lib\\site-packages (from ipykernel->jupyter>=1.0->tutormagic) (6.1)\n",
      "Requirement already satisfied: pygments in c:\\users\\usuario\\anaconda3\\lib\\site-packages (from ipython>=5.0.0->ipykernel->jupyter>=1.0->tutormagic) (2.8.1)\n",
      "Requirement already satisfied: prompt-toolkit!=3.0.0,!=3.0.1,<3.1.0,>=2.0.0 in c:\\users\\usuario\\anaconda3\\lib\\site-packages (from ipython>=5.0.0->ipykernel->jupyter>=1.0->tutormagic) (3.0.17)\n",
      "Requirement already satisfied: backcall in c:\\users\\usuario\\anaconda3\\lib\\site-packages (from ipython>=5.0.0->ipykernel->jupyter>=1.0->tutormagic) (0.2.0)\n",
      "Requirement already satisfied: pickleshare in c:\\users\\usuario\\anaconda3\\lib\\site-packages (from ipython>=5.0.0->ipykernel->jupyter>=1.0->tutormagic) (0.7.5)\n",
      "Requirement already satisfied: colorama in c:\\users\\usuario\\anaconda3\\lib\\site-packages (from ipython>=5.0.0->ipykernel->jupyter>=1.0->tutormagic) (0.4.4)\n",
      "Requirement already satisfied: jedi>=0.16 in c:\\users\\usuario\\anaconda3\\lib\\site-packages (from ipython>=5.0.0->ipykernel->jupyter>=1.0->tutormagic) (0.17.2)\n",
      "Requirement already satisfied: setuptools>=18.5 in c:\\users\\usuario\\anaconda3\\lib\\site-packages (from ipython>=5.0.0->ipykernel->jupyter>=1.0->tutormagic) (52.0.0.post20210125)\n",
      "Requirement already satisfied: decorator in c:\\users\\usuario\\anaconda3\\lib\\site-packages (from ipython>=5.0.0->ipykernel->jupyter>=1.0->tutormagic) (5.0.6)\n",
      "Requirement already satisfied: parso<0.8.0,>=0.7.0 in c:\\users\\usuario\\anaconda3\\lib\\site-packages (from jedi>=0.16->ipython>=5.0.0->ipykernel->jupyter>=1.0->tutormagic) (0.7.0)\n",
      "Requirement already satisfied: wcwidth in c:\\users\\usuario\\anaconda3\\lib\\site-packages (from prompt-toolkit!=3.0.0,!=3.0.1,<3.1.0,>=2.0.0->ipython>=5.0.0->ipykernel->jupyter>=1.0->tutormagic) (0.2.5)\n",
      "Requirement already satisfied: ipython-genutils in c:\\users\\usuario\\anaconda3\\lib\\site-packages (from traitlets>=4.1.0->ipykernel->jupyter>=1.0->tutormagic) (0.2.0)\n",
      "Requirement already satisfied: jupyterlab-widgets>=1.0.0 in c:\\users\\usuario\\anaconda3\\lib\\site-packages (from ipywidgets->jupyter>=1.0->tutormagic) (1.0.0)\n",
      "Requirement already satisfied: nbformat>=4.2.0 in c:\\users\\usuario\\anaconda3\\lib\\site-packages (from ipywidgets->jupyter>=1.0->tutormagic) (5.1.3)\n",
      "Requirement already satisfied: widgetsnbextension~=3.5.0 in c:\\users\\usuario\\anaconda3\\lib\\site-packages (from ipywidgets->jupyter>=1.0->tutormagic) (3.5.1)\n",
      "Requirement already satisfied: jupyter-core in c:\\users\\usuario\\anaconda3\\lib\\site-packages (from nbformat>=4.2.0->ipywidgets->jupyter>=1.0->tutormagic) (4.7.1)\n",
      "Requirement already satisfied: jsonschema!=2.5.0,>=2.4 in c:\\users\\usuario\\anaconda3\\lib\\site-packages (from nbformat>=4.2.0->ipywidgets->jupyter>=1.0->tutormagic) (3.2.0)\n",
      "Requirement already satisfied: attrs>=17.4.0 in c:\\users\\usuario\\anaconda3\\lib\\site-packages (from jsonschema!=2.5.0,>=2.4->nbformat>=4.2.0->ipywidgets->jupyter>=1.0->tutormagic) (20.3.0)\n",
      "Requirement already satisfied: pyrsistent>=0.14.0 in c:\\users\\usuario\\anaconda3\\lib\\site-packages (from jsonschema!=2.5.0,>=2.4->nbformat>=4.2.0->ipywidgets->jupyter>=1.0->tutormagic) (0.17.3)\n",
      "Requirement already satisfied: six>=1.11.0 in c:\\users\\usuario\\anaconda3\\lib\\site-packages (from jsonschema!=2.5.0,>=2.4->nbformat>=4.2.0->ipywidgets->jupyter>=1.0->tutormagic) (1.15.0)\n",
      "Requirement already satisfied: pyzmq>=17 in c:\\users\\usuario\\anaconda3\\lib\\site-packages (from notebook->jupyter>=1.0->tutormagic) (20.0.0)\n",
      "Requirement already satisfied: prometheus-client in c:\\users\\usuario\\anaconda3\\lib\\site-packages (from notebook->jupyter>=1.0->tutormagic) (0.10.1)\n",
      "Requirement already satisfied: jinja2 in c:\\users\\usuario\\anaconda3\\lib\\site-packages (from notebook->jupyter>=1.0->tutormagic) (2.11.3)\n",
      "Requirement already satisfied: Send2Trash>=1.5.0 in c:\\users\\usuario\\anaconda3\\lib\\site-packages (from notebook->jupyter>=1.0->tutormagic) (1.5.0)\n",
      "Requirement already satisfied: terminado>=0.8.3 in c:\\users\\usuario\\anaconda3\\lib\\site-packages (from notebook->jupyter>=1.0->tutormagic) (0.9.4)\n",
      "Requirement already satisfied: argon2-cffi in c:\\users\\usuario\\anaconda3\\lib\\site-packages (from notebook->jupyter>=1.0->tutormagic) (20.1.0)\n",
      "Requirement already satisfied: python-dateutil>=2.1 in c:\\users\\usuario\\anaconda3\\lib\\site-packages (from jupyter-client->ipykernel->jupyter>=1.0->tutormagic) (2.8.1)\n",
      "Requirement already satisfied: pywin32>=1.0 in c:\\users\\usuario\\anaconda3\\lib\\site-packages (from jupyter-core->nbformat>=4.2.0->ipywidgets->jupyter>=1.0->tutormagic) (227)\n",
      "Requirement already satisfied: pywinpty>=0.5 in c:\\users\\usuario\\anaconda3\\lib\\site-packages (from terminado>=0.8.3->notebook->jupyter>=1.0->tutormagic) (0.5.7)\n",
      "Requirement already satisfied: cffi>=1.0.0 in c:\\users\\usuario\\anaconda3\\lib\\site-packages (from argon2-cffi->notebook->jupyter>=1.0->tutormagic) (1.14.5)\n",
      "Requirement already satisfied: pycparser in c:\\users\\usuario\\anaconda3\\lib\\site-packages (from cffi>=1.0.0->argon2-cffi->notebook->jupyter>=1.0->tutormagic) (2.20)\n",
      "Requirement already satisfied: MarkupSafe>=0.23 in c:\\users\\usuario\\anaconda3\\lib\\site-packages (from jinja2->notebook->jupyter>=1.0->tutormagic) (1.1.1)\n",
      "Requirement already satisfied: testpath in c:\\users\\usuario\\anaconda3\\lib\\site-packages (from nbconvert->jupyter>=1.0->tutormagic) (0.4.4)\n",
      "Requirement already satisfied: entrypoints>=0.2.2 in c:\\users\\usuario\\anaconda3\\lib\\site-packages (from nbconvert->jupyter>=1.0->tutormagic) (0.3)\n",
      "Requirement already satisfied: nbclient<0.6.0,>=0.5.0 in c:\\users\\usuario\\anaconda3\\lib\\site-packages (from nbconvert->jupyter>=1.0->tutormagic) (0.5.3)\n",
      "Requirement already satisfied: bleach in c:\\users\\usuario\\anaconda3\\lib\\site-packages (from nbconvert->jupyter>=1.0->tutormagic) (3.3.0)\n",
      "Requirement already satisfied: jupyterlab-pygments in c:\\users\\usuario\\anaconda3\\lib\\site-packages (from nbconvert->jupyter>=1.0->tutormagic) (0.1.2)\n",
      "Requirement already satisfied: defusedxml in c:\\users\\usuario\\anaconda3\\lib\\site-packages (from nbconvert->jupyter>=1.0->tutormagic) (0.7.1)\n",
      "Requirement already satisfied: pandocfilters>=1.4.1 in c:\\users\\usuario\\anaconda3\\lib\\site-packages (from nbconvert->jupyter>=1.0->tutormagic) (1.4.3)\n",
      "Requirement already satisfied: mistune<2,>=0.8.1 in c:\\users\\usuario\\anaconda3\\lib\\site-packages (from nbconvert->jupyter>=1.0->tutormagic) (0.8.4)\n",
      "Requirement already satisfied: nest-asyncio in c:\\users\\usuario\\anaconda3\\lib\\site-packages (from nbclient<0.6.0,>=0.5.0->nbconvert->jupyter>=1.0->tutormagic) (1.5.1)\n",
      "Requirement already satisfied: async-generator in c:\\users\\usuario\\anaconda3\\lib\\site-packages (from nbclient<0.6.0,>=0.5.0->nbconvert->jupyter>=1.0->tutormagic) (1.10)\n",
      "Requirement already satisfied: packaging in c:\\users\\usuario\\anaconda3\\lib\\site-packages (from bleach->nbconvert->jupyter>=1.0->tutormagic) (20.9)\n",
      "Requirement already satisfied: webencodings in c:\\users\\usuario\\anaconda3\\lib\\site-packages (from bleach->nbconvert->jupyter>=1.0->tutormagic) (0.5.1)\n",
      "Requirement already satisfied: pyparsing>=2.0.2 in c:\\users\\usuario\\anaconda3\\lib\\site-packages (from packaging->bleach->nbconvert->jupyter>=1.0->tutormagic) (2.4.7)\n",
      "Requirement already satisfied: qtpy in c:\\users\\usuario\\anaconda3\\lib\\site-packages (from qtconsole->jupyter>=1.0->tutormagic) (1.9.0)\n"
     ]
    },
    {
     "name": "stdout",
     "output_type": "stream",
     "text": [
      "Collecting metakernel\n",
      "  Downloading metakernel-0.27.5-py2.py3-none-any.whl (208 kB)\n",
      "Requirement already satisfied: pexpect>=4.2 in c:\\users\\usuario\\anaconda3\\lib\\site-packages (from metakernel) (4.8.0)\n",
      "Requirement already satisfied: ipykernel in c:\\users\\usuario\\anaconda3\\lib\\site-packages (from metakernel) (5.5.5)\n",
      "Requirement already satisfied: ptyprocess>=0.5 in c:\\users\\usuario\\anaconda3\\lib\\site-packages (from pexpect>=4.2->metakernel) (0.7.0)\n",
      "Requirement already satisfied: tornado>=4.2 in c:\\users\\usuario\\anaconda3\\lib\\site-packages (from ipykernel->metakernel) (6.1)\n",
      "Requirement already satisfied: traitlets>=4.1.0 in c:\\users\\usuario\\anaconda3\\lib\\site-packages (from ipykernel->metakernel) (5.0.5)\n",
      "Requirement already satisfied: jupyter-client in c:\\users\\usuario\\anaconda3\\lib\\site-packages (from ipykernel->metakernel) (6.1.12)\n",
      "Requirement already satisfied: ipython>=5.0.0 in c:\\users\\usuario\\anaconda3\\lib\\site-packages (from ipykernel->metakernel) (7.22.0)\n",
      "Requirement already satisfied: pickleshare in c:\\users\\usuario\\anaconda3\\lib\\site-packages (from ipython>=5.0.0->ipykernel->metakernel) (0.7.5)\n",
      "Requirement already satisfied: jedi>=0.16 in c:\\users\\usuario\\anaconda3\\lib\\site-packages (from ipython>=5.0.0->ipykernel->metakernel) (0.17.2)\n",
      "Requirement already satisfied: backcall in c:\\users\\usuario\\anaconda3\\lib\\site-packages (from ipython>=5.0.0->ipykernel->metakernel) (0.2.0)\n",
      "Requirement already satisfied: prompt-toolkit!=3.0.0,!=3.0.1,<3.1.0,>=2.0.0 in c:\\users\\usuario\\anaconda3\\lib\\site-packages (from ipython>=5.0.0->ipykernel->metakernel) (3.0.17)\n",
      "Requirement already satisfied: pygments in c:\\users\\usuario\\anaconda3\\lib\\site-packages (from ipython>=5.0.0->ipykernel->metakernel) (2.8.1)\n",
      "Requirement already satisfied: colorama in c:\\users\\usuario\\anaconda3\\lib\\site-packages (from ipython>=5.0.0->ipykernel->metakernel) (0.4.4)\n",
      "Requirement already satisfied: decorator in c:\\users\\usuario\\anaconda3\\lib\\site-packages (from ipython>=5.0.0->ipykernel->metakernel) (5.0.6)\n",
      "Requirement already satisfied: setuptools>=18.5 in c:\\users\\usuario\\anaconda3\\lib\\site-packages (from ipython>=5.0.0->ipykernel->metakernel) (52.0.0.post20210125)\n",
      "Requirement already satisfied: parso<0.8.0,>=0.7.0 in c:\\users\\usuario\\anaconda3\\lib\\site-packages (from jedi>=0.16->ipython>=5.0.0->ipykernel->metakernel) (0.7.0)\n",
      "Requirement already satisfied: wcwidth in c:\\users\\usuario\\anaconda3\\lib\\site-packages (from prompt-toolkit!=3.0.0,!=3.0.1,<3.1.0,>=2.0.0->ipython>=5.0.0->ipykernel->metakernel) (0.2.5)\n",
      "Requirement already satisfied: ipython-genutils in c:\\users\\usuario\\anaconda3\\lib\\site-packages (from traitlets>=4.1.0->ipykernel->metakernel) (0.2.0)\n",
      "Requirement already satisfied: jupyter-core>=4.6.0 in c:\\users\\usuario\\anaconda3\\lib\\site-packages (from jupyter-client->ipykernel->metakernel) (4.7.1)\n",
      "Requirement already satisfied: pyzmq>=13 in c:\\users\\usuario\\anaconda3\\lib\\site-packages (from jupyter-client->ipykernel->metakernel) (20.0.0)\n",
      "Requirement already satisfied: python-dateutil>=2.1 in c:\\users\\usuario\\anaconda3\\lib\\site-packages (from jupyter-client->ipykernel->metakernel) (2.8.1)\n",
      "Requirement already satisfied: pywin32>=1.0 in c:\\users\\usuario\\anaconda3\\lib\\site-packages (from jupyter-core>=4.6.0->jupyter-client->ipykernel->metakernel) (227)\n",
      "Requirement already satisfied: six>=1.5 in c:\\users\\usuario\\anaconda3\\lib\\site-packages (from python-dateutil>=2.1->jupyter-client->ipykernel->metakernel) (1.15.0)\n",
      "Installing collected packages: metakernel\n",
      "Successfully installed metakernel-0.27.5\n"
     ]
    }
   ],
   "source": [
    "!pip install tutormagic\n",
    "!pip install metakernel\n",
    "%load_ext tutormagic"
   ]
  },
  {
   "cell_type": "code",
   "execution_count": 3,
   "id": "c7284fb0",
   "metadata": {},
   "outputs": [
    {
     "name": "stderr",
     "output_type": "stream",
     "text": [
      "C:\\Users\\Usuario\\anaconda3\\lib\\site-packages\\ipykernel\\ipkernel.py:287: DeprecationWarning: `should_run_async` will not call `transform_cell` automatically in the future. Please pass the result to `transformed_cell` argument and any exception that happen during thetransform in `preprocessing_exc_tuple` in IPython 7.17 and above.\n",
      "  and should_run_async(code)\n"
     ]
    }
   ],
   "source": [
    "from metakernel import register_ipython_magics\n",
    "register_ipython_magics()"
   ]
  },
  {
   "cell_type": "code",
   "execution_count": 5,
   "id": "68816647",
   "metadata": {},
   "outputs": [
    {
     "name": "stderr",
     "output_type": "stream",
     "text": [
      "C:\\Users\\Usuario\\anaconda3\\lib\\site-packages\\ipykernel\\ipkernel.py:287: DeprecationWarning: `should_run_async` will not call `transform_cell` automatically in the future. Please pass the result to `transformed_cell` argument and any exception that happen during thetransform in `preprocessing_exc_tuple` in IPython 7.17 and above.\n",
      "  and should_run_async(code)\n"
     ]
    }
   ],
   "source": [
    "import warnings\n",
    "warnings.filterwarnings(\"ignore\", category=DeprecationWarning)"
   ]
  },
  {
   "cell_type": "markdown",
   "id": "bae93cc4",
   "metadata": {},
   "source": [
    "# **Diccionarios**\n",
    "\n",
    "Son secuencias de elementos cuyos índices no son enteros sino valore inmutables (ej: strings). \n",
    "\n",
    "\n",
    "\n",
    "\n",
    "A los indices de un diccionario se les llama **key** (**clave**) a la parte asociada a esta se les llama **value** (**valor**). \n",
    "Los diccionarios son también parecidos a las listas, excepto que cada elemento es una pareja clave-valor. La sintaxis en los diccionarios es de la forma ```{key1 : value1, key2: value2,..., keyN: valueN}```.\n"
   ]
  },
  {
   "cell_type": "markdown",
   "id": "f3ee6ee2",
   "metadata": {},
   "source": [
    "### Operadores ###\n",
    "\n",
    "|Operador|Accion|Ejemplo|Resultado|\n",
    "|:--------|:------|:-------|:---------|\n",
    "|```len(Dic)``` |Retorna la longitud del diccionario **Dic**.|```A = {'a':1,'b':2,'c':3}``` <br/> ```B = {'ab':1,'b':[2,3]}``` <br/> ```C = {}```| ```len(A) -> 3``` <br/> ```len(B) -> 2``` <br/> ```len(C) -> 0```|\n",
    "|```key in Dic``` |Retorna **True** si **key** está en el diccionario  **Dic**.|```A = {'a':1,'b':2,'c':3}``` | ```'a' in A -> True``` <br/>```'d' in A -> False``` |\n",
    "|```key not in Dic``` |Retorna **True** si **key** no está en el diccionario  **Dic**.|```A = {'a':1,'b':2,'c':3}``` | ```'a' not in A -> False``` <br/>```'d' not in A -> True``` |\n",
    "|```Dic1 == Dic2``` |Devuelve True si dos diccionarios contienen los mismos items.|```d1 = {\"red\":41, \"blue\":3}``` <br/> ```d2 = {\"blue\":3, \"red\":41}``` | ```'d1 == d2 -> True```|\n",
    "|```Dic1 != Dic2``` |Devuelve True si dos diccionarios contienen diferentes items.|```d1 = {\"red\":41, \"blue\":3}``` <br/> ```d2 = {\"blue\":3, \"red\":41}``` | ```'d1 != d2 -> False```|\n",
    "|```Dic[key]``` |Retorna el valor **Dic[key]** asociado a la clave **key**|```d1 = {\"red\":41, \"blue\":3}``` | ```d1[\"red\"] -> 41``` <br/>```d1[\"r\"] -> Error``` |\n",
    "|```Dic[key] = value``` |Asocia la clave **key** con el valor **value**; si key no existe, crea un nuevo elemento en el diccionario.|```d1 = {\"A\": 1, \"B\": 2}``` | ```d1[\"A\"] = -1 -> d1 = {\"A\": -1, \"B\": 2}``` <br/>```d1[\"C\"] = -1 -> d1 = {\"A\": 1, \"B\": 2, \"C\": -1}``` |\n",
    "|```for k in Dic``` |Itera sobre las claves de Dic.|``````mdays = { 'enero':31, 'febrero':28, 'marzo':31, 'abril':30} `````` <br/> ```for m in mdays:``` <br/>&nbsp;&nbsp;&nbsp; ```print(e,mdays[e])```| ```febrero 28``` <br/> ```abril 30``` <br/> ```marzo 31``` <br/> ```enero 31```|\n",
    "|```del Dic[k]``` |Elimina el elemento con clave ```k``` del diccionario ```Dic```|``````vocales = { 1:'a', 2:'e', 3:'z'} `````` <br/> ```del vocales[3]``` <br/>&nbsp;&nbsp;&nbsp; ```print(vocales)```| ``````{ 1:'a', 2:'e'}``````|"
   ]
  },
  {
   "cell_type": "markdown",
   "id": "07579389",
   "metadata": {},
   "source": [
    "### Métodos ###\n",
    "\n",
    "|Función|Accion|Ejemplo|Resultado|\n",
    "|:--------|:------|:-------|:---------|\n",
    "|```dic.keys()```|Retorna una secuencia con las claves de **dic**|```A = {'a':1,'b':2,'c':3}```<br/>```B = {'ab':1,'b':[2,3]}```<br/>```C = {}```|```A.keys() ->  ['a', 'b', 'c']``` <br/> ```B.keys() -> ['ab', 'b']``` <br/> ```C.keys() -> []```|\n",
    "|```dic.values()```|Retorna una secuencia con los valores de **dic**|```A = {'a':1,'b':2,'c':3}```<br/>```B = {'ab':1,'b':[2,3]}```<br/>```C = {}```|```A.values() ->  [1, 2, 3]``` <br/> ```B.values() -> [1, [2,3]]``` <br/> ```C.values() -> []```|\n",
    "|```dic.items()```|Retorna una secuencia de tuplas, cada tupla es de la forma **(key, value)** para un **item**|```A = {'a':1,'b':2,'c':3}```|```A.items() ->  [('b', 2), ('c', 3),('a', 1)]```|\n",
    "|```dic.get(k,[e])```|retorna **dic[k]** si **k** está en **dic**, de lo contrario retorna **e**, **e** es un parámetro  opcional y por defecto es None.|```A = {'a':1,'b':2,'c':3}```|```A.get('c',4) -> 3``` <br/> ```A.get('f',4) -> 4``` <br/> ```A.get('b') -> 2``` <br/> ```A.get('d') -> None``` |\n",
    "|```dic.pop(k)```|Elimina el elemento con clave **k** y retorna su valor asociado.|```A = {'a':1,'b':2,'c':3}```|```A.pop('b')``` <br/> Retorna: ```2``` <br/> A queda: ```A = {‘a’:1,‘c’:3}```|\n",
    "|```dic.popitem()```|Retorna un par **key/value** aleatoriamente seleccionado como una tupla y remueve el item seleccionado.|```A = {'a':1,'b':2,'c':3}```|```A.popitem()``` <br/> Retorna: ```('b',2)``` <br/> A queda: ```A = {‘a’:1,‘c’:3}```|\n",
    "|```dic.clear()```|Borra todas las entradas del diccionario dic dejándolo vacío, no retorna nada.|```A = {'a':1,'b':2,'c':3}```|```A.clear() -> A = {}```|\n",
    "|```dic.update(dic2)```|Agrega el contenido (pares **key/value**) del diccionario **dic2** al diccionario **dic**. Esta función no retorna nada.|```A = {'a':1,'b':2,'c':3}``` <br/> ```B = {'xyz':1,'m':[2,3]}``` |```A.update(B) ``` <br/> A: ```A = {'a':1,'b':2,'c':3, 'xyz':1,'m':[2,3]}``` <br/> B: ```B = {'xyz':1,'m': 2,3]}```|"
   ]
  },
  {
   "cell_type": "markdown",
   "id": "cfc0d943",
   "metadata": {},
   "source": [
    "**Ejemplo 1**: A continuación se muestran diferentes maneras de crear listas"
   ]
  },
  {
   "cell_type": "code",
   "execution_count": 6,
   "id": "ff5d6d29",
   "metadata": {},
   "outputs": [
    {
     "data": {
      "text/html": [
       "\n",
       "        <iframe\n",
       "            width=\"100%\"\n",
       "            height=\"500\"\n",
       "            src=\"https://pythontutor.com/iframe-embed.html#code=list1%20%3D%20list%28%29%20%23%20Create%20an%20empty%20list%0Alist2%20%3D%20list%28%5B2%2C%203%2C%204%5D%29%20%23%20Create%20a%20list%20with%20elements%202%2C%203%2C%204%0Alist3%20%3D%20list%28%5B%22red%22%2C%20%22green%22%2C%20%22blue%22%5D%29%20%23%20Create%20a%20list%20with%20strings%0Alist4%20%3D%20list%28range%283%2C%206%29%29%20%23%20Create%20a%20list%20with%20elements%203%2C%204%2C%205%0Alist5%20%3D%20list%28%22abcd%22%29%20%23%20Create%20a%20list%20with%20characters%20a%2C%20b%2C%20c%2C%20d%0A&origin=opt-frontend.js&cumulative=false&heapPrimitives=false&textReferences=false&py=3&rawInputLstJSON=%5B%5D&curInstr=0&codeDivWidth=350&codeDivHeight=400\"\n",
       "            frameborder=\"0\"\n",
       "            allowfullscreen\n",
       "        ></iframe>\n",
       "        "
      ],
      "text/plain": [
       "<IPython.lib.display.IFrame at 0x1a497e14250>"
      ]
     },
     "metadata": {},
     "output_type": "display_data"
    }
   ],
   "source": [
    "%%tutor\n",
    "list1 = list() # Create an empty list\n",
    "list2 = list([2, 3, 4]) # Create a list with elements 2, 3, 4\n",
    "list3 = list([\"red\", \"green\", \"blue\"]) # Create a list with strings\n",
    "list4 = list(range(3, 6)) # Create a list with elements 3, 4, 5\n",
    "list5 = list(\"abcd\") # Create a list with characters a, b, c, d"
   ]
  },
  {
   "cell_type": "code",
   "execution_count": 7,
   "id": "a0cb0c56",
   "metadata": {},
   "outputs": [
    {
     "data": {
      "text/html": [
       "\n",
       "        <iframe\n",
       "            width=\"100%\"\n",
       "            height=\"500\"\n",
       "            src=\"https://pythontutor.com/iframe-embed.html#code=list1%20%3D%20%5B%5D%20%23%20Same%20as%20list%28%29%0Alist2%20%3D%20%5B2%2C%203%2C%204%5D%20%23%20Same%20as%20list%28%5B2%2C%203%2C%204%5D%29%0Alist3%20%3D%20%5B%22red%22%2C%20%22green%22%5D%20%23%20Same%20as%20list%28%5B%22red%22%2C%20%22green%22%5D%29%0A&origin=opt-frontend.js&cumulative=false&heapPrimitives=false&textReferences=false&py=3&rawInputLstJSON=%5B%5D&curInstr=0&codeDivWidth=350&codeDivHeight=400\"\n",
       "            frameborder=\"0\"\n",
       "            allowfullscreen\n",
       "        ></iframe>\n",
       "        "
      ],
      "text/plain": [
       "<IPython.lib.display.IFrame at 0x1a497fc0400>"
      ]
     },
     "metadata": {},
     "output_type": "display_data"
    }
   ],
   "source": [
    "%%tutor\n",
    "list1 = [] # Same as list()\n",
    "list2 = [2, 3, 4] # Same as list([2, 3, 4])\n",
    "list3 = [\"red\", \"green\"] # Same as list([\"red\", \"green\"])"
   ]
  },
  {
   "cell_type": "markdown",
   "id": "29180bed",
   "metadata": {},
   "source": [
    "**Ejemplo 2**: Haciendo uso de los operdores ```max```, ```min```, ```sum```."
   ]
  },
  {
   "cell_type": "code",
   "execution_count": 9,
   "id": "690d864a",
   "metadata": {},
   "outputs": [
    {
     "data": {
      "text/html": [
       "\n",
       "        <iframe\n",
       "            width=\"100%\"\n",
       "            height=\"500\"\n",
       "            src=\"https://pythontutor.com/iframe-embed.html#code=list1%20%3D%20%5B2%2C%203%2C%204%2C%201%2C%2032%5D%0Aprint%28list1%29%0Aprint%28max%28list1%29%29%0Aprint%28min%28list1%29%29%0Aprint%28sum%28list1%29%29%0A&origin=opt-frontend.js&cumulative=false&heapPrimitives=false&textReferences=false&py=3&rawInputLstJSON=%5B%5D&curInstr=0&codeDivWidth=350&codeDivHeight=400\"\n",
       "            frameborder=\"0\"\n",
       "            allowfullscreen\n",
       "        ></iframe>\n",
       "        "
      ],
      "text/plain": [
       "<IPython.lib.display.IFrame at 0x1a497fc0f70>"
      ]
     },
     "metadata": {},
     "output_type": "display_data"
    }
   ],
   "source": [
    "%%tutor\n",
    "list1 = [2, 3, 4, 1, 32]\n",
    "print(list1)\n",
    "print(max(list1))\n",
    "print(min(list1))\n",
    "print(sum(list1))\n"
   ]
  },
  {
   "cell_type": "markdown",
   "id": "f18b8094",
   "metadata": {},
   "source": [
    "**Ejemplo 3**: Una función sumamente útil para trabajar con listas es la función ```shuffle``` perteneciente al modulo ```random```([link](https://py2.codeskulptor.org/docs.html#random-random-int)). Esta función permite barajar (revolver) de manera aleatoria elementos en una lista ."
   ]
  },
  {
   "cell_type": "code",
   "execution_count": 10,
   "id": "41b7a094",
   "metadata": {},
   "outputs": [
    {
     "data": {
      "text/html": [
       "\n",
       "        <iframe\n",
       "            width=\"100%\"\n",
       "            height=\"500\"\n",
       "            src=\"https://pythontutor.com/iframe-embed.html#code=import%20random%0Alist1%20%3D%20%5B2%2C%203%2C%204%2C%201%2C%2032%5D%0Aprint%28list1%29%0Arandom.shuffle%28list1%29%20%23%20Shuffle%20the%20elements%20in%20list1%0Aprint%28list1%29%0A&origin=opt-frontend.js&cumulative=false&heapPrimitives=false&textReferences=false&py=3&rawInputLstJSON=%5B%5D&curInstr=0&codeDivWidth=350&codeDivHeight=400\"\n",
       "            frameborder=\"0\"\n",
       "            allowfullscreen\n",
       "        ></iframe>\n",
       "        "
      ],
      "text/plain": [
       "<IPython.lib.display.IFrame at 0x1a499403fa0>"
      ]
     },
     "metadata": {},
     "output_type": "display_data"
    }
   ],
   "source": [
    "%%tutor\n",
    "import random\n",
    "list1 = [2, 3, 4, 1, 32]\n",
    "print(list1)\n",
    "random.shuffle(list1) # Shuffle the elements in list1\n",
    "print(list1)"
   ]
  },
  {
   "cell_type": "markdown",
   "id": "55c91773",
   "metadata": {},
   "source": [
    "**Ejemplo 4**: Accediendo a un elemento de una lista empleando indexación."
   ]
  },
  {
   "cell_type": "code",
   "execution_count": 11,
   "id": "ede3fee9",
   "metadata": {},
   "outputs": [
    {
     "data": {
      "text/html": [
       "\n",
       "        <iframe\n",
       "            width=\"100%\"\n",
       "            height=\"500\"\n",
       "            src=\"https://pythontutor.com/iframe-embed.html#code=list1%20%3D%20%5B2%2C%203%2C%205%2C%207%2C%209%2C%201%5D%0Aprint%28list1%29%0Aprint%28list1%5B-1%5D%29%0Aprint%28list1%5B-3%5D%29%0A&origin=opt-frontend.js&cumulative=false&heapPrimitives=false&textReferences=false&py=3&rawInputLstJSON=%5B%5D&curInstr=0&codeDivWidth=350&codeDivHeight=400\"\n",
       "            frameborder=\"0\"\n",
       "            allowfullscreen\n",
       "        ></iframe>\n",
       "        "
      ],
      "text/plain": [
       "<IPython.lib.display.IFrame at 0x1a4993e0eb0>"
      ]
     },
     "metadata": {},
     "output_type": "display_data"
    }
   ],
   "source": [
    "%%tutor\n",
    "list1 = [2, 3, 5, 7, 9, 1]\n",
    "print(list1)\n",
    "print(list1[-1])\n",
    "print(list1[-3])"
   ]
  },
  {
   "cell_type": "markdown",
   "id": "44fde594",
   "metadata": {},
   "source": [
    "**Ejemplo 5**: Dada la lista ```example = [1, 2, 3, 4]``` reemplazar el ultimo elemento de esta por ```0```"
   ]
  },
  {
   "cell_type": "code",
   "execution_count": 20,
   "id": "bde91ad4",
   "metadata": {},
   "outputs": [
    {
     "data": {
      "text/html": [
       "\n",
       "        <iframe\n",
       "            width=\"100%\"\n",
       "            height=\"500\"\n",
       "            src=\"https://pythontutor.com/iframe-embed.html#code=example%20%3D%20%5B1%2C%202%2C%203%2C%204%5D%0Aexample%5B3%5D%20%3D%200%0A&origin=opt-frontend.js&cumulative=false&heapPrimitives=false&textReferences=false&py=3&rawInputLstJSON=%5B%5D&curInstr=0&codeDivWidth=350&codeDivHeight=400\"\n",
       "            frameborder=\"0\"\n",
       "            allowfullscreen\n",
       "        ></iframe>\n",
       "        "
      ],
      "text/plain": [
       "<IPython.lib.display.IFrame at 0x1a499403d00>"
      ]
     },
     "metadata": {},
     "output_type": "display_data"
    }
   ],
   "source": [
    "%%tutor\n",
    "example = [1, 2, 3, 4]\n",
    "example[3] = 0\n"
   ]
  },
  {
   "cell_type": "markdown",
   "id": "5cc8d5c8",
   "metadata": {},
   "source": [
    "**Ejemplo 6**: Accediendo a varios elementos de la lista mediate el operador slice:"
   ]
  },
  {
   "cell_type": "code",
   "execution_count": 13,
   "id": "ef2ef0a7",
   "metadata": {},
   "outputs": [
    {
     "data": {
      "text/html": [
       "\n",
       "        <iframe\n",
       "            width=\"100%\"\n",
       "            height=\"500\"\n",
       "            src=\"https://pythontutor.com/iframe-embed.html#code=list1%20%3D%20%5B2%2C%203%2C%205%2C%202%2C%2033%2C%2021%5D%0Aprint%28list1%29%0A%0Asublist1%20%3D%20list1%5B2%3A4%5D%0Asublist2%20%3D%20list1%5B%3A2%5D%0Asublist3%20%3D%20list1%5B3%3A%5D%0Asublist4%20%3D%20list1%5B1%3A-3%5D%0Asublist5%20%3D%20list1%5B-4%3A-2%5D%0A%0Aprint%28sublist1%29%0Aprint%28sublist2%29%0Aprint%28sublist3%29%0Aprint%28sublist4%29%0Aprint%28sublist5%29%0A&origin=opt-frontend.js&cumulative=false&heapPrimitives=false&textReferences=false&py=3&rawInputLstJSON=%5B%5D&curInstr=0&codeDivWidth=350&codeDivHeight=400\"\n",
       "            frameborder=\"0\"\n",
       "            allowfullscreen\n",
       "        ></iframe>\n",
       "        "
      ],
      "text/plain": [
       "<IPython.lib.display.IFrame at 0x1a4993eb160>"
      ]
     },
     "metadata": {},
     "output_type": "display_data"
    }
   ],
   "source": [
    "%%tutor\n",
    "list1 = [2, 3, 5, 2, 33, 21]\n",
    "print(list1)\n",
    "\n",
    "sublist1 = list1[2:4]\n",
    "sublist2 = list1[:2]\n",
    "sublist3 = list1[3:]\n",
    "sublist4 = list1[1:-3]\n",
    "sublist5 = list1[-4:-2]\n",
    "\n",
    "print(sublist1)\n",
    "print(sublist2)\n",
    "print(sublist3)\n",
    "print(sublist4)\n",
    "print(sublist5)"
   ]
  },
  {
   "cell_type": "markdown",
   "id": "e51e8c7b",
   "metadata": {},
   "source": [
    "**Ejemplo 7**: Empleando los operadores concatenación (```+```) y repetición (```*```)"
   ]
  },
  {
   "cell_type": "code",
   "execution_count": 14,
   "id": "dc698cc4",
   "metadata": {},
   "outputs": [
    {
     "data": {
      "text/html": [
       "\n",
       "        <iframe\n",
       "            width=\"100%\"\n",
       "            height=\"500\"\n",
       "            src=\"https://pythontutor.com/iframe-embed.html#code=list1%20%3D%20%5B2%2C%203%5D%0Aprint%28list1%29%0Alist2%20%3D%20%5B1%2C%209%5D%0Aprint%28list2%29%0Alist3%20%3D%20list1%20%2B%20list2%0Aprint%28list3%29%0Alist4%20%3D%203%20%2A%20list1%0Aprint%28list4%29%0A&origin=opt-frontend.js&cumulative=false&heapPrimitives=false&textReferences=false&py=3&rawInputLstJSON=%5B%5D&curInstr=0&codeDivWidth=350&codeDivHeight=400\"\n",
       "            frameborder=\"0\"\n",
       "            allowfullscreen\n",
       "        ></iframe>\n",
       "        "
      ],
      "text/plain": [
       "<IPython.lib.display.IFrame at 0x1a499c7a580>"
      ]
     },
     "metadata": {},
     "output_type": "display_data"
    }
   ],
   "source": [
    "%%tutor\n",
    "list1 = [2, 3]\n",
    "print(list1)\n",
    "list2 = [1, 9]\n",
    "print(list2)\n",
    "list3 = list1 + list2\n",
    "print(list3)\n",
    "list4 = 3 * list1\n",
    "print(list4)"
   ]
  },
  {
   "cell_type": "markdown",
   "id": "60322812",
   "metadata": {},
   "source": [
    "**Ejemplo 8**: Haciendo uso de los operadores ```in``` y ```not in``` para determinar si un elemento se encuentra en una lista"
   ]
  },
  {
   "cell_type": "code",
   "execution_count": 18,
   "id": "08dfcb18",
   "metadata": {},
   "outputs": [
    {
     "data": {
      "text/html": [
       "\n",
       "        <iframe\n",
       "            width=\"100%\"\n",
       "            height=\"500\"\n",
       "            src=\"https://pythontutor.com/iframe-embed.html#code=list1%20%3D%20%5B2%2C%203%2C%205%2C%202%2C%2033%2C%2021%5D%0Aprint%282%20in%20list1%29%0Aprint%282%20not%20in%20list1%29%0A&origin=opt-frontend.js&cumulative=false&heapPrimitives=false&textReferences=false&py=3&rawInputLstJSON=%5B%5D&curInstr=0&codeDivWidth=350&codeDivHeight=400\"\n",
       "            frameborder=\"0\"\n",
       "            allowfullscreen\n",
       "        ></iframe>\n",
       "        "
      ],
      "text/plain": [
       "<IPython.lib.display.IFrame at 0x1a499219cd0>"
      ]
     },
     "metadata": {},
     "output_type": "display_data"
    }
   ],
   "source": [
    "%%tutor\n",
    "list1 = [2, 3, 5, 2, 33, 21]\n",
    "print(2 in list1)\n",
    "print(2 not in list1)"
   ]
  },
  {
   "cell_type": "markdown",
   "id": "2fcaba80",
   "metadata": {},
   "source": [
    "**Ejemplo 9**: Accediendo a los elementos de una lista empleando subindices"
   ]
  },
  {
   "cell_type": "code",
   "execution_count": 19,
   "id": "824f03c1",
   "metadata": {},
   "outputs": [
    {
     "data": {
      "text/html": [
       "\n",
       "        <iframe\n",
       "            width=\"100%\"\n",
       "            height=\"500\"\n",
       "            src=\"https://pythontutor.com/iframe-embed.html#code=list1%20%3D%20%5B1%2C%203%2C%202%2C%20-1%2C%203%2C%2010%2C%2019%2C%20123%2C%20234%2C%2012%5D%0Afor%20i%20in%20range%28len%28list1%29%29%3A%0A%20%20%20%20print%28list1%5Bi%5D%29%0Aprint%28%29%0Afor%20i%20in%20range%283%2C%20len%28list1%29%29%3A%0A%20%20%20%20print%28list1%5Bi%5D%29%0Aprint%28%29%0Afor%20i%20in%20range%280%2Clen%28list1%29%2C2%29%3A%0A%20%20%20%20print%28list1%5Bi%5D%29%0A&origin=opt-frontend.js&cumulative=false&heapPrimitives=false&textReferences=false&py=3&rawInputLstJSON=%5B%5D&curInstr=0&codeDivWidth=350&codeDivHeight=400\"\n",
       "            frameborder=\"0\"\n",
       "            allowfullscreen\n",
       "        ></iframe>\n",
       "        "
      ],
      "text/plain": [
       "<IPython.lib.display.IFrame at 0x1a4993ebdf0>"
      ]
     },
     "metadata": {},
     "output_type": "display_data"
    }
   ],
   "source": [
    "%%tutor\n",
    "list1 = [1, 3, 2, -1, 3, 10, 19, 123, 234, 12]\n",
    "for i in range(len(list1)):\n",
    "    print(list1[i])\n",
    "print()\n",
    "for i in range(3, len(list1)):\n",
    "    print(list1[i])\n",
    "print()\n",
    "for i in range(0,len(list1),2):\n",
    "    print(list1[i])\n"
   ]
  },
  {
   "cell_type": "markdown",
   "id": "7af2e3e7",
   "metadata": {},
   "source": [
    "**Ejemplo 10**: Ordenar una lista de mayor a menor"
   ]
  },
  {
   "cell_type": "code",
   "execution_count": 26,
   "id": "7c922c12",
   "metadata": {},
   "outputs": [
    {
     "data": {
      "text/html": [
       "\n",
       "        <iframe\n",
       "            width=\"100%\"\n",
       "            height=\"500\"\n",
       "            src=\"https://pythontutor.com/iframe-embed.html#code=list1%20%3D%20%5B887.7%2C%2024100.0%2C%206563.0%2C%2014%2C%20373300.0%5D%0Alist2%20%3D%20sorted%28list1%29%0Asorted%28list2%29%0A&origin=opt-frontend.js&cumulative=false&heapPrimitives=false&textReferences=false&py=3&rawInputLstJSON=%5B%5D&curInstr=0&codeDivWidth=350&codeDivHeight=400\"\n",
       "            frameborder=\"0\"\n",
       "            allowfullscreen\n",
       "        ></iframe>\n",
       "        "
      ],
      "text/plain": [
       "<IPython.lib.display.IFrame at 0x1a4993e0370>"
      ]
     },
     "metadata": {},
     "output_type": "display_data"
    }
   ],
   "source": [
    "%%tutor\n",
    "list1 = [887.7, 24100.0, 6563.0, 14, 373300.0]\n",
    "list2 = sorted(list1)\n",
    "list3 = sorted(list1, reverse=False)\n",
    "print(list1)\n",
    "print(list2)\n",
    "print(list3)"
   ]
  },
  {
   "cell_type": "markdown",
   "id": "e887ec58",
   "metadata": {},
   "source": [
    "## **Comprensión de listas** ##\n",
    "La listas por comprensión es una forma consisa de crear listas. La sintaxis de esta se muestra a continuación:\n",
    "\n",
    "```python\n",
    "nueva_lista = [expresion bucle_for condiciones]\n",
    "```\n",
    "\n",
    "A continuación se muestran varios ejemplos:"
   ]
  },
  {
   "cell_type": "code",
   "execution_count": 23,
   "id": "3a2984dc",
   "metadata": {},
   "outputs": [
    {
     "data": {
      "text/html": [
       "\n",
       "        <iframe\n",
       "            width=\"100%\"\n",
       "            height=\"500\"\n",
       "            src=\"https://pythontutor.com/iframe-embed.html#code=list1%20%3D%20%5Bx%20for%20x%20in%20range%285%29%5D%0Aprint%28list1%29%0A%0Alist2%20%3D%20%5B0.5%20%2A%20x%20for%20x%20in%20list1%5D%0Aprint%28list2%29%0A%0Alist3%20%3D%20%5Bx%20for%20x%20in%20list2%20if%20x%20%3C%201.5%5D%0Aprint%28list3%29%0A%0Alist4%20%3D%20%5Bn%2A%2A2%20for%20n%20in%20%5B1%2C%202%2C%203%2C%204%5D%5D%0Aprint%28list4%29%0A&origin=opt-frontend.js&cumulative=false&heapPrimitives=false&textReferences=false&py=3&rawInputLstJSON=%5B%5D&curInstr=0&codeDivWidth=350&codeDivHeight=400\"\n",
       "            frameborder=\"0\"\n",
       "            allowfullscreen\n",
       "        ></iframe>\n",
       "        "
      ],
      "text/plain": [
       "<IPython.lib.display.IFrame at 0x1a49922fbb0>"
      ]
     },
     "metadata": {},
     "output_type": "display_data"
    }
   ],
   "source": [
    "%%tutor\n",
    "list1 = [x for x in range(5)]\n",
    "print(list1)\n",
    "\n",
    "list2 = [0.5 * x for x in list1]\n",
    "print(list2)\n",
    "\n",
    "list3 = [x for x in list2 if x < 1.5]\n",
    "print(list3)\n",
    "\n",
    "list4 = [n**2 for n in [1, 2, 3, 4]]\n",
    "print(list4)"
   ]
  },
  {
   "cell_type": "markdown",
   "id": "f455dc40",
   "metadata": {},
   "source": [
    "## **Referencias**\n",
    "\n",
    "* https://cupi2-ip.github.io/IPBook/portada.html\n",
    "\n"
   ]
  },
  {
   "cell_type": "code",
   "execution_count": null,
   "id": "0547430c",
   "metadata": {},
   "outputs": [],
   "source": []
  }
 ],
 "metadata": {
  "kernelspec": {
   "display_name": "Python 3",
   "language": "python",
   "name": "python3"
  },
  "language_info": {
   "codemirror_mode": {
    "name": "ipython",
    "version": 3
   },
   "file_extension": ".py",
   "mimetype": "text/x-python",
   "name": "python",
   "nbconvert_exporter": "python",
   "pygments_lexer": "ipython3",
   "version": "3.8.8"
  }
 },
 "nbformat": 4,
 "nbformat_minor": 5
}

{
 "cells": [
  {
   "cell_type": "markdown",
   "id": "157f4d0b",
   "metadata": {},
   "source": [
    "[![Open In Colab](https://colab.research.google.com/assets/colab-badge.svg)](https://colab.research.google.com/github/tigarto/python_mision_codes/blob/main/semana5/clases_python_9.ipynb)"
   ]
  },
  {
   "cell_type": "code",
   "execution_count": 18,
   "id": "071c158f",
   "metadata": {},
   "outputs": [
    {
     "name": "stdout",
     "output_type": "stream",
     "text": [
      "Requirement already satisfied: metakernel in c:\\users\\usuario\\anaconda3\\lib\\site-packages (0.27.5)\n",
      "Requirement already satisfied: ipykernel in c:\\users\\usuario\\anaconda3\\lib\\site-packages (from metakernel) (5.5.5)\n",
      "Requirement already satisfied: pexpect>=4.2 in c:\\users\\usuario\\anaconda3\\lib\\site-packages (from metakernel) (4.8.0)\n",
      "Requirement already satisfied: ptyprocess>=0.5 in c:\\users\\usuario\\anaconda3\\lib\\site-packages (from pexpect>=4.2->metakernel) (0.7.0)\n",
      "Requirement already satisfied: tornado>=4.2 in c:\\users\\usuario\\anaconda3\\lib\\site-packages (from ipykernel->metakernel) (6.1)\n",
      "Requirement already satisfied: ipython>=5.0.0 in c:\\users\\usuario\\anaconda3\\lib\\site-packages (from ipykernel->metakernel) (7.22.0)\n",
      "Requirement already satisfied: jupyter-client in c:\\users\\usuario\\anaconda3\\lib\\site-packages (from ipykernel->metakernel) (6.1.12)\n",
      "Requirement already satisfied: traitlets>=4.1.0 in c:\\users\\usuario\\anaconda3\\lib\\site-packages (from ipykernel->metakernel) (5.0.5)\n",
      "Requirement already satisfied: pygments in c:\\users\\usuario\\anaconda3\\lib\\site-packages (from ipython>=5.0.0->ipykernel->metakernel) (2.8.1)\n",
      "Requirement already satisfied: prompt-toolkit!=3.0.0,!=3.0.1,<3.1.0,>=2.0.0 in c:\\users\\usuario\\anaconda3\\lib\\site-packages (from ipython>=5.0.0->ipykernel->metakernel) (3.0.17)\n",
      "Requirement already satisfied: colorama in c:\\users\\usuario\\anaconda3\\lib\\site-packages (from ipython>=5.0.0->ipykernel->metakernel) (0.4.4)\n",
      "Requirement already satisfied: decorator in c:\\users\\usuario\\anaconda3\\lib\\site-packages (from ipython>=5.0.0->ipykernel->metakernel) (5.0.6)\n",
      "Requirement already satisfied: backcall in c:\\users\\usuario\\anaconda3\\lib\\site-packages (from ipython>=5.0.0->ipykernel->metakernel) (0.2.0)\n",
      "Requirement already satisfied: setuptools>=18.5 in c:\\users\\usuario\\anaconda3\\lib\\site-packages (from ipython>=5.0.0->ipykernel->metakernel) (52.0.0.post20210125)\n",
      "Requirement already satisfied: jedi>=0.16 in c:\\users\\usuario\\anaconda3\\lib\\site-packages (from ipython>=5.0.0->ipykernel->metakernel) (0.17.2)\n",
      "Requirement already satisfied: pickleshare in c:\\users\\usuario\\anaconda3\\lib\\site-packages (from ipython>=5.0.0->ipykernel->metakernel) (0.7.5)\n",
      "Requirement already satisfied: parso<0.8.0,>=0.7.0 in c:\\users\\usuario\\anaconda3\\lib\\site-packages (from jedi>=0.16->ipython>=5.0.0->ipykernel->metakernel) (0.7.0)\n",
      "Requirement already satisfied: wcwidth in c:\\users\\usuario\\anaconda3\\lib\\site-packages (from prompt-toolkit!=3.0.0,!=3.0.1,<3.1.0,>=2.0.0->ipython>=5.0.0->ipykernel->metakernel) (0.2.5)\n",
      "Requirement already satisfied: ipython-genutils in c:\\users\\usuario\\anaconda3\\lib\\site-packages (from traitlets>=4.1.0->ipykernel->metakernel) (0.2.0)\n",
      "Requirement already satisfied: pyzmq>=13 in c:\\users\\usuario\\anaconda3\\lib\\site-packages (from jupyter-client->ipykernel->metakernel) (20.0.0)\n",
      "Requirement already satisfied: python-dateutil>=2.1 in c:\\users\\usuario\\anaconda3\\lib\\site-packages (from jupyter-client->ipykernel->metakernel) (2.8.1)\n",
      "Requirement already satisfied: jupyter-core>=4.6.0 in c:\\users\\usuario\\anaconda3\\lib\\site-packages (from jupyter-client->ipykernel->metakernel) (4.7.1)\n",
      "Requirement already satisfied: pywin32>=1.0 in c:\\users\\usuario\\anaconda3\\lib\\site-packages (from jupyter-core>=4.6.0->jupyter-client->ipykernel->metakernel) (227)\n",
      "Requirement already satisfied: six>=1.5 in c:\\users\\usuario\\anaconda3\\lib\\site-packages (from python-dateutil>=2.1->jupyter-client->ipykernel->metakernel) (1.15.0)\n"
     ]
    }
   ],
   "source": [
    "!pip install metakernel"
   ]
  },
  {
   "cell_type": "code",
   "execution_count": 19,
   "id": "6d55c63e",
   "metadata": {},
   "outputs": [],
   "source": [
    "from metakernel import register_ipython_magics\n",
    "register_ipython_magics()"
   ]
  },
  {
   "cell_type": "markdown",
   "id": "bae93cc4",
   "metadata": {},
   "source": [
    "# **Listas ligadas**"
   ]
  },
  {
   "cell_type": "markdown",
   "id": "f3a337dc",
   "metadata": {},
   "source": [
    "## **Preliminares**\n",
    "\n",
    "### **Manejo estatico de memoria**\n",
    "\n",
    "Recordemos la clase vector:"
   ]
  },
  {
   "cell_type": "code",
   "execution_count": 3,
   "id": "70e80854",
   "metadata": {},
   "outputs": [],
   "source": [
    "class vector:\n",
    "    def __init__(self, n):\n",
    "        self.n = n\n",
    "        self.V = [0] * (n + 1)\n",
    "     \n",
    "    def construyeVector(self, m, r): \n",
    "        self.V[0] = m   \n",
    "        for i in range(1, m + 1):  \n",
    "            self.V[i] = random.randint(1, r)\n",
    "        \n",
    "    def imprimeVector(self, mensaje = \"vector sin nombre: \\t\"): \n",
    "        print(\"\\n\", mensaje, end=\" \")  \n",
    "        for i in range(1, self.V[0] + 1):   \n",
    "            print(self.V[i], end=\", \")   \n",
    "        print()\n",
    "       \n",
    "    def agregarDato(self, d):   \n",
    "        if self.esLleno():    \n",
    "            return    \n",
    "        self.V[0] = self.V[0] + 1    \n",
    "        self.V[self.V[0]] = d\n",
    "    \n",
    "    def asignaDato(self, d, i):    \n",
    "        self.V[i] = d\n",
    "    \n",
    "    def retornaDato(self, i):    \n",
    "        return self.V[i] \n",
    "       \n",
    "    def intercambiar(self, a, b):    \n",
    "        aux = self.V[a]    \n",
    "        self.V[a] = self.V[b]\n",
    "        self.V[b] = aux\n",
    "       \n",
    "    def seleccion(self):    \n",
    "        for i in range(1, self.V[0]):    \n",
    "            k = i    \n",
    "            for j in range(i + 1, self.V[0] + 1):    \n",
    "                if self.V[j] < self.V[k]:    \n",
    "                    k = j    \n",
    "            self.intercambiar(k, i) \n",
    "       \n",
    "    def mayor(self):    \n",
    "        mayor = 1    \n",
    "        for i in range(1, self.V[0] + 1):    \n",
    "            if self.V[i] > self.V[mayor]:    \n",
    "                mayor = i    \n",
    "        return mayor    \n",
    "    \n",
    "    def menor(self):    \n",
    "        menor = 1    \n",
    "        for i in range(1, self.V[0] + 1):    \n",
    "            if self.V[i] < self.V[menor]:    \n",
    "                menor = i    \n",
    "        return menor\n",
    "    \n",
    "    def buscarDato(self, d):    \n",
    "        i = 1    \n",
    "        while i <= self.V[0] and self.V[i] != d:    \n",
    "            i = i + 1    \n",
    "        if i <= self.V[0]:    \n",
    "            return i    \n",
    "        return -1\n",
    "       \n",
    "    def borrarDatoEnPosicion(self, i):    \n",
    "        if i <= 0 or i > self.V[0]:    \n",
    "            print(\"\\nParámetro i inválido\")    \n",
    "            return    \n",
    "        for j in range(i, self.V[0]):    \n",
    "            self.V[j] = self.V[j + 1]    \n",
    "        self.V[0] = self.V[0] -1\n",
    "      \n",
    "    def borrarDato(self, d):   \n",
    "        i = self.buscarDato(d)   \n",
    "        if i != -1:   \n",
    "            self.borrarDatoEnPosicion(i)  \n",
    "    \n",
    "    def posicionesUsadas(self):   \n",
    "        return self.V[0]      \n",
    "    \n",
    "    def esVacio(self):   \n",
    "        return self.V[0] == 0\n",
    "          \n",
    "    def esLleno(self):    \n",
    "        return self.V[0] == self.n   \n",
    "       \n",
    "    def tamagno(self):    \n",
    "        return self.n\n",
    "        \n",
    "    def asignaNumeroElementos(self, m): \n",
    "        self.V[0] = m\n",
    "         \n",
    "    def buscaDondeInsertar(self, d):   \n",
    "        i = 1   \n",
    "        while i <= self.V[0] and self.V[i] < d:   \n",
    "            i = i + 1   \n",
    "        return i  \n",
    "       \n",
    "    def insertar(self, d, i = 0):  \n",
    "        if self.esLleno():  \n",
    "            print(\"\\nVector lleno, no se puede insertar\")  \n",
    "            return  \n",
    "        if i == 0:     \n",
    "            i = self.buscaDondeInsertar(d)   \n",
    "        for j in range(self.V[0], i -1, -1):   \n",
    "            self.V[j + 1] = self.V[j]    \n",
    "        self.V[i] = d   \n",
    "        self.V[0] = self.V[0] + 1       \n",
    "    \n",
    "    def sumaDatos(self):    \n",
    "        s = 0  \n",
    "        for i in range(1, self.V[0] + 1):  \n",
    "            s = s + self.V[i]   \n",
    "        return s"
   ]
  },
  {
   "cell_type": "markdown",
   "id": "9a193802",
   "metadata": {},
   "source": [
    "Suponiendo que se quiere crear un vector con los siguientes elemento:\n",
    "\n",
    "![array_sencillo](array_sencillo.png)\n",
    "\n",
    "Cuando se emplea la clase ```vector``` previamente definida se ejecutan las siguientes instrucciones:"
   ]
  },
  {
   "cell_type": "markdown",
   "id": "47f68398",
   "metadata": {},
   "source": [
    "#### **Caso de inserción de un dato**\n",
    "\n",
    "\n"
   ]
  },
  {
   "cell_type": "code",
   "execution_count": 31,
   "id": "9fd176fb",
   "metadata": {},
   "outputs": [
    {
     "data": {
      "text/html": [
       "\n",
       "        <iframe\n",
       "            width=\"100%\"\n",
       "            height=\"500\"\n",
       "            src=\"https://pythontutor.com/iframe-embed.html#code=%0Adef%20imprimirVector%28v%29%3A%0A%20%20%20%20print%28v%5B1%3Av%5B0%5D%20%2B%201%5D%29%0A%0AV%20%3D%20%5B6%2C%27b%27%2C%20%27d%27%2C%20%27f%27%2C%20%27h%27%2C%20%27l%27%2C%20%27m%27%2C%200%2C%200%2C%200%2C%200%2C%200%2C%200%2C%200%2C%200%2C%200%5D%0AimprimirVector%28V%29%0A&origin=opt-frontend.js&cumulative=false&heapPrimitives=false&textReferences=false&py=3&rawInputLstJSON=%5B%5D&curInstr=0&codeDivWidth=350&codeDivHeight=400\"\n",
       "            frameborder=\"0\"\n",
       "            allowfullscreen\n",
       "        ></iframe>\n",
       "        "
      ],
      "text/plain": [
       "<IPython.lib.display.IFrame at 0x29d0f623f70>"
      ]
     },
     "metadata": {},
     "output_type": "display_data"
    }
   ],
   "source": [
    "%%tutor\n",
    "\n",
    "def imprimirVector(v):\n",
    "    print(v[1:v[0] + 1])\n",
    "\n",
    "V = [6,'b', 'd', 'f', 'h', 'l', 'm', 0, 0, 0, 0, 0, 0, 0, 0, 0]\n",
    "imprimirVector(V)"
   ]
  },
  {
   "cell_type": "markdown",
   "id": "c30b8d2d",
   "metadata": {},
   "source": [
    "Suponiendo que se desea insertar el elemento **g**, lo cual se realizo implementando el método:\n",
    "\n",
    "Los pasos que se llevan a cabo en esta función sob:\n",
    "1. Buscar en cuál posición insertarlo (método ```buscarDondeInsertar(d)```)."
   ]
  },
  {
   "cell_type": "code",
   "execution_count": 33,
   "id": "d0232e3f",
   "metadata": {},
   "outputs": [
    {
     "data": {
      "text/html": [
       "\n",
       "        <iframe\n",
       "            width=\"100%\"\n",
       "            height=\"500\"\n",
       "            src=\"https://pythontutor.com/iframe-embed.html#code=def%20buscaDondeInsertar%28d%2Cv%29%3A%20%20%20%0A%20%20%20%20i%20%3D%201%20%20%20%0A%20%20%20%20while%20i%20%3C%3D%20v%5B0%5D%20and%20v%5Bi%5D%20%3C%20d%3A%20%20%20%0A%20%20%20%20%20%20%20%20i%20%3D%20i%20%2B%201%20%20%20%0A%20%20%20%20return%20i%20%0A%0AV%20%3D%20%5B6%2C%27b%27%2C%20%27d%27%2C%20%27f%27%2C%20%27h%27%2C%20%27l%27%2C%20%27m%27%2C%200%2C%200%2C%200%2C%200%2C%200%2C%200%2C%200%2C%200%2C%200%5D%0Adato%20%3D%20%27g%27%0Apos_dato%20%3D%20buscaDondeInsertar%28dato%2CV%29%0Aprint%28%22Posici%C3%B3n%20para%20insertar%20%22%20%2B%20dato%20%2B%20%22%3A%20%22%20%2Bstr%28pos_dato%29%29%0A&origin=opt-frontend.js&cumulative=false&heapPrimitives=false&textReferences=false&py=3&rawInputLstJSON=%5B%5D&curInstr=0&codeDivWidth=350&codeDivHeight=400\"\n",
       "            frameborder=\"0\"\n",
       "            allowfullscreen\n",
       "        ></iframe>\n",
       "        "
      ],
      "text/plain": [
       "<IPython.lib.display.IFrame at 0x29d0edc30d0>"
      ]
     },
     "metadata": {},
     "output_type": "display_data"
    }
   ],
   "source": [
    "%%tutor\n",
    "def buscaDondeInsertar(d,v):   \n",
    "    i = 1   \n",
    "    while i <= v[0] and v[i] < d:   \n",
    "        i = i + 1   \n",
    "    return i \n",
    "\n",
    "V = [6,'b', 'd', 'f', 'h', 'l', 'm', 0, 0, 0, 0, 0, 0, 0, 0, 0]\n",
    "dato = 'g'\n",
    "pos_dato = buscaDondeInsertar(dato,V)\n",
    "print(\"Posición para insertar \" + dato + \": \" +str(pos_dato))"
   ]
  },
  {
   "cell_type": "markdown",
   "id": "b6b05d87",
   "metadata": {},
   "source": [
    "2. Insertar el dato en la posición correspondiente (método ```insertar(d, i)```)."
   ]
  },
  {
   "cell_type": "code",
   "execution_count": 36,
   "id": "95e84f5c",
   "metadata": {},
   "outputs": [
    {
     "data": {
      "text/html": [
       "\n",
       "        <iframe\n",
       "            width=\"100%\"\n",
       "            height=\"500\"\n",
       "            src=\"https://pythontutor.com/iframe-embed.html#code=def%20insertar%28d%2C%20i%2C%20v%29%3A%20%20%20%20%20%20%20%0A%20%20%20%20for%20j%20in%20range%28v%5B0%5D%20%2C%20i%20-%201%2C%20-1%29%3A%20%20%20%0A%20%20%20%20%20%20%20%20v%5Bj%20%2B%201%5D%20%3D%20v%5Bj%5D%20%20%20%20%0A%20%20%20%20v%5Bi%5D%20%3D%20d%20%20%20%0A%20%20%20%20v%5B0%5D%20%3D%20v%5B0%5D%20%2B%201%0A%0Adato%20%3D%20%27g%27%20%20%20%20%20%20%20%23%20Dato%20%0Apos_dato%20%3D%204%20%20%20%20%20%23%20Posici%C3%B3n%20del%20dato%20%28previamente%20hallado%20en%20el%20paso%201%29%0AV%20%3D%20%5B6%2C%27b%27%2C%20%27d%27%2C%20%27f%27%2C%20%27h%27%2C%20%27l%27%2C%20%27m%27%2C%200%2C%200%2C%200%2C%200%2C%200%2C%200%2C%200%2C%200%2C%200%5D%20%23%20Vector%20en%20el%20que%20se%20realizara%20la%20inserci%C3%B3n%20%0A%0Ainsertar%28dato%2C%20pos_dato%2C%20V%29%20%23%20Insercion%20del%20dato%20en%20el%20vector%0A&origin=opt-frontend.js&cumulative=false&heapPrimitives=false&textReferences=false&py=3&rawInputLstJSON=%5B%5D&curInstr=0&codeDivWidth=350&codeDivHeight=400\"\n",
       "            frameborder=\"0\"\n",
       "            allowfullscreen\n",
       "        ></iframe>\n",
       "        "
      ],
      "text/plain": [
       "<IPython.lib.display.IFrame at 0x29d0edc3eb0>"
      ]
     },
     "metadata": {},
     "output_type": "display_data"
    }
   ],
   "source": [
    "%%tutor\n",
    "def insertar(d, i, v):       \n",
    "    for j in range(v[0] , i - 1, -1):   \n",
    "        v[j + 1] = v[j]    \n",
    "    v[i] = d   \n",
    "    v[0] = v[0] + 1\n",
    "\n",
    "dato = 'g'       # Dato \n",
    "pos_dato = 4     # Posición del dato (previamente hallado en el paso 1)\n",
    "V = [6,'b', 'd', 'f', 'h', 'l', 'm', 0, 0, 0, 0, 0, 0, 0, 0, 0] # Vector en el que se realizara la inserción \n",
    "\n",
    "insertar(dato, pos_dato, V) # Insercion del dato en el vector\n"
   ]
  },
  {
   "cell_type": "markdown",
   "id": "736fb8e8",
   "metadata": {},
   "source": [
    "De este modo, el proceso completo anteriormente descrito se resume en el siguiente conjunto completo de instrucciones:"
   ]
  },
  {
   "cell_type": "code",
   "execution_count": 37,
   "id": "26317fd4",
   "metadata": {},
   "outputs": [
    {
     "name": "stdout",
     "output_type": "stream",
     "text": [
      "['b', 'd', 'f', 'h', 'l', 'm']\n",
      "['b', 'd', 'f', 'g', 'h', 'l', 'm']\n"
     ]
    }
   ],
   "source": [
    "def imprimirVector(v):\n",
    "    print(v[1:v[0] + 1])\n",
    "\n",
    "def buscaDondeInsertar(d,v):   \n",
    "    i = 1   \n",
    "    while i <= v[0] and v[i] < d:   \n",
    "        i = i + 1   \n",
    "    return i \n",
    "\n",
    "def insertar(d, i, v):       \n",
    "    for j in range(v[0] , i - 1, -1):   \n",
    "        v[j + 1] = v[j]    \n",
    "    v[i] = d   \n",
    "    v[0] = v[0] + 1\n",
    "\n",
    "    \n",
    "V = [6,'b', 'd', 'f', 'h', 'l', 'm', 0, 0, 0, 0, 0, 0, 0, 0, 0] # Vector original \n",
    "imprimirVector(V)\n",
    "\n",
    "dato = 'g'      \n",
    "# Paso 1\n",
    "pos_dato = buscaDondeInsertar(dato, V)\n",
    "# Paso 2\n",
    "insertar(dato, pos_dato, V)\n",
    "\n",
    "imprimirVector(V)"
   ]
  },
  {
   "cell_type": "markdown",
   "id": "ce0c5be0",
   "metadata": {},
   "source": [
    "Suponiendo que se desea insertar el elemento **g**, lo cual se realizo implementando el método ```insertar(d)``` de la clase vector:\n",
    "\n",
    "```python\n",
    "def insertar(self, d, i = 0):  \n",
    "    if self.esLleno():  \n",
    "        print(\"\\nVector lleno, no se puede insertar\")  \n",
    "        return  \n",
    "    if i == 0:     \n",
    "        i = self.buscaDondeInsertar(d)   \n",
    "    for j in range(self.V[0], i -1, -1):   \n",
    "        self.V[j + 1] = self.V[j]    \n",
    "    self.V[i] = d   \n",
    "    self.V[0] = self.V[0] + 1 \n",
    "```\n",
    "\n",
    "El procedimiento para el ejemplo será ([link simulacion](http://pythontutor.com/visualize.html#code=class%20vector%3A%0A%20%20%20%20def%20__init__%28self,%20n%29%3A%0A%20%20%20%20%20%20%20%20self.n%20%3D%20n%0A%20%20%20%20%20%20%20%20self.V%20%3D%20%5B0%5D%20*%20%28n%20%2B%201%29%0A%20%20%20%20%20%0A%20%20%20%20def%20construyeVector%28self,%20m,%20r%29%3A%20%0A%20%20%20%20%20%20%20%20self.V%5B0%5D%20%3D%20m%20%20%20%0A%20%20%20%20%20%20%20%20for%20i%20in%20range%281,%20m%20%2B%201%29%3A%20%20%0A%20%20%20%20%20%20%20%20%20%20%20%20self.V%5Bi%5D%20%3D%20random.randint%281,%20r%29%0A%20%20%20%20%20%20%20%20%0A%20%20%20%20def%20imprimeVector%28self,%20mensaje%20%3D%20%22vector%20sin%20nombre%3A%20%5Ct%22%29%3A%20%0A%20%20%20%20%20%20%20%20print%28%22%5Cn%22,%20mensaje,%20end%3D%22%20%22%29%20%20%0A%20%20%20%20%20%20%20%20for%20i%20in%20range%281,%20self.V%5B0%5D%20%2B%201%29%3A%20%20%20%0A%20%20%20%20%20%20%20%20%20%20%20%20print%28self.V%5Bi%5D,%20end%3D%22,%20%22%29%20%20%20%0A%20%20%20%20%20%20%20%20print%28%29%0A%20%20%20%20%20%20%20%0A%20%20%20%20def%20agregarDato%28self,%20d%29%3A%20%20%20%0A%20%20%20%20%20%20%20%20if%20self.esLleno%28%29%3A%20%20%20%20%0A%20%20%20%20%20%20%20%20%20%20%20%20return%20%20%20%20%0A%20%20%20%20%20%20%20%20self.V%5B0%5D%20%3D%20self.V%5B0%5D%20%2B%201%20%20%20%20%0A%20%20%20%20%20%20%20%20self.V%5Bself.V%5B0%5D%5D%20%3D%20d%0A%20%20%20%20%0A%20%20%20%20def%20asignaDato%28self,%20d,%20i%29%3A%20%20%20%20%0A%20%20%20%20%20%20%20%20self.V%5Bi%5D%20%3D%20d%0A%20%20%20%20%0A%20%20%20%20def%20retornaDato%28self,%20i%29%3A%20%20%20%20%0A%20%20%20%20%20%20%20%20return%20self.V%5Bi%5D%20%0A%20%20%20%20%20%20%20%0A%20%20%20%20def%20intercambiar%28self,%20a,%20b%29%3A%20%20%20%20%0A%20%20%20%20%20%20%20%20aux%20%3D%20self.V%5Ba%5D%20%20%20%20%0A%20%20%20%20%20%20%20%20self.V%5Ba%5D%20%3D%20self.V%5Bb%5D%0A%20%20%20%20%20%20%20%20self.V%5Bb%5D%20%3D%20aux%0A%20%20%20%20%20%20%20%0A%20%20%20%20def%20seleccion%28self%29%3A%20%20%20%20%0A%20%20%20%20%20%20%20%20for%20i%20in%20range%281,%20self.V%5B0%5D%29%3A%20%20%20%20%0A%20%20%20%20%20%20%20%20%20%20%20%20k%20%3D%20i%20%20%20%20%0A%20%20%20%20%20%20%20%20%20%20%20%20for%20j%20in%20range%28i%20%2B%201,%20self.V%5B0%5D%20%2B%201%29%3A%20%20%20%20%0A%20%20%20%20%20%20%20%20%20%20%20%20%20%20%20%20if%20self.V%5Bj%5D%20%3C%20self.V%5Bk%5D%3A%20%20%20%20%0A%20%20%20%20%20%20%20%20%20%20%20%20%20%20%20%20%20%20%20%20k%20%3D%20j%20%20%20%20%0A%20%20%20%20%20%20%20%20%20%20%20%20self.intercambiar%28k,%20i%29%20%0A%20%20%20%20%20%20%20%0A%20%20%20%20def%20mayor%28self%29%3A%20%20%20%20%0A%20%20%20%20%20%20%20%20mayor%20%3D%201%20%20%20%20%0A%20%20%20%20%20%20%20%20for%20i%20in%20range%281,%20self.V%5B0%5D%20%2B%201%29%3A%20%20%20%20%0A%20%20%20%20%20%20%20%20%20%20%20%20if%20self.V%5Bi%5D%20%3E%20self.V%5Bmayor%5D%3A%20%20%20%20%0A%20%20%20%20%20%20%20%20%20%20%20%20%20%20%20%20mayor%20%3D%20i%20%20%20%20%0A%20%20%20%20%20%20%20%20return%20mayor%20%20%20%20%0A%20%20%20%20%0A%20%20%20%20def%20menor%28self%29%3A%20%20%20%20%0A%20%20%20%20%20%20%20%20menor%20%3D%201%20%20%20%20%0A%20%20%20%20%20%20%20%20for%20i%20in%20range%281,%20self.V%5B0%5D%20%2B%201%29%3A%20%20%20%20%0A%20%20%20%20%20%20%20%20%20%20%20%20if%20self.V%5Bi%5D%20%3C%20self.V%5Bmenor%5D%3A%20%20%20%20%0A%20%20%20%20%20%20%20%20%20%20%20%20%20%20%20%20menor%20%3D%20i%20%20%20%20%0A%20%20%20%20%20%20%20%20return%20menor%0A%20%20%20%20%0A%20%20%20%20def%20buscarDato%28self,%20d%29%3A%20%20%20%20%0A%20%20%20%20%20%20%20%20i%20%3D%201%20%20%20%20%0A%20%20%20%20%20%20%20%20while%20i%20%3C%3D%20self.V%5B0%5D%20and%20self.V%5Bi%5D%20!%3D%20d%3A%20%20%20%20%0A%20%20%20%20%20%20%20%20%20%20%20%20i%20%3D%20i%20%2B%201%20%20%20%20%0A%20%20%20%20%20%20%20%20if%20i%20%3C%3D%20self.V%5B0%5D%3A%20%20%20%20%0A%20%20%20%20%20%20%20%20%20%20%20%20return%20i%20%20%20%20%0A%20%20%20%20%20%20%20%20return%20-1%0A%20%20%20%20%20%20%20%0A%20%20%20%20def%20borrarDatoEnPosicion%28self,%20i%29%3A%20%20%20%20%0A%20%20%20%20%20%20%20%20if%20i%20%3C%3D%200%20or%20i%20%3E%20self.V%5B0%5D%3A%20%20%20%20%0A%20%20%20%20%20%20%20%20%20%20%20%20print%28%22%5CnPar%C3%A1metro%20i%20inv%C3%A1lido%22%29%20%20%20%20%0A%20%20%20%20%20%20%20%20%20%20%20%20return%20%20%20%20%0A%20%20%20%20%20%20%20%20for%20j%20in%20range%28i,%20self.V%5B0%5D%29%3A%20%20%20%20%0A%20%20%20%20%20%20%20%20%20%20%20%20self.V%5Bj%5D%20%3D%20self.V%5Bj%20%2B%201%5D%20%20%20%20%0A%20%20%20%20%20%20%20%20self.V%5B0%5D%20%3D%20self.V%5B0%5D%20-1%0A%20%20%20%20%20%20%0A%20%20%20%20def%20borrarDato%28self,%20d%29%3A%20%20%20%0A%20%20%20%20%20%20%20%20i%20%3D%20self.buscarDato%28d%29%20%20%20%0A%20%20%20%20%20%20%20%20if%20i%20!%3D%20-1%3A%20%20%20%0A%20%20%20%20%20%20%20%20%20%20%20%20self.borrarDatoEnPosicion%28i%29%20%20%0A%20%20%20%20%0A%20%20%20%20def%20posicionesUsadas%28self%29%3A%20%20%20%0A%20%20%20%20%20%20%20%20return%20self.V%5B0%5D%20%20%20%20%20%20%0A%20%20%20%20%0A%20%20%20%20def%20esVacio%28self%29%3A%20%20%20%0A%20%20%20%20%20%20%20%20return%20self.V%5B0%5D%20%3D%3D%200%0A%20%20%20%20%20%20%20%20%20%20%0A%20%20%20%20def%20esLleno%28self%29%3A%20%20%20%20%0A%20%20%20%20%20%20%20%20return%20self.V%5B0%5D%20%3D%3D%20self.n%20%20%20%0A%20%20%20%20%20%20%20%0A%20%20%20%20def%20tamagno%28self%29%3A%20%20%20%20%0A%20%20%20%20%20%20%20%20return%20self.n%0A%20%20%20%20%20%20%20%20%0A%20%20%20%20def%20asignaNumeroElementos%28self,%20m%29%3A%20%0A%20%20%20%20%20%20%20%20self.V%5B0%5D%20%3D%20m%0A%20%20%20%20%20%20%20%20%20%0A%20%20%20%20def%20buscaDondeInsertar%28self,%20d%29%3A%20%20%20%0A%20%20%20%20%20%20%20%20i%20%3D%201%20%20%20%0A%20%20%20%20%20%20%20%20while%20i%20%3C%3D%20self.V%5B0%5D%20and%20self.V%5Bi%5D%20%3C%20d%3A%20%20%20%0A%20%20%20%20%20%20%20%20%20%20%20%20i%20%3D%20i%20%2B%201%20%20%20%0A%20%20%20%20%20%20%20%20return%20i%20%20%0A%20%20%20%20%20%20%20%0A%20%20%20%20def%20insertar%28self,%20d,%20i%20%3D%200%29%3A%20%20%0A%20%20%20%20%20%20%20%20if%20self.esLleno%28%29%3A%20%20%0A%20%20%20%20%20%20%20%20%20%20%20%20print%28%22%5CnVector%20lleno,%20no%20se%20puede%20insertar%22%29%20%20%0A%20%20%20%20%20%20%20%20%20%20%20%20return%20%20%0A%20%20%20%20%20%20%20%20if%20i%20%3D%3D%200%3A%20%20%20%20%20%0A%20%20%20%20%20%20%20%20%20%20%20%20i%20%3D%20self.buscaDondeInsertar%28d%29%20%20%20%0A%20%20%20%20%20%20%20%20for%20j%20in%20range%28self.V%5B0%5D,%20i%20-1,%20-1%29%3A%20%20%20%0A%20%20%20%20%20%20%20%20%20%20%20%20self.V%5Bj%20%2B%201%5D%20%3D%20self.V%5Bj%5D%20%20%20%20%0A%20%20%20%20%20%20%20%20self.V%5Bi%5D%20%3D%20d%20%20%20%0A%20%20%20%20%20%20%20%20self.V%5B0%5D%20%3D%20self.V%5B0%5D%20%2B%201%20%20%20%20%20%20%20%0A%20%20%20%20%0A%20%20%20%20def%20sumaDatos%28self%29%3A%20%20%20%20%0A%20%20%20%20%20%20%20%20s%20%3D%200%20%20%0A%20%20%20%20%20%20%20%20for%20i%20in%20range%281,%20self.V%5B0%5D%20%2B%201%29%3A%20%20%0A%20%20%20%20%20%20%20%20%20%20%20%20s%20%3D%20s%20%2B%20self.V%5Bi%5D%20%20%20%0A%20%20%20%20%20%20%20%20return%20s%0A%0A%22%22%22%20Inicializando%20un%20vector%20de%2015%20elementos%20%22%22%22%20%20%20%20%20%20%20%20%0AV%20%3D%20vector%2815%29%0AV.agregarDato%28'b'%29%0AV.agregarDato%28'd'%29%0AV.agregarDato%28'f'%29%0AV.agregarDato%28'h'%29%0AV.agregarDato%28'l'%29%0AV.agregarDato%28'm'%29%0AV.imprimeVector%28%22V%3A%20%22%29%20%20%20%23%20Imprimiendo%20vector%0A%22%22%22%20Insertando%20la%20g%20%22%22%22%0Adato%20%3D%20%22g%22%20%20%20%20%20%20%20%20%20%20%20%20%20%20%20%23%20Dato%20a%20insertar%0AV.insertar%28dato%29%20%20%20%20%20%20%20%20%20%23%20Insertando%20dato%0AV.imprimeVector%28%22V%3A%20%22%29%20%20%20%23%20Imprimiendo%20vector&cumulative=false&curInstr=0&heapPrimitives=nevernest&mode=display&origin=opt-frontend.js&py=3&rawInputLstJSON=%5B%5D&textReferences=false)):"
   ]
  },
  {
   "cell_type": "code",
   "execution_count": 43,
   "id": "e0b0a746",
   "metadata": {},
   "outputs": [
    {
     "name": "stdout",
     "output_type": "stream",
     "text": [
      "\n",
      " V:  b, d, f, h, l, m, \n",
      "\n",
      " V:  b, d, f, g, h, l, m, \n"
     ]
    }
   ],
   "source": [
    "V = vector(15)\n",
    "V.agregarDato('b')\n",
    "V.agregarDato('d')\n",
    "V.agregarDato('f')\n",
    "V.agregarDato('h')\n",
    "V.agregarDato('l')\n",
    "V.agregarDato('m')\n",
    "V.imprimeVector(\"V: \")\n",
    "dato = 'g'\n",
    "V.insertar(dato)\n",
    "V.imprimeVector(\"V: \")"
   ]
  },
  {
   "cell_type": "markdown",
   "id": "bda99e3b",
   "metadata": {},
   "source": [
    "#### **Caso de eliminacion de un dato**\n",
    "\n",
    "Supongase ahora que se tiene el vector mostrado a continuación:\n",
    "\n",
    "```python\n",
    "V = [7, 'b', 'd', 'f', 'g','h', 'l', 'm', 0, 0, 0, 0, 0, 0, 0, 0]\n",
    "```\n",
    "\n",
    "Y que se desea borrar el elemento **f**, entonces se deberan llevar a cavo los pasos mostrados a continuación:\n",
    "1. Buscar en cuál posición se halla el dato a borrar (método ```buscarDato(d)```)."
   ]
  },
  {
   "cell_type": "code",
   "execution_count": 40,
   "id": "d0c1d07a",
   "metadata": {},
   "outputs": [
    {
     "data": {
      "text/html": [
       "\n",
       "        <iframe\n",
       "            width=\"100%\"\n",
       "            height=\"500\"\n",
       "            src=\"https://pythontutor.com/iframe-embed.html#code=def%20buscarDato%28d%2C%20v%29%3A%20%20%20%20%0A%20%20%20%20i%20%3D%201%20%20%20%20%0A%20%20%20%20while%20i%20%3C%3D%20v%5B0%5D%20and%20v%5Bi%5D%20%21%3D%20d%3A%20%20%20%20%0A%20%20%20%20%20%20%20%20i%20%3D%20i%20%2B%201%20%20%20%20%0A%20%20%20%20if%20i%20%3C%3D%20v%5B0%5D%3A%20%20%20%20%0A%20%20%20%20%20%20%20%20return%20i%20%20%20%20%0A%20%20%20%20return%20-1%0A%0AV%20%3D%20%5B7%2C%20%27b%27%2C%20%27d%27%2C%20%27f%27%2C%20%27g%27%2C%27h%27%2C%20%27l%27%2C%20%27m%27%2C%200%2C%200%2C%200%2C%200%2C%200%2C%200%2C%200%2C%200%5D%0Adato%20%3D%20%27g%27%0Apos_dato%20%3D%20buscarDato%28dato%2C%20V%29%0Aprint%28%22Posici%C3%B3n%20del%20dato%20%22%20%2B%20dato%20%2B%20%22%20a%20borrar%3A%20%22%20%2Bstr%28pos_dato%29%29%0A&origin=opt-frontend.js&cumulative=false&heapPrimitives=false&textReferences=false&py=3&rawInputLstJSON=%5B%5D&curInstr=0&codeDivWidth=350&codeDivHeight=400\"\n",
       "            frameborder=\"0\"\n",
       "            allowfullscreen\n",
       "        ></iframe>\n",
       "        "
      ],
      "text/plain": [
       "<IPython.lib.display.IFrame at 0x29d0edc30a0>"
      ]
     },
     "metadata": {},
     "output_type": "display_data"
    }
   ],
   "source": [
    "%%tutor\n",
    "def buscarDato(d, v):    \n",
    "    i = 1    \n",
    "    while i <= v[0] and v[i] != d:    \n",
    "        i = i + 1    \n",
    "    if i <= v[0]:    \n",
    "        return i    \n",
    "    return -1\n",
    "\n",
    "V = [7, 'b', 'd', 'f', 'g','h', 'l', 'm', 0, 0, 0, 0, 0, 0, 0, 0]\n",
    "dato = 'f'\n",
    "pos_dato = buscarDato(dato, V)\n",
    "print(\"Posición del dato \" + dato + \" a borrar: \" +str(pos_dato))"
   ]
  },
  {
   "cell_type": "markdown",
   "id": "a454cb31",
   "metadata": {},
   "source": [
    "2. Borrar el dato del vector (método ```borrarDatoEnPosicion(i)```)."
   ]
  },
  {
   "cell_type": "code",
   "execution_count": 41,
   "id": "595cfe56",
   "metadata": {},
   "outputs": [
    {
     "data": {
      "text/html": [
       "\n",
       "        <iframe\n",
       "            width=\"100%\"\n",
       "            height=\"500\"\n",
       "            src=\"https://pythontutor.com/iframe-embed.html#code=def%20borrarDatoEnPosicion%28i%2C%20v%29%3A%20%20%20%20%0A%20%20%20%20for%20j%20in%20range%28i%2C%20v%5B0%5D%29%3A%20%20%20%20%0A%20%20%20%20%20%20%20%20v%5Bj%5D%20%3D%20v%5Bj%20%2B%201%5D%20%20%20%20%0A%20%20%20%20v%5Bv%5B0%5D%5D%20%3D%200%0A%20%20%20%20v%5B0%5D%20%3D%20v%5B0%5D%20-%201%0A%20%20%20%20%0Adato%20%3D%20%27g%27%20%20%20%20%20%20%20%23%20Dato%20%0Apos_dato%20%3D%204%20%20%20%20%20%23%20Posici%C3%B3n%20del%20dato%20%28previamente%20hallado%20en%20el%20paso%201%29%0AV%20%3D%20%5B7%2C%20%27b%27%2C%20%27d%27%2C%20%27f%27%2C%20%27g%27%2C%27h%27%2C%20%27l%27%2C%20%27m%27%2C%200%2C%200%2C%200%2C%200%2C%200%2C%200%2C%200%2C%200%5D%0A%0AborrarDatoEnPosicion%28pos_dato%2C%20V%29%20%23%20Borrado%20del%20dato%20en%20el%20vector%0A&origin=opt-frontend.js&cumulative=false&heapPrimitives=false&textReferences=false&py=3&rawInputLstJSON=%5B%5D&curInstr=0&codeDivWidth=350&codeDivHeight=400\"\n",
       "            frameborder=\"0\"\n",
       "            allowfullscreen\n",
       "        ></iframe>\n",
       "        "
      ],
      "text/plain": [
       "<IPython.lib.display.IFrame at 0x29d0edc3d60>"
      ]
     },
     "metadata": {},
     "output_type": "display_data"
    }
   ],
   "source": [
    "%%tutor\n",
    "def borrarDatoEnPosicion(i, v):    \n",
    "    for j in range(i, v[0]):    \n",
    "        v[j] = v[j + 1]    \n",
    "    v[v[0]] = 0\n",
    "    v[0] = v[0] - 1\n",
    "    \n",
    "dato = 'f'       # Dato \n",
    "pos_dato = 4     # Posición del dato (previamente hallado en el paso 1)\n",
    "V = [7, 'b', 'd', 'f', 'g','h', 'l', 'm', 0, 0, 0, 0, 0, 0, 0, 0]\n",
    "\n",
    "borrarDatoEnPosicion(pos_dato, V) # Borrado del dato en el vector"
   ]
  },
  {
   "cell_type": "markdown",
   "id": "6a696da0",
   "metadata": {},
   "source": [
    "De este modo, el proceso completo anteriormente descrito se resume en el siguiente conjunto completo de instrucciones:"
   ]
  },
  {
   "cell_type": "code",
   "execution_count": 46,
   "id": "7193d8cf",
   "metadata": {},
   "outputs": [
    {
     "name": "stdout",
     "output_type": "stream",
     "text": [
      "['b', 'd', 'f', 'g', 'h', 'l', 'm']\n",
      "['b', 'd', 'g', 'h', 'l', 'm']\n"
     ]
    }
   ],
   "source": [
    "def imprimirVector(v):\n",
    "    print(v[1:v[0] + 1])\n",
    "\n",
    "def buscarDato(d, v):    \n",
    "    i = 1    \n",
    "    while i <= v[0] and v[i] != d:    \n",
    "        i = i + 1    \n",
    "    if i <= v[0]:    \n",
    "        return i    \n",
    "    return -1\n",
    "\n",
    "def borrarDatoEnPosicion(i, v):    \n",
    "    for j in range(i, v[0]):    \n",
    "        v[j] = v[j + 1]    \n",
    "    v[v[0]] = 0\n",
    "    v[0] = v[0] - 1\n",
    "\n",
    "    \n",
    "V = [7, 'b', 'd', 'f', 'g','h', 'l', 'm', 0, 0, 0, 0, 0, 0, 0, 0] # Vector original \n",
    "imprimirVector(V)\n",
    "\n",
    "dato = 'f'      \n",
    "# Paso 1\n",
    "pos_dato = buscarDato(dato, V)\n",
    "# Paso 2\n",
    "borrarDatoEnPosicion(pos_dato, V)\n",
    "\n",
    "imprimirVector(V)"
   ]
  },
  {
   "cell_type": "markdown",
   "id": "97babe86",
   "metadata": {},
   "source": [
    "Suponiendo que se desea eliminar el elemento **g**, lo cual se realizo implementando el método ```borrarDato(d)``` de la clase vector:\n",
    "\n",
    "```python\n",
    "def borrarDato(self, d):   \n",
    "    i = self.buscarDato(d)   \n",
    "    if i != -1:   \n",
    "        self.borrarDatoEnPosicion(i) \n",
    "```\n",
    "\n",
    "El procedimiento para el ejemplo será ([link simulacion](http://pythontutor.com/visualize.html#code=class%20vector%3A%0A%20%20%20%20def%20__init__%28self,%20n%29%3A%0A%20%20%20%20%20%20%20%20self.n%20%3D%20n%0A%20%20%20%20%20%20%20%20self.V%20%3D%20%5B0%5D%20*%20%28n%20%2B%201%29%0A%20%20%20%20%20%0A%20%20%20%20def%20construyeVector%28self,%20m,%20r%29%3A%20%0A%20%20%20%20%20%20%20%20self.V%5B0%5D%20%3D%20m%20%20%20%0A%20%20%20%20%20%20%20%20for%20i%20in%20range%281,%20m%20%2B%201%29%3A%20%20%0A%20%20%20%20%20%20%20%20%20%20%20%20self.V%5Bi%5D%20%3D%20random.randint%281,%20r%29%0A%20%20%20%20%20%20%20%20%0A%20%20%20%20def%20imprimeVector%28self,%20mensaje%20%3D%20%22vector%20sin%20nombre%3A%20%5Ct%22%29%3A%20%0A%20%20%20%20%20%20%20%20print%28%22%5Cn%22,%20mensaje,%20end%3D%22%20%22%29%20%20%0A%20%20%20%20%20%20%20%20for%20i%20in%20range%281,%20self.V%5B0%5D%20%2B%201%29%3A%20%20%20%0A%20%20%20%20%20%20%20%20%20%20%20%20print%28self.V%5Bi%5D,%20end%3D%22,%20%22%29%20%20%20%0A%20%20%20%20%20%20%20%20print%28%29%0A%20%20%20%20%20%20%20%0A%20%20%20%20def%20agregarDato%28self,%20d%29%3A%20%20%20%0A%20%20%20%20%20%20%20%20if%20self.esLleno%28%29%3A%20%20%20%20%0A%20%20%20%20%20%20%20%20%20%20%20%20return%20%20%20%20%0A%20%20%20%20%20%20%20%20self.V%5B0%5D%20%3D%20self.V%5B0%5D%20%2B%201%20%20%20%20%0A%20%20%20%20%20%20%20%20self.V%5Bself.V%5B0%5D%5D%20%3D%20d%0A%20%20%20%20%0A%20%20%20%20def%20asignaDato%28self,%20d,%20i%29%3A%20%20%20%20%0A%20%20%20%20%20%20%20%20self.V%5Bi%5D%20%3D%20d%0A%20%20%20%20%0A%20%20%20%20def%20retornaDato%28self,%20i%29%3A%20%20%20%20%0A%20%20%20%20%20%20%20%20return%20self.V%5Bi%5D%20%0A%20%20%20%20%20%20%20%0A%20%20%20%20def%20intercambiar%28self,%20a,%20b%29%3A%20%20%20%20%0A%20%20%20%20%20%20%20%20aux%20%3D%20self.V%5Ba%5D%20%20%20%20%0A%20%20%20%20%20%20%20%20self.V%5Ba%5D%20%3D%20self.V%5Bb%5D%0A%20%20%20%20%20%20%20%20self.V%5Bb%5D%20%3D%20aux%0A%20%20%20%20%20%20%20%0A%20%20%20%20def%20seleccion%28self%29%3A%20%20%20%20%0A%20%20%20%20%20%20%20%20for%20i%20in%20range%281,%20self.V%5B0%5D%29%3A%20%20%20%20%0A%20%20%20%20%20%20%20%20%20%20%20%20k%20%3D%20i%20%20%20%20%0A%20%20%20%20%20%20%20%20%20%20%20%20for%20j%20in%20range%28i%20%2B%201,%20self.V%5B0%5D%20%2B%201%29%3A%20%20%20%20%0A%20%20%20%20%20%20%20%20%20%20%20%20%20%20%20%20if%20self.V%5Bj%5D%20%3C%20self.V%5Bk%5D%3A%20%20%20%20%0A%20%20%20%20%20%20%20%20%20%20%20%20%20%20%20%20%20%20%20%20k%20%3D%20j%20%20%20%20%0A%20%20%20%20%20%20%20%20%20%20%20%20self.intercambiar%28k,%20i%29%20%0A%20%20%20%20%20%20%20%0A%20%20%20%20def%20mayor%28self%29%3A%20%20%20%20%0A%20%20%20%20%20%20%20%20mayor%20%3D%201%20%20%20%20%0A%20%20%20%20%20%20%20%20for%20i%20in%20range%281,%20self.V%5B0%5D%20%2B%201%29%3A%20%20%20%20%0A%20%20%20%20%20%20%20%20%20%20%20%20if%20self.V%5Bi%5D%20%3E%20self.V%5Bmayor%5D%3A%20%20%20%20%0A%20%20%20%20%20%20%20%20%20%20%20%20%20%20%20%20mayor%20%3D%20i%20%20%20%20%0A%20%20%20%20%20%20%20%20return%20mayor%20%20%20%20%0A%20%20%20%20%0A%20%20%20%20def%20menor%28self%29%3A%20%20%20%20%0A%20%20%20%20%20%20%20%20menor%20%3D%201%20%20%20%20%0A%20%20%20%20%20%20%20%20for%20i%20in%20range%281,%20self.V%5B0%5D%20%2B%201%29%3A%20%20%20%20%0A%20%20%20%20%20%20%20%20%20%20%20%20if%20self.V%5Bi%5D%20%3C%20self.V%5Bmenor%5D%3A%20%20%20%20%0A%20%20%20%20%20%20%20%20%20%20%20%20%20%20%20%20menor%20%3D%20i%20%20%20%20%0A%20%20%20%20%20%20%20%20return%20menor%0A%20%20%20%20%0A%20%20%20%20def%20buscarDato%28self,%20d%29%3A%20%20%20%20%0A%20%20%20%20%20%20%20%20i%20%3D%201%20%20%20%20%0A%20%20%20%20%20%20%20%20while%20i%20%3C%3D%20self.V%5B0%5D%20and%20self.V%5Bi%5D%20!%3D%20d%3A%20%20%20%20%0A%20%20%20%20%20%20%20%20%20%20%20%20i%20%3D%20i%20%2B%201%20%20%20%20%0A%20%20%20%20%20%20%20%20if%20i%20%3C%3D%20self.V%5B0%5D%3A%20%20%20%20%0A%20%20%20%20%20%20%20%20%20%20%20%20return%20i%20%20%20%20%0A%20%20%20%20%20%20%20%20return%20-1%0A%20%20%20%20%20%20%20%0A%20%20%20%20def%20borrarDatoEnPosicion%28self,%20i%29%3A%20%20%20%20%0A%20%20%20%20%20%20%20%20if%20i%20%3C%3D%200%20or%20i%20%3E%20self.V%5B0%5D%3A%20%20%20%20%0A%20%20%20%20%20%20%20%20%20%20%20%20print%28%22%5CnPar%C3%A1metro%20i%20inv%C3%A1lido%22%29%20%20%20%20%0A%20%20%20%20%20%20%20%20%20%20%20%20return%20%20%20%20%0A%20%20%20%20%20%20%20%20for%20j%20in%20range%28i,%20self.V%5B0%5D%29%3A%20%20%20%20%0A%20%20%20%20%20%20%20%20%20%20%20%20self.V%5Bj%5D%20%3D%20self.V%5Bj%20%2B%201%5D%20%20%20%20%0A%20%20%20%20%20%20%20%20self.V%5B0%5D%20%3D%20self.V%5B0%5D%20-1%0A%20%20%20%20%20%20%0A%20%20%20%20def%20borrarDato%28self,%20d%29%3A%20%20%20%0A%20%20%20%20%20%20%20%20i%20%3D%20self.buscarDato%28d%29%20%20%20%0A%20%20%20%20%20%20%20%20if%20i%20!%3D%20-1%3A%20%20%20%0A%20%20%20%20%20%20%20%20%20%20%20%20self.borrarDatoEnPosicion%28i%29%20%20%0A%20%20%20%20%0A%20%20%20%20def%20posicionesUsadas%28self%29%3A%20%20%20%0A%20%20%20%20%20%20%20%20return%20self.V%5B0%5D%20%20%20%20%20%20%0A%20%20%20%20%0A%20%20%20%20def%20esVacio%28self%29%3A%20%20%20%0A%20%20%20%20%20%20%20%20return%20self.V%5B0%5D%20%3D%3D%200%0A%20%20%20%20%20%20%20%20%20%20%0A%20%20%20%20def%20esLleno%28self%29%3A%20%20%20%20%0A%20%20%20%20%20%20%20%20return%20self.V%5B0%5D%20%3D%3D%20self.n%20%20%20%0A%20%20%20%20%20%20%20%0A%20%20%20%20def%20tamagno%28self%29%3A%20%20%20%20%0A%20%20%20%20%20%20%20%20return%20self.n%0A%20%20%20%20%20%20%20%20%0A%20%20%20%20def%20asignaNumeroElementos%28self,%20m%29%3A%20%0A%20%20%20%20%20%20%20%20self.V%5B0%5D%20%3D%20m%0A%20%20%20%20%20%20%20%20%20%0A%20%20%20%20def%20buscaDondeInsertar%28self,%20d%29%3A%20%20%20%0A%20%20%20%20%20%20%20%20i%20%3D%201%20%20%20%0A%20%20%20%20%20%20%20%20while%20i%20%3C%3D%20self.V%5B0%5D%20and%20self.V%5Bi%5D%20%3C%20d%3A%20%20%20%0A%20%20%20%20%20%20%20%20%20%20%20%20i%20%3D%20i%20%2B%201%20%20%20%0A%20%20%20%20%20%20%20%20return%20i%20%20%0A%20%20%20%20%20%20%20%0A%20%20%20%20def%20insertar%28self,%20d,%20i%20%3D%200%29%3A%20%20%0A%20%20%20%20%20%20%20%20if%20self.esLleno%28%29%3A%20%20%0A%20%20%20%20%20%20%20%20%20%20%20%20print%28%22%5CnVector%20lleno,%20no%20se%20puede%20insertar%22%29%20%20%0A%20%20%20%20%20%20%20%20%20%20%20%20return%20%20%0A%20%20%20%20%20%20%20%20if%20i%20%3D%3D%200%3A%20%20%20%20%20%0A%20%20%20%20%20%20%20%20%20%20%20%20i%20%3D%20self.buscaDondeInsertar%28d%29%20%20%20%0A%20%20%20%20%20%20%20%20for%20j%20in%20range%28self.V%5B0%5D,%20i%20-1,%20-1%29%3A%20%20%20%0A%20%20%20%20%20%20%20%20%20%20%20%20self.V%5Bj%20%2B%201%5D%20%3D%20self.V%5Bj%5D%20%20%20%20%0A%20%20%20%20%20%20%20%20self.V%5Bi%5D%20%3D%20d%20%20%20%0A%20%20%20%20%20%20%20%20self.V%5B0%5D%20%3D%20self.V%5B0%5D%20%2B%201%20%20%20%20%20%20%20%0A%20%20%20%20%0A%20%20%20%20def%20sumaDatos%28self%29%3A%20%20%20%20%0A%20%20%20%20%20%20%20%20s%20%3D%200%20%20%0A%20%20%20%20%20%20%20%20for%20i%20in%20range%281,%20self.V%5B0%5D%20%2B%201%29%3A%20%20%0A%20%20%20%20%20%20%20%20%20%20%20%20s%20%3D%20s%20%2B%20self.V%5Bi%5D%20%20%20%0A%20%20%20%20%20%20%20%20return%20s%0A%0A%22%22%22%20Inicializando%20un%20vector%20de%2015%20elementos%20%22%22%22%20%20%20%20%20%20%20%20%0AV%20%3D%20vector%2815%29%0AV.agregarDato%28'b'%29%0AV.agregarDato%28'd'%29%0AV.agregarDato%28'f'%29%0AV.agregarDato%28'g'%29%0AV.agregarDato%28'h'%29%0AV.agregarDato%28'l'%29%0AV.agregarDato%28'm'%29%0AV.imprimeVector%28%22V%3A%20%22%29%20%20%20%23%20Imprimiendo%20vector%0A%0A%22%22%22%20Eliminando%20la%20f%20%22%22%22%0Adato%20%3D%20'f'%20%20%23%20Dato%20a%20borrar%0AV.borrarDato%28dato%29%0AV.imprimeVector%28%22V%3A%20%22%29%20%20%20%23%20Imprimiendo%20vector&cumulative=false&curInstr=0&heapPrimitives=nevernest&mode=display&origin=opt-frontend.js&py=3&rawInputLstJSON=%5B%5D&textReferences=false))"
   ]
  },
  {
   "cell_type": "code",
   "execution_count": 45,
   "id": "c2c8f4d2",
   "metadata": {},
   "outputs": [
    {
     "name": "stdout",
     "output_type": "stream",
     "text": [
      "\n",
      " V:  b, d, f, g, h, l, m, \n",
      "\n",
      " V:  b, d, g, h, l, m, \n"
     ]
    }
   ],
   "source": [
    "V = vector(15)\n",
    "V.agregarDato('b')\n",
    "V.agregarDato('d')\n",
    "V.agregarDato('f')\n",
    "V.agregarDato('g')\n",
    "V.agregarDato('h')\n",
    "V.agregarDato('l')\n",
    "V.agregarDato('m')\n",
    "V.imprimeVector(\"V: \")\n",
    "dato = 'f'\n",
    "V.borrarDato(dato)\n",
    "V.imprimeVector(\"V: \")"
   ]
  },
  {
   "cell_type": "markdown",
   "id": "41d42ce0",
   "metadata": {},
   "source": [
    "### **Conclusiones**\n",
    "\n",
    "1. **De insertar la g**: Teniendo en cuenta que inicialmente el vector con el que se trabajo es:\n",
    "\n",
    "```python\n",
    "V = [6, 'b', 'd', 'f', 'h', 'l', 'm', 0, 0, 0, 0, 0, 0, 0, 0, 0]\n",
    "```\n",
    "\n",
    "Del primer paso se obtuvo que la posición para insertar la **g** es **4** (donde esta la **h**). Por otro lado, en el segundo paso para insertar la **g** se deben mover los datos que se encuentran entre las posiciónes **4** hasta la **6**. \n",
    "\n",
    "**Peor caso**: Insertar la **a**, lo cual implica mover todos los datos desde la primera posición.\n",
    "\n",
    "> Generalizando, se considera el peor de los casos, que es cuando hay que insertar el dato al principio del vector. Hay que mover **n** datos en el vector, lo cual implica que el algoritmo de inserción tendrá orden de magnitud **O(n)**.\n",
    "\n",
    "2. **De eliminar la g**: Teniendo en cuenta que inicialmente el vector con el que se trabajo es:\n",
    "\n",
    "```python\n",
    "V = [7, 'b', 'd', 'f', 'g', 'h', 'l', 'm', 0, 0, 0, 0, 0, 0, 0, 0]\n",
    "```\n",
    "\n",
    "Del primer paso se obtuvo que la posición para eliminar la **f** es **3**. Por otro lado, en el segundo paso para borrar la **f** se deben mover los datos que se encuentran entre las posiciónes **4** hasta la **6** una pocisión a la izquierda. \n",
    "\n",
    "**Peor caso**: Borrar la **b**; implica, depues de haber borrado la **b**, mover todos los datos a la izquierda para cubrir este hueco.\n",
    "\n",
    "> Si el dato a borrar hubiera estado en la posición **1** del vector y el vector tiene **n** datos, entonces habrá que mover **n – 1** datos hacia la izquierda, y el orden de magnitud de dicho algoritmo es **O(n)**.\n",
    "\n",
    "### **Conclusion**\n",
    "\n",
    "De lo expuesto anteriormente, los algoritmos de inserción y borrado tienen orden de magnitud **O(n)**, y esto en el manejo de grandes volúmenes de información, con operaciones de alta frecuencia, como son insertar y borrar, se considera ineficiente.\n",
    "Por tanto, se ha buscado una forma alterna de representación en la cual las operaciones de inserción y borrado sean eficientes, es decir, tengan orden de magnitud **O(1)**."
   ]
  },
  {
   "cell_type": "markdown",
   "id": "cb6ca426",
   "metadata": {},
   "source": [
    "### **Dato y liga**\n",
    "\n",
    "* **Vector DATO**: Almacena los datos en posiciones aleatorias. Físicamente los datos se hallan en desorden. Nos interesa tenerlos ordenados lógicamente. El símbolo ```┤``` representa nulo.\n",
    "* **Vector LIGA**: Contiene la posición del siguiente dato dentro del **vector DATO**. \n",
    "\n",
    "![dato_liga](dato_liga.png)\n",
    "\n",
    "> **En general**, para un dato que se halle en la posición i del vector DATO, la correspondiente posición i del vector LIGA\n",
    "indica en cuál posición del vector DATO se halla el siguiente dato.\n",
    "\n",
    "Los textos de computadores suelen presentar la situación descrita anteriormente, de la siguiente forma:\n",
    "\n",
    "![lista_enlazada](lista_enlazada.jpg)"
   ]
  },
  {
   "cell_type": "markdown",
   "id": "687d8f02",
   "metadata": {},
   "source": [
    "### **Clase Nodo simple**\n",
    "\n",
    "* El bloque constructivo básico para la implementación de la lista enlazada es el nodo.\n",
    "* Cada objeto nodo debe contener al menos dos piezas de información. En primer lugar, el nodo debe contener el ítem de lista en sí mismo.\n",
    "* Cada nodo debe contener una referencia al siguiente nodo.\n",
    "* Para construir un nodo, usted debe proporcionar el valor inicial del dato del nodo.\n",
    "* El valor de referencia de Python None indicará el hecho de que no hay nodo siguiente."
   ]
  },
  {
   "cell_type": "code",
   "execution_count": 48,
   "id": "12258eab",
   "metadata": {},
   "outputs": [],
   "source": [
    "class nodoSimple:\n",
    "    \n",
    "    def __init__(self, d = None):\n",
    "        self.dato = d\n",
    "        self.liga = None\n",
    "\n",
    "    def asignarDato(self, d):\n",
    "        self.dato = d\n",
    "\n",
    "    def asignarLiga(self, x):\n",
    "        self.liga = x\n",
    "        \n",
    "    def retornarDato(self):\n",
    "        return self.dato\n",
    "    \n",
    "    def retornarLiga(self):\n",
    "        return self.liga"
   ]
  },
  {
   "cell_type": "markdown",
   "id": "665a4621",
   "metadata": {},
   "source": [
    "A continuación se muestra un ejemplo de uso :"
   ]
  },
  {
   "cell_type": "code",
   "execution_count": 49,
   "id": "67c62ffe",
   "metadata": {},
   "outputs": [
    {
     "data": {
      "text/html": [
       "\n",
       "        <iframe\n",
       "            width=\"100%\"\n",
       "            height=\"500\"\n",
       "            src=\"https://pythontutor.com/iframe-embed.html#code=class%20nodoSimple%3A%0A%20%20%20%20%0A%20%20%20%20def%20__init__%28self%2C%20d%20%3D%20None%29%3A%0A%20%20%20%20%20%20%20%20self.dato%20%3D%20d%0A%20%20%20%20%20%20%20%20self.liga%20%3D%20None%0A%0A%20%20%20%20def%20asignarDato%28self%2C%20d%29%3A%0A%20%20%20%20%20%20%20%20self.dato%20%3D%20d%0A%0A%20%20%20%20def%20asignarLiga%28self%2C%20x%29%3A%0A%20%20%20%20%20%20%20%20self.liga%20%3D%20x%0A%20%20%20%20%20%20%20%20%0A%20%20%20%20def%20retornarDato%28self%29%3A%0A%20%20%20%20%20%20%20%20return%20self.dato%0A%20%20%20%20%0A%20%20%20%20def%20retornarLiga%28self%29%3A%0A%20%20%20%20%20%20%20%20return%20self.liga%0A%20%20%20%20%20%20%20%20%0Anodo1%20%3D%20nodoSimple%28%22Python%22%29%0Anodo2%20%3D%20nodoSimple%28%22Java%22%29%0Anodo3%20%3D%20nodoSimple%28%22C%22%29%0Anodo4%20%3D%20nodoSimple%28%22C%2B%2B%22%29%0A&origin=opt-frontend.js&cumulative=false&heapPrimitives=false&textReferences=false&py=3&rawInputLstJSON=%5B%5D&curInstr=0&codeDivWidth=350&codeDivHeight=400\"\n",
       "            frameborder=\"0\"\n",
       "            allowfullscreen\n",
       "        ></iframe>\n",
       "        "
      ],
      "text/plain": [
       "<IPython.lib.display.IFrame at 0x29d0ed9ce50>"
      ]
     },
     "metadata": {},
     "output_type": "display_data"
    }
   ],
   "source": [
    "%%tutor\n",
    "class nodoSimple:\n",
    "    \n",
    "    def __init__(self, d = None):\n",
    "        self.dato = d\n",
    "        self.liga = None\n",
    "\n",
    "    def asignarDato(self, d):\n",
    "        self.dato = d\n",
    "\n",
    "    def asignarLiga(self, x):\n",
    "        self.liga = x\n",
    "        \n",
    "    def retornarDato(self):\n",
    "        return self.dato\n",
    "    \n",
    "    def retornarLiga(self):\n",
    "        return self.liga\n",
    "        \n",
    "nodo1 = nodoSimple(\"Python\")\n",
    "nodo2 = nodoSimple(\"Java\")\n",
    "nodo3 = nodoSimple(\"C\")\n",
    "nodo4 = nodoSimple(\"C++\")"
   ]
  },
  {
   "cell_type": "markdown",
   "id": "ef242771",
   "metadata": {},
   "source": [
    "## **Lista simplemente ligada (LSL)**\n",
    "\n",
    "**Ventajas**:\n",
    "* Una lista ligada estará representada por objetos de la clase LSL, los cuales tendrán una variable de instancia que apunte al primer objeto NodoSimple de la lista y otro que apunte al último, cuando la lista está vacía dichas variables apuntarán a None\n",
    "* La lista no ordenada se construirá a partir de una colección de nodos.\n",
    "* Cada uno vinculado al siguiente mediante referencias explícitas.\n",
    "* La clase LSL debe mantener una referencia al primer nodo y el último.\n",
    "\n",
    "**Desventajas**:\n",
    "* Utilizan más memoria que las matrices debido al almacenamiento utilizado por sus punteros.\n",
    "* Los nodos en una lista vinculada deben leerse en orden desde el principio, ya que las listas vinculadas son intrínsecamente de acceso secuencial."
   ]
  },
  {
   "cell_type": "code",
   "execution_count": 50,
   "id": "255cfdb0",
   "metadata": {},
   "outputs": [],
   "source": [
    "#from nodoSimple import nodoSimple\n",
    "class LSL:\n",
    "    def __init__(self): #Constructor\n",
    "        self.primero = None\n",
    "        self.ultimo = None\n",
    "    \n",
    "    def primerNodo (self):\n",
    "        return self.primero\n",
    "    \n",
    "    def ultimoNodo (self):\n",
    "        return self.ultimo\n",
    "    \n",
    "    def esVacia (self):\n",
    "        return self.primero == None\n",
    "    \n",
    "    def finDeRecorrido (self, p):\n",
    "        return p == None\n",
    "    \n",
    "    def recorrerLista (self):\n",
    "        p = self.primerNodo()\n",
    "        while not self.finDeRecorrido(p):\n",
    "            print(p.retornarDato(), end = \", \")\n",
    "            p = p.retornarLiga()\n",
    "            \n",
    "    def agregarDato (self, d):\n",
    "        x = nodoSimple(d) #cambio\n",
    "        p = self.primerNodo()\n",
    "        if p == None:\n",
    "            self.primero = x\n",
    "            self.ultimo = x\n",
    "        else:\n",
    "            self.ultimo.liga = x\n",
    "            self.ultimo = x\n",
    "            \n",
    "    def buscarDondeInsertar (self, d):\n",
    "        p = self.primerNodo()\n",
    "        y = None\n",
    "        while not self.finDeRecorrido(p) and p.retornarDato() < d:\n",
    "            y = p\n",
    "            p = p.retornarLiga()\n",
    "        return y\n",
    "    \n",
    "    def insertar (self, d, y=None): #cambio\n",
    "        x = nodoSimple(d) #cambio\n",
    "        self.conectar(x, y)\n",
    "        \n",
    "    def conectar (self, x, y):\n",
    "        if y == None:\n",
    "            if self.primero == None:\n",
    "                self.ultimo = x\n",
    "            else:\n",
    "                x.asignarLiga(self.primero)\n",
    "            self.primero = x\n",
    "            return\n",
    "        x.asignarLiga(y.retornarLiga())\n",
    "        y.asignarLiga(x)\n",
    "        if y == self.ultimo:\n",
    "            self.ultimo = x\n",
    "            \n",
    "    def longitud (self):\n",
    "        p = self.primerNodo()\n",
    "        n = 0\n",
    "        while not self.finDeRecorrido(p):\n",
    "            n = n + 1\n",
    "            p = p.retornarLiga()\n",
    "        return n\n",
    "    \n",
    "    def buscarDato (self, d, y):\n",
    "        x = self.primerNodo()\n",
    "        while not self.finDeRecorrido(x) and x.retornarDato() != d:\n",
    "            y.asignarDato(x)\n",
    "            x = x.retornarLiga()\n",
    "        return x\n",
    "    \n",
    "    def buscarDato2 (self, d):\n",
    "        y = nodoSimple()\n",
    "        x = self.primerNodo()\n",
    "        while not self.finDeRecorrido(x) and x.retornarDato() != d:\n",
    "            y.asignarDato(x)\n",
    "            x = x.retornarLiga()\n",
    "        return x, y\n",
    "   \n",
    "    def borrar (self, x, y = None):\n",
    "        if x == None:\n",
    "            print(\"Dato no está en la lista\")\n",
    "            return\n",
    "        if y == None:\n",
    "            if x != self.primero:\n",
    "                print(\"Falta el anterior del dato a borrar\")\n",
    "                return\n",
    "        else:\n",
    "            y = y.retornarDato()    \n",
    "        self.desconectar(x,y)\n",
    "          \n",
    "    def desconectar (self, x, y):\n",
    "        if y == None:\n",
    "            self.primero = x.retornarLiga()\n",
    "            if self.esVacia():\n",
    "                self.ultimo = None\n",
    "        else:\n",
    "            y.asignarLiga(x.retornarLiga())\n",
    "            if x == self.ultimo:\n",
    "                self.ultimo = y"
   ]
  },
  {
   "cell_type": "markdown",
   "id": "10783373",
   "metadata": {},
   "source": [
    "#### **Haciendo uso de la lista enlazada**\n",
    "\n",
    "**Ejemplo 1**: Crear dos listas enlazadas **a** y **b**. ([Link de simulación](http://pythontutor.com/visualize.html#code=class%20nodoSimple%3A%0A%20%20%20%20%0A%20%20%20%20def%20__init__%28self,%20d%20%3D%20None%29%3A%0A%20%20%20%20%20%20%20%20self.dato%20%3D%20d%0A%20%20%20%20%20%20%20%20self.liga%20%3D%20None%0A%0A%20%20%20%20def%20asignarDato%28self,%20d%29%3A%0A%20%20%20%20%20%20%20%20self.dato%20%3D%20d%0A%0A%20%20%20%20def%20asignarLiga%28self,%20x%29%3A%0A%20%20%20%20%20%20%20%20self.liga%20%3D%20x%0A%20%20%20%20%20%20%20%20%0A%20%20%20%20def%20retornarDato%28self%29%3A%0A%20%20%20%20%20%20%20%20return%20self.dato%0A%20%20%20%20%0A%20%20%20%20def%20retornarLiga%28self%29%3A%0A%20%20%20%20%20%20%20%20return%20self.liga%0A%20%20%20%20%20%20%20%20%0Aclass%20LSL%3A%0A%20%20%20%20def%20__init__%28self%29%3A%20%23Constructor%0A%20%20%20%20%20%20%20%20self.primero%20%3D%20None%0A%20%20%20%20%20%20%20%20self.ultimo%20%3D%20None%0A%20%20%20%20%0A%20%20%20%20def%20primerNodo%20%28self%29%3A%0A%20%20%20%20%20%20%20%20return%20self.primero%0A%20%20%20%20%0A%20%20%20%20def%20ultimoNodo%20%28self%29%3A%0A%20%20%20%20%20%20%20%20return%20self.ultimo%0A%20%20%20%20%0A%20%20%20%20def%20esVacia%20%28self%29%3A%0A%20%20%20%20%20%20%20%20return%20self.primero%20%3D%3D%20None%0A%20%20%20%20%0A%20%20%20%20def%20finDeRecorrido%20%28self,%20p%29%3A%0A%20%20%20%20%20%20%20%20return%20p%20%3D%3D%20None%0A%20%20%20%20%0A%20%20%20%20def%20recorrerLista%20%28self%29%3A%0A%20%20%20%20%20%20%20%20p%20%3D%20self.primerNodo%28%29%0A%20%20%20%20%20%20%20%20while%20not%20self.finDeRecorrido%28p%29%3A%0A%20%20%20%20%20%20%20%20%20%20%20%20print%28p.retornarDato%28%29,%20end%20%3D%20%22,%20%22%29%0A%20%20%20%20%20%20%20%20%20%20%20%20p%20%3D%20p.retornarLiga%28%29%0A%20%20%20%20%20%20%20%20%20%20%20%20%0A%20%20%20%20def%20agregarDato%20%28self,%20d%29%3A%0A%20%20%20%20%20%20%20%20x%20%3D%20nodoSimple%28d%29%20%23cambio%0A%20%20%20%20%20%20%20%20p%20%3D%20self.primerNodo%28%29%0A%20%20%20%20%20%20%20%20if%20p%20%3D%3D%20None%3A%0A%20%20%20%20%20%20%20%20%20%20%20%20self.primero%20%3D%20x%0A%20%20%20%20%20%20%20%20%20%20%20%20self.ultimo%20%3D%20x%0A%20%20%20%20%20%20%20%20else%3A%0A%20%20%20%20%20%20%20%20%20%20%20%20self.ultimo.liga%20%3D%20x%0A%20%20%20%20%20%20%20%20%20%20%20%20self.ultimo%20%3D%20x%0A%20%20%20%20%20%20%20%20%20%20%20%20%0A%20%20%20%20def%20buscarDondeInsertar%20%28self,%20d%29%3A%0A%20%20%20%20%20%20%20%20p%20%3D%20self.primerNodo%28%29%0A%20%20%20%20%20%20%20%20y%20%3D%20None%0A%20%20%20%20%20%20%20%20while%20not%20self.finDeRecorrido%28p%29%20and%20p.retornarDato%28%29%20%3C%20d%3A%0A%20%20%20%20%20%20%20%20%20%20%20%20y%20%3D%20p%0A%20%20%20%20%20%20%20%20%20%20%20%20p%20%3D%20p.retornarLiga%28%29%0A%20%20%20%20%20%20%20%20return%20y%0A%20%20%20%20%0A%20%20%20%20def%20insertar%20%28self,%20d,%20y%3DNone%29%3A%20%23cambio%0A%20%20%20%20%20%20%20%20x%20%3D%20nodoSimple%28d%29%20%23cambio%0A%20%20%20%20%20%20%20%20self.conectar%28x,%20y%29%0A%20%20%20%20%20%20%20%20%0A%20%20%20%20def%20conectar%20%28self,%20x,%20y%29%3A%0A%20%20%20%20%20%20%20%20if%20y%20%3D%3D%20None%3A%0A%20%20%20%20%20%20%20%20%20%20%20%20if%20self.primero%20%3D%3D%20None%3A%0A%20%20%20%20%20%20%20%20%20%20%20%20%20%20%20%20self.ultimo%20%3D%20x%0A%20%20%20%20%20%20%20%20%20%20%20%20else%3A%0A%20%20%20%20%20%20%20%20%20%20%20%20%20%20%20%20x.asignarLiga%28self.primero%29%0A%20%20%20%20%20%20%20%20%20%20%20%20self.primero%20%3D%20x%0A%20%20%20%20%20%20%20%20%20%20%20%20return%0A%20%20%20%20%20%20%20%20x.asignarLiga%28y.retornarLiga%28%29%29%0A%20%20%20%20%20%20%20%20y.asignarLiga%28x%29%0A%20%20%20%20%20%20%20%20if%20y%20%3D%3D%20self.ultimo%3A%0A%20%20%20%20%20%20%20%20%20%20%20%20self.ultimo%20%3D%20x%0A%20%20%20%20%20%20%20%20%20%20%20%20%0A%20%20%20%20def%20longitud%20%28self%29%3A%0A%20%20%20%20%20%20%20%20p%20%3D%20self.primerNodo%28%29%0A%20%20%20%20%20%20%20%20n%20%3D%200%0A%20%20%20%20%20%20%20%20while%20not%20self.finDeRecorrido%28p%29%3A%0A%20%20%20%20%20%20%20%20%20%20%20%20n%20%3D%20n%20%2B%201%0A%20%20%20%20%20%20%20%20%20%20%20%20p%20%3D%20p.retornarLiga%28%29%0A%20%20%20%20%20%20%20%20return%20n%0A%20%20%20%20%0A%20%20%20%20def%20buscarDato%20%28self,%20d,%20y%29%3A%0A%20%20%20%20%20%20%20%20x%20%3D%20self.primerNodo%28%29%0A%20%20%20%20%20%20%20%20while%20not%20self.finDeRecorrido%28x%29%20and%20x.retornarDato%28%29%20!%3D%20d%3A%0A%20%20%20%20%20%20%20%20%20%20%20%20y.asignarDato%28x%29%0A%20%20%20%20%20%20%20%20%20%20%20%20x%20%3D%20x.retornarLiga%28%29%0A%20%20%20%20%20%20%20%20return%20x%0A%20%20%20%20%0A%20%20%20%20def%20buscarDato2%20%28self,%20d%29%3A%0A%20%20%20%20%20%20%20%20y%20%3D%20nodoSimple%28%29%0A%20%20%20%20%20%20%20%20x%20%3D%20self.primerNodo%28%29%0A%20%20%20%20%20%20%20%20while%20not%20self.finDeRecorrido%28x%29%20and%20x.retornarDato%28%29%20!%3D%20d%3A%0A%20%20%20%20%20%20%20%20%20%20%20%20y.asignarDato%28x%29%0A%20%20%20%20%20%20%20%20%20%20%20%20x%20%3D%20x.retornarLiga%28%29%0A%20%20%20%20%20%20%20%20return%20x,%20y%0A%20%20%20%0A%20%20%20%20def%20borrar%20%28self,%20x,%20y%20%3D%20None%29%3A%0A%20%20%20%20%20%20%20%20if%20x%20%3D%3D%20None%3A%0A%20%20%20%20%20%20%20%20%20%20%20%20print%28%22Dato%20no%20est%C3%A1%20en%20la%20lista%22%29%0A%20%20%20%20%20%20%20%20%20%20%20%20return%0A%20%20%20%20%20%20%20%20if%20y%20%3D%3D%20None%3A%0A%20%20%20%20%20%20%20%20%20%20%20%20if%20x%20!%3D%20self.primero%3A%0A%20%20%20%20%20%20%20%20%20%20%20%20%20%20%20%20print%28%22Falta%20el%20anterior%20del%20dato%20a%20borrar%22%29%0A%20%20%20%20%20%20%20%20%20%20%20%20%20%20%20%20return%0A%20%20%20%20%20%20%20%20else%3A%0A%20%20%20%20%20%20%20%20%20%20%20%20y%20%3D%20y.retornarDato%28%29%20%20%20%20%0A%20%20%20%20%20%20%20%20self.desconectar%28x,y%29%0A%20%20%20%20%20%20%20%20%20%20%0A%20%20%20%20def%20desconectar%20%28self,%20x,%20y%29%3A%0A%20%20%20%20%20%20%20%20if%20y%20%3D%3D%20None%3A%0A%20%20%20%20%20%20%20%20%20%20%20%20self.primero%20%3D%20x.retornarLiga%28%29%0A%20%20%20%20%20%20%20%20%20%20%20%20if%20self.esVacia%28%29%3A%0A%20%20%20%20%20%20%20%20%20%20%20%20%20%20%20%20self.ultimo%20%3D%20None%0A%20%20%20%20%20%20%20%20else%3A%0A%20%20%20%20%20%20%20%20%20%20%20%20y.asignarLiga%28x.retornarLiga%28%29%29%0A%20%20%20%20%20%20%20%20%20%20%20%20if%20x%20%3D%3D%20self.ultimo%3A%0A%20%20%20%20%20%20%20%20%20%20%20%20%20%20%20%20self.ultimo%20%3D%20y%0A%20%20%20%20%20%20%20%20%20%20%20%20%20%20%20%20%0Aa%20%3D%20LSL%28%29%0Ab%20%3D%20LSL%28%29&cumulative=false&curInstr=0&heapPrimitives=nevernest&mode=display&origin=opt-frontend.js&py=3&rawInputLstJSON=%5B%5D&textReferences=false))\n",
    "\n",
    "![lista_a_b](lista_a_b.jpg)"
   ]
  },
  {
   "cell_type": "code",
   "execution_count": 51,
   "id": "a4f0fdee",
   "metadata": {},
   "outputs": [],
   "source": [
    "a = LSL()\n",
    "b = LSL()"
   ]
  },
  {
   "cell_type": "markdown",
   "id": "e802fed6",
   "metadata": {},
   "source": [
    "#### **Comprobando si una lista esta vacia**\n",
    "\n",
    "El método ```estaVacia()```, simplemente comprueba si el primero de la lista es una referencia a None. El resultado de la expresión booleana ```self.primero == None``` sólo será verdadero si no hay nodos en la lista enlazada.\n",
    "\n",
    "```python\n",
    "class LSL:\n",
    "    def __init__(self): #Constructor\n",
    "        self.primero = None\n",
    "        self.ultimo = None\n",
    "    def esVacia (self):\n",
    "        return self.primero == None\n",
    "```\n",
    "\n",
    "**Ejemplo 2**: Comprobar que las listas **a** y **b** estan vacias\n",
    "\n",
    "![lista_a_b](lista_a_b.jpg)"
   ]
  },
  {
   "cell_type": "code",
   "execution_count": 52,
   "id": "725b778a",
   "metadata": {},
   "outputs": [
    {
     "name": "stdout",
     "output_type": "stream",
     "text": [
      "a está vacía? True\n",
      "b está vacía? True\n"
     ]
    }
   ],
   "source": [
    "a = LSL()\n",
    "b = LSL()\n",
    "print(\"a está vacía?\",a.esVacia()) # Aún no hay elementos\n",
    "print(\"b está vacía?\",b.esVacia()) # Aún no hay elementos"
   ]
  },
  {
   "cell_type": "markdown",
   "id": "f58a47ce",
   "metadata": {},
   "source": [
    "#### **Agregando nodos**\n",
    "\n",
    "* **agregarDato()**: Crea un nuevo nodo y hace que el dato del nodo sea el elemeto recibido. Luego une el nuevo nodo a la estructura existente (en la última posición). Cambia la referencia de la liga del nodo de ser necesario y la referencia del último nodo.\n",
    "\n",
    "```python\n",
    "def agregarDato (self, d):\n",
    "    x = nodoSimple(d)\n",
    "    p = self.primerNodo()\n",
    "    if p == None:\n",
    "        self.primero = x\n",
    "        self.ultimo = x\n",
    "    else:\n",
    "        self.ultimo.liga = x\n",
    "        self.ultimo = x\n",
    "```\n",
    "\n",
    "* **primeNodo()**: retorna el nodo que está de primero en la lista.\n",
    "\n",
    "```python\n",
    "def primerNodo (self):\n",
    "    return self.primero\n",
    "```\n",
    "\n",
    "* **ultimoNodo()** retorna el nodo que está de último en la lista.\n",
    "    \n",
    "```python    \n",
    "def ultimoNodo (self):\n",
    "    return self.ultimo\n",
    "```\n",
    "\n",
    "* **recorrerLista()**: Imprime el dato de cada nodo y el valor del atributo liga del último nodo.\n",
    "\n",
    "\n",
    "```python\n",
    "def recorrerLista (self):\n",
    "    p = self.primerNodo()\n",
    "    while not self.finDeRecorrido(p):\n",
    "        print(p.retornarDato(), end = \", \")\n",
    "        p = p.retornarLiga()\n",
    "```\n",
    "\n",
    "* **finDeRecorrido()**: Válida si el valor del atributo liga para el nodo es None. Devolviendo True o False.\n",
    "\n",
    "\n",
    "```python\n",
    "def finDeRecorrido (self, p):\n",
    "    return p == None\n",
    "```\n",
    "\n",
    "* **longitud()**: Devuelve la cantidad de nodos que posee la lista ligada.\n",
    "\n",
    "```python\n",
    "def longitud (self):\n",
    "    p = self.primerNodo()\n",
    "    n = 0\n",
    "    while not self.finDeRecorrido(p):\n",
    "        n = n + 1\n",
    "        p = p.retornarLiga()\n",
    "    return n\n",
    "```\n",
    "\n",
    "* **Ejemplo 3**: Crear la lista que aparece en la siguiente figura:\n",
    "\n",
    "![lista2](lista2.jpg)\n"
   ]
  },
  {
   "cell_type": "code",
   "execution_count": 63,
   "id": "6f7ceb7f",
   "metadata": {},
   "outputs": [
    {
     "name": "stdout",
     "output_type": "stream",
     "text": [
      "b, \n",
      "b, e, \n",
      "b, e, f, \n",
      "b, e, f, o, \n",
      "b, e, f, o, u, \n",
      "\n",
      "Primer nodo:\n",
      "-> Dato: b\n",
      "-> Liga: <__main__.nodoSimple object at 0x0000029D0EA01250>\n",
      "-> Dato de la liga e\n",
      "\n",
      "Ultimo nodo:\n",
      "-> Dato: u\n",
      "-> Liga: None\n"
     ]
    }
   ],
   "source": [
    "a = LSL()\n",
    "a.agregarDato('b')\n",
    "a.recorrerLista()\n",
    "print()\n",
    "\n",
    "a.agregarDato('e')\n",
    "a.recorrerLista()\n",
    "print()\n",
    "\n",
    "a.agregarDato('f')\n",
    "a.recorrerLista()\n",
    "print()\n",
    "\n",
    "a.agregarDato('o')\n",
    "a.recorrerLista()\n",
    "print()\n",
    "\n",
    "a.agregarDato('u')\n",
    "a.recorrerLista()\n",
    "print()\n",
    "\n",
    "primero = a.primerNodo()\n",
    "ultimo = a.ultimoNodo()\n",
    "\n",
    "print()\n",
    "print(\"Primer nodo:\")\n",
    "print(\"-> Dato:\", primero.retornarDato())\n",
    "print(\"-> Liga:\", primero.retornarLiga()) \n",
    "print(\"-> Dato de la liga\", primero.retornarLiga().retornarDato())\n",
    "\n",
    "print()\n",
    "print(\"Ultimo nodo:\")\n",
    "print(\"-> Dato:\", ultimo.retornarDato())\n",
    "print(\"-> Liga:\", ultimo.retornarLiga())"
   ]
  },
  {
   "cell_type": "markdown",
   "id": "61bb4a8e",
   "metadata": {},
   "source": [
    "#### **Insertar un nodo en la posición cualquiera**\n",
    "\n",
    "* **buscarDondeInsertar()**: Retorna una referencia al nodo inmediatamente anterior (donde la longitud sea menor que el dato ingresado) a donde debemos insertar el nuevo, entonces insertar crea el nuevo nodo, actualiza la liga nuevo nodo y la del anterior.\n",
    "\n",
    "```python\n",
    "def buscarDondeInsertar(self, d):\n",
    "    p = self.primerNodo()\n",
    "    y = None\n",
    "    while not self.finDeRecorrido(p) and p.retornarDato() < d:\n",
    "        y = p\n",
    "        p = p.retornarLiga()\n",
    "    return y\n",
    "```\n",
    "\n",
    "* **insertar()**: Recibe el dato del nuevo nodo y la referencia del nodo que debe conectar con el nuevo. Este método crea un nuevo nodo con el dato recibido e invoca el método conectar enviandole el nuevo nodo y la referencia del nodo a conectar.\n",
    "\n",
    "```python\n",
    "def insertar (self, d, y):\n",
    "    x = nodoSimple(d)\n",
    "    self.conectar(x, y)\n",
    "```\n",
    "\n",
    "* **conectar()**: Si el resultado de buscarDondeInsertar() es None, inserta el nuevo nodo en la primera posición, de no ser así, cambia las referencias de los nodos respectivos.\n",
    "\n",
    "```python\n",
    "def conectar (self, x, y):\n",
    "    if y == None:\n",
    "        if self.primero == None:\n",
    "            self.ultimo = x\n",
    "        else:\n",
    "            x.asignarLiga(self.primero)\n",
    "        self.primero = x\n",
    "        return\n",
    "    x.asignarLiga(y.retornarLiga())\n",
    "    y.asignarLiga(x)\n",
    "    if y == self.ultimo:\n",
    "        self.ultimo = x\n",
    "```"
   ]
  },
  {
   "cell_type": "markdown",
   "id": "0bf25a0b",
   "metadata": {},
   "source": [
    "**Ejemplo 4**: Inicialmente se tiene la siguiente lista enlazada (Mostrada en el ejemplo anterior).\n",
    "\n",
    "![lista2](lista2.jpg)\n",
    "\n",
    "Empleando los métodos recientemente descritos llegar a la siguiente lista:\n",
    "\n",
    "![lista](lista.jpg)"
   ]
  },
  {
   "cell_type": "code",
   "execution_count": 75,
   "id": "558621ec",
   "metadata": {},
   "outputs": [
    {
     "name": "stdout",
     "output_type": "stream",
     "text": [
      "b, e, f, o, u, \n",
      "Lista inicial: -> Dato(primero): b\n",
      "-> Dato(ultimo): u\n",
      "\n",
      "b, e, f, o, u, \n",
      "-> Dato(y): e\n",
      "-> Dato(x): f\n",
      "\n",
      "Lista final: b, e, f, i, o, u, \n",
      "-> Dato(primero): b\n",
      "-> Dato(ultimo): u\n",
      "-> Dato(y): e\n",
      "-> Dato(x): f\n"
     ]
    }
   ],
   "source": [
    "# Lista inicial - Ejemplo 3\n",
    "a = LSL()\n",
    "a.agregarDato('b')\n",
    "a.agregarDato('e')\n",
    "a.agregarDato('f')\n",
    "a.agregarDato('o')\n",
    "a.agregarDato('u')\n",
    "a.recorrerLista()\n",
    "print()\n",
    "print(\"Lista inicial: \", end = \"\")\n",
    "primero = a.primerNodo()\n",
    "print(\"-> Dato(primero):\", primero.retornarDato())\n",
    "ultimo = a.ultimoNodo()\n",
    "print(\"-> Dato(ultimo):\", ultimo.retornarDato())\n",
    "\n",
    "# Ejemplo 4\n",
    "print()\n",
    "a.recorrerLista()\n",
    "print()\n",
    "y = a.buscarDondeInsertar('f') \n",
    "print(\"-> Dato(y):\", y.retornarDato())\n",
    "x = a.buscarDondeInsertar('o') \n",
    "print(\"-> Dato(x):\", x.retornarDato())\n",
    "print()\n",
    "a.insertar('i', x)\n",
    "print(\"Lista final: \", end = \"\")\n",
    "a.recorrerLista()\n",
    "print()\n",
    "print(\"-> Dato(primero):\", primero.retornarDato())\n",
    "print(\"-> Dato(ultimo):\", ultimo.retornarDato())\n",
    "print(\"-> Dato(y):\", y.retornarDato())\n",
    "print(\"-> Dato(x):\", x.retornarDato())"
   ]
  },
  {
   "cell_type": "markdown",
   "id": "ff7057a8",
   "metadata": {},
   "source": [
    "#### **Eliminar un nodo**\n",
    "\n",
    "* **buscarDato()**: Recibe el dato a buscar y un nodo vacío. Si encuentra el nodo que coincide, devuelve la referencia al nodo.\n",
    "\n",
    "```python\n",
    "def buscarDato(self, d, y):\n",
    "    x = self.primerNodo()\n",
    "    while not self.finDeRecorrido(x) and x.retornarDato() != d:\n",
    "        y.asignarDato(x)\n",
    "        x = x.retornarLiga()\n",
    "    return x\n",
    "```\n",
    "\n",
    "* **borrar()**: Recibe el resultado del método buscarDato() y el nodo creado anteriormente. Si el resultado no fue None, se procede a desconectar el nodo.\n",
    "\n",
    "```python\n",
    "def borrar (self, x, y = None):\n",
    "    if x == None:\n",
    "        print(\"Dato no está en la lista\")\n",
    "        return\n",
    "    if y == None:\n",
    "        if x != self.primero:\n",
    "            print(\"Falta el anterior del dato a borrar\")\n",
    "            return\n",
    "    else:\n",
    "        y = y.retornarDato()\n",
    "        self.desconectar(x,y)\n",
    "```\n",
    "\n",
    "* **desconectar()**: Modifica las referencias en el atributo liga, para desconectar el nodo a eliminar.\n",
    "\n",
    "```python\n",
    "def desconectar (self, x, y):\n",
    "    if y == None:\n",
    "        self.primero = x.retornarLiga()\n",
    "        if self.esVacia():\n",
    "            self.ultimo = None\n",
    "    else:\n",
    "        y.asignarLiga(x.retornarLiga())\n",
    "        if x == self.ultimo:\n",
    "            self.ultimo = y\n",
    "```"
   ]
  },
  {
   "cell_type": "markdown",
   "id": "6d55c218",
   "metadata": {},
   "source": [
    "**Ejemplo 4**: Inicialmente se tiene la siguiente lista enlazada (Mostrada en el ejemplo anterior).\n",
    "\n",
    "![lista](lista.jpg)\n",
    "\n",
    "Empleando los métodos recientemente descritos llegar a la siguiente lista:\n",
    "\n",
    "![lista2](lista2.jpg)"
   ]
  },
  {
   "cell_type": "code",
   "execution_count": 85,
   "id": "cbd7c761",
   "metadata": {},
   "outputs": [
    {
     "name": "stdout",
     "output_type": "stream",
     "text": [
      "\n",
      "Lista inicial: b, e, f, i, o, u, \n",
      "-> Dato(x): i\n",
      "Lista Final: b, e, f, o, u, "
     ]
    }
   ],
   "source": [
    "# Lista inicial - Ejemplo 4\n",
    "a = LSL()\n",
    "a.agregarDato('b')\n",
    "a.agregarDato('e')\n",
    "a.agregarDato('f')\n",
    "a.agregarDato('o')\n",
    "a.agregarDato('u')\n",
    "x = a.buscarDondeInsertar('o')\n",
    "a.insertar('i', x)\n",
    "print()\n",
    "print(\"Lista inicial: \", end = \"\")\n",
    "a.recorrerLista()\n",
    "# Ejemplo 5\n",
    "print()\n",
    "primero = a.primerNodo()\n",
    "y = nodoSimple()\n",
    "dato_a_borrar = 'i'\n",
    "x = a.buscarDato(dato_a_borrar,y)\n",
    "print(\"-> Dato(x):\", x.retornarDato())\n",
    "a.borrar(x, y)\n",
    "print(\"Lista Final: \", end = \"\")\n",
    "a.recorrerLista()"
   ]
  },
  {
   "cell_type": "markdown",
   "id": "f2446bd7",
   "metadata": {},
   "source": [
    "#### **Ejemplo completo**"
   ]
  },
  {
   "cell_type": "code",
   "execution_count": 86,
   "id": "0ff029af",
   "metadata": {},
   "outputs": [
    {
     "name": "stdout",
     "output_type": "stream",
     "text": [
      "Entre dato: 3\n",
      "Entre dato: 4\n",
      "Entre dato: 12\n",
      "Entre dato: 5\n",
      "Entre dato: 7\n",
      "Entre dato: 9\n",
      "Entre dato: 3\n",
      "Entre dato: 1\n",
      "Entre dato: 4\n",
      "Entre más datos:2\n",
      "Entre más datos: 3\n",
      "Entre más datos: 4\n",
      "Entre más datos: 0\n",
      "1, 12, 3, 3, 4, 4, 5, 7, 9, 2, 3, 4, 12\n",
      "Dato no está en la lista\n",
      "despues de borrar primer vez\n",
      "1, 12, 3, 3, 4, 4, 5, 7, 9, 2, 3, 4, 12\n",
      "despues de borrar segunda vez\n",
      "12, 3, 3, 4, 4, 5, 7, 9, 2, 3, 4, 11\n",
      "Dato no está en la lista\n",
      "despues de borrar tercera vez\n",
      "12, 3, 3, 4, 4, 5, 7, 9, 2, 3, 4, 11\n"
     ]
    }
   ],
   "source": [
    "a = LSL()\n",
    "for i in range(1, 10):\n",
    "    d = input(\"Entre dato: \")\n",
    "    y = a.buscarDondeInsertar(d)\n",
    "    a.insertar(d, y)\n",
    "d = input(\"Entre más datos:\")\n",
    "while d != \"0\":\n",
    "    a.agregarDato(d)\n",
    "    d = input(\"Entre más datos: \")\n",
    "a.recorrerLista()\n",
    "l = a.longitud()\n",
    "print(l)\n",
    "y = nodoSimple()\n",
    "x = a.buscarDato(\"a\", y)\n",
    "a.borrar(x, y)\n",
    "print(\"despues de borrar primer vez\")\n",
    "a.recorrerLista()\n",
    "l = a.longitud()\n",
    "print(l)\n",
    "x = a.primerNodo()\n",
    "a.borrar(x)\n",
    "print(\"despues de borrar segunda vez\")\n",
    "a.recorrerLista()\n",
    "l = a.longitud()\n",
    "print(l)\n",
    "x = a.buscarDato(\"z\", y)\n",
    "a.borrar(x)\n",
    "print(\"despues de borrar tercera vez\")\n",
    "a.recorrerLista()\n",
    "l = a.longitud()\n",
    "print(l)"
   ]
  },
  {
   "cell_type": "markdown",
   "id": "f455dc40",
   "metadata": {},
   "source": [
    "## **Referencias**\n",
    "\n",
    "Estas notas se basan en las siguientes 2 fuentes de consulta:\n",
    "* Notas de clase.\n",
    "* Apuntes de la profesora Luisa Restrepo sobre listas enlazadas ([link](https://github.com/LuisaRestrepo/MisionTIC2022-Ciclo1/blob/main/Semana5/Semana5-1.Listas%20Ligadas.ipynb))."
   ]
  }
 ],
 "metadata": {
  "kernelspec": {
   "display_name": "Python 3",
   "language": "python",
   "name": "python3"
  },
  "language_info": {
   "codemirror_mode": {
    "name": "ipython",
    "version": 3
   },
   "file_extension": ".py",
   "mimetype": "text/x-python",
   "name": "python",
   "nbconvert_exporter": "python",
   "pygments_lexer": "ipython3",
   "version": "3.8.8"
  }
 },
 "nbformat": 4,
 "nbformat_minor": 5
}

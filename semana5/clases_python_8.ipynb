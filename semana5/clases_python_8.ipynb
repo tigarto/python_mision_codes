{
 "cells": [
  {
   "cell_type": "markdown",
   "id": "157f4d0b",
   "metadata": {},
   "source": [
    "[![Open In Colab](https://colab.research.google.com/assets/colab-badge.svg)](https://colab.research.google.com/github/tigarto/python_mision_codes/blob/main/semana4/clases_python_3.ipynb)"
   ]
  },
  {
   "cell_type": "code",
   "execution_count": 2,
   "id": "433962a7",
   "metadata": {},
   "outputs": [
    {
     "name": "stdout",
     "output_type": "stream",
     "text": [
      "Requirement already satisfied: tutormagic in c:\\users\\usuario\\anaconda3\\lib\\site-packages (0.3.1)\n",
      "Requirement already satisfied: jupyter>=1.0 in c:\\users\\usuario\\anaconda3\\lib\\site-packages (from tutormagic) (1.0.0)\n",
      "Requirement already satisfied: notebook in c:\\users\\usuario\\anaconda3\\lib\\site-packages (from jupyter>=1.0->tutormagic) (6.3.0)\n",
      "Requirement already satisfied: jupyter-console in c:\\users\\usuario\\anaconda3\\lib\\site-packages (from jupyter>=1.0->tutormagic) (6.4.0)\n",
      "Requirement already satisfied: qtconsole in c:\\users\\usuario\\anaconda3\\lib\\site-packages (from jupyter>=1.0->tutormagic) (5.0.3)\n",
      "Requirement already satisfied: nbconvert in c:\\users\\usuario\\anaconda3\\lib\\site-packages (from jupyter>=1.0->tutormagic) (6.0.7)\n",
      "Requirement already satisfied: ipywidgets in c:\\users\\usuario\\anaconda3\\lib\\site-packages (from jupyter>=1.0->tutormagic) (7.6.3)\n",
      "Requirement already satisfied: ipykernel in c:\\users\\usuario\\anaconda3\\lib\\site-packages (from jupyter>=1.0->tutormagic) (5.5.5)\n",
      "Requirement already satisfied: jupyter-client in c:\\users\\usuario\\anaconda3\\lib\\site-packages (from ipykernel->jupyter>=1.0->tutormagic) (6.1.12)\n",
      "Requirement already satisfied: ipython>=5.0.0 in c:\\users\\usuario\\anaconda3\\lib\\site-packages (from ipykernel->jupyter>=1.0->tutormagic) (7.22.0)\n",
      "Requirement already satisfied: traitlets>=4.1.0 in c:\\users\\usuario\\anaconda3\\lib\\site-packages (from ipykernel->jupyter>=1.0->tutormagic) (5.0.5)\n",
      "Requirement already satisfied: tornado>=4.2 in c:\\users\\usuario\\anaconda3\\lib\\site-packages (from ipykernel->jupyter>=1.0->tutormagic) (6.1)\n",
      "Requirement already satisfied: pygments in c:\\users\\usuario\\anaconda3\\lib\\site-packages (from ipython>=5.0.0->ipykernel->jupyter>=1.0->tutormagic) (2.8.1)\n",
      "Requirement already satisfied: prompt-toolkit!=3.0.0,!=3.0.1,<3.1.0,>=2.0.0 in c:\\users\\usuario\\anaconda3\\lib\\site-packages (from ipython>=5.0.0->ipykernel->jupyter>=1.0->tutormagic) (3.0.17)\n",
      "Requirement already satisfied: backcall in c:\\users\\usuario\\anaconda3\\lib\\site-packages (from ipython>=5.0.0->ipykernel->jupyter>=1.0->tutormagic) (0.2.0)\n",
      "Requirement already satisfied: pickleshare in c:\\users\\usuario\\anaconda3\\lib\\site-packages (from ipython>=5.0.0->ipykernel->jupyter>=1.0->tutormagic) (0.7.5)\n",
      "Requirement already satisfied: colorama in c:\\users\\usuario\\anaconda3\\lib\\site-packages (from ipython>=5.0.0->ipykernel->jupyter>=1.0->tutormagic) (0.4.4)\n",
      "Requirement already satisfied: jedi>=0.16 in c:\\users\\usuario\\anaconda3\\lib\\site-packages (from ipython>=5.0.0->ipykernel->jupyter>=1.0->tutormagic) (0.17.2)\n",
      "Requirement already satisfied: setuptools>=18.5 in c:\\users\\usuario\\anaconda3\\lib\\site-packages (from ipython>=5.0.0->ipykernel->jupyter>=1.0->tutormagic) (52.0.0.post20210125)\n",
      "Requirement already satisfied: decorator in c:\\users\\usuario\\anaconda3\\lib\\site-packages (from ipython>=5.0.0->ipykernel->jupyter>=1.0->tutormagic) (5.0.6)\n",
      "Requirement already satisfied: parso<0.8.0,>=0.7.0 in c:\\users\\usuario\\anaconda3\\lib\\site-packages (from jedi>=0.16->ipython>=5.0.0->ipykernel->jupyter>=1.0->tutormagic) (0.7.0)\n",
      "Requirement already satisfied: wcwidth in c:\\users\\usuario\\anaconda3\\lib\\site-packages (from prompt-toolkit!=3.0.0,!=3.0.1,<3.1.0,>=2.0.0->ipython>=5.0.0->ipykernel->jupyter>=1.0->tutormagic) (0.2.5)\n",
      "Requirement already satisfied: ipython-genutils in c:\\users\\usuario\\anaconda3\\lib\\site-packages (from traitlets>=4.1.0->ipykernel->jupyter>=1.0->tutormagic) (0.2.0)\n",
      "Requirement already satisfied: jupyterlab-widgets>=1.0.0 in c:\\users\\usuario\\anaconda3\\lib\\site-packages (from ipywidgets->jupyter>=1.0->tutormagic) (1.0.0)\n",
      "Requirement already satisfied: nbformat>=4.2.0 in c:\\users\\usuario\\anaconda3\\lib\\site-packages (from ipywidgets->jupyter>=1.0->tutormagic) (5.1.3)\n",
      "Requirement already satisfied: widgetsnbextension~=3.5.0 in c:\\users\\usuario\\anaconda3\\lib\\site-packages (from ipywidgets->jupyter>=1.0->tutormagic) (3.5.1)\n",
      "Requirement already satisfied: jupyter-core in c:\\users\\usuario\\anaconda3\\lib\\site-packages (from nbformat>=4.2.0->ipywidgets->jupyter>=1.0->tutormagic) (4.7.1)\n",
      "Requirement already satisfied: jsonschema!=2.5.0,>=2.4 in c:\\users\\usuario\\anaconda3\\lib\\site-packages (from nbformat>=4.2.0->ipywidgets->jupyter>=1.0->tutormagic) (3.2.0)\n",
      "Requirement already satisfied: attrs>=17.4.0 in c:\\users\\usuario\\anaconda3\\lib\\site-packages (from jsonschema!=2.5.0,>=2.4->nbformat>=4.2.0->ipywidgets->jupyter>=1.0->tutormagic) (20.3.0)\n",
      "Requirement already satisfied: pyrsistent>=0.14.0 in c:\\users\\usuario\\anaconda3\\lib\\site-packages (from jsonschema!=2.5.0,>=2.4->nbformat>=4.2.0->ipywidgets->jupyter>=1.0->tutormagic) (0.17.3)\n",
      "Requirement already satisfied: six>=1.11.0 in c:\\users\\usuario\\anaconda3\\lib\\site-packages (from jsonschema!=2.5.0,>=2.4->nbformat>=4.2.0->ipywidgets->jupyter>=1.0->tutormagic) (1.15.0)\n",
      "Requirement already satisfied: pyzmq>=17 in c:\\users\\usuario\\anaconda3\\lib\\site-packages (from notebook->jupyter>=1.0->tutormagic) (20.0.0)\n",
      "Requirement already satisfied: prometheus-client in c:\\users\\usuario\\anaconda3\\lib\\site-packages (from notebook->jupyter>=1.0->tutormagic) (0.10.1)\n",
      "Requirement already satisfied: jinja2 in c:\\users\\usuario\\anaconda3\\lib\\site-packages (from notebook->jupyter>=1.0->tutormagic) (2.11.3)\n",
      "Requirement already satisfied: Send2Trash>=1.5.0 in c:\\users\\usuario\\anaconda3\\lib\\site-packages (from notebook->jupyter>=1.0->tutormagic) (1.5.0)\n",
      "Requirement already satisfied: terminado>=0.8.3 in c:\\users\\usuario\\anaconda3\\lib\\site-packages (from notebook->jupyter>=1.0->tutormagic) (0.9.4)\n",
      "Requirement already satisfied: argon2-cffi in c:\\users\\usuario\\anaconda3\\lib\\site-packages (from notebook->jupyter>=1.0->tutormagic) (20.1.0)\n",
      "Requirement already satisfied: python-dateutil>=2.1 in c:\\users\\usuario\\anaconda3\\lib\\site-packages (from jupyter-client->ipykernel->jupyter>=1.0->tutormagic) (2.8.1)\n",
      "Requirement already satisfied: pywin32>=1.0 in c:\\users\\usuario\\anaconda3\\lib\\site-packages (from jupyter-core->nbformat>=4.2.0->ipywidgets->jupyter>=1.0->tutormagic) (227)\n",
      "Requirement already satisfied: pywinpty>=0.5 in c:\\users\\usuario\\anaconda3\\lib\\site-packages (from terminado>=0.8.3->notebook->jupyter>=1.0->tutormagic) (0.5.7)\n",
      "Requirement already satisfied: cffi>=1.0.0 in c:\\users\\usuario\\anaconda3\\lib\\site-packages (from argon2-cffi->notebook->jupyter>=1.0->tutormagic) (1.14.5)\n",
      "Requirement already satisfied: pycparser in c:\\users\\usuario\\anaconda3\\lib\\site-packages (from cffi>=1.0.0->argon2-cffi->notebook->jupyter>=1.0->tutormagic) (2.20)\n",
      "Requirement already satisfied: MarkupSafe>=0.23 in c:\\users\\usuario\\anaconda3\\lib\\site-packages (from jinja2->notebook->jupyter>=1.0->tutormagic) (1.1.1)\n",
      "Requirement already satisfied: testpath in c:\\users\\usuario\\anaconda3\\lib\\site-packages (from nbconvert->jupyter>=1.0->tutormagic) (0.4.4)\n",
      "Requirement already satisfied: entrypoints>=0.2.2 in c:\\users\\usuario\\anaconda3\\lib\\site-packages (from nbconvert->jupyter>=1.0->tutormagic) (0.3)\n",
      "Requirement already satisfied: nbclient<0.6.0,>=0.5.0 in c:\\users\\usuario\\anaconda3\\lib\\site-packages (from nbconvert->jupyter>=1.0->tutormagic) (0.5.3)\n",
      "Requirement already satisfied: bleach in c:\\users\\usuario\\anaconda3\\lib\\site-packages (from nbconvert->jupyter>=1.0->tutormagic) (3.3.0)\n",
      "Requirement already satisfied: jupyterlab-pygments in c:\\users\\usuario\\anaconda3\\lib\\site-packages (from nbconvert->jupyter>=1.0->tutormagic) (0.1.2)\n",
      "Requirement already satisfied: defusedxml in c:\\users\\usuario\\anaconda3\\lib\\site-packages (from nbconvert->jupyter>=1.0->tutormagic) (0.7.1)\n",
      "Requirement already satisfied: pandocfilters>=1.4.1 in c:\\users\\usuario\\anaconda3\\lib\\site-packages (from nbconvert->jupyter>=1.0->tutormagic) (1.4.3)\n",
      "Requirement already satisfied: mistune<2,>=0.8.1 in c:\\users\\usuario\\anaconda3\\lib\\site-packages (from nbconvert->jupyter>=1.0->tutormagic) (0.8.4)\n",
      "Requirement already satisfied: nest-asyncio in c:\\users\\usuario\\anaconda3\\lib\\site-packages (from nbclient<0.6.0,>=0.5.0->nbconvert->jupyter>=1.0->tutormagic) (1.5.1)\n",
      "Requirement already satisfied: async-generator in c:\\users\\usuario\\anaconda3\\lib\\site-packages (from nbclient<0.6.0,>=0.5.0->nbconvert->jupyter>=1.0->tutormagic) (1.10)\n",
      "Requirement already satisfied: packaging in c:\\users\\usuario\\anaconda3\\lib\\site-packages (from bleach->nbconvert->jupyter>=1.0->tutormagic) (20.9)\n",
      "Requirement already satisfied: webencodings in c:\\users\\usuario\\anaconda3\\lib\\site-packages (from bleach->nbconvert->jupyter>=1.0->tutormagic) (0.5.1)\n",
      "Requirement already satisfied: pyparsing>=2.0.2 in c:\\users\\usuario\\anaconda3\\lib\\site-packages (from packaging->bleach->nbconvert->jupyter>=1.0->tutormagic) (2.4.7)\n",
      "Requirement already satisfied: qtpy in c:\\users\\usuario\\anaconda3\\lib\\site-packages (from qtconsole->jupyter>=1.0->tutormagic) (1.9.0)\n"
     ]
    },
    {
     "name": "stdout",
     "output_type": "stream",
     "text": [
      "Collecting metakernel\n",
      "  Downloading metakernel-0.27.5-py2.py3-none-any.whl (208 kB)\n",
      "Requirement already satisfied: pexpect>=4.2 in c:\\users\\usuario\\anaconda3\\lib\\site-packages (from metakernel) (4.8.0)\n",
      "Requirement already satisfied: ipykernel in c:\\users\\usuario\\anaconda3\\lib\\site-packages (from metakernel) (5.5.5)\n",
      "Requirement already satisfied: ptyprocess>=0.5 in c:\\users\\usuario\\anaconda3\\lib\\site-packages (from pexpect>=4.2->metakernel) (0.7.0)\n",
      "Requirement already satisfied: tornado>=4.2 in c:\\users\\usuario\\anaconda3\\lib\\site-packages (from ipykernel->metakernel) (6.1)\n",
      "Requirement already satisfied: traitlets>=4.1.0 in c:\\users\\usuario\\anaconda3\\lib\\site-packages (from ipykernel->metakernel) (5.0.5)\n",
      "Requirement already satisfied: jupyter-client in c:\\users\\usuario\\anaconda3\\lib\\site-packages (from ipykernel->metakernel) (6.1.12)\n",
      "Requirement already satisfied: ipython>=5.0.0 in c:\\users\\usuario\\anaconda3\\lib\\site-packages (from ipykernel->metakernel) (7.22.0)\n",
      "Requirement already satisfied: pickleshare in c:\\users\\usuario\\anaconda3\\lib\\site-packages (from ipython>=5.0.0->ipykernel->metakernel) (0.7.5)\n",
      "Requirement already satisfied: jedi>=0.16 in c:\\users\\usuario\\anaconda3\\lib\\site-packages (from ipython>=5.0.0->ipykernel->metakernel) (0.17.2)\n",
      "Requirement already satisfied: backcall in c:\\users\\usuario\\anaconda3\\lib\\site-packages (from ipython>=5.0.0->ipykernel->metakernel) (0.2.0)\n",
      "Requirement already satisfied: prompt-toolkit!=3.0.0,!=3.0.1,<3.1.0,>=2.0.0 in c:\\users\\usuario\\anaconda3\\lib\\site-packages (from ipython>=5.0.0->ipykernel->metakernel) (3.0.17)\n",
      "Requirement already satisfied: pygments in c:\\users\\usuario\\anaconda3\\lib\\site-packages (from ipython>=5.0.0->ipykernel->metakernel) (2.8.1)\n",
      "Requirement already satisfied: colorama in c:\\users\\usuario\\anaconda3\\lib\\site-packages (from ipython>=5.0.0->ipykernel->metakernel) (0.4.4)\n",
      "Requirement already satisfied: decorator in c:\\users\\usuario\\anaconda3\\lib\\site-packages (from ipython>=5.0.0->ipykernel->metakernel) (5.0.6)\n",
      "Requirement already satisfied: setuptools>=18.5 in c:\\users\\usuario\\anaconda3\\lib\\site-packages (from ipython>=5.0.0->ipykernel->metakernel) (52.0.0.post20210125)\n",
      "Requirement already satisfied: parso<0.8.0,>=0.7.0 in c:\\users\\usuario\\anaconda3\\lib\\site-packages (from jedi>=0.16->ipython>=5.0.0->ipykernel->metakernel) (0.7.0)\n",
      "Requirement already satisfied: wcwidth in c:\\users\\usuario\\anaconda3\\lib\\site-packages (from prompt-toolkit!=3.0.0,!=3.0.1,<3.1.0,>=2.0.0->ipython>=5.0.0->ipykernel->metakernel) (0.2.5)\n",
      "Requirement already satisfied: ipython-genutils in c:\\users\\usuario\\anaconda3\\lib\\site-packages (from traitlets>=4.1.0->ipykernel->metakernel) (0.2.0)\n",
      "Requirement already satisfied: jupyter-core>=4.6.0 in c:\\users\\usuario\\anaconda3\\lib\\site-packages (from jupyter-client->ipykernel->metakernel) (4.7.1)\n",
      "Requirement already satisfied: pyzmq>=13 in c:\\users\\usuario\\anaconda3\\lib\\site-packages (from jupyter-client->ipykernel->metakernel) (20.0.0)\n",
      "Requirement already satisfied: python-dateutil>=2.1 in c:\\users\\usuario\\anaconda3\\lib\\site-packages (from jupyter-client->ipykernel->metakernel) (2.8.1)\n",
      "Requirement already satisfied: pywin32>=1.0 in c:\\users\\usuario\\anaconda3\\lib\\site-packages (from jupyter-core>=4.6.0->jupyter-client->ipykernel->metakernel) (227)\n",
      "Requirement already satisfied: six>=1.5 in c:\\users\\usuario\\anaconda3\\lib\\site-packages (from python-dateutil>=2.1->jupyter-client->ipykernel->metakernel) (1.15.0)\n",
      "Installing collected packages: metakernel\n",
      "Successfully installed metakernel-0.27.5\n"
     ]
    }
   ],
   "source": [
    "!pip install tutormagic\n",
    "!pip install metakernel\n",
    "%load_ext tutormagic"
   ]
  },
  {
   "cell_type": "code",
   "execution_count": 3,
   "id": "c7284fb0",
   "metadata": {},
   "outputs": [
    {
     "name": "stderr",
     "output_type": "stream",
     "text": [
      "C:\\Users\\Usuario\\anaconda3\\lib\\site-packages\\ipykernel\\ipkernel.py:287: DeprecationWarning: `should_run_async` will not call `transform_cell` automatically in the future. Please pass the result to `transformed_cell` argument and any exception that happen during thetransform in `preprocessing_exc_tuple` in IPython 7.17 and above.\n",
      "  and should_run_async(code)\n"
     ]
    }
   ],
   "source": [
    "from metakernel import register_ipython_magics\n",
    "register_ipython_magics()"
   ]
  },
  {
   "cell_type": "code",
   "execution_count": 5,
   "id": "68816647",
   "metadata": {},
   "outputs": [
    {
     "name": "stderr",
     "output_type": "stream",
     "text": [
      "C:\\Users\\Usuario\\anaconda3\\lib\\site-packages\\ipykernel\\ipkernel.py:287: DeprecationWarning: `should_run_async` will not call `transform_cell` automatically in the future. Please pass the result to `transformed_cell` argument and any exception that happen during thetransform in `preprocessing_exc_tuple` in IPython 7.17 and above.\n",
      "  and should_run_async(code)\n"
     ]
    }
   ],
   "source": [
    "import warnings\n",
    "warnings.filterwarnings(\"ignore\", category=DeprecationWarning)"
   ]
  },
  {
   "attachments": {},
   "cell_type": "markdown",
   "id": "bae93cc4",
   "metadata": {},
   "source": [
    "# **Diccionarios**\n",
    "\n",
    "Los diccionarios son objetos que almacenan una coleccion de datos. Mas exactamente, son secuencias de elementos cuyos índices no son enteros (como en el caso de las listas) sino valores inmutables (ej: strings).\n",
    "\n",
    "![image.png](diccionario_forma.jpg)\n",
    "\n",
    "Cada uno de los elementos del diccionario se conocen como **items**. Cada item consiste de los siguiente elementos:\n",
    "* **key (clave)**: Son los indices asociados a un elemento. Las claves son empleadas para recuperar un valor especifico del diccionario. \n",
    "* **value (value)**: Valor asociado a un item determinado del diccionario.\n",
    "\n",
    "Otros sinónimos (en otros lenguajes de programación) asociados a los diccionarios son: **Hash**, **Map** o **Associative Array** por mencionar algunos.\n",
    "\n",
    "Los diccionarios son también parecidos a las listas, excepto que cada elemento es una pareja **key - value** (**clave - valor**). \n",
    "\n",
    "\n"
   ]
  },
  {
   "attachments": {},
   "cell_type": "markdown",
   "id": "267da117",
   "metadata": {},
   "source": [
    "## **Declarando un diccionario**\n",
    "\n",
    "La sintaxis empleada para declarar diccionarios tiene la siguiente forma:\n",
    "\n",
    "```python\n",
    "dictionaryName  = {key1 : value1, key2: value2,..., keyN: valueN}\n",
    "```\n",
    "\n",
    "Los elementos de un diccionario no estan ordenados. \n",
    "\n",
    "Por ejemplo, si se declara un diccionario llamado **students** usando como clave el ID del estudiante y como valor el nombre, tenemos:\n",
    "\n",
    "```python\n",
    "students = {\"111-34-3434\":\"John\", \"132-56-6290\":\"Peter\"}\n",
    "```\n",
    "\n",
    "El resultado se muestra a continuación (ver [link](http://www.pythontutor.com/visualize.html#code=students%20%3D%20%7B%22111-34-3434%22%3A%22John%22,%20%22132-56-6290%22%3A%22Peter%22%7D&cumulative=false&curInstr=0&heapPrimitives=false&mode=display&origin=opt-frontend.js&py=3&rawInputLstJSON=%5B%5D&textReferences=false)):\n",
    "\n",
    "![dict_ejemplo.png](diccionario_forma2.jpg)\n",
    "\n",
    "Tambien, es posible crear diccionarios vacios tal y como se muestra en la siguiente instrucción (ver [link](http://www.pythontutor.com/visualize.html#code=students%20%3D%20%7B%7D&cumulative=false&curInstr=0&heapPrimitives=false&mode=display&origin=opt-frontend.js&py=3&rawInputLstJSON=%5B%5D&textReferences=false)):\n",
    "\n",
    "```python\n",
    "students = {}\n",
    "```"
   ]
  },
  {
   "cell_type": "markdown",
   "id": "cfc76a7a",
   "metadata": {},
   "source": [
    "**Ejemplo 1**: A continuación se muestra como declarar un diccionario ([link para ejecutar en python tutor](http://www.pythontutor.com/visualize.html#code=store%20%3D%20%7B%22spam%22%3A%201,%20%22eggs%22%3A%2017%7D%0Aprint%28store%29%0Av1%20%3D%20store%20%5B%22eggs%22%5D%0Astore%20%5B%22bacon%22%5D%20%3D%2042%0Aprint%28store%29&cumulative=false&curInstr=0&heapPrimitives=false&mode=display&origin=opt-frontend.js&py=3&rawInputLstJSON=%5B%5D&textReferences=false))"
   ]
  },
  {
   "cell_type": "code",
   "execution_count": 1,
   "id": "46a1f9ea",
   "metadata": {},
   "outputs": [
    {
     "name": "stdout",
     "output_type": "stream",
     "text": [
      "{'spam': 1, 'eggs': 17}\n",
      "{'spam': 1, 'eggs': 17, 'bacon': 42}\n"
     ]
    }
   ],
   "source": [
    "store = {\"spam\": 1, \"eggs\": 17}\n",
    "print(store)\n",
    "v1 = store [\"eggs\"]\n",
    "store [\"bacon\"] = 42\n",
    "print(store)"
   ]
  },
  {
   "cell_type": "markdown",
   "id": "9b371aee",
   "metadata": {},
   "source": [
    "**Ejemplo 2**: A continuación se muestra como declarar un diccionario ([link para ejecutar en python tutor](http://www.pythontutor.com/visualize.html#code=phoneNumbers%20%3D%20%7B'Sarah'%3A'476-3321',%20'Nathan'%3A'351-7743'%7D%0ApersonalInfo%20%3D%20%7B'Name'%3A'Molly',%20'Age'%3A18%7D%0AemptyDict%3D%20%7B%7D%0Aprint%28phoneNumbers%29%0Aprint%28personalInfo%29%0Aprint%28emptyDict%29&cumulative=false&curInstr=0&heapPrimitives=false&mode=display&origin=opt-frontend.js&py=3&rawInputLstJSON=%5B%5D&textReferences=false))"
   ]
  },
  {
   "cell_type": "code",
   "execution_count": 3,
   "id": "ce5099a0",
   "metadata": {},
   "outputs": [
    {
     "name": "stdout",
     "output_type": "stream",
     "text": [
      "{'Sarah': '476-3321', 'Nathan': '351-7743'}\n",
      "{'Name': 'Molly', 'Age': 18}\n",
      "{}\n"
     ]
    }
   ],
   "source": [
    "phoneNumbers = {'Sarah':'476-3321', 'Nathan':'351-7743'}\n",
    "personalInfo = {'Name':'Molly', 'Age':18}\n",
    "emptyDict= {}\n",
    "print(phoneNumbers)\n",
    "print(personalInfo)\n",
    "print(emptyDict)"
   ]
  },
  {
   "cell_type": "markdown",
   "id": "914c838a",
   "metadata": {},
   "source": [
    "## **Manipulando diccionarios**\n",
    "\n",
    "Los diccionarios son objetos mutables (se pueden modificar). A continuación veremos algunas operaciones propias al trabajar con diccionarios."
   ]
  },
  {
   "cell_type": "markdown",
   "id": "cc920b10",
   "metadata": {},
   "source": [
    "### **Obteniendo un item de un diccionario**\n",
    "\n",
    "Para obtener el **valor** de **item** de un diccionario, se hace uso de la clave para poder acceder al valor asociado a esta.\n",
    "\n",
    "```python\n",
    "dictionaryName[key] \n",
    "```"
   ]
  },
  {
   "cell_type": "markdown",
   "id": "c2abcb38",
   "metadata": {},
   "source": [
    "**Ejemplo**: ([link para ejecutar en python tutor](http://www.pythontutor.com/visualize.html#code=students%20%3D%20%7B%22111-34-3434%22%3A%22John%22,%20%22132-56-6290%22%3A%22Peter%22%7D%0A%0A%23%20Imprimiendo%20el%20diccionario%0Aprint%28students%29%0A%0A%23%20Accediendo%20al%20item%20con%20clave%20%22111-34-3434%22%20para%20imprimirlo%0Aprint%28students%5B%22111-34-3434%22%5D%29%0A%0A%23%20Accediendo%20al%20item%20con%20clave%20%22132-56-6290%22%20llevandolo%20a%20la%20variable%20name%0Aname%20%3D%20students%5B%22132-56-6290%22%5D%0A%23%20Imprimiendo%20la%20variable%20name%0Aprint%28name%29&cumulative=false&curInstr=0&heapPrimitives=false&mode=display&origin=opt-frontend.js&py=3&rawInputLstJSON=%5B%5D&textReferences=false))"
   ]
  },
  {
   "cell_type": "code",
   "execution_count": 7,
   "id": "33d45616",
   "metadata": {},
   "outputs": [
    {
     "name": "stdout",
     "output_type": "stream",
     "text": [
      "{'111-34-3434': 'John', '132-56-6290': 'Peter'}\n",
      "John\n",
      "Peter\n"
     ]
    }
   ],
   "source": [
    "students = {\"111-34-3434\":\"John\", \"132-56-6290\":\"Peter\"}\n",
    "\n",
    "# Imprimiendo el diccionario\n",
    "print(students)\n",
    "\n",
    "# Accediendo al item con clave \"111-34-3434\" para imprimirlo\n",
    "print(students[\"111-34-3434\"])\n",
    "\n",
    "# Accediendo al item con clave \"132-56-6290\" llevandolo a la variable name\n",
    "name = students[\"132-56-6290\"]\n",
    "# Imprimiendo la variable name\n",
    "print(name)"
   ]
  },
  {
   "cell_type": "markdown",
   "id": "f822d750",
   "metadata": {},
   "source": [
    "### **Agregando un item a un diccionario**\n",
    "\n",
    "Para agregar un **item** a un diccionario, se usa la siguiente sintaxis:\n",
    "\n",
    "```python\n",
    "dictionaryName[key] = value\n",
    "```"
   ]
  },
  {
   "cell_type": "markdown",
   "id": "3780389f",
   "metadata": {},
   "source": [
    "**Ejemplo 1**: Agregando un nuevo item al diccionario **students** ([link para ejecutar en python tutor](http://www.pythontutor.com/visualize.html#code=%23%20Creando%20el%20diccionario%20students%0Astudents%20%3D%20%7B%22111-34-3434%22%3A%22John%22,%20%22132-56-6290%22%3A%22Peter%22%7D%0Aprint%28students%29%0A%0A%23%20Agregando%20un%20item%20%28Nueva%20estudiante%29%0Astudents%5B%22234-56-9010%22%5D%20%3D%20%22Susan%22%0Aprint%28students%29&cumulative=false&curInstr=0&heapPrimitives=false&mode=display&origin=opt-frontend.js&py=3&rawInputLstJSON=%5B%5D&textReferences=false))"
   ]
  },
  {
   "cell_type": "code",
   "execution_count": 4,
   "id": "2a2aca7c",
   "metadata": {},
   "outputs": [
    {
     "name": "stdout",
     "output_type": "stream",
     "text": [
      "{'111-34-3434': 'John', '132-56-6290': 'Peter'}\n",
      "{'111-34-3434': 'John', '132-56-6290': 'Peter', '234-56-9010': 'Susan'}\n"
     ]
    }
   ],
   "source": [
    "# Creando el diccionario students\n",
    "students = {\"111-34-3434\":\"John\", \"132-56-6290\":\"Peter\"}\n",
    "print(students)\n",
    "\n",
    "# Agregando un item (Nueva estudiante)\n",
    "students[\"234-56-9010\"] = \"Susan\"\n",
    "print(students)"
   ]
  },
  {
   "cell_type": "markdown",
   "id": "a18be2f5",
   "metadata": {},
   "source": [
    "### **Modificando un item en un diccionario**\n",
    "\n",
    "Si la **clave** (**key**) ya se encuentra en el diccionario, lo que sucede es una modificación del item. La sintaxis para este caso es la misma que se maneja cuando se agrega un item:\n",
    "\n",
    "```python\n",
    "dictionaryName[key] = value\n",
    "```\n",
    "\n",
    "Sin embargo; para este caso, el valor previo (**value**) asociado a la clave (**key**) en cuestiones reemplaazo por el nuevo valor."
   ]
  },
  {
   "cell_type": "markdown",
   "id": "6bb68773",
   "metadata": {},
   "source": [
    "**Ejemplo**: ([link para ejecutar en python tutor](http://www.pythontutor.com/visualize.html#code=students%20%3D%20%7B%22111-34-3434%22%3A%22John%22,%20%22132-56-6290%22%3A%22Peter%22%7D%0A%23%20Agregando%20un%20nuevo%20item%0Astudents%5B%22234-56-9010%22%5D%20%3D%20%22Susan%22%20%0A%23%20Imprimiendo%20el%20diccionario%0Aprint%28students%29%0A%23%20Imprimiendo%20el%20valor%20%28value%29%20asociado%20a%20la%20clave%20%28key%29%20%22234-56-9010%22%0Aprint%28students%5B%22234-56-9010%22%5D%29%0A%0A%23%20Modificando%20el%20valor%20previo%20%28%22John%22%29%20asociado%20a%20la%20clave%20%28ya%20existente%29%20%22111-34-3434%22%20por%20%22John%20Smith%22%0Astudents%5B%22111-34-3434%22%5D%20%3D%20%22John%20Smith%22%0A%23%20Imprimiendo%20el%20diccionario%0Aprint%28students%29%0A%23%20Imprimiendo%20el%20valor%20%28value%29%20asociado%20a%20la%20clave%20%28key%29%20%22%22111-34-3434%22%0Aprint%28students%5B%22111-34-3434%22%5D%29%0A%0A%23%20Acediendo%20a%20un%20valor%20de%20clave%20no%20existente%0Astudent%5B%22343-45-5455%22%5D&cumulative=false&curInstr=0&heapPrimitives=false&mode=display&origin=opt-frontend.js&py=3&rawInputLstJSON=%5B%5D&textReferences=false))"
   ]
  },
  {
   "cell_type": "code",
   "execution_count": 6,
   "id": "bc96e820",
   "metadata": {},
   "outputs": [
    {
     "name": "stdout",
     "output_type": "stream",
     "text": [
      "{'111-34-3434': 'John', '132-56-6290': 'Peter', '234-56-9010': 'Susan'}\n",
      "Susan\n",
      "{'111-34-3434': 'John Smith', '132-56-6290': 'Peter', '234-56-9010': 'Susan'}\n",
      "John Smith\n"
     ]
    },
    {
     "ename": "NameError",
     "evalue": "name 'student' is not defined",
     "output_type": "error",
     "traceback": [
      "\u001b[1;31m---------------------------------------------------------------------------\u001b[0m",
      "\u001b[1;31mNameError\u001b[0m                                 Traceback (most recent call last)",
      "\u001b[1;32m<ipython-input-6-b4fca5873b39>\u001b[0m in \u001b[0;36m<module>\u001b[1;34m\u001b[0m\n\u001b[0;32m     15\u001b[0m \u001b[1;33m\u001b[0m\u001b[0m\n\u001b[0;32m     16\u001b[0m \u001b[1;31m# Acediendo a un valor de clave no existente\u001b[0m\u001b[1;33m\u001b[0m\u001b[1;33m\u001b[0m\u001b[1;33m\u001b[0m\u001b[0m\n\u001b[1;32m---> 17\u001b[1;33m \u001b[0mstudent\u001b[0m\u001b[1;33m[\u001b[0m\u001b[1;34m\"343-45-5455\"\u001b[0m\u001b[1;33m]\u001b[0m\u001b[1;33m\u001b[0m\u001b[1;33m\u001b[0m\u001b[0m\n\u001b[0m",
      "\u001b[1;31mNameError\u001b[0m: name 'student' is not defined"
     ]
    }
   ],
   "source": [
    "students = {\"111-34-3434\":\"John\", \"132-56-6290\":\"Peter\"}\n",
    "# Agregando un nuevo item\n",
    "students[\"234-56-9010\"] = \"Susan\" \n",
    "# Imprimiendo el diccionario\n",
    "print(students)\n",
    "# Imprimiendo el valor (value) asociado a la clave (key) \"234-56-9010\"\n",
    "print(students[\"234-56-9010\"])\n",
    "\n",
    "# Modificando el valor previo (\"John\") asociado a la clave (ya existente) \"111-34-3434\" por \"John Smith\"\n",
    "students[\"111-34-3434\"] = \"John Smith\"\n",
    "# Imprimiendo el diccionario\n",
    "print(students)\n",
    "# Imprimiendo el valor (value) asociado a la clave (key) \"\"111-34-3434\"\n",
    "print(students[\"111-34-3434\"])\n",
    "\n",
    "# Acediendo a un valor de clave no existente\n",
    "student[\"343-45-5455\"]"
   ]
  },
  {
   "cell_type": "markdown",
   "id": "0b7789c6",
   "metadata": {},
   "source": [
    "### **Eliminando un item de un diccionario**\n",
    "\n",
    "Para eliminar un item de un diccionario, se emplea la siguiente sintaxis:\n",
    "\n",
    "```python\n",
    "del dictionaryName[key]\n",
    "```\n",
    "\n",
    "Si la clave (**key**) no existe en el diccionario, una excepción por **KeyError** es lanzada."
   ]
  },
  {
   "cell_type": "markdown",
   "id": "8b13d3e2",
   "metadata": {},
   "source": [
    "**Ejemplo**: ([link para ejecutar en python tutor](http://www.pythontutor.com/visualize.html#code=students%20%3D%20%7B%22111-34-3434%22%3A%22John%22,%20%22132-56-6290%22%3A%22Peter%22,%20%22234-56-9010%22%3A%20%22Susan%22%20%7D%0A%23%20Imprimiendo%20el%20diccionario%0Aprint%28students%29%0A%0A%23%20Eliminando%20el%20item%20asociado%20a%20la%20clave%20%22234-56-9010%22%0Adel%20students%5B%22234-56-9010%22%5D%0A%23%20Imprimiendo%20el%20diccionario%0Aprint%28students%29%0A%0A%23%20Eliminando%20el%20item%20asociado%20a%20la%20clave%20%22234-56-9010%22%20%28la%20cual%20ya%20no%20existe%29%0Adel%20students%5B%22234-56-9010%22%5D%0A%23%20Imprimiendo%20el%20diccionario%0Aprint%28students%29&cumulative=false&curInstr=0&heapPrimitives=false&mode=display&origin=opt-frontend.js&py=3&rawInputLstJSON=%5B%5D&textReferences=false))"
   ]
  },
  {
   "cell_type": "code",
   "execution_count": 6,
   "id": "31715676",
   "metadata": {},
   "outputs": [
    {
     "name": "stdout",
     "output_type": "stream",
     "text": [
      "{'111-34-3434': 'John', '132-56-6290': 'Peter', '234-56-9010': 'Susan'}\n",
      "Susan\n",
      "{'111-34-3434': 'John Smith', '132-56-6290': 'Peter', '234-56-9010': 'Susan'}\n",
      "John Smith\n"
     ]
    },
    {
     "ename": "NameError",
     "evalue": "name 'student' is not defined",
     "output_type": "error",
     "traceback": [
      "\u001b[1;31m---------------------------------------------------------------------------\u001b[0m",
      "\u001b[1;31mNameError\u001b[0m                                 Traceback (most recent call last)",
      "\u001b[1;32m<ipython-input-6-b4fca5873b39>\u001b[0m in \u001b[0;36m<module>\u001b[1;34m\u001b[0m\n\u001b[0;32m     15\u001b[0m \u001b[1;33m\u001b[0m\u001b[0m\n\u001b[0;32m     16\u001b[0m \u001b[1;31m# Acediendo a un valor de clave no existente\u001b[0m\u001b[1;33m\u001b[0m\u001b[1;33m\u001b[0m\u001b[1;33m\u001b[0m\u001b[0m\n\u001b[1;32m---> 17\u001b[1;33m \u001b[0mstudent\u001b[0m\u001b[1;33m[\u001b[0m\u001b[1;34m\"343-45-5455\"\u001b[0m\u001b[1;33m]\u001b[0m\u001b[1;33m\u001b[0m\u001b[1;33m\u001b[0m\u001b[0m\n\u001b[0m",
      "\u001b[1;31mNameError\u001b[0m: name 'student' is not defined"
     ]
    }
   ],
   "source": [
    "students = {\"111-34-3434\":\"John\", \"132-56-6290\":\"Peter\", \"234-56-9010\": \"Susan\" }\n",
    "# Imprimiendo el diccionario\n",
    "print(students)\n",
    "\n",
    "# Eliminando el item asociado a la clave \"234-56-9010\"\n",
    "del students[\"234-56-9010\"]\n",
    "# Imprimiendo el diccionario\n",
    "print(students)\n",
    "\n",
    "# Eliminando el item asociado a la clave \"234-56-9010\" (la cual ya no existe)\n",
    "del students[\"234-56-9010\"]\n",
    "# Imprimiendo el diccionario\n",
    "print(students)\n"
   ]
  },
  {
   "cell_type": "markdown",
   "id": "942cd556",
   "metadata": {},
   "source": [
    "## **Atravezando diccionarios**\n",
    "\n",
    "Para Recorrer un diccionario se usa el ciclo **for**. Este ciclo permite atravezar todas las claves de un diccionario. La forma general es la siguiente:\n",
    "\n",
    "```python\n",
    "for key in dictionaryName:\n",
    "    # Instrucciones...\n",
    "```"
   ]
  },
  {
   "cell_type": "markdown",
   "id": "cf802715",
   "metadata": {},
   "source": [
    "**Ejemplo**: A continuación se muestra como se recorre un diccionario ([link para ejecutar en python tutor](http://www.pythontutor.com/visualize.html#code=students%20%3D%20%7B%22111-34-3434%22%3A%22John%22,%20%22132-56-6290%22%3A%22Peter%22%7D%0Afor%20key%20in%20students%3A%0A%20%20%20%20print%28key%20%2B%20%22%3A%20%22%20%2B%20str%28students%5Bkey%5D%29%29&cumulative=false&curInstr=0&heapPrimitives=false&mode=display&origin=opt-frontend.js&py=3&rawInputLstJSON=%5B%5D&textReferences=false))"
   ]
  },
  {
   "cell_type": "code",
   "execution_count": 8,
   "id": "3b20c6de",
   "metadata": {},
   "outputs": [
    {
     "name": "stdout",
     "output_type": "stream",
     "text": [
      "111-34-3434:John\n",
      "132-56-6290:Peter\n"
     ]
    }
   ],
   "source": [
    "students = {\"111-34-3434\":\"John\", \"132-56-6290\":\"Peter\"}\n",
    "for key in students:\n",
    "    print(key + \":\" + str(students[key]))"
   ]
  },
  {
   "cell_type": "markdown",
   "id": "bcc242f0",
   "metadata": {},
   "source": [
    "**Ejemplo**: Haciendo uso del metodo [```items```](https://py2.codeskulptor.org/docs.html#dict-items) es posible tambien acceder a un diccionario. Veamos:"
   ]
  },
  {
   "cell_type": "code",
   "execution_count": 13,
   "id": "4b04d550",
   "metadata": {},
   "outputs": [
    {
     "name": "stdout",
     "output_type": "stream",
     "text": [
      "Help on method_descriptor:\n",
      "\n",
      "items(...)\n",
      "    D.items() -> a set-like object providing a view on D's items\n",
      "\n"
     ]
    }
   ],
   "source": [
    "help(dict.items)"
   ]
  },
  {
   "cell_type": "markdown",
   "id": "1a640483",
   "metadata": {},
   "source": [
    "**Ejemplo**: ([link para ejecutar en python tutor](http://www.pythontutor.com/visualize.html#code=%23%20Definiendo%20un%20diccionario%0Agrades%20%3D%20%7B90%3A%22A%22,%2080%3A%22B%22,%2070%3A%22C%22%7D%0A%0A%23%20Obteniendo%20los%20items%20%28key,%20value%29%20del%20diccionario%0Aitems%20%3D%20grades.items%28%29%0A%0A%23%20Imprimiendo%20los%20items%0Aprint%28items%29&cumulative=false&curInstr=0&heapPrimitives=false&mode=display&origin=opt-frontend.js&py=3&rawInputLstJSON=%5B%5D&textReferences=false))"
   ]
  },
  {
   "cell_type": "code",
   "execution_count": 14,
   "id": "aef0e241",
   "metadata": {},
   "outputs": [
    {
     "name": "stdout",
     "output_type": "stream",
     "text": [
      "dict_items([(90, 'A'), (80, 'B'), (70, 'C')])\n"
     ]
    }
   ],
   "source": [
    "# Definiendo un diccionario\n",
    "grades = {90:\"A\", 80:\"B\", 70:\"C\"}\n",
    "\n",
    "# Obteniendo los items (key, value) del diccionario\n",
    "items = grades.items()\n",
    "\n",
    "# Imprimiendo los items\n",
    "print(items)"
   ]
  },
  {
   "cell_type": "markdown",
   "id": "00df8f0f",
   "metadata": {},
   "source": [
    "La forma de aprovechar esta función se muestra empleando un ciclo **for** a continuación:\n",
    "\n",
    "```python\n",
    "for (key, value) in dictName.items():\n",
    "    print(key,value)\n",
    "````\n",
    "\n",
    "Veamos ([link para ejecutar en python tutor](http://www.pythontutor.com/visualize.html#code=%23%20Definiendo%20un%20diccionario%0Agrades%20%3D%20%7B90%3A%22A%22,%2080%3A%22B%22,%2070%3A%22C%22%7D%0A%0A%23%20Recorriendo%20el%20diccionario%0Afor%20%28key,%20value%29%20in%20grades.items%28%29%3A%0A%20%20%20%20print%28key,value%29%0A%0A&cumulative=false&curInstr=0&heapPrimitives=false&mode=display&origin=opt-frontend.js&py=3&rawInputLstJSON=%5B%5D&textReferences=false)):"
   ]
  },
  {
   "cell_type": "code",
   "execution_count": 15,
   "id": "65c45cdb",
   "metadata": {},
   "outputs": [
    {
     "name": "stdout",
     "output_type": "stream",
     "text": [
      "90 A\n",
      "80 B\n",
      "70 C\n"
     ]
    }
   ],
   "source": [
    "# Definiendo un diccionario\n",
    "grades = {90:\"A\", 80:\"B\", 70:\"C\"}\n",
    "\n",
    "# Recorriendo el diccionario\n",
    "for (k, v) in grades.items():\n",
    "    print(k,v)"
   ]
  },
  {
   "cell_type": "markdown",
   "id": "cd404c56",
   "metadata": {},
   "source": [
    "**Ejemplo**: Como puede observar en el ejemplo anterior, las claves son no ordenadas. Para solucionar esto, se puede invocar el metodo [```sort```](https://py2.codeskulptor.org/docs.html#list-sort) propio de una lista (**list**).\n",
    "\n",
    "```python\n",
    "theKeys = dictionaryName.keys()\n",
    "theKeys.sort()\n",
    "for key  in theKeys:\n",
    "    print(key,dictionaryName[key])\n",
    "```"
   ]
  },
  {
   "cell_type": "markdown",
   "id": "2f8a0821",
   "metadata": {},
   "source": [
    "**Ejemplo**: ([link para ejecutar en python tutor](http://www.pythontutor.com/visualize.html#code=%23%20Definiendo%20un%20diccionario%0Agrades%20%3D%20%7B90%3A%22A%22,%2080%3A%22B%22,%2070%3A%22C%22%7D%0A%0A%23%20Recorriendo%20el%20diccionario%0Afor%20%28key,%20value%29%20in%20grades.items%28%29%3A%0A%20%20%20%20print%28key,value%29%0A%0A&cumulative=false&curInstr=0&heapPrimitives=false&mode=display&origin=opt-frontend.js&py=3&rawInputLstJSON=%5B%5D&textReferences=false))"
   ]
  },
  {
   "cell_type": "code",
   "execution_count": 21,
   "id": "389deda1",
   "metadata": {},
   "outputs": [
    {
     "name": "stdout",
     "output_type": "stream",
     "text": [
      "70 C\n",
      "80 B\n",
      "90 A\n"
     ]
    }
   ],
   "source": [
    "grades = {90:\"A\", 80:\"B\", 70:\"C\"}\n",
    "claves = list(grades.keys())\n",
    "claves.sort()\n",
    "for k  in claves:\n",
    "    print(k,grades[k])\n"
   ]
  },
  {
   "cell_type": "markdown",
   "id": "f3ee6ee2",
   "metadata": {},
   "source": [
    "## **Operadores** \n",
    "\n",
    "La siguiente resume los principales operadores sobre los diccionarios:\n",
    "\n",
    "|Operador|Accion|Ejemplo|Resultado|\n",
    "|:--------|:------|:-------|:---------|\n",
    "|```len(Dic)``` |Retorna la longitud del diccionario **Dic**.|```A = {'a':1,'b':2,'c':3}``` <br/> ```B = {'ab':1,'b':[2,3]}``` <br/> ```C = {}```| ```len(A) -> 3``` <br/> ```len(B) -> 2``` <br/> ```len(C) -> 0```|\n",
    "|```key in Dic``` |Retorna **True** si **key** está en el diccionario  **Dic**.|```A = {'a':1,'b':2,'c':3}``` | ```'a' in A -> True``` <br/>```'d' in A -> False``` |\n",
    "|```key not in Dic``` |Retorna **True** si **key** no está en el diccionario  **Dic**.|```A = {'a':1,'b':2,'c':3}``` | ```'a' not in A -> False``` <br/>```'d' not in A -> True``` |\n",
    "|```Dic1 == Dic2``` |Devuelve True si dos diccionarios contienen los mismos items.|```d1 = {\"red\":41, \"blue\":3}``` <br/> ```d2 = {\"blue\":3, \"red\":41}``` | ```'d1 == d2 -> True```|\n",
    "|```Dic1 != Dic2``` |Devuelve True si dos diccionarios contienen diferentes items.|```d1 = {\"red\":41, \"blue\":3}``` <br/> ```d2 = {\"blue\":3, \"red\":41}``` | ```'d1 != d2 -> False```|\n",
    "|```Dic[key]``` |Retorna el valor **Dic[key]** asociado a la clave **key**|```d1 = {\"red\":41, \"blue\":3}``` | ```d1[\"red\"] -> 41``` <br/>```d1[\"r\"] -> Error``` |\n",
    "|```Dic[key] = value``` |Asocia la clave **key** con el valor **value**; si key no existe, crea un nuevo elemento en el diccionario.|```d1 = {\"A\": 1, \"B\": 2}``` | ```d1[\"A\"] = -1 -> d1 = {\"A\": -1, \"B\": 2}``` <br/>```d1[\"C\"] = -1 -> d1 = {\"A\": 1, \"B\": 2, \"C\": -1}``` |\n",
    "|```for k in Dic``` |Itera sobre las claves de Dic.|``````mdays = { 'enero':31, 'febrero':28, 'marzo':31, 'abril':30} `````` <br/> ```for m in mdays:``` <br/>&nbsp;&nbsp;&nbsp; ```print(e,mdays[e])```| ```febrero 28``` <br/> ```abril 30``` <br/> ```marzo 31``` <br/> ```enero 31```|\n",
    "|```del Dic[k]``` |Elimina el elemento con clave ```k``` del diccionario ```Dic```|``````vocales = { 1:'a', 2:'e', 3:'z'} `````` <br/> ```del vocales[3]``` <br/>&nbsp;&nbsp;&nbsp; ```print(vocales)```| ``````{ 1:'a', 2:'e'}``````|"
   ]
  },
  {
   "cell_type": "markdown",
   "id": "cfc0d943",
   "metadata": {},
   "source": [
    "**Ejemplos**: "
   ]
  },
  {
   "cell_type": "code",
   "execution_count": 28,
   "id": "87615957",
   "metadata": {},
   "outputs": [
    {
     "data": {
      "text/plain": [
       "3"
      ]
     },
     "execution_count": 28,
     "metadata": {},
     "output_type": "execute_result"
    }
   ],
   "source": [
    "scientist_to_birthdate = {'Newton' : 1642, \n",
    "                          'Darwin' : 1809,\n",
    "                          'Turing' : 1912}\n",
    "len(scientist_to_birthdate)"
   ]
  },
  {
   "cell_type": "code",
   "execution_count": 29,
   "id": "1b789458",
   "metadata": {},
   "outputs": [
    {
     "data": {
      "text/plain": [
       "False"
      ]
     },
     "execution_count": 29,
     "metadata": {},
     "output_type": "execute_result"
    }
   ],
   "source": [
    "scientist_to_birthdate = {'Newton' : 1642, \n",
    "                          'Darwin' : 1809,\n",
    "                          'Turing' : 1912}\n",
    "\"Einstein\" in scientist_to_birthdate"
   ]
  },
  {
   "cell_type": "code",
   "execution_count": 30,
   "id": "fb5f5307",
   "metadata": {},
   "outputs": [
    {
     "data": {
      "text/plain": [
       "True"
      ]
     },
     "execution_count": 30,
     "metadata": {},
     "output_type": "execute_result"
    }
   ],
   "source": [
    "scientist_to_birthdate = {'Newton' : 1642, \n",
    "                          'Darwin' : 1809,\n",
    "                          'Turing' : 1912}\n",
    "\"Einstein\" not in scientist_to_birthdate"
   ]
  },
  {
   "cell_type": "code",
   "execution_count": 22,
   "id": "ff5d6d29",
   "metadata": {},
   "outputs": [
    {
     "name": "stdout",
     "output_type": "stream",
     "text": [
      "True\n",
      "False\n"
     ]
    }
   ],
   "source": [
    "d1 = {\"red\":41, \"blue\":3}\n",
    "d2 = {\"blue\":3, \"red\":41}\n",
    "print(d1 == d2)\n",
    "print(d1 != d2)"
   ]
  },
  {
   "cell_type": "code",
   "execution_count": 31,
   "id": "e96232ce",
   "metadata": {},
   "outputs": [
    {
     "data": {
      "text/plain": [
       "1642"
      ]
     },
     "execution_count": 31,
     "metadata": {},
     "output_type": "execute_result"
    }
   ],
   "source": [
    "scientist_to_birthdate = {'Newton' : 1642, \n",
    "                          'Darwin' : 1809,\n",
    "                          'Turing' : 1912}\n",
    "\n",
    "scientist_to_birthdate['Newton']"
   ]
  },
  {
   "cell_type": "code",
   "execution_count": 32,
   "id": "37f23717",
   "metadata": {},
   "outputs": [
    {
     "ename": "KeyError",
     "evalue": "'Pierre'",
     "output_type": "error",
     "traceback": [
      "\u001b[1;31m---------------------------------------------------------------------------\u001b[0m",
      "\u001b[1;31mKeyError\u001b[0m                                  Traceback (most recent call last)",
      "\u001b[1;32m<ipython-input-32-4b099bf56f64>\u001b[0m in \u001b[0;36m<module>\u001b[1;34m\u001b[0m\n\u001b[0;32m      3\u001b[0m                           'Turing' : 1912}\n\u001b[0;32m      4\u001b[0m \u001b[1;33m\u001b[0m\u001b[0m\n\u001b[1;32m----> 5\u001b[1;33m \u001b[0mscientist_to_birthdate\u001b[0m\u001b[1;33m[\u001b[0m\u001b[1;34m'Pierre'\u001b[0m\u001b[1;33m]\u001b[0m\u001b[1;33m\u001b[0m\u001b[1;33m\u001b[0m\u001b[0m\n\u001b[0m",
      "\u001b[1;31mKeyError\u001b[0m: 'Pierre'"
     ]
    }
   ],
   "source": [
    "scientist_to_birthdate = {'Newton' : 1642, \n",
    "                          'Darwin' : 1809,\n",
    "                          'Turing' : 1912}\n",
    "\n",
    "scientist_to_birthdate['Pierre']"
   ]
  },
  {
   "cell_type": "code",
   "execution_count": 34,
   "id": "23228aae",
   "metadata": {},
   "outputs": [
    {
     "name": "stdout",
     "output_type": "stream",
     "text": [
      "{1: 'one', 2: 'two', 3: 'one'}\n",
      "{1: 'one', 2: 'two', 3: 'three', 0: 'zero'}\n"
     ]
    }
   ],
   "source": [
    "numbers = {1: \"one\", 2: \"two\", 3: \"one\"}\n",
    "print(numbers)\n",
    "numbers[3] = \"three\"\n",
    "numbers[0] = \"zero\"\n",
    "print(numbers)"
   ]
  },
  {
   "cell_type": "code",
   "execution_count": 36,
   "id": "01115346",
   "metadata": {},
   "outputs": [
    {
     "name": "stdout",
     "output_type": "stream",
     "text": [
      "uno\n",
      "dos\n",
      "tres\n",
      "cero\n",
      "\n",
      "uno  en ingles es one\n",
      "dos  en ingles es two\n",
      "tres  en ingles es three\n",
      "cero  en ingles es zero\n"
     ]
    }
   ],
   "source": [
    "traducciones = {\"uno\": \"one\", \"dos\": \"two\", \"tres\": \"three\", \"cero\": \"zero\"}\n",
    "for k in traducciones:\n",
    "    print(k)\n",
    "print()\n",
    "for k in traducciones:\n",
    "    print(k,\" en ingles es\",traducciones[k])"
   ]
  },
  {
   "cell_type": "code",
   "execution_count": 37,
   "id": "5c1ff48e",
   "metadata": {},
   "outputs": [
    {
     "name": "stdout",
     "output_type": "stream",
     "text": [
      "{'uno': 'one', 'dos': 'two', 'tres': 'three', 0: 'zero'}\n",
      "{'uno': 'one', 'dos': 'two', 'tres': 'three'}\n"
     ]
    }
   ],
   "source": [
    "traducciones = {\"uno\": \"one\", \"dos\": \"two\", \"tres\": \"three\", 0: \"zero\"}\n",
    "print(traducciones)\n",
    "del traducciones[0]\n",
    "print(traducciones)"
   ]
  },
  {
   "cell_type": "markdown",
   "id": "4247e14c",
   "metadata": {},
   "source": [
    "### Métodos ###\n",
    "\n",
    "A continuación se muestran algunos de los principales métodos de los diccionarios\n",
    "\n",
    "|Función|Accion|Ejemplo|Resultado|\n",
    "|:--------|:------|:-------|:---------|\n",
    "|```dic.keys()```|Retorna una secuencia con las claves de **dic**|```A = {'a':1,'b':2,'c':3}```<br/>```B = {'ab':1,'b':[2,3]}```<br/>```C = {}```|```A.keys() ->  ['a', 'b', 'c']``` <br/> ```B.keys() -> ['ab', 'b']``` <br/> ```C.keys() -> []```|\n",
    "|```dic.values()```|Retorna una secuencia con los valores de **dic**|```A = {'a':1,'b':2,'c':3}```<br/>```B = {'ab':1,'b':[2,3]}```<br/>```C = {}```|```A.values() ->  [1, 2, 3]``` <br/> ```B.values() -> [1, [2,3]]``` <br/> ```C.values() -> []```|\n",
    "|```dic.items()```|Retorna una secuencia de tuplas, cada tupla es de la forma **(key, value)** para un **item**|```A = {'a':1,'b':2,'c':3}```|```A.items() ->  [('b', 2), ('c', 3),('a', 1)]```|\n",
    "|```dic.get(k,[e])```|retorna **dic[k]** si **k** está en **dic**, de lo contrario retorna **e**, **e** es un parámetro  opcional y por defecto es None.|```A = {'a':1,'b':2,'c':3}```|```A.get('c',4) -> 3``` <br/> ```A.get('f',4) -> 4``` <br/> ```A.get('b') -> 2``` <br/> ```A.get('d') -> None``` |\n",
    "|```dic.pop(k)```|Elimina el elemento con clave **k** y retorna su valor asociado.|```A = {'a':1,'b':2,'c':3}```|```A.pop('b')``` <br/> Retorna: ```2``` <br/> A queda: ```A = {'a':1,'c':3}```|\n",
    "|```dic.popitem()```|Retorna un par **key/value** aleatoriamente seleccionado como una tupla y remueve el item seleccionado.|```A = {'a':1,'b':2,'c':3}```|```A.popitem()``` <br/> Retorna: ```('b',2)``` <br/> A queda: ```A = {'a':1,'c':3}```|\n",
    "|```dic.clear()```|Borra todas las entradas del diccionario dic dejándolo vacío, no retorna nada.|```A = {'a':1,'b':2,'c':3}```|```A.clear() -> A = {}```|\n",
    "|```dic.update(dic2)```|Agrega el contenido (pares **key/value**) del diccionario **dic2** al diccionario **dic**. Esta función no retorna nada.|```A = {'a':1,'b':2,'c':3}``` <br/> ```B = {'xyz':1,'m':[2,3]}``` |```A.update(B) ``` <br/> A: ```A = {'a':1,'b':2,'c':3, 'xyz':1,'m':[2,3]}``` <br/> B: ```B = {'xyz':1,'m': 2,3]}```|"
   ]
  },
  {
   "cell_type": "code",
   "execution_count": 23,
   "id": "a0cb0c56",
   "metadata": {},
   "outputs": [
    {
     "name": "stdout",
     "output_type": "stream",
     "text": [
      "dict_keys(['Newton', 'Darwin', 'Turing'])\n",
      "\n",
      "dict_values([1642, 1809, 1912])\n",
      "\n",
      "dict_items([('Newton', 1642), ('Darwin', 1809), ('Turing', 1912)])\n"
     ]
    }
   ],
   "source": [
    "scientist_to_birthdate = {'Newton' : 1642, \n",
    "                          'Darwin' : 1809,\n",
    "                          'Turing' : 1912}\n",
    "\n",
    "print(scientist_to_birthdate.keys())\n",
    "print(scientist_to_birthdate.keys())\n",
    "print()\n",
    "print(scientist_to_birthdate.values())\n",
    "print()\n",
    "print(scientist_to_birthdate.items())"
   ]
  },
  {
   "cell_type": "code",
   "execution_count": null,
   "id": "80e87f6f",
   "metadata": {},
   "outputs": [],
   "source": []
  },
  {
   "cell_type": "code",
   "execution_count": 27,
   "id": "53f77003",
   "metadata": {},
   "outputs": [
    {
     "name": "stdout",
     "output_type": "stream",
     "text": [
      "1642\n",
      "None\n",
      "1867\n"
     ]
    }
   ],
   "source": [
    "scientist_to_birthdate = {'Newton' : 1642, \n",
    "                          'Darwin' : 1809,\n",
    "                          'Turing' : 1912}\n",
    "\n",
    "print(scientist_to_birthdate.get('Newton'))  \n",
    "print(scientist_to_birthdate.get('Hopper'))\n",
    "print(scientist_to_birthdate.get('Curie', 1867))"
   ]
  },
  {
   "cell_type": "code",
   "execution_count": 40,
   "id": "690d864a",
   "metadata": {},
   "outputs": [
    {
     "name": "stdout",
     "output_type": "stream",
     "text": [
      "{'Darwin': 1809, 'Newton': 1642, 'Turing': 1912}\n",
      "{'Curie': 1867, 'Hopper': 1906, 'Franklin': 1920}\n",
      "\n",
      "{'Darwin': 1809, 'Newton': 1642, 'Turing': 1912, 'Curie': 1867, 'Hopper': 1906, 'Franklin': 1920}\n"
     ]
    }
   ],
   "source": [
    "scientist_to_birthdate = {'Darwin': 1809, \n",
    "                          'Newton': 1642, \n",
    "                          'Turing': 1912}\n",
    "print(scientist_to_birthdate)\n",
    "\n",
    "researcher_to_birthdate = {'Curie' : 1867, \n",
    "                           'Hopper' : 1906,\n",
    "                           'Franklin' : 1920}\n",
    "scientist_to_birthdate.update(researcher_to_birthdate)\n",
    "print(researcher_to_birthdate)\n",
    "print()\n",
    "print(scientist_to_birthdate)"
   ]
  },
  {
   "cell_type": "code",
   "execution_count": 41,
   "id": "41b7a094",
   "metadata": {},
   "outputs": [
    {
     "name": "stdout",
     "output_type": "stream",
     "text": [
      "{'Curie': 1867, 'Hopper': 1906, 'Franklin': 1920}\n",
      "{}\n"
     ]
    }
   ],
   "source": [
    "researcher_to_birthdate = {'Curie' : 1867, \n",
    "                           'Hopper' : 1906,\n",
    "                           'Franklin' : 1920}\n",
    "print(researcher_to_birthdate)\n",
    "\n",
    "researcher_to_birthdate.clear()\n",
    "print(researcher_to_birthdate)"
   ]
  },
  {
   "cell_type": "markdown",
   "id": "14f91241",
   "metadata": {},
   "source": [
    "## **Ejemplos**"
   ]
  },
  {
   "cell_type": "markdown",
   "id": "6ae6769e",
   "metadata": {},
   "source": [
    "### **Modificacion**\n",
    "\n",
    "* **del**: Borra una entrada del diccionario\n",
    "* **dictionary.clear()**: Borra todas las entradas\n",
    "* **dictionary.copy()**: Hace una copia\n",
    "* **key in dictionary**: Permite indagar si la clave key esta en dictionary\n",
    "* **dictionary.get(key[, default])**: Obtiene una entrada (similar a **dictionary[key]**)\n",
    "* **dictionary.popitem()**: Remueve y retorna una entrada arbitraria.\n",
    "\n",
    "**Ejemplo**: [Codigo en python tutor](http://www.pythontutor.com/visualize.html#code=d1%20%3D%20%7B%22duck%22%3A%20%22eend%22,%20%22water%22%3A%20%22water%22%7D%0Adel%20d1%5B%22water%22%5D%0Ad1%5B%22back%22%5D%20%3D%20%22rug%22%20%0Ad1%5B%22duck%22%5D%20%3D%20%22duik%22%20%0Ad2%20%3D%20d1.copy%28%29%0Ad1.clear%28%29%0Aprint%28%22duck%22%20in%20d1%29%0Aprint%28%22duck%22%20in%20d2%29%0Av1%20%3D%20d2.get%28%22back%22,%20-1%29%0Av2%20%3D%20d2.get%28%22book%22,%20-1%29%0A%28k,v%29%20%3D%20d2.popitem%28%29&cumulative=false&curInstr=0&heapPrimitives=false&mode=display&origin=opt-frontend.js&py=3&rawInputLstJSON=%5B%5D&textReferences=false)\n",
    "\n",
    "```python\n",
    "d1 = {\"duck\": \"eend\", \"water\": \"water\"}\n",
    "del d1[\"water\"]\n",
    "d1[\"back\"] = \"rug\" \n",
    "d1[\"duck\"] = \"duik\" \n",
    "d2 = d1.copy()\n",
    "d1.clear()\n",
    "print(\"duck\" in d1)\n",
    "print(\"duck\" in d2)\n",
    "v1 = d2.get(\"back\", -1)\n",
    "v2 = d2.get(\"book\", -1)\n",
    "(k,v) = d2.popitem()\n",
    "```"
   ]
  },
  {
   "cell_type": "markdown",
   "id": "e9923af8",
   "metadata": {},
   "source": [
    "### **Vistas**\n",
    "\n",
    "* **Creando un vista**: items(), keys() y values()\n",
    "  * **dictionary.items()**: Lista todos los pares (key, value) del diccionario en forma de tupla.\n",
    "  * **dictionary.keys()**: Lista todas las claves del diccionario.\n",
    "  * **dictionary.values()**: Lista todos los valores del diccionario.\n",
    "\n",
    "**Ejemplo**: "
   ]
  },
  {
   "cell_type": "code",
   "execution_count": 43,
   "id": "ede3fee9",
   "metadata": {},
   "outputs": [
    {
     "name": "stdout",
     "output_type": "stream",
     "text": [
      "proj1 Python\n",
      "proj2 Perl\n",
      "proj3 Java\n",
      "dict_values(['Python', 'Perl', 'Java'])\n",
      "['Python', 'Perl', 'Java']\n",
      "dict_keys(['proj1', 'proj2', 'proj3'])\n",
      "('proj1', 'proj2', 'proj3')\n"
     ]
    }
   ],
   "source": [
    "proj_language = {\"proj1\":\"Python\", \"proj2\":\"Perl\", \"proj3\":\"Java\"}\n",
    "# items\n",
    "items = proj_language.items()\n",
    "for k, v in items:\n",
    "    print(k, v)\n",
    "# values\n",
    "values = proj_language.values()\n",
    "print(values)\n",
    "print(list(values))\n",
    "# keys\n",
    "keys = proj_language.keys()\n",
    "print(keys)\n",
    "print(tuple(keys))"
   ]
  },
  {
   "cell_type": "markdown",
   "id": "44fde594",
   "metadata": {},
   "source": [
    "## **Mas ejemplos**"
   ]
  },
  {
   "cell_type": "markdown",
   "id": "9d93f939",
   "metadata": {},
   "source": [
    "### **Ejemplo 1**\n",
    "\n",
    "La siguiente tabla muestra la equivalencia entre un numero en hexadecimal y su respectiva forma binaria\n",
    "\n",
    "|Número en decimal|Número en hexadecimal|\n",
    "|:---|:---|\n",
    "|'0'|'0000'|\n",
    "|'1'|'0001'|\n",
    "|'2'|'0010'|\n",
    "|'3'|'0011'|\n",
    "|'4'|'0100'|\n",
    "|'5'|'0101'|\n",
    "|'6'|'0110'|\n",
    "|'7'|'0111'|\n",
    "|'8'|'1000'|\n",
    "|'9'|'1001'|\n",
    "|'A'|'1010'|\n",
    "|'B'|'1011'|\n",
    "|'C'|'1100'|\n",
    "|'D'|'1101'|\n",
    "|'E'|'1110'|\n",
    "|'F'|'1111'|\n",
    "\n",
    "Hacer una funcion que convierta un numero en hexadecimal en binario"
   ]
  },
  {
   "cell_type": "markdown",
   "id": "4846002f",
   "metadata": {},
   "source": [
    "**Forma 1**:"
   ]
  },
  {
   "cell_type": "code",
   "execution_count": 49,
   "id": "bde91ad4",
   "metadata": {},
   "outputs": [
    {
     "name": "stdout",
     "output_type": "stream",
     "text": [
      "True\n",
      "True\n",
      "True\n",
      "False\n",
      "\n",
      "35A = 001101011010\n"
     ]
    }
   ],
   "source": [
    "def checkDigit(digit):\n",
    "    \"\"\" Verifica si un digito es hexadecimal \"\"\"\n",
    "    if (digit in \"0123456789\" or digit in \"ABCDEFabcdef\"):\n",
    "        return True\n",
    "    else:\n",
    "        return False\n",
    "\n",
    "def convert(number):\n",
    "    \"\"\"\n",
    "    Construye y retorna un numero en represetnación en base binaria\n",
    "    \"\"\"\n",
    "    binary = ''\n",
    "    for digit in number:\n",
    "        if(checkDigit(digit) == False):\n",
    "            binary = ''\n",
    "            return binary\n",
    "        else:\n",
    "            if digit == \"0\":\n",
    "                binary += \"0000\"\n",
    "            elif digit == \"1\":\n",
    "                binary += \"0001\"\n",
    "            elif digit == \"2\":\n",
    "                binary += \"0010\"\n",
    "            elif digit == \"3\":\n",
    "                binary += \"0011\"\n",
    "            elif digit == \"4\":\n",
    "                binary += \"0100\"\n",
    "            elif digit == \"5\":\n",
    "                binary += \"0101\"\n",
    "            elif digit == \"6\":\n",
    "                binary += \"0110\"\n",
    "            elif digit == \"7\":\n",
    "                binary += \"0111\"\n",
    "            elif digit == \"8\":\n",
    "                binary += \"1000\"\n",
    "            elif digit == \"9\":\n",
    "                binary += \"1001\"\n",
    "            elif digit == \"A\" or digit == \"a\":\n",
    "                binary += \"1010\"\n",
    "            elif digit == \"B\" or digit == \"b\":\n",
    "                binary += \"1011\"\n",
    "            elif digit == \"C\" or digit == \"c\":\n",
    "                binary += \"1100\"\n",
    "            elif digit == \"D\" or digit == \"d\":\n",
    "                binary += \"1101\"\n",
    "            elif digit == \"E\" or digit == \"e\":\n",
    "                binary += \"1110\"\n",
    "            elif digit == \"F\" or digit == \"f\":\n",
    "                binary += \"1111\"\n",
    "    return binary\n",
    "    \n",
    "print(checkDigit(\"a\"))\n",
    "print(checkDigit(\"B\"))\n",
    "print(checkDigit(\"8\"))\n",
    "print(checkDigit(\"z\"))\n",
    "print()\n",
    "\n",
    "numHexa = \"35A\"\n",
    "numBin = convert(numHexa)\n",
    "print(numHexa,\"=\",numBin)"
   ]
  },
  {
   "cell_type": "markdown",
   "id": "cedb8282",
   "metadata": {},
   "source": [
    "**Forma 2**:"
   ]
  },
  {
   "cell_type": "code",
   "execution_count": 50,
   "id": "7719334f",
   "metadata": {},
   "outputs": [
    {
     "name": "stdout",
     "output_type": "stream",
     "text": [
      "True\n",
      "True\n",
      "True\n",
      "False\n",
      "\n",
      "35A = 001101011010\n"
     ]
    }
   ],
   "source": [
    "hexToBinaryTable = { \n",
    "                     '0': '0000', '1':'0001', '2':'0010', '3':'0011',\n",
    "                     '4':'0100', '5':'0101', '6':'0110', '7':'0111',\n",
    "                     '8':'1000', '9':'1001', 'A':'1010', 'B':'1011',\n",
    "                     'C':'1100', 'D':'1101', 'E':'1110', 'F':'1111'\n",
    "                   }\n",
    "\n",
    "def checkDigit(digit):\n",
    "    \"\"\" Verifica si un digito es hexadecimal \"\"\"\n",
    "    if (digit in \"0123456789\" or digit in \"ABCDEFabcdef\"):\n",
    "        return True\n",
    "    else:\n",
    "        return False\n",
    "\n",
    "def convert(number,table):\n",
    "    \"\"\"\n",
    "    Construye y retorna un numero en represetnación en base binaria\n",
    "    \"\"\"\n",
    "    binary = ''\n",
    "    for digit in number:\n",
    "        if(checkDigit(digit) == False):\n",
    "            binary = ''\n",
    "            return binary\n",
    "        else:\n",
    "            binary = binary + table[digit]\n",
    "    \n",
    "    return binary\n",
    "    \n",
    "print(checkDigit(\"a\"))\n",
    "print(checkDigit(\"B\"))\n",
    "print(checkDigit(\"8\"))\n",
    "print(checkDigit(\"z\"))\n",
    "print()\n",
    "\n",
    "numHexa = \"35A\"\n",
    "numBin = convert(numHexa,hexToBinaryTable)\n",
    "print(numHexa,\"=\",numBin)"
   ]
  },
  {
   "cell_type": "markdown",
   "id": "ffd028be",
   "metadata": {},
   "source": [
    "## **Ejemplos de refuerzo**"
   ]
  },
  {
   "cell_type": "markdown",
   "id": "939822c6",
   "metadata": {},
   "source": [
    "### **Ejemplo 1**\n",
    "\n",
    "Escriba un programa que lea un número de enteros no especificado y encuentre el numero de ocurrencias de aquel que se repite mas veces. Por ejemplo, si usted digita ```2 3 40 3 5 4 –3 3 3 2 0```, el numero ```3``` es el que mas repite. Entre todos los numeros en una sola linea. Si no uno, sino varios números tienen la mayor cantidad de apariciones, todos\n",
    "ellos deben ser informados. Por ejemplo, dado que ```9``` y ```3``` aparecen dos veces en la lista ```9 30 3 9 3 2 4```, deben notificarse ambas ocurrencias."
   ]
  },
  {
   "cell_type": "markdown",
   "id": "f455dc40",
   "metadata": {},
   "source": [
    "## **Referencias**\n",
    "\n",
    "* https://realpython.com/python-dicts/\n",
    "* https://realpython.com/iterate-through-dictionary-python/\n",
    "* https://www.codecademy.com/learn/learn-python-3/modules/learn-python3-dictionaries/cheatsheet\n",
    "* https://cupi2-ip.github.io/IPBook/portada.html\n",
    "* https://www.greenteapress.com/thinkpython2/html/thinkpython2012.html\n",
    "* https://www.pitt.edu/~naraehan/python3/mbb11.html\n",
    "\n",
    "\n"
   ]
  },
  {
   "cell_type": "code",
   "execution_count": null,
   "id": "0547430c",
   "metadata": {},
   "outputs": [],
   "source": []
  }
 ],
 "metadata": {
  "kernelspec": {
   "display_name": "Python 3",
   "language": "python",
   "name": "python3"
  },
  "language_info": {
   "codemirror_mode": {
    "name": "ipython",
    "version": 3
   },
   "file_extension": ".py",
   "mimetype": "text/x-python",
   "name": "python",
   "nbconvert_exporter": "python",
   "pygments_lexer": "ipython3",
   "version": "3.8.8"
  }
 },
 "nbformat": 4,
 "nbformat_minor": 5
}

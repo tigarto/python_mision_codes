{
 "cells": [
  {
   "cell_type": "markdown",
   "id": "64ab40b8",
   "metadata": {},
   "source": [
    "[![Open In Colab](https://colab.research.google.com/assets/colab-badge.svg)](https://colab.research.google.com/github/tigarto/python_mision_codes/blob/main/ejemplos_resueltos/ejemplos2.ipynb)"
   ]
  },
  {
   "cell_type": "markdown",
   "id": "b3630d6e",
   "metadata": {},
   "source": [
    "### Ejemplos"
   ]
  },
  {
   "cell_type": "markdown",
   "id": "6e1416d3",
   "metadata": {},
   "source": [
    "#### **Problema 1**\n",
    "\n",
    "Despues de realizar una serie de experimentos, usted ha compilado un diccionario mostrando la probabilidad de detectar cierta clase de particulas subatomicas. Los nombres de las particulas son las **claves** (**keys**) del diccionario, y las probabilidades son los **valores** (**value**): ```{'neutron': 0.55, 'proton': 0.21, 'meson': 0.03, 'muon': 0.07, 'neutrino': 0.14}```. Escriba una función que tome un unico diccionario de esta clase y retorne la particula con la menor probabilidad de ser observada. Dado el diccionario mostrado previamente, la función deberia retornar ```meson```"
   ]
  },
  {
   "cell_type": "markdown",
   "id": "687a2015",
   "metadata": {},
   "source": [
    "* **Solución**:"
   ]
  },
  {
   "cell_type": "code",
   "execution_count": null,
   "id": "c05da388",
   "metadata": {},
   "outputs": [],
   "source": []
  },
  {
   "cell_type": "markdown",
   "id": "00fd64ba",
   "metadata": {},
   "source": [
    "#### **Problema 2**\n",
    "Un color balanceado es aquel cuyos valores rojo (red), verde (gree) y azul (blue) suman ```1.0```. Escriba una funcion llamada ```ìs_balanced``` que tome un diccionario cuyas claves (**keys**) son ```'R'```, ```'G'```, y ```'B'``` y cuyos valores (**values**) estan entre ```0``` y ```1``` y retorne ```True``` si estos representan un color balancedo."
   ]
  },
  {
   "cell_type": "code",
   "execution_count": null,
   "id": "06185897",
   "metadata": {},
   "outputs": [],
   "source": []
  },
  {
   "cell_type": "markdown",
   "id": "9c50ffd1",
   "metadata": {},
   "source": [
    "#### **Problema 3**\n",
    "Escriba una funcion llamada ```dict_intersect``` que tome dos diccionarios como argumentos y retorne un diccionario que contenga solo los pares key/value encontrados en ambos diccionarios originales."
   ]
  },
  {
   "cell_type": "code",
   "execution_count": null,
   "id": "80e21c70",
   "metadata": {},
   "outputs": [],
   "source": []
  },
  {
   "cell_type": "markdown",
   "id": "a3926e65",
   "metadata": {},
   "source": [
    "#### **Problema 4**\n",
    "Los programadores algunas veces usand un diccionario de diccionarios como una base de datos simple. Por ejemplo, para mantener información a cerda de famosos cientificos, usted podria usar un diccionario donde las **claves** (**keys**) son strings y los **valores** (**values**) son diccionarios:\n",
    "\n",
    "```python\n",
    "{\n",
    "    'jgoodall' : {'surname' : 'Goodall',\n",
    "                  'forename' : 'Jane',\n",
    "                  'born' : 1934,\n",
    "                  'died' : None,\n",
    "                  'notes' : 'primate researcher',\n",
    "                  'author' : ['In the Shadow of Man', 'The Chimpanzees of Gombe']},\n",
    "    'rfranklin' : {'surname' : 'Franklin',\n",
    "                   'forename' : 'Rosalind',\n",
    "                   'born' : 1920,\n",
    "                   'died' : 1957,\n",
    "                   'notes' : 'contributed to discovery of DNA'},\n",
    "    'rcarson' : {'surname' : 'Carson',\n",
    "                 'forename' : 'Rachel',\n",
    "                 'born' : 1907,\n",
    "                 'died' : 1964,\n",
    "                 'notes' : 'raised awareness of effects of DDT',\n",
    "                 'author' : ['Silent Spring']}\n",
    "}\n",
    "```\n",
    "\n",
    "Escriba una función llamada ```db_headings``` que retorne una tupla de cualquiera de los diccionarios internos. En este ejemplo, la función retornará ```('author', 'forename', 'surname', 'notes', 'born', 'died')```."
   ]
  },
  {
   "cell_type": "code",
   "execution_count": null,
   "id": "ceb445e6",
   "metadata": {},
   "outputs": [],
   "source": []
  },
  {
   "cell_type": "markdown",
   "id": "cc4c88fc",
   "metadata": {},
   "source": [
    "#### **Problema 5**\n",
    "Teniendo en cuenta el problema anterior, escriba una función llamada ```db_consistent``` que tome un diccionario de diccionarios en el formato descrito previamente y retorne ```True``` si y solo si cada uno de los diccionarios internos tiene exactamente las mismas **claves** (**keys**). (Esta función deberá retornar ```False``` para el ejemplo previo ya que la entrada Rosalind Franklin no cuenta con la clave ```'author'```."
   ]
  },
  {
   "cell_type": "code",
   "execution_count": null,
   "id": "89514274",
   "metadata": {},
   "outputs": [],
   "source": []
  }
 ],
 "metadata": {
  "kernelspec": {
   "display_name": "Python 3",
   "language": "python",
   "name": "python3"
  },
  "language_info": {
   "codemirror_mode": {
    "name": "ipython",
    "version": 3
   },
   "file_extension": ".py",
   "mimetype": "text/x-python",
   "name": "python",
   "nbconvert_exporter": "python",
   "pygments_lexer": "ipython3",
   "version": "3.8.8"
  }
 },
 "nbformat": 4,
 "nbformat_minor": 5
}

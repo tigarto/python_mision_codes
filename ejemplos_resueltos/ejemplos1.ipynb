{
 "cells": [
  {
   "cell_type": "markdown",
   "id": "ae8a3631",
   "metadata": {},
   "source": [
    "[![Open In Colab](https://colab.research.google.com/assets/colab-badge.svg)](https://colab.research.google.com/github/tigarto/python_mision_codes/blob/main/ejemplos_resueltos/ejemplos1.ipynb)"
   ]
  },
  {
   "cell_type": "code",
   "execution_count": 3,
   "id": "a13c3185",
   "metadata": {},
   "outputs": [],
   "source": [
    "import numpy as np"
   ]
  },
  {
   "cell_type": "markdown",
   "id": "3b4a8880",
   "metadata": {},
   "source": [
    "### Ejemplos"
   ]
  },
  {
   "cell_type": "markdown",
   "id": "413422b8",
   "metadata": {},
   "source": [
    "#### **Problema 1**\n",
    "\n",
    "Teniendo en cuenta las siguientes formulas:\n",
    "\n",
    "$mean = \\frac{\\sum_{i=1}^{n}x_i}{n} = \\frac{x_1 + x_2 + ... + x_n}{n}$\n",
    "\n",
    "$desviation = \\sqrt{\\frac{\\sum_{i=1}^{n}(x^i - mean)^2}{n-1}} $\n",
    "\n",
    "El programa deberá contener las siguientes funciones:\n",
    "\n",
    "```python\n",
    "# Calcula la desviacion estandar de una lista de valores\n",
    "def deviation(x):\n",
    "  # Codigo solucion...\n",
    "\n",
    "# Calcule la media de una lista de valores\n",
    "def mean(x):\n",
    "  # Codigo solucion...\n",
    "```\n",
    "Escriba un programa de test que solicite al usuario una lista de numeros y despliegue la media y la desviación estandar, como en el siguiente programa:\n",
    "\n",
    "```\n",
    "Digite los numeros: 1.9 2.5 3.7 2 1 6 3 4 5 2\n",
    "La media es 3.11\n",
    "La desviacion estandar es 1.55738\n",
    "```\n"
   ]
  },
  {
   "cell_type": "markdown",
   "id": "7afdafc4",
   "metadata": {},
   "source": [
    "* **Solución a punta de listas**:"
   ]
  },
  {
   "cell_type": "code",
   "execution_count": 4,
   "id": "75236cd3",
   "metadata": {},
   "outputs": [
    {
     "name": "stdout",
     "output_type": "stream",
     "text": [
      "Digite los numeros: 1.9 2.5 3.7 2 1 6 3 4 5 2\n",
      "La media es: 3.1100000000000003\n",
      "La desviacion estandar es: 1.5573838462127583\n"
     ]
    }
   ],
   "source": [
    "import math\n",
    "\n",
    "# Funcion que calcula la desviacion estandar de una lista de valores\n",
    "def deviation(x: list) -> float:\n",
    "    media = mean(x)\n",
    "    suma = 0\n",
    "    tam = len(x)\n",
    "    for x_i in x:\n",
    "        suma += (x_i - media)**2\n",
    "    prom = suma/(tam - 1)\n",
    "    return math.sqrt(prom)\n",
    "     \n",
    "# Funcion que calcula la media de una lista de valores    \n",
    "def mean(x: list) -> float:\n",
    "    suma = sum(x)\n",
    "    tam = len(x)\n",
    "    media = suma/tam\n",
    "    return media\n",
    "\n",
    "\"\"\" Programa de test \"\"\"\n",
    "arreglo = input(\"Digite los numeros: \")\n",
    "arreglo = arreglo.split()\n",
    "arreglo_float = []\n",
    "# Convirtiendo cada elemento string en float\n",
    "for e in arreglo:\n",
    "    arreglo_float += [float(e)]\n",
    "\n",
    "media = mean(arreglo_float)\n",
    "desv = deviation(arreglo_float)\n",
    "print(\"La media es: \" + str(media))\n",
    "print(\"La desviacion estandar es: \" + str(desv))\n",
    "    "
   ]
  },
  {
   "cell_type": "markdown",
   "id": "df38ce2b",
   "metadata": {},
   "source": [
    "* **Solución empleando numpy**:"
   ]
  },
  {
   "cell_type": "code",
   "execution_count": 6,
   "id": "b1fd1af4",
   "metadata": {},
   "outputs": [
    {
     "name": "stdout",
     "output_type": "stream",
     "text": [
      "Digite los numeros: 1.9 2.5 3.7 2 1 6 3 4 5 2\n",
      "La media es: 3.1100000000000003\n",
      "La desviacion estandar es: 1.5573838462127583\n"
     ]
    }
   ],
   "source": [
    "\"\"\" Programa de test \"\"\"\n",
    "arreglo = input(\"Digite los numeros: \")\n",
    "arreglo = arreglo.split()\n",
    "arreglo_float = []\n",
    "# Convirtiendo cada elemento string en float\n",
    "for e in arreglo:\n",
    "    arreglo_float += [float(e)]\n",
    "\n",
    "media = np.mean(np.array(arreglo_float))   \n",
    "desv = np.std(np.array(arreglo_float),ddof = 1)\n",
    "print(\"La media es: \" + str(media))\n",
    "print(\"La desviacion estandar es: \" + str(desv))"
   ]
  },
  {
   "cell_type": "markdown",
   "id": "2f748baa",
   "metadata": {},
   "source": [
    "#### **Problema 2**\n",
    "Realizar 2 funciones que hagan lo siguiente:\n",
    "1. **inicializarMatrixConstante**: Inicializar una matrix de dos dimensiones con un valor constante dado K.\n",
    "2. **imprimirMatrix**: Funcion que imprime una matrix dada"
   ]
  },
  {
   "cell_type": "markdown",
   "id": "50054708",
   "metadata": {},
   "source": [
    "* **Solución a punta de listas**:"
   ]
  },
  {
   "cell_type": "code",
   "execution_count": 9,
   "id": "5c1f93b4",
   "metadata": {},
   "outputs": [
    {
     "name": "stdout",
     "output_type": "stream",
     "text": [
      "M1 = \n",
      "[ 0 0 0 ]\n",
      "[ 0 0 0 ]\n",
      "[ 0 0 0 ]\n",
      "[ 0 0 0 ]\n",
      "\n",
      "M2 = \n",
      "[ -1.2 -1.2 -1.2 -1.2 -1.2 -1.2 ]\n",
      "[ -1.2 -1.2 -1.2 -1.2 -1.2 -1.2 ]\n",
      "[ -1.2 -1.2 -1.2 -1.2 -1.2 -1.2 ]\n"
     ]
    }
   ],
   "source": [
    "def inicializarMatrixConstante(fil, col, K = 0):\n",
    "    matrix = []\n",
    "    for i in range(fil):\n",
    "        fila = []\n",
    "        for j in range(col):\n",
    "            fila.append(K)    # fila += [K]\n",
    "        matrix.append(fila)   # matrix += [fila] \n",
    "    return matrix\n",
    "\n",
    "def imprimirMatrix(M):\n",
    "    FILAS = len(M)\n",
    "    COLUMNAS = len(M[0])\n",
    "    for i in range(FILAS):\n",
    "        print(\"[ \", end = \"\")\n",
    "        for j in range(COLUMNAS):\n",
    "            print(str(M[i][j]) + \" \", end = \"\")\n",
    "        print(\"]\")\n",
    "    \n",
    "    \n",
    "\"\"\" Testeando el correcto funcionamiendo de las funciones \"\"\"    \n",
    "# Testing de la funcion inicializarMatrixConstante\n",
    "M1 = inicializarMatrixConstante(4,3)\n",
    "M2 = inicializarMatrixConstante(3,6, -1.2)\n",
    "\n",
    "# # Testing de la funcion imprimirMatrix\n",
    "print(\"M1 = \")\n",
    "imprimirMatrix(M1)\n",
    "print()\n",
    "print(\"M2 = \")\n",
    "imprimirMatrix(M2)"
   ]
  },
  {
   "cell_type": "markdown",
   "id": "23eb9344",
   "metadata": {},
   "source": [
    "* **Solución empleando numpy**:"
   ]
  },
  {
   "cell_type": "code",
   "execution_count": 10,
   "id": "b485c358",
   "metadata": {},
   "outputs": [
    {
     "name": "stdout",
     "output_type": "stream",
     "text": [
      "M1 = \n",
      "[[0 0 0]\n",
      " [0 0 0]\n",
      " [0 0 0]\n",
      " [0 0 0]]\n",
      "\n",
      "M2 = \n",
      "[[-1.2 -1.2 -1.2 -1.2 -1.2 -1.2]\n",
      " [-1.2 -1.2 -1.2 -1.2 -1.2 -1.2]\n",
      " [-1.2 -1.2 -1.2 -1.2 -1.2 -1.2]]\n"
     ]
    }
   ],
   "source": [
    "M1 = np.full([4,3], 0)\n",
    "print(\"M1 = \")\n",
    "print(M1)\n",
    "print()\n",
    "M2 = np.full([3,6], -1.2)\n",
    "print(\"M2 = \")\n",
    "print(M2)"
   ]
  },
  {
   "cell_type": "markdown",
   "id": "34b05154",
   "metadata": {},
   "source": [
    "#### **Problema 3**\n",
    "\n",
    "Realizar una funcion es lea una matriz de dos dimensiones y calcular la suma de cada una de sus filas y columnas, dejando dichos resultados en dos vectores, uno de la suma de las filas y otro de las columnas."
   ]
  },
  {
   "cell_type": "markdown",
   "id": "db3ab69d",
   "metadata": {},
   "source": [
    "* **Solución a punta de listas**:"
   ]
  },
  {
   "cell_type": "code",
   "execution_count": null,
   "id": "02bcbfee",
   "metadata": {},
   "outputs": [],
   "source": [
    "def imprimirMatrix(M):\n",
    "    FILAS = len(M)\n",
    "    for i in range(FILAS):\n",
    "        print(M[i])\n",
    "        \n",
    "def obtenerSumaColumnas(M):\n",
    "    FILAS = len(M)\n",
    "    COLUMNAS = len(M[0])\n",
    "    sumCols = []\n",
    "    for i in range(COLUMNAS):\n",
    "        sumCol = 0\n",
    "        for j in range(FILAS):\n",
    "            sumCol += M[j][i] \n",
    "        sumCols.append(sumCol)\n",
    "        sumCol = 0\n",
    "    return sumCols\n",
    "            \n",
    "def obtenerSumaFilas(M):\n",
    "    FILAS = len(M)\n",
    "    COLUMNAS = len(M[0])\n",
    "    sumFilas = []\n",
    "    for i in range(FILAS):\n",
    "        sumFila = 0\n",
    "        for j in range(COLUMNAS):\n",
    "            sumFila += M[i][j] \n",
    "        sumFilas.append(sumFila)\n",
    "    return sumFilas\n",
    "\n",
    "def sumDimMatrix(M):\n",
    "    sumC = obtenerSumaColumnas(M)\n",
    "    sumF = obtenerSumaFilas(M)\n",
    "    return [sumF, sumC]\n",
    "\n",
    "\n",
    "matrixTest = [[2, 3, -10],[8, 0, 5]]\n",
    "imprimirMatrix(matrixTest)\n",
    "sumaFilas = obtenerSumaFilas(matrixTest)\n",
    "sumaColumnas = obtenerSumaColumnas(matrixTest)\n",
    "sumaDimensiones = sumDimMatrix(matrixTest)\n",
    "print()\n",
    "print(\"Suma filas:\", sumaFilas)\n",
    "print(\"Suma columnas:\", sumaColumnas)\n",
    "print(\"Suma dimensiones:\", sumaDimensiones)"
   ]
  },
  {
   "cell_type": "markdown",
   "id": "64246816",
   "metadata": {},
   "source": [
    "* **Solución empleando numpy**:"
   ]
  },
  {
   "cell_type": "code",
   "execution_count": 11,
   "id": "e10035f2",
   "metadata": {},
   "outputs": [
    {
     "name": "stdout",
     "output_type": "stream",
     "text": [
      "\n",
      "Suma filas: [10  3 -5]\n",
      "Suma columnas: [-5 13]\n"
     ]
    }
   ],
   "source": [
    "matrixTest = [[2, 3, -10],[8, 0, 5]]\n",
    "sumaFilas = np.sum(matrixTest, axis=0)\n",
    "sumaColumnas = np.sum(matrixTest, axis=1)\n",
    "print()\n",
    "print(\"Suma filas:\", sumaFilas)\n",
    "print(\"Suma columnas:\", sumaColumnas)\n"
   ]
  },
  {
   "cell_type": "markdown",
   "id": "f3605247",
   "metadata": {},
   "source": [
    "#### **Problema 4**\n",
    "* Realizar una función que pida dos matrices y retorne una tercera con el resultado de la suma.\n",
    "* Realizar una funcion que imprima una matriz\n",
    "* Realizar una funcion que retorne el valor de la suma de los elementos de una matriz\n"
   ]
  },
  {
   "cell_type": "markdown",
   "id": "1585d505",
   "metadata": {},
   "source": [
    "* **Solución a punta de listas**:"
   ]
  },
  {
   "cell_type": "code",
   "execution_count": null,
   "id": "23662b06",
   "metadata": {},
   "outputs": [],
   "source": []
  },
  {
   "cell_type": "markdown",
   "id": "32306451",
   "metadata": {},
   "source": [
    "* **Solución empleando numpy**:"
   ]
  },
  {
   "cell_type": "code",
   "execution_count": 13,
   "id": "d5f7d72f",
   "metadata": {},
   "outputs": [
    {
     "name": "stdout",
     "output_type": "stream",
     "text": [
      "[[1 2 3]\n",
      " [4 5 6]]\n",
      "[[  4   2   8]\n",
      " [-10   9   7]]\n",
      "--------------------\n",
      "[[ 5  4 11]\n",
      " [-6 14 13]]\n"
     ]
    }
   ],
   "source": [
    "A = np.array([[1, 2, 3],[4, 5, 6]])\n",
    "B = np.array([[4, 2, 8],[-10, 9, 7]])\n",
    "C = A + B\n",
    "print(A)\n",
    "print(B)\n",
    "print(20*\"-\")\n",
    "print(C)"
   ]
  },
  {
   "cell_type": "markdown",
   "id": "84647b45",
   "metadata": {},
   "source": [
    "#### **Problema 5**\n",
    "Se dispone de N temperaturas almacenadas en un array. Se desea calcular su media y obtener el número de temperaturas mayores o iguales que la media."
   ]
  },
  {
   "cell_type": "markdown",
   "id": "112819e4",
   "metadata": {},
   "source": [
    "* **Solución a punta de listas**:"
   ]
  },
  {
   "cell_type": "code",
   "execution_count": null,
   "id": "f72c0bad",
   "metadata": {},
   "outputs": [],
   "source": []
  },
  {
   "cell_type": "markdown",
   "id": "c42c38c1",
   "metadata": {},
   "source": [
    "* **Solución empleando numpy**:"
   ]
  },
  {
   "cell_type": "code",
   "execution_count": 19,
   "id": "893333c0",
   "metadata": {},
   "outputs": [
    {
     "name": "stdout",
     "output_type": "stream",
     "text": [
      "[[5.48813504 7.15189366 6.02763376 5.44883183 4.23654799 6.45894113]\n",
      " [4.37587211 8.91773001 9.63662761 3.83441519 7.91725038 5.2889492 ]\n",
      " [5.68044561 9.25596638 0.71036058 0.871293   0.20218397 8.32619846]\n",
      " [7.78156751 8.70012148 9.78618342 7.99158564 4.61479362 7.80529176]]\n",
      "\n",
      "media = 6.104534139767009\n",
      "\n",
      "12\n"
     ]
    }
   ],
   "source": [
    "np.random.seed(0)\n",
    "\n",
    "Temp = np.random.rand(4,6)*10\n",
    "print(Temp)\n",
    "maxTemp = np.amax(Temp)\n",
    "minTemp = np.amin(Temp)\n",
    "media = np.mean(Temp)\n",
    "print()\n",
    "print(\"media =\",media)\n",
    "Temp_meq_media = len(np.where(Temp >= media)[0])\n",
    "print()\n",
    "print(Temp_meq_media)"
   ]
  },
  {
   "cell_type": "markdown",
   "id": "e925561a",
   "metadata": {},
   "source": [
    "#### **Problema 6**\n",
    "\n",
    "La matriz T representa una tabla de anotaciones de saltos de altura (primer salto), donde las filas representan el nombre del atleta y las columnas las diferentes alturas saltadas por el atleta. Los símbolos almacenados en la tabla son: \n",
    "* **x**: Salto válido\n",
    "* **o**: salto nulo o no intentado.\n",
    "\n",
    "![saltos](saltos.jpg)\n",
    "\n",
    "Se pide:\n",
    "1. Hacer la representación matricial de la tabla.\n",
    "2. Hacer una función que imprima la tabla.\n",
    "\n",
    "**Nota**: Consulte los métodos de la clase string en: [https://www.w3schools.com/python/python_ref_string.asp](https://www.w3schools.com/python/python_ref_string.asp)"
   ]
  },
  {
   "cell_type": "code",
   "execution_count": null,
   "id": "396be7e7",
   "metadata": {},
   "outputs": [],
   "source": [
    "saltos = [\n",
    "           ['x', 'o', 'x', 'x', 'x', 'o'], \n",
    "           ['o', 'x', 'x', 'o', 'x', 'o'],\n",
    "           ['o', 'o', 'o', 'o', 'o', 'o'],\n",
    "           ['o', 'o', 'o', 'x', 'x', 'x']\n",
    "         ]\n",
    "\n",
    "nombres = ['Garcia', 'Perez', 'Gil', 'Mortimer']\n",
    "alturas = ['2.00', '2.10', '2.20', '2.30', '2.35', '2.40']\n",
    "\n",
    "def imprimirTabla():\n",
    "    global saltos; nombres; alturas\n",
    "    tabla = [alturas] + saltos\n",
    "    # print(tabla)\n",
    "    for i in range(1,len(tabla)):\n",
    "        tabla[i] = [nombres[i - 1]] + tabla[i]\n",
    "    # print(tabla)\n",
    "    \"\"\" Imprimiendo la primera fila de la tabla \"\"\"\n",
    "    print(''.ljust(10,' '), end = '')\n",
    "    for i in range(0, len(tabla[0])):\n",
    "        print(tabla[0][i].ljust(10,' '), end = '')\n",
    "    print()\n",
    "    print(70*\"-\")\n",
    "    \"\"\" Imprimiendo las filas asociadas a cada nadador \"\"\"\n",
    "    for i in range(1, len(tabla)):\n",
    "        for j in range(len(tabla[i])):\n",
    "            print(tabla[i][j].ljust(10,' '), end = '')\n",
    "        print()\n",
    "    \n",
    "    \n",
    "    \n",
    "imprimirTabla()"
   ]
  },
  {
   "cell_type": "code",
   "execution_count": null,
   "id": "ba0d190b",
   "metadata": {},
   "outputs": [],
   "source": []
  }
 ],
 "metadata": {
  "kernelspec": {
   "display_name": "Python 3",
   "language": "python",
   "name": "python3"
  },
  "language_info": {
   "codemirror_mode": {
    "name": "ipython",
    "version": 3
   },
   "file_extension": ".py",
   "mimetype": "text/x-python",
   "name": "python",
   "nbconvert_exporter": "python",
   "pygments_lexer": "ipython3",
   "version": "3.8.8"
  }
 },
 "nbformat": 4,
 "nbformat_minor": 5
}

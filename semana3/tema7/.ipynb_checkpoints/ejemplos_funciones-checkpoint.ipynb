{
 "cells": [
  {
   "cell_type": "markdown",
   "id": "84a69796",
   "metadata": {},
   "source": [
    "[![Open In Colab](https://colab.research.google.com/assets/colab-badge.svg)](https://colab.research.google.com/github/tigarto/repaso_python/blob/master/repaso_basico.ipynb)"
   ]
  },
  {
   "cell_type": "code",
   "execution_count": null,
   "id": "03d2a58e",
   "metadata": {},
   "outputs": [],
   "source": [
    "!pip install tutormagic\n",
    "%load_ext tutormagic"
   ]
  },
  {
   "cell_type": "markdown",
   "id": "9cdda728",
   "metadata": {},
   "source": [
    "## **Ejemplos**\n",
    "\n",
    "### **Ejemplo 1**\n",
    "Una necesidad frecuente e importante en la vida diaria es conocer el número de combinaciones que se pueden construir con **n** elementos tomados en grupos de a **r**. Por ejemplo, si se tiene un equipo de baloncesto y se dispone de 8 jugadores, se busca determinar cuántas formaciones diferentes se pueden hacer. \n",
    "\n",
    "Matematicamente, la solución está dada por la formula:\n",
    "\n",
    "$C_{r}^{n}=\\begin{pmatrix}n\\\\ r\\end{pmatrix} = \\frac{n!}{r!(n-r)!}$\n",
    "\n",
    "Siendo **n** el total de elementos **y** r el número de elementos a escoger.\n"
   ]
  },
  {
   "cell_type": "markdown",
   "id": "7b3ef8e5",
   "metadata": {},
   "source": [
    "#### **Solución ejemplo uno sin el uso de funciones**"
   ]
  },
  {
   "cell_type": "code",
   "execution_count": null,
   "id": "7c24947d",
   "metadata": {},
   "outputs": [],
   "source": [
    "%%tutor -l python3 -k\n",
    "''' Programa principal '''\n",
    "\n",
    "n = int(input(\"Entre valor de n \"))\n",
    "r = int(input(\"Entre valor de r \"))\n",
    "\n",
    "fn = 1\n",
    "for i in range(1, n + 1):\n",
    "    fn = fn * i\n",
    "    fr = 1\n",
    "\n",
    "for i in range(1, r + 1):\n",
    "    fr = fr * i\n",
    "    fnr = 1\n",
    "\n",
    "for i in range(1, n - r + 1):\n",
    "    fnr = fnr * i\n",
    "    nc = fn // fr // fnr\n",
    "\n",
    "print(\"n =\", n, \" r =\", r)\n",
    "print(\"Factorial de n =\", fn) \n",
    "print(\"Factorial de r =\", fr)\n",
    "print(\"Factorial de n - r =\", fnr)\n",
    "print(\"Número de combinaciones =\", nc)"
   ]
  },
  {
   "cell_type": "markdown",
   "id": "a2ef53a3",
   "metadata": {},
   "source": [
    "#### **Solución ejemplo uno usando funciones**"
   ]
  },
  {
   "cell_type": "code",
   "execution_count": null,
   "id": "9511702e",
   "metadata": {},
   "outputs": [],
   "source": [
    "''' Funciones '''\n",
    "def factorial(n):\n",
    "    f = 1\n",
    "    for i in range (1, n + 1):\n",
    "        f = f * i\n",
    "    return f\n",
    "\n",
    "''' Programa principal '''\n",
    "n = int (input(\"Entre valor de n \"))\n",
    "r = int (input(\"Entre valor de r \"))\n",
    "fn = factorial(n)\n",
    "fr = factorial(r)\n",
    "fnr = factorial(n - r)\n",
    "nc = fn // fr // fnr\n",
    "print(\"n =\", n, \" r =\", r)\n",
    "print(\"Factorial de n =\", fn) \n",
    "print(\"Factorial de r =\", fr)\n",
    "print(\"Factorial de n - r =\", fnr)\n",
    "print(\"Número de combinaciones =\", nc)"
   ]
  }
 ],
 "metadata": {
  "kernelspec": {
   "display_name": "Python 3",
   "language": "python",
   "name": "python3"
  },
  "language_info": {
   "codemirror_mode": {
    "name": "ipython",
    "version": 3
   },
   "file_extension": ".py",
   "mimetype": "text/x-python",
   "name": "python",
   "nbconvert_exporter": "python",
   "pygments_lexer": "ipython3",
   "version": "3.8.8"
  }
 },
 "nbformat": 4,
 "nbformat_minor": 5
}

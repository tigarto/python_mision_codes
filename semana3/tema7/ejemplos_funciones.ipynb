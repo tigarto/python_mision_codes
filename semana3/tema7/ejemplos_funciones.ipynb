{
 "cells": [
  {
   "cell_type": "markdown",
   "id": "398a205a",
   "metadata": {},
   "source": [
    "[![Open In Colab](https://colab.research.google.com/assets/colab-badge.svg)](https://colab.research.google.com/github/tigarto/python_mision_codes/blob/main/semana3/tema7/ejemplos_funciones.ipynb)\n"
   ]
  },
  {
   "cell_type": "code",
   "execution_count": null,
   "id": "786acdb6",
   "metadata": {},
   "outputs": [],
   "source": [
    "!pip install tutormagic\n",
    "%load_ext tutormagic"
   ]
  },
  {
   "cell_type": "markdown",
   "id": "32dd4e3d",
   "metadata": {},
   "source": [
    "## **Ejemplos**\n",
    "\n",
    "### **Ejemplo 1**\n",
    "Una necesidad frecuente e importante en la vida diaria es conocer el número de combinaciones que se pueden construir con **n** elementos tomados en grupos de a **r**. Por ejemplo, si se tiene un equipo de baloncesto y se dispone de 8 jugadores, se busca determinar cuántas formaciones diferentes se pueden hacer. \n",
    "\n",
    "Matematicamente, la solución está dada por la formula:\n",
    "\n",
    "$C_{r}^{n}=\\begin{pmatrix}n\\\\ r\\end{pmatrix} = \\frac{n!}{r!(n-r)!}$\n",
    "\n",
    "Siendo **n** el total de elementos **y** r el número de elementos a escoger.\n"
   ]
  },
  {
   "cell_type": "markdown",
   "id": "063f97b3",
   "metadata": {},
   "source": [
    "#### **Solución ejemplo uno sin el uso de funciones**"
   ]
  },
  {
   "cell_type": "code",
   "execution_count": null,
   "id": "a8a8f73c",
   "metadata": {},
   "outputs": [],
   "source": [
    "%%tutor -l python3 -k\n",
    "''' Programa principal '''\n",
    "\n",
    "n = int(input(\"Entre valor de n \"))\n",
    "r = int(input(\"Entre valor de r \"))\n",
    "\n",
    "fn = 1\n",
    "for i in range(1, n + 1):\n",
    "    fn = fn * i\n",
    "    fr = 1\n",
    "\n",
    "for i in range(1, r + 1):\n",
    "    fr = fr * i\n",
    "    fnr = 1\n",
    "\n",
    "for i in range(1, n - r + 1):\n",
    "    fnr = fnr * i\n",
    "    nc = fn // fr // fnr\n",
    "\n",
    "print(\"n =\", n, \" r =\", r)\n",
    "print(\"Factorial de n =\", fn) \n",
    "print(\"Factorial de r =\", fr)\n",
    "print(\"Factorial de n - r =\", fnr)\n",
    "print(\"Número de combinaciones =\", nc)"
   ]
  },
  {
   "cell_type": "markdown",
   "id": "f78df5c0",
   "metadata": {},
   "source": [
    "#### **Solución ejemplo uno usando funciones**"
   ]
  },
  {
   "cell_type": "code",
   "execution_count": null,
   "id": "3b38c75f",
   "metadata": {},
   "outputs": [],
   "source": [
    "''' Funciones '''\n",
    "def factorial(n):\n",
    "    f = 1\n",
    "    for i in range (1, n + 1):\n",
    "        f = f * i\n",
    "    return f\n",
    "\n",
    "''' Programa principal '''\n",
    "n = int (input(\"Entre valor de n \"))\n",
    "r = int (input(\"Entre valor de r \"))\n",
    "fn = factorial(n)\n",
    "fr = factorial(r)\n",
    "fnr = factorial(n - r)\n",
    "nc = fn // fr // fnr\n",
    "print(\"n =\", n, \" r =\", r)\n",
    "print(\"Factorial de n =\", fn) \n",
    "print(\"Factorial de r =\", fr)\n",
    "print(\"Factorial de n - r =\", fnr)\n",
    "print(\"Número de combinaciones =\", nc)"
   ]
  },
  {
   "cell_type": "markdown",
   "id": "1ed121c7",
   "metadata": {},
   "source": [
    "### **Ejemplo 2**\n",
    "Leer dos enteros y determinar:\n",
    "1. Si alguno de ellos es número primo.\n",
    "2. El máximo común divisor de ellos.\n",
    "3. El mínimo común múltiplo de ellos.\n",
    "4. El dígito con el que comienza cada uno de ellos."
   ]
  },
  {
   "cell_type": "code",
   "execution_count": null,
   "id": "6141545d",
   "metadata": {},
   "outputs": [],
   "source": [
    "import math\n",
    "\n",
    "def esPrimo(n):\n",
    "    if n%2 == 0:\n",
    "        return False\n",
    "    i = 3\n",
    "    while i <= math.sqrt(i):\n",
    "        if n%i == 0:\n",
    "            return False\n",
    "        i = i + 2\n",
    "    return True\n",
    "\n",
    "def comienzaCon (x):\n",
    "    pd = x\n",
    "    while pd > 9:\n",
    "        pd = pd // 10\n",
    "    return pd\n",
    "\n",
    "def mcd(x, y):\n",
    "    res = x%y\n",
    "    while res != 0:\n",
    "        x = y\n",
    "        y = res\n",
    "        res = x%y\n",
    "    return y\n",
    "\n",
    "def mcm(x, y):\n",
    "    return x * y // mcd (x,y)\n",
    "\n",
    "a = int(input(\"Entre valor de a\"))\n",
    "b = int(input(\"Entre valor de b\"))\n",
    "if esPrimo(a):\n",
    "    print(a, \"es primo\")\n",
    "else:\n",
    "    print (a, \"NO es primo\")\n",
    "\n",
    "if esPrimo(b):\n",
    "    print(b, \"es primo\")\n",
    "else:\n",
    "    print (b, \"NO es primo\")\n",
    "\n",
    "mcd = mcd(a,b)\n",
    "print(\"El máximo común divisor de\", a, \" y\", b, \" es\", mcd)\n",
    "mcm = mcm(a,b)\n",
    "print(\"El mínimo común múltiplo de\", a, \" y\", b, \" es\", mcm)\n",
    "da = comienzaCon(a)\n",
    "print(\"El primer dígito de\", a, \" es\")\n",
    "db = comienzaCon(b)\n",
    "print(\"El primer dígito de\", b, \" es\", db)"
   ]
  }
 ],
 "metadata": {
  "kernelspec": {
   "display_name": "Python 3",
   "language": "python",
   "name": "python3"
  },
  "language_info": {
   "codemirror_mode": {
    "name": "ipython",
    "version": 3
   },
   "file_extension": ".py",
   "mimetype": "text/x-python",
   "name": "python",
   "nbconvert_exporter": "python",
   "pygments_lexer": "ipython3",
   "version": "3.8.8"
  }
 },
 "nbformat": 4,
 "nbformat_minor": 5
}

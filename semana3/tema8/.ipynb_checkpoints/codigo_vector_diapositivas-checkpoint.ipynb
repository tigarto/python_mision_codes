{
 "cells": [
  {
   "cell_type": "markdown",
   "metadata": {},
   "source": [
    "Link"
   ]
  },
  {
   "cell_type": "code",
   "execution_count": 1,
   "metadata": {},
   "outputs": [
    {
     "name": "stdout",
     "output_type": "stream",
     "text": [
      "Requirement already satisfied: tutormagic in c:\\users\\usuario\\anaconda3\\lib\\site-packages (0.3.1)\n",
      "Requirement already satisfied: jupyter>=1.0 in c:\\users\\usuario\\anaconda3\\lib\\site-packages (from tutormagic) (1.0.0)\n",
      "Requirement already satisfied: ipywidgets in c:\\users\\usuario\\anaconda3\\lib\\site-packages (from jupyter>=1.0->tutormagic) (7.6.3)\n",
      "Requirement already satisfied: ipykernel in c:\\users\\usuario\\anaconda3\\lib\\site-packages (from jupyter>=1.0->tutormagic) (5.3.4)\n",
      "Requirement already satisfied: notebook in c:\\users\\usuario\\anaconda3\\lib\\site-packages (from jupyter>=1.0->tutormagic) (6.3.0)\n",
      "Requirement already satisfied: jupyter-console in c:\\users\\usuario\\anaconda3\\lib\\site-packages (from jupyter>=1.0->tutormagic) (6.4.0)\n",
      "Requirement already satisfied: qtconsole in c:\\users\\usuario\\anaconda3\\lib\\site-packages (from jupyter>=1.0->tutormagic) (5.0.3)\n",
      "Requirement already satisfied: nbconvert in c:\\users\\usuario\\anaconda3\\lib\\site-packages (from jupyter>=1.0->tutormagic) (6.0.7)\n",
      "Requirement already satisfied: jupyter-client in c:\\users\\usuario\\anaconda3\\lib\\site-packages (from ipykernel->jupyter>=1.0->tutormagic) (6.1.12)\n",
      "Requirement already satisfied: tornado>=4.2 in c:\\users\\usuario\\anaconda3\\lib\\site-packages (from ipykernel->jupyter>=1.0->tutormagic) (6.1)\n",
      "Requirement already satisfied: traitlets>=4.1.0 in c:\\users\\usuario\\anaconda3\\lib\\site-packages (from ipykernel->jupyter>=1.0->tutormagic) (5.0.5)\n",
      "Requirement already satisfied: ipython>=5.0.0 in c:\\users\\usuario\\anaconda3\\lib\\site-packages (from ipykernel->jupyter>=1.0->tutormagic) (7.22.0)\n",
      "Requirement already satisfied: colorama in c:\\users\\usuario\\anaconda3\\lib\\site-packages (from ipython>=5.0.0->ipykernel->jupyter>=1.0->tutormagic) (0.4.4)\n",
      "Requirement already satisfied: decorator in c:\\users\\usuario\\anaconda3\\lib\\site-packages (from ipython>=5.0.0->ipykernel->jupyter>=1.0->tutormagic) (5.0.6)\n",
      "Requirement already satisfied: jedi>=0.16 in c:\\users\\usuario\\anaconda3\\lib\\site-packages (from ipython>=5.0.0->ipykernel->jupyter>=1.0->tutormagic) (0.17.2)\n",
      "Requirement already satisfied: pickleshare in c:\\users\\usuario\\anaconda3\\lib\\site-packages (from ipython>=5.0.0->ipykernel->jupyter>=1.0->tutormagic) (0.7.5)\n",
      "Requirement already satisfied: pygments in c:\\users\\usuario\\anaconda3\\lib\\site-packages (from ipython>=5.0.0->ipykernel->jupyter>=1.0->tutormagic) (2.8.1)\n",
      "Requirement already satisfied: backcall in c:\\users\\usuario\\anaconda3\\lib\\site-packages (from ipython>=5.0.0->ipykernel->jupyter>=1.0->tutormagic) (0.2.0)\n",
      "Requirement already satisfied: setuptools>=18.5 in c:\\users\\usuario\\anaconda3\\lib\\site-packages (from ipython>=5.0.0->ipykernel->jupyter>=1.0->tutormagic) (52.0.0.post20210125)\n",
      "Requirement already satisfied: prompt-toolkit!=3.0.0,!=3.0.1,<3.1.0,>=2.0.0 in c:\\users\\usuario\\anaconda3\\lib\\site-packages (from ipython>=5.0.0->ipykernel->jupyter>=1.0->tutormagic) (3.0.17)\n",
      "Requirement already satisfied: parso<0.8.0,>=0.7.0 in c:\\users\\usuario\\anaconda3\\lib\\site-packages (from jedi>=0.16->ipython>=5.0.0->ipykernel->jupyter>=1.0->tutormagic) (0.7.0)\n",
      "Requirement already satisfied: wcwidth in c:\\users\\usuario\\anaconda3\\lib\\site-packages (from prompt-toolkit!=3.0.0,!=3.0.1,<3.1.0,>=2.0.0->ipython>=5.0.0->ipykernel->jupyter>=1.0->tutormagic) (0.2.5)\n",
      "Requirement already satisfied: ipython-genutils in c:\\users\\usuario\\anaconda3\\lib\\site-packages (from traitlets>=4.1.0->ipykernel->jupyter>=1.0->tutormagic) (0.2.0)\n",
      "Requirement already satisfied: jupyterlab-widgets>=1.0.0 in c:\\users\\usuario\\anaconda3\\lib\\site-packages (from ipywidgets->jupyter>=1.0->tutormagic) (1.0.0)\n",
      "Requirement already satisfied: nbformat>=4.2.0 in c:\\users\\usuario\\anaconda3\\lib\\site-packages (from ipywidgets->jupyter>=1.0->tutormagic) (5.1.3)\n",
      "Requirement already satisfied: widgetsnbextension~=3.5.0 in c:\\users\\usuario\\anaconda3\\lib\\site-packages (from ipywidgets->jupyter>=1.0->tutormagic) (3.5.1)\n",
      "Requirement already satisfied: jupyter-core in c:\\users\\usuario\\anaconda3\\lib\\site-packages (from nbformat>=4.2.0->ipywidgets->jupyter>=1.0->tutormagic) (4.7.1)\n",
      "Requirement already satisfied: jsonschema!=2.5.0,>=2.4 in c:\\users\\usuario\\anaconda3\\lib\\site-packages (from nbformat>=4.2.0->ipywidgets->jupyter>=1.0->tutormagic) (3.2.0)\n",
      "Requirement already satisfied: six>=1.11.0 in c:\\users\\usuario\\anaconda3\\lib\\site-packages (from jsonschema!=2.5.0,>=2.4->nbformat>=4.2.0->ipywidgets->jupyter>=1.0->tutormagic) (1.15.0)\n",
      "Requirement already satisfied: attrs>=17.4.0 in c:\\users\\usuario\\anaconda3\\lib\\site-packages (from jsonschema!=2.5.0,>=2.4->nbformat>=4.2.0->ipywidgets->jupyter>=1.0->tutormagic) (20.3.0)\n",
      "Requirement already satisfied: pyrsistent>=0.14.0 in c:\\users\\usuario\\anaconda3\\lib\\site-packages (from jsonschema!=2.5.0,>=2.4->nbformat>=4.2.0->ipywidgets->jupyter>=1.0->tutormagic) (0.17.3)\n",
      "Requirement already satisfied: jinja2 in c:\\users\\usuario\\anaconda3\\lib\\site-packages (from notebook->jupyter>=1.0->tutormagic) (2.11.3)\n",
      "Requirement already satisfied: terminado>=0.8.3 in c:\\users\\usuario\\anaconda3\\lib\\site-packages (from notebook->jupyter>=1.0->tutormagic) (0.9.4)\n",
      "Requirement already satisfied: pyzmq>=17 in c:\\users\\usuario\\anaconda3\\lib\\site-packages (from notebook->jupyter>=1.0->tutormagic) (20.0.0)\n",
      "Requirement already satisfied: Send2Trash>=1.5.0 in c:\\users\\usuario\\anaconda3\\lib\\site-packages (from notebook->jupyter>=1.0->tutormagic) (1.5.0)\n",
      "Requirement already satisfied: prometheus-client in c:\\users\\usuario\\anaconda3\\lib\\site-packages (from notebook->jupyter>=1.0->tutormagic) (0.10.1)\n",
      "Requirement already satisfied: argon2-cffi in c:\\users\\usuario\\anaconda3\\lib\\site-packages (from notebook->jupyter>=1.0->tutormagic) (20.1.0)\n",
      "Requirement already satisfied: python-dateutil>=2.1 in c:\\users\\usuario\\anaconda3\\lib\\site-packages (from jupyter-client->ipykernel->jupyter>=1.0->tutormagic) (2.8.1)\n",
      "Requirement already satisfied: pywin32>=1.0 in c:\\users\\usuario\\anaconda3\\lib\\site-packages (from jupyter-core->nbformat>=4.2.0->ipywidgets->jupyter>=1.0->tutormagic) (227)\n",
      "Requirement already satisfied: pywinpty>=0.5 in c:\\users\\usuario\\anaconda3\\lib\\site-packages (from terminado>=0.8.3->notebook->jupyter>=1.0->tutormagic) (0.5.7)\n",
      "Requirement already satisfied: cffi>=1.0.0 in c:\\users\\usuario\\anaconda3\\lib\\site-packages (from argon2-cffi->notebook->jupyter>=1.0->tutormagic) (1.14.5)\n",
      "Requirement already satisfied: pycparser in c:\\users\\usuario\\anaconda3\\lib\\site-packages (from cffi>=1.0.0->argon2-cffi->notebook->jupyter>=1.0->tutormagic) (2.20)\n",
      "Requirement already satisfied: MarkupSafe>=0.23 in c:\\users\\usuario\\anaconda3\\lib\\site-packages (from jinja2->notebook->jupyter>=1.0->tutormagic) (1.1.1)\n",
      "Requirement already satisfied: bleach in c:\\users\\usuario\\anaconda3\\lib\\site-packages (from nbconvert->jupyter>=1.0->tutormagic) (3.3.0)\n",
      "Requirement already satisfied: jupyterlab-pygments in c:\\users\\usuario\\anaconda3\\lib\\site-packages (from nbconvert->jupyter>=1.0->tutormagic) (0.1.2)\n",
      "Requirement already satisfied: pandocfilters>=1.4.1 in c:\\users\\usuario\\anaconda3\\lib\\site-packages (from nbconvert->jupyter>=1.0->tutormagic) (1.4.3)\n",
      "Requirement already satisfied: entrypoints>=0.2.2 in c:\\users\\usuario\\anaconda3\\lib\\site-packages (from nbconvert->jupyter>=1.0->tutormagic) (0.3)\n",
      "Requirement already satisfied: testpath in c:\\users\\usuario\\anaconda3\\lib\\site-packages (from nbconvert->jupyter>=1.0->tutormagic) (0.4.4)\n",
      "Requirement already satisfied: nbclient<0.6.0,>=0.5.0 in c:\\users\\usuario\\anaconda3\\lib\\site-packages (from nbconvert->jupyter>=1.0->tutormagic) (0.5.3)\n",
      "Requirement already satisfied: mistune<2,>=0.8.1 in c:\\users\\usuario\\anaconda3\\lib\\site-packages (from nbconvert->jupyter>=1.0->tutormagic) (0.8.4)\n",
      "Requirement already satisfied: defusedxml in c:\\users\\usuario\\anaconda3\\lib\\site-packages (from nbconvert->jupyter>=1.0->tutormagic) (0.7.1)\n",
      "Requirement already satisfied: async-generator in c:\\users\\usuario\\anaconda3\\lib\\site-packages (from nbclient<0.6.0,>=0.5.0->nbconvert->jupyter>=1.0->tutormagic) (1.10)\n",
      "Requirement already satisfied: nest-asyncio in c:\\users\\usuario\\anaconda3\\lib\\site-packages (from nbclient<0.6.0,>=0.5.0->nbconvert->jupyter>=1.0->tutormagic) (1.5.1)\n",
      "Requirement already satisfied: packaging in c:\\users\\usuario\\anaconda3\\lib\\site-packages (from bleach->nbconvert->jupyter>=1.0->tutormagic) (20.9)\n",
      "Requirement already satisfied: webencodings in c:\\users\\usuario\\anaconda3\\lib\\site-packages (from bleach->nbconvert->jupyter>=1.0->tutormagic) (0.5.1)\n",
      "Requirement already satisfied: pyparsing>=2.0.2 in c:\\users\\usuario\\anaconda3\\lib\\site-packages (from packaging->bleach->nbconvert->jupyter>=1.0->tutormagic) (2.4.7)\n",
      "Requirement already satisfied: qtpy in c:\\users\\usuario\\anaconda3\\lib\\site-packages (from qtconsole->jupyter>=1.0->tutormagic) (1.9.0)\n"
     ]
    }
   ],
   "source": [
    "!pip install tutormagic\n",
    "%load_ext tutormagic"
   ]
  },
  {
   "cell_type": "code",
   "execution_count": 11,
   "metadata": {},
   "outputs": [
    {
     "name": "stderr",
     "output_type": "stream",
     "text": [
      "C:\\Users\\Usuario\\anaconda3\\lib\\site-packages\\ipykernel\\ipkernel.py:287: DeprecationWarning: `should_run_async` will not call `transform_cell` automatically in the future. Please pass the result to `transformed_cell` argument and any exception that happen during thetransform in `preprocessing_exc_tuple` in IPython 7.17 and above.\n",
      "  and should_run_async(code)\n"
     ]
    }
   ],
   "source": [
    "from IPython.lib.display import YouTubeVideo"
   ]
  },
  {
   "cell_type": "markdown",
   "metadata": {
    "id": "NfkXwlWt3gJm"
   },
   "source": [
    "# **Ejemplo vector**\n",
    "\n"
   ]
  },
  {
   "cell_type": "markdown",
   "metadata": {
    "id": "z5a3fjKqOYXn"
   },
   "source": [
    "El codigo aca tomado es el de la semana 3, unidad 2."
   ]
  },
  {
   "cell_type": "markdown",
   "metadata": {},
   "source": [
    "### **Ejemplo 1 - Código de cada municipio**\n",
    "\n",
    "Un cliente le pide calcular el total de personas en los municipios de Medellin, Bello y Envigado. Los codigos de cada ciudad son:\n",
    "1. Medellín\n",
    "2. Bello\n",
    "3. Envigado\n",
    "\n",
    "Listado de planillas, cada una con la siguiente información:\n",
    "* Municipio\n",
    "* Vivienda\n",
    "* Número de personas\n",
    "\n"
   ]
  },
  {
   "cell_type": "markdown",
   "metadata": {},
   "source": [
    "#### **Solucion sin emplear arreglos**\n",
    "A continuación se muestra la solución empleando arreglos:"
   ]
  },
  {
   "cell_type": "code",
   "execution_count": 7,
   "metadata": {},
   "outputs": [
    {
     "name": "stderr",
     "output_type": "stream",
     "text": [
      "C:\\Users\\Usuario\\anaconda3\\lib\\site-packages\\ipykernel\\ipkernel.py:287: DeprecationWarning: `should_run_async` will not call `transform_cell` automatically in the future. Please pass the result to `transformed_cell` argument and any exception that happen during thetransform in `preprocessing_exc_tuple` in IPython 7.17 and above.\n",
      "  and should_run_async(code)\n"
     ]
    },
    {
     "data": {
      "text/html": [
       "<div class=\"text-center\"><strong><a style=\"box-sizing: border-box; padding: 0 5px; border: 1px solid #CFCFCF;\" target=\"_\" href=http://pythontutor.com/iframe-embed.html#code=tpMed%20%3D%200%0AtpBello%20%3D%200%0AtpEnvi%20%3D%200%0A%0Aprint%28%22------------------%20Sistema%20de%20censo%20------------------%22%29%0Aprint%28%22Opciones%3A%20%22%29%0Aprint%28%221.%20Medellin.%22%29%0Aprint%28%222.%20Bello.%22%29%0Aprint%28%223.%20Envigado.%22%29%0Aprint%28%224.%20Salir.%22%29%0Ampio%20%3D%20int%28input%28%22Digite%20el%20c%C3%B3digo%20del%20municipio%20o%204%20para%20terminar%3A%20%22%29%29%0Awhile%28mpio%20%21%3D%204%29%3A%0A%20%20%20%20if%20mpio%20%3D%3D%201%3A%0A%20%20%20%20%20%20%20%20np%20%3D%20int%28input%28%22Digite%20el%20numero%20de%20habitantes%20de%20la%20residencia%3A%20%22%29%29%0A%20%20%20%20%20%20%20%20tpMede%20%3D%20tpMed%20%2B%20np%0A%20%20%20%20elif%20mpio%20%3D%3D%202%3A%0A%20%20%20%20%20%20%20%20np%20%3D%20int%28input%28%22Digite%20el%20numero%20de%20habitantes%20de%20la%20residencia%3A%20%22%29%29%0A%20%20%20%20%20%20%20%20tpBello%20%3D%20tpBello%20%2B%20np%20%20%20%20%20%20%20%20%0A%20%20%20%20elif%20mpio%20%3D%3D%203%3A%20%0A%20%20%20%20%20%20%20%20np%20%3D%20int%28input%28%22Digite%20el%20numero%20de%20habitantes%20de%20la%20residencia%3A%20%22%29%29%0A%20%20%20%20%20%20%20%20tpEnvi%20%3D%20tpEnvi%20%2B%20np%0A%20%20%20%20else%3A%20%0A%20%20%20%20%20%20%20%20print%28%22ERROR%3A%20c%C3%B3digo%20errado%22%29%0A%20%20%20%20print%28%29%0A%20%20%20%20print%28%22------------------%20Sistema%20de%20censo%20------------------%22%29%0A%20%20%20%20print%28%22Opciones%3A%20%22%29%0A%20%20%20%20print%28%221.%20Medellin.%22%29%0A%20%20%20%20print%28%222.%20Bello.%22%29%0A%20%20%20%20print%28%223.%20Envigado.%22%29%0A%20%20%20%20print%28%224.%20Salir.%22%29%0A%20%20%20%20mpio%20%3D%20int%28input%28%22Digite%20el%20c%C3%B3digo%20del%20municipio%20o%204%20para%20terminar%3A%20%22%29%29%0A%20%20%20%20print%28%29%0Aprint%28%22Fin%20de%20los%20calculos%2C%20procediendo%20a%20sacar%20los%20totales%22%29%0Aprint%28%22-%20Total%20habitantes%20de%20Medellin%3A%22%2C%20tpMed%29%0Aprint%28%22-%20Total%20habitantes%20de%20Bello%3A%22%2C%20tpBello%29%0Aprint%28%22-%20Total%20habitantes%20de%20Envigado%3A%22%2C%20tpEnvi%29%0A&origin=opt-frontend.js&cumulative=false&heapPrimitives=false&textReferences=false&curInstr=0&&verticalStack=false&py=3&rawInputLstJSON=%5B%5D&codeDivWidth=50%25&codeDivHeight=100%25>Python Tutor</a></strong></div>"
      ],
      "text/plain": [
       "<IPython.core.display.HTML object>"
      ]
     },
     "metadata": {},
     "output_type": "display_data"
    }
   ],
   "source": [
    "%%tutor -l python3 -k\n",
    "tpMed = 0\n",
    "tpBello = 0\n",
    "tpEnvi = 0\n",
    "\n",
    "print(\"------------------ Sistema de censo ------------------\")\n",
    "print(\"Opciones: \")\n",
    "print(\"1. Medellin.\")\n",
    "print(\"2. Bello.\")\n",
    "print(\"3. Envigado.\")\n",
    "print(\"4. Salir.\")\n",
    "mpio = int(input(\"Digite el código del municipio o 4 para terminar: \"))\n",
    "while(mpio != 4):\n",
    "    if mpio == 1:\n",
    "        np = int(input(\"Digite el numero de habitantes de la residencia: \"))\n",
    "        tpMede = tpMed + np\n",
    "    elif mpio == 2:\n",
    "        np = int(input(\"Digite el numero de habitantes de la residencia: \"))\n",
    "        tpBello = tpBello + np        \n",
    "    elif mpio == 3: \n",
    "        np = int(input(\"Digite el numero de habitantes de la residencia: \"))\n",
    "        tpEnvi = tpEnvi + np\n",
    "    else: \n",
    "        print(\"ERROR: código errado\")\n",
    "    print()\n",
    "    print(\"------------------ Sistema de censo ------------------\")\n",
    "    print(\"Opciones: \")\n",
    "    print(\"1. Medellin.\")\n",
    "    print(\"2. Bello.\")\n",
    "    print(\"3. Envigado.\")\n",
    "    print(\"4. Salir.\")\n",
    "    mpio = int(input(\"Digite el código del municipio o 4 para terminar: \"))\n",
    "    print()\n",
    "print(\"Fin de los calculos, procediendo a sacar los totales\")\n",
    "print(\"- Total habitantes de Medellin:\", tpMed)\n",
    "print(\"- Total habitantes de Bello:\", tpBello)\n",
    "print(\"- Total habitantes de Envigado:\", tpEnvi)\n"
   ]
  },
  {
   "cell_type": "code",
   "execution_count": 9,
   "metadata": {},
   "outputs": [
    {
     "name": "stderr",
     "output_type": "stream",
     "text": [
      "C:\\Users\\Usuario\\anaconda3\\lib\\site-packages\\ipykernel\\ipkernel.py:287: DeprecationWarning: `should_run_async` will not call `transform_cell` automatically in the future. Please pass the result to `transformed_cell` argument and any exception that happen during thetransform in `preprocessing_exc_tuple` in IPython 7.17 and above.\n",
      "  and should_run_async(code)\n"
     ]
    },
    {
     "data": {
      "text/html": [
       "<div class=\"text-center\"><strong><a style=\"box-sizing: border-box; padding: 0 5px; border: 1px solid #CFCFCF;\" target=\"_\" href=http://pythontutor.com/iframe-embed.html#code=%0ATOTAL_MUNICIPIOS%20%3D%203%0AtpMpio%20%3D%20%5B0%2C%200%2C%200%5D%0AnombreMpio%20%3D%20%5B%22Medellin%22%2C%20%22Bello%22%2C%20%22Envigado%22%5D%0A%0Aprint%28%22------------------%20Sistema%20de%20censo%20------------------%22%29%0Aprint%28%22Opciones%3A%20%22%29%0Afor%20i%20in%20range%28len%28TOTAL_MUNICIPIOS%29%29%3A%0A%20%20%20%20print%28str%28i%20%2B%201%29%20%2B%20%22.%20%22%20%2B%20nombreMpio%5Bi%5D%29%0Aprint%28str%28i%20%2B%201%29%20%2B%20%22.%20Salir.%22%29%0Ampio%20%3D%20int%28input%28%22Digite%20el%20c%C3%B3digo%20del%20municipio%20o%20%22%20%2B%20str%28TOTAL_MUNICIPIOS%20%2B%201%29%20%2B%20%22para%20terminar%3A%20%22%29%29%0Awhile%28mpio%20%21%3D%20TOTAL_MUNICIPIOS%20%2B%201%29%3A%20%20%20%20%0A%20%20%20%20if%20mpio%20%3C%3D%20TOTAL_MUNICIPIOS%3A%0A%20%20%20%20%20%20%20%20np%20%3D%20int%28input%28%22Digite%20el%20numero%20de%20habitantes%20de%20la%20residencia%3A%20%22%29%29%0A%20%20%20%20%20%20%20%20tpMpio%5Bmpio%20-%201%5D%20%3D%20tpMpio%5Bmpio%20-%201%5D%20%2B%201%20%0A%20%20%20%20else%3A%20%0A%20%20%20%20%20%20%20%20print%28%22ERROR%3A%20c%C3%B3digo%20errado%22%29%0A%20%20%20%20print%28%29%0A%20%20%20%20print%28%22------------------%20Sistema%20de%20censo%20------------------%22%29%0A%20%20%20%20print%28%22Opciones%3A%20%22%29%0A%20%20%20%20for%20i%20in%20range%28len%28TOTAL_MUNICIPIOS%29%29%3A%0A%20%20%20%20%20%20%20%20print%28str%28i%20%2B%201%29%20%2B%20%22.%20%22%20%2B%20nombreMpio%5Bi%5D%29%0A%20%20%20%20print%28str%28i%20%2B%201%29%20%2B%20%22.%20Salir.%22%29%0A%20%20%20%20mpio%20%3D%20int%28input%28%22Digite%20el%20c%C3%B3digo%20del%20municipio%20o%20%22%20%2B%20str%28TOTAL_MUNICIPIOS%20%2B%201%29%20%2B%20%22para%20terminar%3A%20%22%29%29%0A%20%20%20%20print%28%29%0Aprint%28%22Fin%20de%20los%20calculos%2C%20procediendo%20a%20sacar%20los%20totales%22%29%0Afor%20i%20in%20range%28TOTAL_MUNICIPIOS%29%3A%0A%20%20%20%20print%28%22-%20Total%20habitantes%20de%20%22%20%2B%20nombreMpio%5Bi%5D%20%2B%20%22%3A%22%20%2B%20str%28tpMpio%5Bi%5D%29%29%0A&origin=opt-frontend.js&cumulative=false&heapPrimitives=false&textReferences=false&curInstr=0&&verticalStack=false&py=3&rawInputLstJSON=%5B%5D&codeDivWidth=50%25&codeDivHeight=100%25>Python Tutor</a></strong></div>"
      ],
      "text/plain": [
       "<IPython.core.display.HTML object>"
      ]
     },
     "metadata": {},
     "output_type": "display_data"
    }
   ],
   "source": [
    "%%tutor -l python3 -k\n",
    "\n",
    "TOTAL_MUNICIPIOS = 3\n",
    "tpMpio = [0, 0, 0]\n",
    "nombreMpio = [\"Medellin\", \"Bello\", \"Envigado\"]\n",
    "\n",
    "print(\"------------------ Sistema de censo ------------------\")\n",
    "print(\"Opciones: \")\n",
    "for i in range(len(TOTAL_MUNICIPIOS)):\n",
    "    print(str(i + 1) + \". \" + nombreMpio[i])\n",
    "print(str(i + 1) + \". Salir.\")\n",
    "mpio = int(input(\"Digite el código del municipio o \" + str(TOTAL_MUNICIPIOS + 1) + \"para terminar: \"))\n",
    "while(mpio != TOTAL_MUNICIPIOS + 1):    \n",
    "    if mpio <= TOTAL_MUNICIPIOS:\n",
    "        np = int(input(\"Digite el numero de habitantes de la residencia: \"))\n",
    "        tpMpio[mpio - 1] = tpMpio[mpio - 1] + 1 \n",
    "    else: \n",
    "        print(\"ERROR: código errado\")\n",
    "    print()\n",
    "    print(\"------------------ Sistema de censo ------------------\")\n",
    "    print(\"Opciones: \")\n",
    "    for i in range(len(TOTAL_MUNICIPIOS)):\n",
    "        print(str(i + 1) + \". \" + nombreMpio[i])\n",
    "    print(str(i + 1) + \". Salir.\")\n",
    "    mpio = int(input(\"Digite el código del municipio o \" + str(TOTAL_MUNICIPIOS + 1) + \"para terminar: \"))\n",
    "    print()\n",
    "print(\"Fin de los calculos, procediendo a sacar los totales\")\n",
    "for i in range(TOTAL_MUNICIPIOS):\n",
    "    print(\"- Total habitantes de \" + nombreMpio[i] + \":\" + str(tpMpio[i]))\n"
   ]
  },
  {
   "cell_type": "markdown",
   "metadata": {},
   "source": [
    "## **Metodos de ordenamiento**"
   ]
  },
  {
   "cell_type": "markdown",
   "metadata": {},
   "source": [
    "### **Metodo de seleccion**"
   ]
  },
  {
   "cell_type": "code",
   "execution_count": 12,
   "metadata": {},
   "outputs": [
    {
     "name": "stderr",
     "output_type": "stream",
     "text": [
      "C:\\Users\\Usuario\\anaconda3\\lib\\site-packages\\ipykernel\\ipkernel.py:287: DeprecationWarning: `should_run_async` will not call `transform_cell` automatically in the future. Please pass the result to `transformed_cell` argument and any exception that happen during thetransform in `preprocessing_exc_tuple` in IPython 7.17 and above.\n",
      "  and should_run_async(code)\n"
     ]
    },
    {
     "data": {
      "image/jpeg": "[encoded data removed]",
      "text/html": [
       "\n",
       "        <iframe\n",
       "            width=\"400\"\n",
       "            height=\"300\"\n",
       "            src=\"https://www.youtube.com/embed/Ns4TPTC8whw\"\n",
       "            frameborder=\"0\"\n",
       "            allowfullscreen\n",
       "        ></iframe>\n",
       "        "
      ],
      "text/plain": [
       "<IPython.lib.display.YouTubeVideo at 0x1cc621fe8e0>"
      ]
     },
     "execution_count": 12,
     "metadata": {},
     "output_type": "execute_result"
    }
   ],
   "source": [
    "YouTubeVideo('Ns4TPTC8whw')"
   ]
  },
  {
   "cell_type": "markdown",
   "metadata": {},
   "source": [
    "#### **Ordenacion en listas de python**\n",
    "A continuación se muestra la ordenación de una lista de python:"
   ]
  },
  {
   "cell_type": "code",
   "execution_count": 19,
   "metadata": {},
   "outputs": [
    {
     "name": "stdout",
     "output_type": "stream",
     "text": [
      "[3, 0, 1, 8, 7, 2, 5, 4, 9, 6]\n",
      "[0, 1, 2, 3, 4, 5, 6, 7, 8, 9]\n"
     ]
    },
    {
     "name": "stderr",
     "output_type": "stream",
     "text": [
      "C:\\Users\\Usuario\\anaconda3\\lib\\site-packages\\ipykernel\\ipkernel.py:287: DeprecationWarning: `should_run_async` will not call `transform_cell` automatically in the future. Please pass the result to `transformed_cell` argument and any exception that happen during thetransform in `preprocessing_exc_tuple` in IPython 7.17 and above.\n",
      "  and should_run_async(code)\n"
     ]
    }
   ],
   "source": [
    "%%tutor -l python3 -k\n",
    "def ordenacionSeleccion(L):\n",
    "    for i in range(len(L)):\n",
    "        for j in range(i + 1, len(L)):\n",
    "            if(L[i] >= L[j]):\n",
    "                aux = L[j]\n",
    "                L[j] = L[i]\n",
    "                L[i] = aux\n",
    "                \n",
    "L = [3, 0, 1, 8, 7, 2, 5, 4, 9, 6]\n",
    "print(L)\n",
    "ordenacionSeleccion(L)\n",
    "print(L)"
   ]
  },
  {
   "cell_type": "markdown",
   "metadata": {},
   "source": [
    "#### **Ordenación por selección en el vector cuya forma es la expuesta en el curso**\n",
    "\n",
    "El elemento 6 de esta convención a estar asociado al tamaño del vector. Asi:\n",
    "\n",
    "![vector](vector_convencion.jpg)\n",
    "\n",
    "La siguiente tabla muestra la diferencia entre una lista en python (tipo de dato) y la convención del vector que se manejará para el curso:\n",
    "\n",
    "|Item|Lista (L)| Vector (V)|\n",
    "|---|---|---|\n",
    "|Tamaño|n+1|n| \n",
    "|indice (i)|0 <= i < n |0 = tamaño de V; 1 <= i <= n|\n",
    "\n",
    "Vemos que basicamente un vector es una lista con un elemento mas, siendo el elemento 0 el tamaño del vector y el resto, los elementos del vector. Por ello, en esta convención el subindice va desde 1 y no desde 0 como es en el caso de python. Por ello en la representación empleando la forma vector del curso hay un elemento de mas que si la representación fuera hecha al estilo lista.\n",
    "\n",
    "La comparación entre la lista y el vector seria la siguiente.\n",
    "\n",
    "**Ejemplo**: Representar el siguiente vector empleando las formas tipo **lista** y tipo **vector (definido para el curso)**.\n",
    "\n",
    "![vector_ejemplo](vector_ejemplo.jpg)\n",
    "\n",
    "**Solución**:\n",
    "1. Representación como lista:\n",
    "\n",
    "```python\n",
    "A = [3, 0, 1, 8, 7, 2, 5, 4, 9, 6]\n",
    "```\n",
    "\n",
    "2. Representación como vector:\n",
    "\n",
    "```python\n",
    "A = [10, 3, 0, 1, 8, 7, 2, 5, 4, 9, 6]   \n",
    "```\n",
    "Donde el primer elemento hace alución al tamaño.\n",
    "\n",
    "Ahora si veamos el metodo de ordenación para el vector en cuestion:"
   ]
  },
  {
   "cell_type": "code",
   "execution_count": 22,
   "metadata": {},
   "outputs": [
    {
     "name": "stderr",
     "output_type": "stream",
     "text": [
      "C:\\Users\\Usuario\\anaconda3\\lib\\site-packages\\ipykernel\\ipkernel.py:287: DeprecationWarning: `should_run_async` will not call `transform_cell` automatically in the future. Please pass the result to `transformed_cell` argument and any exception that happen during thetransform in `preprocessing_exc_tuple` in IPython 7.17 and above.\n",
      "  and should_run_async(code)\n"
     ]
    },
    {
     "data": {
      "text/html": [
       "<div class=\"text-center\"><strong><a style=\"box-sizing: border-box; padding: 0 5px; border: 1px solid #CFCFCF;\" target=\"_\" href=http://pythontutor.com/iframe-embed.html#code=def%20ordenacionSeleccion%28V%29%3A%0A%20%20%20%20tam%20%3D%20V%5B0%5D%0A%20%20%20%20for%20i%20in%20range%281%2Ctam%20%2B%201%29%3A%0A%20%20%20%20%20%20%20%20for%20j%20in%20range%28i%20%2B%201%2C%20tam%20%2B%201%29%3A%0A%20%20%20%20%20%20%20%20%20%20%20%20if%28V%5Bi%5D%20%3E%3D%20V%5Bj%5D%29%3A%0A%20%20%20%20%20%20%20%20%20%20%20%20%20%20%20%20aux%20%3D%20V%5Bj%5D%0A%20%20%20%20%20%20%20%20%20%20%20%20%20%20%20%20V%5Bj%5D%20%3D%20V%5Bi%5D%0A%20%20%20%20%20%20%20%20%20%20%20%20%20%20%20%20V%5Bi%5D%20%3D%20aux%0A%20%20%20%20%20%20%20%20%20%20%20%20%20%20%20%20%0AV%20%3D%20%5B10%2C%203%2C%200%2C%201%2C%208%2C%207%2C%202%2C%205%2C%204%2C%209%2C%206%5D%0Aprint%28V%29%0AordenacionSeleccion%28V%29%0Aprint%28V%29%0A&origin=opt-frontend.js&cumulative=false&heapPrimitives=false&textReferences=false&curInstr=0&&verticalStack=false&py=3&rawInputLstJSON=%5B%5D&codeDivWidth=50%25&codeDivHeight=100%25>Python Tutor</a></strong></div>"
      ],
      "text/plain": [
       "<IPython.core.display.HTML object>"
      ]
     },
     "metadata": {},
     "output_type": "display_data"
    }
   ],
   "source": [
    "%%tutor -l python3 -k\n",
    "def ordenacionSeleccion(V):\n",
    "    tam = V[0]\n",
    "    for i in range(1,tam + 1):\n",
    "        for j in range(i + 1, tam + 1):\n",
    "            if(V[i] >= V[j]):\n",
    "                aux = V[j]\n",
    "                V[j] = V[i]\n",
    "                V[i] = aux\n",
    "                \n",
    "V = [10, 3, 0, 1, 8, 7, 2, 5, 4, 9, 6]\n",
    "print(V)\n",
    "ordenacionSeleccion(V)\n",
    "print(V)"
   ]
  },
  {
   "cell_type": "markdown",
   "metadata": {},
   "source": [
    "### **Metodo de ordenación por burbuja**"
   ]
  },
  {
   "cell_type": "code",
   "execution_count": 23,
   "metadata": {},
   "outputs": [
    {
     "name": "stderr",
     "output_type": "stream",
     "text": [
      "C:\\Users\\Usuario\\anaconda3\\lib\\site-packages\\ipykernel\\ipkernel.py:287: DeprecationWarning: `should_run_async` will not call `transform_cell` automatically in the future. Please pass the result to `transformed_cell` argument and any exception that happen during thetransform in `preprocessing_exc_tuple` in IPython 7.17 and above.\n",
      "  and should_run_async(code)\n"
     ]
    },
    {
     "data": {
      "image/jpeg": "[encoded data removed]",
      "text/html": [
       "\n",
       "        <iframe\n",
       "            width=\"400\"\n",
       "            height=\"300\"\n",
       "            src=\"https://www.youtube.com/embed/lyZQPjUT5B4\"\n",
       "            frameborder=\"0\"\n",
       "            allowfullscreen\n",
       "        ></iframe>\n",
       "        "
      ],
      "text/plain": [
       "<IPython.lib.display.YouTubeVideo at 0x1cc649cb5e0>"
      ]
     },
     "execution_count": 23,
     "metadata": {},
     "output_type": "execute_result"
    }
   ],
   "source": [
    "YouTubeVideo('lyZQPjUT5B4')"
   ]
  },
  {
   "cell_type": "markdown",
   "metadata": {},
   "source": [
    "#### **Metodo de ordenación por burbuja en listas**"
   ]
  },
  {
   "cell_type": "code",
   "execution_count": 29,
   "metadata": {},
   "outputs": [
    {
     "name": "stdout",
     "output_type": "stream",
     "text": [
      "[3, 0, 1, 8, 7, 2, 5, 4, 9, 6]\n",
      "[0, 1, 2, 3, 4, 5, 6, 7, 8, 9]\n"
     ]
    },
    {
     "name": "stderr",
     "output_type": "stream",
     "text": [
      "C:\\Users\\Usuario\\anaconda3\\lib\\site-packages\\ipykernel\\ipkernel.py:287: DeprecationWarning: `should_run_async` will not call `transform_cell` automatically in the future. Please pass the result to `transformed_cell` argument and any exception that happen during thetransform in `preprocessing_exc_tuple` in IPython 7.17 and above.\n",
      "  and should_run_async(code)\n"
     ]
    }
   ],
   "source": [
    "%%tutor -l python3 -k\n",
    "def ordenacionBurbuja(L):\n",
    "    for i in range(len(L)):\n",
    "        for j in range(len(L)-1):\n",
    "            if(L[j] >= L[j+1]):\n",
    "                aux = L[j + 1]\n",
    "                L[j + 1] = L[j]\n",
    "                L[j] = aux\n",
    "                \n",
    "L = [3, 0, 1, 8, 7, 2, 5, 4, 9, 6]\n",
    "print(L)\n",
    "ordenacionBurbuja(L)\n",
    "print(L)"
   ]
  },
  {
   "cell_type": "markdown",
   "metadata": {},
   "source": [
    "#### **Metodo de ordenación por burbuja en la forma vector (dada en el curso)**"
   ]
  },
  {
   "cell_type": "code",
   "execution_count": 30,
   "metadata": {},
   "outputs": [
    {
     "name": "stdout",
     "output_type": "stream",
     "text": [
      "[10, 3, 0, 1, 8, 7, 2, 5, 4, 9, 6]\n",
      "[10, 0, 1, 2, 3, 4, 5, 6, 7, 8, 9]\n"
     ]
    },
    {
     "name": "stderr",
     "output_type": "stream",
     "text": [
      "C:\\Users\\Usuario\\anaconda3\\lib\\site-packages\\ipykernel\\ipkernel.py:287: DeprecationWarning: `should_run_async` will not call `transform_cell` automatically in the future. Please pass the result to `transformed_cell` argument and any exception that happen during thetransform in `preprocessing_exc_tuple` in IPython 7.17 and above.\n",
      "  and should_run_async(code)\n"
     ]
    }
   ],
   "source": [
    "%%tutor -l python3 -k\n",
    "def ordenacionBurbuja(V):\n",
    "    tam = V[0]\n",
    "    for i in range(1, tam + 1):\n",
    "        for j in range(1, tam):\n",
    "            if(V[j] >= V[j+1]):\n",
    "                aux = V[j + 1]\n",
    "                V[j + 1] = V[j]\n",
    "                V[j] = aux\n",
    "                \n",
    "V = [10, 3, 0, 1, 8, 7, 2, 5, 4, 9, 6]\n",
    "print(V)\n",
    "ordenacionBurbuja(V)\n",
    "print(V)"
   ]
  },
  {
   "cell_type": "markdown",
   "metadata": {},
   "source": [
    "## **Metodos de busqueda**"
   ]
  },
  {
   "cell_type": "markdown",
   "metadata": {},
   "source": [
    "### **Metodo de busqueda secuencial**"
   ]
  },
  {
   "cell_type": "code",
   "execution_count": 37,
   "metadata": {},
   "outputs": [
    {
     "name": "stderr",
     "output_type": "stream",
     "text": [
      "C:\\Users\\Usuario\\anaconda3\\lib\\site-packages\\ipykernel\\ipkernel.py:287: DeprecationWarning: `should_run_async` will not call `transform_cell` automatically in the future. Please pass the result to `transformed_cell` argument and any exception that happen during thetransform in `preprocessing_exc_tuple` in IPython 7.17 and above.\n",
      "  and should_run_async(code)\n"
     ]
    },
    {
     "data": {
      "image/jpeg": "[encoded data removed]",
      "text/html": [
       "\n",
       "        <iframe\n",
       "            width=\"400\"\n",
       "            height=\"300\"\n",
       "            src=\"https://www.youtube.com/embed/-PuqKbu9K3U\"\n",
       "            frameborder=\"0\"\n",
       "            allowfullscreen\n",
       "        ></iframe>\n",
       "        "
      ],
      "text/plain": [
       "<IPython.lib.display.YouTubeVideo at 0x1cc65cab9d0>"
      ]
     },
     "execution_count": 37,
     "metadata": {},
     "output_type": "execute_result"
    }
   ],
   "source": [
    "YouTubeVideo('-PuqKbu9K3U')"
   ]
  },
  {
   "cell_type": "markdown",
   "metadata": {},
   "source": [
    "#### **Metodo de busqueda secuencial en listas**"
   ]
  },
  {
   "cell_type": "code",
   "execution_count": 34,
   "metadata": {},
   "outputs": [
    {
     "name": "stderr",
     "output_type": "stream",
     "text": [
      "C:\\Users\\Usuario\\anaconda3\\lib\\site-packages\\ipykernel\\ipkernel.py:287: DeprecationWarning: `should_run_async` will not call `transform_cell` automatically in the future. Please pass the result to `transformed_cell` argument and any exception that happen during thetransform in `preprocessing_exc_tuple` in IPython 7.17 and above.\n",
      "  and should_run_async(code)\n"
     ]
    },
    {
     "data": {
      "text/html": [
       "<div class=\"text-center\"><strong><a style=\"box-sizing: border-box; padding: 0 5px; border: 1px solid #CFCFCF;\" target=\"_\" href=http://pythontutor.com/iframe-embed.html#code=def%20busquedaSecuencial%28L%2C%20d%29%3A%0A%20%20%20%20for%20i%20in%20range%28len%28L%29%29%3A%0A%20%20%20%20%20%20%20%20if%28d%20%3D%3D%20L%5Bi%5D%29%3A%0A%20%20%20%20%20%20%20%20%20%20%20%20return%20i%0A%20%20%20%20return%20None%0A%0AL%20%3D%20%5B3%2C%209%2C%200%2C%205%2C%208%2C%207%2C%202%5D%0Ad%20%3D%207%0Aposicion%20%3D%20busquedaSecuencial%28L%2C%20d%29%0Aprint%28posicion%29%0Ad%20%3D%206%0Aposicion%20%3D%20busquedaSecuencial%28L%2C%20d%29%0Aprint%28posicion%29%0A&origin=opt-frontend.js&cumulative=false&heapPrimitives=false&textReferences=false&curInstr=0&&verticalStack=false&py=3&rawInputLstJSON=%5B%5D&codeDivWidth=50%25&codeDivHeight=100%25>Python Tutor</a></strong></div>"
      ],
      "text/plain": [
       "<IPython.core.display.HTML object>"
      ]
     },
     "metadata": {},
     "output_type": "display_data"
    }
   ],
   "source": [
    "%%tutor -l python3 -k\n",
    "def busquedaSecuencial(L, d):\n",
    "    for i in range(len(L)):\n",
    "        if(d == L[i]):\n",
    "            return i\n",
    "    return None\n",
    "\n",
    "L = [3, 9, 0, 5, 8, 7, 2]\n",
    "d = 7\n",
    "posicion = busquedaSecuencial(L, d)\n",
    "print(posicion)\n",
    "d = 6\n",
    "posicion = busquedaSecuencial(L, d)\n",
    "print(posicion)"
   ]
  },
  {
   "cell_type": "markdown",
   "metadata": {},
   "source": [
    "#### **Metodo de busqueda binaria en vectores (de la forma como se definio en el curso)**"
   ]
  },
  {
   "cell_type": "code",
   "execution_count": 35,
   "metadata": {},
   "outputs": [
    {
     "name": "stderr",
     "output_type": "stream",
     "text": [
      "C:\\Users\\Usuario\\anaconda3\\lib\\site-packages\\ipykernel\\ipkernel.py:287: DeprecationWarning: `should_run_async` will not call `transform_cell` automatically in the future. Please pass the result to `transformed_cell` argument and any exception that happen during thetransform in `preprocessing_exc_tuple` in IPython 7.17 and above.\n",
      "  and should_run_async(code)\n"
     ]
    },
    {
     "data": {
      "text/html": [
       "<div class=\"text-center\"><strong><a style=\"box-sizing: border-box; padding: 0 5px; border: 1px solid #CFCFCF;\" target=\"_\" href=http://pythontutor.com/iframe-embed.html#code=def%20busquedaSecuencial%28V%2C%20d%29%3A%0A%20%20%20%20tam%20%3D%20V%5B0%5D%0A%20%20%20%20for%20i%20in%20range%281%2Ctam%20%2B%201%29%3A%0A%20%20%20%20%20%20%20%20if%28d%20%3D%3D%20V%5Bi%5D%29%3A%0A%20%20%20%20%20%20%20%20%20%20%20%20return%20i%0A%20%20%20%20return%20None%0A%0AV%20%3D%20%5B7%2C3%2C%209%2C%200%2C%205%2C%208%2C%207%2C%202%5D%0Ad%20%3D%207%0Aposicion%20%3D%20busquedaSecuencial%28V%2C%20d%29%0Aprint%28posicion%29%0Ad%20%3D%206%0Aposicion%20%3D%20busquedaSecuencial%28V%2C%20d%29%0Aprint%28posicion%29%0A&origin=opt-frontend.js&cumulative=false&heapPrimitives=false&textReferences=false&curInstr=0&&verticalStack=false&py=3&rawInputLstJSON=%5B%5D&codeDivWidth=50%25&codeDivHeight=100%25>Python Tutor</a></strong></div>"
      ],
      "text/plain": [
       "<IPython.core.display.HTML object>"
      ]
     },
     "metadata": {},
     "output_type": "display_data"
    }
   ],
   "source": [
    "%%tutor -l python3 -k\n",
    "def busquedaSecuencial(V, d):\n",
    "    tam = V[0]\n",
    "    for i in range(1,tam + 1):\n",
    "        if(d == V[i]):\n",
    "            return i\n",
    "    return None\n",
    "\n",
    "V = [7,3, 9, 0, 5, 8, 7, 2]\n",
    "d = 7\n",
    "posicion = busquedaSecuencial(V, d)\n",
    "print(posicion)\n",
    "d = 6\n",
    "posicion = busquedaSecuencial(V, d)\n",
    "print(posicion)"
   ]
  },
  {
   "cell_type": "markdown",
   "metadata": {},
   "source": [
    "### **Metodo de busqueda binaria**"
   ]
  },
  {
   "cell_type": "code",
   "execution_count": 38,
   "metadata": {},
   "outputs": [
    {
     "name": "stderr",
     "output_type": "stream",
     "text": [
      "C:\\Users\\Usuario\\anaconda3\\lib\\site-packages\\ipykernel\\ipkernel.py:287: DeprecationWarning: `should_run_async` will not call `transform_cell` automatically in the future. Please pass the result to `transformed_cell` argument and any exception that happen during thetransform in `preprocessing_exc_tuple` in IPython 7.17 and above.\n",
      "  and should_run_async(code)\n"
     ]
    },
    {
     "data": {
      "image/jpeg": "[encoded data removed]",
      "text/html": [
       "\n",
       "        <iframe\n",
       "            width=\"400\"\n",
       "            height=\"300\"\n",
       "            src=\"https://www.youtube.com/embed/iP897Z5Nerk\"\n",
       "            frameborder=\"0\"\n",
       "            allowfullscreen\n",
       "        ></iframe>\n",
       "        "
      ],
      "text/plain": [
       "<IPython.lib.display.YouTubeVideo at 0x1cc661ddee0>"
      ]
     },
     "execution_count": 38,
     "metadata": {},
     "output_type": "execute_result"
    }
   ],
   "source": [
    "YouTubeVideo('iP897Z5Nerk')"
   ]
  },
  {
   "cell_type": "markdown",
   "metadata": {},
   "source": [
    "#### **Metodo de busqueda binaria en listas**"
   ]
  },
  {
   "cell_type": "code",
   "execution_count": 42,
   "metadata": {},
   "outputs": [
    {
     "name": "stdout",
     "output_type": "stream",
     "text": [
      "5\n",
      "None\n"
     ]
    },
    {
     "name": "stderr",
     "output_type": "stream",
     "text": [
      "C:\\Users\\Usuario\\anaconda3\\lib\\site-packages\\ipykernel\\ipkernel.py:287: DeprecationWarning: `should_run_async` will not call `transform_cell` automatically in the future. Please pass the result to `transformed_cell` argument and any exception that happen during thetransform in `preprocessing_exc_tuple` in IPython 7.17 and above.\n",
      "  and should_run_async(code)\n"
     ]
    }
   ],
   "source": [
    "# Condicion: La lista debe estar ordenada\n",
    "def busquedaBinaria(L, d):\n",
    "    inicio = 0\n",
    "    fin = len(L)\n",
    "    while(inicio < fin):\n",
    "        mitad = (inicio + fin)//2\n",
    "        if L[mitad] == d:\n",
    "            return mitad\n",
    "        elif d < L[mitad]:\n",
    "            fin = mitad - 1\n",
    "        else:\n",
    "            inicio = mitad + 1\n",
    "    return None\n",
    "\n",
    "L = [3, 7, 10, 12, 16, 21, 23, 28, 33, 39, 43, 48, 55, 64, 75, 81]\n",
    "d = 21\n",
    "posicion = busquedaBinaria(L, d)\n",
    "print(posicion)\n",
    "d = 73\n",
    "posicion = busquedaBinaria(L, d)\n",
    "print(posicion)"
   ]
  },
  {
   "cell_type": "markdown",
   "metadata": {},
   "source": [
    "#### **Metodo de busqueda binaria en vectores de la forma vista en clase**"
   ]
  },
  {
   "cell_type": "code",
   "execution_count": 44,
   "metadata": {},
   "outputs": [
    {
     "name": "stdout",
     "output_type": "stream",
     "text": [
      "6\n",
      "None\n"
     ]
    },
    {
     "name": "stderr",
     "output_type": "stream",
     "text": [
      "C:\\Users\\Usuario\\anaconda3\\lib\\site-packages\\ipykernel\\ipkernel.py:287: DeprecationWarning: `should_run_async` will not call `transform_cell` automatically in the future. Please pass the result to `transformed_cell` argument and any exception that happen during thetransform in `preprocessing_exc_tuple` in IPython 7.17 and above.\n",
      "  and should_run_async(code)\n"
     ]
    }
   ],
   "source": [
    "# Condicion: La lista debe estar ordenada\n",
    "def busquedaBinaria(V, d):\n",
    "    inicio = 1\n",
    "    fin = V[0]\n",
    "    while(inicio <= fin):\n",
    "        mitad = (inicio + fin)//2\n",
    "        if V[mitad] == d:\n",
    "            return mitad\n",
    "        elif d < L[mitad]:\n",
    "            fin = mitad - 1\n",
    "        else:\n",
    "            inicio = mitad + 1\n",
    "    return None\n",
    "\n",
    "L = [16, 3, 7, 10, 12, 16, 21, 23, 28, 33, 39, 43, 48, 55, 64, 75, 81]\n",
    "d = 21\n",
    "posicion = busquedaBinaria(L, d)\n",
    "print(posicion)\n",
    "d = 73\n",
    "posicion = busquedaBinaria(L, d)\n",
    "print(posicion)"
   ]
  },
  {
   "cell_type": "markdown",
   "metadata": {
    "id": "6inWXFlRL09m"
   },
   "source": [
    "##**Funciones que operan sobre el vector**\n",
    "\n",
    "A continuación estan todas las funciones que operan sobre el vector (Estas se obtuvieron del material de clase):"
   ]
  },
  {
   "cell_type": "code",
   "execution_count": 45,
   "metadata": {
    "id": "U2rUa7MYFXsx"
   },
   "outputs": [
    {
     "name": "stderr",
     "output_type": "stream",
     "text": [
      "C:\\Users\\Usuario\\anaconda3\\lib\\site-packages\\ipykernel\\ipkernel.py:287: DeprecationWarning: `should_run_async` will not call `transform_cell` automatically in the future. Please pass the result to `transformed_cell` argument and any exception that happen during thetransform in `preprocessing_exc_tuple` in IPython 7.17 and above.\n",
      "  and should_run_async(code)\n"
     ]
    }
   ],
   "source": [
    "import random\n",
    "\n",
    "def construyeVector(V, n, rango):\n",
    "  V[0] = n\n",
    "  for i in range(1, n + 1):\n",
    "    V[i] = random.randint(1, rango)\n",
    "\n",
    "\n",
    "def imprimeVector(V, mensaje = \"vector sin nombre: \\t\"):\n",
    "  print(\"\\n\", mensaje, end=\" \")\n",
    "  m = V[0] + 1\n",
    "  for i in range(1, m):\n",
    "    print(V[i], end = \", \")\n",
    "  print()\n",
    "\n",
    "def agregarDato(d, V, n):\n",
    "  if esLleno(V, n):\n",
    "    return\n",
    "  V[0] = V[0] + 1\n",
    "  V[V[0]] = d\n",
    "\n",
    "def intercambie(V, a, b):\n",
    "  aux = V[a]\n",
    "  V[a] = V[b]\n",
    "  V[b] = aux\n",
    "\n",
    "def sumaVector(V):\n",
    "  n = V[0] + 1\n",
    "  s = 0\n",
    "  for i in range(1, n):\n",
    "    s = s + V[i]\n",
    "  return s\n",
    "\n",
    "def mayorDato(V):\n",
    "  mayor = 1\n",
    "  for i in range(2, V[0] + 1):\n",
    "    if V[i] > V[mayor]:\n",
    "      mayor = i\n",
    "  return mayor\n",
    "\n",
    "def menorDato(V):\n",
    "  menor = 1\n",
    "  for i in range(2, V[0] + 1):\n",
    "    if V[i] < V[menor]:\n",
    "      menor = i\n",
    "  return menor\n",
    "\n",
    "def insertarDato(d, i, V, n):\n",
    "  if esLleno(V, n):\n",
    "    return\n",
    "  for j in range(V[0], i - 1, -1):\n",
    "    V[j + 1] = V[j]\n",
    "    V[i] = d\n",
    "    V[0] = V[0] + 1\n",
    "\n",
    "def borrarDatoEnPosicion(i, V):\n",
    "  for j in range(i, V[0]):\n",
    "    V[j] = V[j + 1]\n",
    "  V[0] = V[0] - 1\n",
    "\n",
    "def borrarDato(d, V):\n",
    "  i = buscarDato(d, V)\n",
    "  if i != -1:\n",
    "    borrarDatoEnPosicion(i, V)\n",
    "\n",
    "def buscarDato(d, V):\n",
    "  i = 1\n",
    "  while i <= V[0] and V[i] != d:\n",
    "    i = i + 1\n",
    "  if i <= V[0]:\n",
    "    return i\n",
    "  return -1\n",
    "\n",
    "def esLleno(V, n):\n",
    "  if V[0] == n:\n",
    "    return True\n",
    "  return False\n",
    "\n",
    "def esVacio(V):\n",
    "  if V[0] == 0:\n",
    "    return True\n",
    "  return False\n",
    "\n",
    "def ordenaAscen(V):\n",
    "  nn = V[0] + 1\n",
    "  for i in range(1, V[0]):\n",
    "    k = i\n",
    "    for j in range(i + 1, nn):\n",
    "      if V[j] < V[k]:\n",
    "        k = j\n",
    "      intercambie(V, i, k)\n",
    "\n"
   ]
  },
  {
   "cell_type": "markdown",
   "metadata": {
    "id": "MSl3YH2pGqDM"
   },
   "source": [
    "## **Ejemplos**\n",
    "A continuación se realizan algunos ejemplos en los que se hacen el test de las funciones."
   ]
  },
  {
   "cell_type": "markdown",
   "metadata": {
    "id": "G8luZ8jmMobw"
   },
   "source": [
    "### **Ejemplo 1**\n",
    "Crear un vector de tamaño 6 y Luego:\n",
    "1. Inicialice 3 elementos con numeros aleatorios entre 1 y 99. \n",
    "2. Muestre el vector\n",
    "3. Agregue un dato con valor de 69\n",
    "4. Imprima nuevamente el vector\n",
    "5. Obtenga la ubicación del mayor dato del vector.\n",
    "6. Obtenga la ubicación del menor dato del vector.\n",
    "7. Imprima un mensaje con las ubicacion del dato mayor y su valor.\n",
    "8. Imprima un mensaje con las ubicacion del dato menor y su valor. \n",
    "9. Intercambie los elementos mayor y menor.\n",
    "10. Imprima nuevamente el vector\n",
    "11. Ordenar el vector en orden ascendente\n",
    "12. Imprima nuevamente el vector"
   ]
  },
  {
   "cell_type": "code",
   "execution_count": null,
   "metadata": {
    "colab": {
     "base_uri": "https://localhost:8080/"
    },
    "id": "hC1PbOvHGqgg",
    "outputId": "dd21c683-8235-4bc9-c0cf-f9cae8e81a53"
   },
   "outputs": [
    {
     "name": "stdout",
     "output_type": "stream",
     "text": [
      "\n",
      " vector vec1:\t 23, 50, 13, \n",
      "\n",
      " vector vec1 después de agregar dato:\t 23, 50, 13, 69, \n",
      "\n",
      " el mayor está en la posición 4  y es 69 y el menor está en la posición 3 y es 13\n",
      "\n",
      " vector vec1 después de intercambiar mayor con menor 23, 50, 69, 13, \n",
      "\n",
      " vector vec2 después de ordenarlo 13, 23, 50, 69, \n"
     ]
    }
   ],
   "source": [
    "tamagno = 6\n",
    "vec1 = [0] * (tamagno + 1)                                          # Reserva de 7 espacios [0, 0, 0, 0, 0, 0, 0]\n",
    "construyeVector(vec1, 3, 99)                                        # Vector de 3 elementos [3, ?, ?, ?] \n",
    "                                                                    #                        |\n",
    "                                                                    #                        |\n",
    "                                                                    #                        |----- El primer elemento de la lista es el tamaño del vector \n",
    "\n",
    "imprimeVector(vec1, \"vector vec1:\\t\")                               # Se imprime el vector \n",
    "                                                                    #     vector vec1:\t ?, ?, ?,\n",
    "agregarDato(69, vec1, tamagno)                                      # Vector de 4 elementos [4, ?, ?, ?, ?] \n",
    "imprimeVector(vec1, \"vector vec1 después de agregar dato:\\t\")       # Se imprime el vector \n",
    "                                                                    #     vector vec1 después de agregar dato:\t ?, ?, ?, ?, \n",
    "mayor = mayorDato(vec1)                                             # Se obtiene la posición del elemento mayor\n",
    "menor = menorDato(vec1)                                             # Se obtiene la posición del elemento menor\n",
    "\n",
    "# Imprimiendo los elementos mayores y menores y su ubicación\n",
    "print(\"\\n el mayor está en la posición\", mayor, \" y es\", vec1[mayor], end = \" \")\n",
    "print(\"y el menor está en la posición\", menor, \"y es\", vec1[menor])    \n",
    "# Intercambio entre 2 elementos del vector\n",
    "intercambie(vec1, mayor, menor)\n",
    "imprimeVector(vec1, \"vector vec1 después de intercambiar mayor con menor\")\n",
    "# Ordenar en orden ascendente\n",
    "ordenaAscen(vec1)\n",
    "imprimeVector(vec1, \"vector vec1 después de ordenarlo\")\n"
   ]
  },
  {
   "cell_type": "markdown",
   "metadata": {
    "id": "YxjulqHmPFXI"
   },
   "source": [
    "La simulación del codigo anterior se muestra en el siguiente [link](http://pythontutor.com/visualize.html#code=import%20random%0A%0A%23%20------------------------------%20Funciones%20------------------------------%0A%0A%0Adef%20construyeVector%28V,%20n,%20rango%29%3A%0A%20%20V%5B0%5D%20%3D%20n%0A%20%20for%20i%20in%20range%281,%20n%20%2B%201%29%3A%0A%20%20%20%20V%5Bi%5D%20%3D%20random.randint%281,%20rango%29%0A%0A%0Adef%20imprimeVector%28V,%20mensaje%20%3D%20%22vector%20sin%20nombre%3A%20%5Ct%22%29%3A%0A%20%20print%28%22%5Cn%22,%20mensaje,%20end%3D%22%20%22%29%0A%20%20m%20%3D%20V%5B0%5D%20%2B%201%0A%20%20for%20i%20in%20range%281,%20m%29%3A%0A%20%20%20%20print%28V%5Bi%5D,%20end%20%3D%20%22,%20%22%29%0A%20%20print%28%29%0A%0Adef%20agregarDato%28d,%20V,%20n%29%3A%0A%20%20if%20esLleno%28V,%20n%29%3A%0A%20%20%20%20return%0A%20%20V%5B0%5D%20%3D%20V%5B0%5D%20%2B%201%0A%20%20V%5BV%5B0%5D%5D%20%3D%20d%0A%0Adef%20intercambie%28V,%20a,%20b%29%3A%0A%20%20aux%20%3D%20V%5Ba%5D%0A%20%20V%5Ba%5D%20%3D%20V%5Bb%5D%0A%20%20V%5Bb%5D%20%3D%20aux%0A%0Adef%20sumaVector%28V%29%3A%0A%20%20n%20%3D%20V%5B0%5D%20%2B%201%0A%20%20s%20%3D%200%0A%20%20for%20i%20in%20range%281,%20n%29%3A%0A%20%20%20%20s%20%3D%20s%20%2B%20V%5Bi%5D%0A%20%20return%20s%0A%0Adef%20mayorDato%28V%29%3A%0A%20%20mayor%20%3D%201%0A%20%20for%20i%20in%20range%282,%20V%5B0%5D%20%2B%201%29%3A%0A%20%20%20%20if%20V%5Bi%5D%20%3E%20V%5Bmayor%5D%3A%0A%20%20%20%20%20%20mayor%20%3D%20i%0A%20%20return%20mayor%0A%0Adef%20menorDato%28V%29%3A%0A%20%20menor%20%3D%201%0A%20%20for%20i%20in%20range%282,%20V%5B0%5D%20%2B%201%29%3A%0A%20%20%20%20if%20V%5Bi%5D%20%3C%20V%5Bmenor%5D%3A%0A%20%20%20%20%20%20menor%20%3D%20i%0A%20%20return%20menor%0A%0Adef%20insertarDato%28d,%20i,%20V,%20n%29%3A%0A%20%20if%20esLleno%28V,%20n%29%3A%0A%20%20%20%20return%0A%20%20for%20j%20in%20range%28V%5B0%5D,%20i%20-%201,%20-1%29%3A%0A%20%20%20%20V%5Bj%20%2B%201%5D%20%3D%20V%5Bj%5D%0A%20%20%20%20V%5Bi%5D%20%3D%20d%0A%20%20%20%20V%5B0%5D%20%3D%20V%5B0%5D%20%2B%201%0A%0Adef%20borrarDatoEnPosicion%28i,%20V%29%3A%0A%20%20for%20j%20in%20range%28i,%20V%5B0%5D%29%3A%0A%20%20%20%20V%5Bj%5D%20%3D%20V%5Bj%20%2B%201%5D%0A%20%20V%5B0%5D%20%3D%20V%5B0%5D%20-%201%0A%0Adef%20borrarDato%28d,%20V%29%3A%0A%20%20i%20%3D%20buscarDato%28d,%20V%29%0A%20%20if%20i%20!%3D%20-1%3A%0A%20%20%20%20borrarDatoEnPosicion%28i,%20V%29%0A%0Adef%20buscarDato%28d,%20V%29%3A%0A%20%20i%20%3D%201%0A%20%20while%20i%20%3C%3D%20V%5B0%5D%20and%20V%5Bi%5D%20!%3D%20d%3A%0A%20%20%20%20i%20%3D%20i%20%2B%201%0A%20%20if%20i%20%3C%3D%20V%5B0%5D%3A%0A%20%20%20%20return%20i%0A%20%20return%20-1%0A%0Adef%20esLleno%28V,%20n%29%3A%0A%20%20if%20V%5B0%5D%20%3D%3D%20n%3A%0A%20%20%20%20return%20True%0A%20%20return%20False%0A%0Adef%20esVacio%28V%29%3A%0A%20%20if%20V%5B0%5D%20%3D%3D%200%3A%0A%20%20%20%20return%20True%0A%20%20return%20False%0A%0Adef%20ordenaAscen%28V%29%3A%0A%20%20nn%20%3D%20V%5B0%5D%20%2B%201%0A%20%20for%20i%20in%20range%281,%20V%5B0%5D%29%3A%0A%20%20%20%20k%20%3D%20i%0A%20%20%20%20for%20j%20in%20range%28i%20%2B%201,%20nn%29%3A%0A%20%20%20%20%20%20if%20V%5Bj%5D%20%3C%20V%5Bk%5D%3A%0A%20%20%20%20%20%20%20%20k%20%3D%20j%0A%20%20%20%20%20%20intercambie%28V,%20i,%20k%29%0A%0A%23%20------------------------------%20Codigo%20principal%20------------------------------%0A%20%20%20%20%20%20%0Atamagno%20%3D%206%0Avec1%20%3D%20%5B0%5D%20*%20%28tamagno%20%2B%201%29%20%20%20%20%20%20%20%20%20%20%20%20%20%20%20%20%20%20%20%20%20%20%20%20%20%20%20%20%20%20%20%20%20%20%20%20%20%20%20%20%20%20%23%20Reserva%20de%207%20espacios%20%5B0,%200,%200,%200,%200,%200,%200%5D%0AconstruyeVector%28vec1,%203,%2099%29%20%20%20%20%20%20%20%20%20%20%20%20%20%20%20%20%20%20%20%20%20%20%20%20%20%20%20%20%20%20%20%20%20%20%20%20%20%20%20%20%23%20Vector%20de%203%20elementos%20%5B3,%20%3F,%20%3F,%20%3F%5D%20%0A%20%20%20%20%20%20%20%20%20%20%20%20%20%20%20%20%20%20%20%20%20%20%20%20%20%20%20%20%20%20%20%20%20%20%20%20%20%20%20%20%20%20%20%20%20%20%20%20%20%20%20%20%20%20%20%20%20%20%20%20%20%20%20%20%20%20%20%20%23%20%20%20%20%20%20%20%20%20%20%20%20%20%20%20%20%20%20%20%20%20%20%20%20%7C%0A%20%20%20%20%20%20%20%20%20%20%20%20%20%20%20%20%20%20%20%20%20%20%20%20%20%20%20%20%20%20%20%20%20%20%20%20%20%20%20%20%20%20%20%20%20%20%20%20%20%20%20%20%20%20%20%20%20%20%20%20%20%20%20%20%20%20%20%20%23%20%20%20%20%20%20%20%20%20%20%20%20%20%20%20%20%20%20%20%20%20%20%20%20%7C%0A%20%20%20%20%20%20%20%20%20%20%20%20%20%20%20%20%20%20%20%20%20%20%20%20%20%20%20%20%20%20%20%20%20%20%20%20%20%20%20%20%20%20%20%20%20%20%20%20%20%20%20%20%20%20%20%20%20%20%20%20%20%20%20%20%20%20%20%20%23%20%20%20%20%20%20%20%20%20%20%20%20%20%20%20%20%20%20%20%20%20%20%20%20%7C-----%20El%20primer%20elemento%20de%20la%20lista%20es%20el%20tama%C3%B1o%20del%20vector%20%0A%0AimprimeVector%28vec1,%20%22vector%20vec1%3A%5Ct%22%29%20%20%20%20%20%20%20%20%20%20%20%20%20%20%20%20%20%20%20%20%20%20%20%20%20%20%20%20%20%20%20%23%20Se%20imprime%20el%20vector%20%0A%20%20%20%20%20%20%20%20%20%20%20%20%20%20%20%20%20%20%20%20%20%20%20%20%20%20%20%20%20%20%20%20%20%20%20%20%20%20%20%20%20%20%20%20%20%20%20%20%20%20%20%20%20%20%20%20%20%20%20%20%20%20%20%20%20%20%20%20%23%20%20%20%20%20vector%20vec1%3A%20%20%20%20%20%3F,%20%3F,%20%3F,%0AagregarDato%2869,%20vec1,%20tamagno%29%20%20%20%20%20%20%20%20%20%20%20%20%20%20%20%20%20%20%20%20%20%20%20%20%20%20%20%20%20%20%20%20%20%20%20%20%20%20%23%20Vector%20de%204%20elementos%20%5B4,%20%3F,%20%3F,%20%3F,%20%3F%5D%20%0AimprimeVector%28vec1,%20%22vector%20vec1%20despu%C3%A9s%20de%20agregar%20dato%3A%5Ct%22%29%20%20%20%20%20%20%20%23%20Se%20imprime%20el%20vector%20%0A%20%20%20%20%20%20%20%20%20%20%20%20%20%20%20%20%20%20%20%20%20%20%20%20%20%20%20%20%20%20%20%20%20%20%20%20%20%20%20%20%20%20%20%20%20%20%20%20%20%20%20%20%20%20%20%20%20%20%20%20%20%20%20%20%20%20%20%20%23%20%20%20%20%20vector%20vec1%20despu%C3%A9s%20de%20agregar%20dato%3A%20%20%20%20%20%3F,%20%3F,%20%3F,%20%3F,%20%0Amayor%20%3D%20mayorDato%28vec1%29%20%20%20%20%20%20%20%20%20%20%20%20%20%20%20%20%20%20%20%20%20%20%20%20%20%20%20%20%20%20%20%20%20%20%20%20%20%20%20%20%20%20%20%20%20%23%20Se%20obtiene%20la%20posici%C3%B3n%20del%20elemento%20mayor%0Amenor%20%3D%20menorDato%28vec1%29%20%20%20%20%20%20%20%20%20%20%20%20%20%20%20%20%20%20%20%20%20%20%20%20%20%20%20%20%20%20%20%20%20%20%20%20%20%20%20%20%20%20%20%20%20%23%20Se%20obtiene%20la%20posici%C3%B3n%20del%20elemento%20menor%0A%0A%23%20Imprimiendo%20los%20elementos%20mayores%20y%20menores%20y%20su%20ubicaci%C3%B3n%0Aprint%28%22%5Cn%20el%20mayor%20est%C3%A1%20en%20la%20posici%C3%B3n%22,%20mayor,%20%22%20y%20es%22,%20vec1%5Bmayor%5D,%20end%20%3D%20%22%20%22%29%0Aprint%28%22y%20el%20menor%20est%C3%A1%20en%20la%20posici%C3%B3n%22,%20menor,%20%22y%20es%22,%20vec1%5Bmenor%5D%29%20%20%20%20%0A%23%20Intercambio%20entre%202%20elementos%20del%20vector%0Aintercambie%28vec1,%20mayor,%20menor%29%0AimprimeVector%28vec1,%20%22vector%20vec1%20despu%C3%A9s%20de%20intercambiar%20mayor%20con%20menor%22%29%0A%23%20Ordenar%20en%20orden%20ascendente%0AordenaAscen%28vec1%29%0AimprimeVector%28vec1,%20%22vector%20vec1%20despu%C3%A9s%20de%20ordenarlo%22%29&cumulative=false&curInstr=0&heapPrimitives=nevernest&mode=display&origin=opt-frontend.js&py=3&rawInputLstJSON=%5B%5D&textReferences=false)"
   ]
  },
  {
   "cell_type": "markdown",
   "metadata": {
    "id": "GOmrTNOqGrBu"
   },
   "source": [
    "### **Ejemplo 2**\n",
    "Ejecute y comprenda el fragmento de codigo tomado de las diapositivas del curso, mostrado a continuación"
   ]
  },
  {
   "cell_type": "code",
   "execution_count": null,
   "metadata": {
    "colab": {
     "base_uri": "https://localhost:8080/"
    },
    "id": "IMAovrLiGrYh",
    "outputId": "594077dc-e26d-40b8-b89f-5c40819e235b"
   },
   "outputs": [
    {
     "name": "stdout",
     "output_type": "stream",
     "text": [
      "\n",
      " vector vec1:\t 8, 71, 6, 82, 49, 9, 62, 32, 13, 15, 50, 10, 68, 1, 57, 12, \n",
      "\n",
      " vector vec1 después de agregar dato:\t 8, 71, 6, 82, 49, 9, 62, 32, 13, 15, 50, 10, 68, 1, 57, 12, 69, \n",
      "\n",
      " el mayor está en la posición 4  y es 82 y el menor está en la posición 14 y es 1\n",
      "\n",
      " vector vec1 después de intercambiar mayor con menor 8, 71, 6, 1, 49, 9, 62, 32, 13, 15, 50, 10, 68, 82, 57, 12, 69, \n"
     ]
    }
   ],
   "source": [
    "tamagno = 30\n",
    "vec2 = [0] * (tamagno + 1)\n",
    "construyeVector(vec2, 16, 99)\n",
    "imprimeVector(vec2, \"vector vec1:\\t\")\n",
    "agregarDato(69, vec2, tamagno)\n",
    "imprimeVector(vec2, \"vector vec1 después de agregar dato:\\t\")\n",
    "mayor = mayorDato(vec2)\n",
    "menor = menorDato(vec2)\n",
    "print(\"\\n el mayor está en la posición\", mayor, \" y es\", vec2[mayor], end = \" \")\n",
    "print(\"y el menor está en la posición\", menor, \"y es\", vec2[menor])\n",
    "intercambie(vec2, mayor, menor)\n",
    "imprimeVector(vec2, \"vector vec1 después de intercambiar mayor con menor\")"
   ]
  },
  {
   "cell_type": "markdown",
   "metadata": {
    "id": "w2WgZ_8rHsyT"
   },
   "source": [
    "###**Ejemplo 3**\n",
    "Ejecute y comprenda el fragmento de codigo tomado de las diapositivas del curso, mostrado a continuación"
   ]
  },
  {
   "cell_type": "code",
   "execution_count": null,
   "metadata": {
    "colab": {
     "base_uri": "https://localhost:8080/"
    },
    "id": "aa5OJ4pMHtNS",
    "outputId": "264b3eaa-6008-4831-ff97-f6d93a532b10"
   },
   "outputs": [
    {
     "name": "stdout",
     "output_type": "stream",
     "text": [
      "\n",
      " vector vec2 373, 249, 404, 935, 127, 870, 891, 462, 321, 882, 946, 399, 595, 360, 184, 304, 23, 699, 164, 995, 721, 944, 307, 975, 302, 780, \n",
      "\n",
      " vector vec2 después de insertar dato\t 373, 69, 69, 404, 935, 127, 870, 891, 462, 321, 882, 946, 399, 595, 360, 184, 304, 23, 699, 164, 995, 721, 944, 307, 975, 302, 780, 0, 0, 0, 0, 0, 0, 0, 0, 0, 0, 0, 0, 0, 0, 0, 0, 0, 0, 0, 0, 0, 0, 0, 0, \n",
      "\n",
      " vector vec2 después de ordenarlo 0, 0, 0, 0, 0, 0, 0, 0, 0, 0, 0, 0, 0, 0, 0, 0, 0, 0, 0, 0, 0, 0, 0, 0, 23, 69, 69, 127, 164, 184, 302, 304, 307, 321, 360, 373, 404, 399, 462, 595, 699, 721, 780, 870, 882, 891, 935, 944, 946, 975, 995, \n"
     ]
    }
   ],
   "source": [
    "tamagno = 100\n",
    "vec3 = [0] * (tamagno + 1)\n",
    "construyeVector(vec3, 26, 999)\n",
    "imprimeVector(vec3, \"vector vec2\")\n",
    "insertarDato(69, 2, vec3, tamagno)\n",
    "imprimeVector(vec3, \"vector vec2 después de insertar dato\\t\")\n",
    "ordenaAscen(vec3)\n",
    "imprimeVector(vec3, \"vector vec2 después de ordenarlo\")"
   ]
  }
 ],
 "metadata": {
  "colab": {
   "collapsed_sections": [],
   "name": "codigo_vector_diapositivas.ipynb",
   "provenance": []
  },
  "kernelspec": {
   "display_name": "Python 3",
   "language": "python",
   "name": "python3"
  },
  "language_info": {
   "codemirror_mode": {
    "name": "ipython",
    "version": 3
   },
   "file_extension": ".py",
   "mimetype": "text/x-python",
   "name": "python",
   "nbconvert_exporter": "python",
   "pygments_lexer": "ipython3",
   "version": "3.8.8"
  }
 },
 "nbformat": 4,
 "nbformat_minor": 1
}
